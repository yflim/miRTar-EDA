{
 "cells": [
  {
   "cell_type": "markdown",
   "metadata": {},
   "source": [
    "# mRNA EDA\n",
    "## for miRNA-Target Interactions in Cancer"
   ]
  },
  {
   "cell_type": "code",
   "execution_count": 1,
   "metadata": {},
   "outputs": [],
   "source": [
    "import csv\n",
    "import google.datalab.storage as storage\n",
    "import io\n",
    "import logging\n",
    "import math as m\n",
    "import matplotlib\n",
    "import matplotlib.pyplot as plt\n",
    "import numpy as np\n",
    "import pandas as pd\n",
    "import scipy.stats as stats\n",
    "import seaborn as sns"
   ]
  },
  {
   "cell_type": "markdown",
   "metadata": {},
   "source": [
    "## TODO: Edit and test plotting code to save to GCP bucket"
   ]
  },
  {
   "cell_type": "markdown",
   "metadata": {},
   "source": [
    "## Utils"
   ]
  },
  {
   "cell_type": "markdown",
   "metadata": {},
   "source": [
    "### Function definitions"
   ]
  },
  {
   "cell_type": "code",
   "execution_count": 2,
   "metadata": {},
   "outputs": [],
   "source": [
    "def read_file(bucket, filepath, **kwargs):\n",
    "  uri = bucket.object(filepath).uri\n",
    "  get_ipython().run_line_magic('gcs', 'read --object ' + uri + ' --variable csv_data')\n",
    "  return pd.read_csv(io.BytesIO(csv_data), **kwargs)"
   ]
  },
  {
   "cell_type": "code",
   "execution_count": 3,
   "metadata": {},
   "outputs": [],
   "source": [
    "def save_as(temp_filename, filepath):\n",
    "  !gsutil cp $temp_filename $filepath"
   ]
  },
  {
   "cell_type": "markdown",
   "metadata": {},
   "source": [
    "### Set up logging"
   ]
  },
  {
   "cell_type": "code",
   "execution_count": 4,
   "metadata": {},
   "outputs": [],
   "source": [
    "logger = logging.getLogger()"
   ]
  },
  {
   "cell_type": "code",
   "execution_count": 5,
   "metadata": {},
   "outputs": [],
   "source": [
    "def setup_file_logger(log_file):\n",
    "    for handler in logger.handlers[:]:\n",
    "        logger.removeHandler(handler)\n",
    "    hdlr = logging.FileHandler(log_file)\n",
    "    formatter = logging.Formatter('%(asctime)s %(levelname)s %(message)s')\n",
    "    hdlr.setFormatter(formatter)\n",
    "    logger.addHandler(hdlr) \n",
    "    logger.setLevel(logging.INFO)\n",
    "    \n",
    "def log(message):\n",
    "  print(message)\n",
    "  logger.info(message)\n",
    "\n",
    "setup_file_logger('mirtar.log')"
   ]
  },
  {
   "cell_type": "markdown",
   "metadata": {},
   "source": [
    "## Preprocess data"
   ]
  },
  {
   "cell_type": "markdown",
   "metadata": {},
   "source": [
    "#### Read sample mRNA expression data"
   ]
  },
  {
   "cell_type": "code",
   "execution_count": 6,
   "metadata": {},
   "outputs": [],
   "source": [
    "bucket = storage.Bucket('yfl-mirna')"
   ]
  },
  {
   "cell_type": "code",
   "execution_count": 7,
   "metadata": {},
   "outputs": [],
   "source": [
    "mRNA_data = read_file(bucket, 'data/mRNA/EBPlusPlusAdjustPANCAN_IlluminaHiSeq_RNASeqV2.geneExp.tsv', delimiter='\\t')\n",
    "mRNA_data.rename(index=str, columns={'gene_id': 'mRNA'}, inplace=True)\n",
    "mRNA_data.set_index('mRNA', inplace=True)"
   ]
  },
  {
   "cell_type": "code",
   "execution_count": 8,
   "metadata": {},
   "outputs": [
    {
     "data": {
      "text/plain": [
       "(20531, 11069)"
      ]
     },
     "execution_count": 8,
     "metadata": {},
     "output_type": "execute_result"
    }
   ],
   "source": [
    "mRNA_data.shape"
   ]
  },
  {
   "cell_type": "code",
   "execution_count": 9,
   "metadata": {},
   "outputs": [],
   "source": [
    "sample_mRNAs = mRNA_data.T\n",
    "sample_mRNAs.index = sample_mRNAs.index.map(lambda x: '-'.join(x.split('-')[0:4]))\n",
    "sample_mRNAs.reset_index(inplace=True)\n",
    "sample_mRNAs.drop_duplicates(subset='index', keep='first', inplace=True)\n",
    "sample_mRNAs.set_index('index', inplace=True)"
   ]
  },
  {
   "cell_type": "markdown",
   "metadata": {},
   "source": [
    "#### Read sample metadata"
   ]
  },
  {
   "cell_type": "code",
   "execution_count": 10,
   "metadata": {},
   "outputs": [],
   "source": [
    "sample_metadata = read_file(bucket, 'data/sample/PanCanAtlas_miRNA_sample_information_list.txt', delimiter='\\t')\n",
    "sample_metadata.rename(index=str, columns={'id': 'sample'}, inplace=True)\n",
    "sample_metadata.set_index('sample', inplace=True)\n",
    "sample_metadata.index = sample_metadata.index.map(lambda x: '-'.join(x.split('-')[0:4]))\n",
    "sample_metadata.reset_index(inplace=True)\n",
    "sample_metadata.drop_duplicates(subset='sample', keep='first', inplace=True)\n",
    "sample_metadata.set_index('sample', inplace=True)"
   ]
  },
  {
   "cell_type": "code",
   "execution_count": 11,
   "metadata": {},
   "outputs": [
    {
     "data": {
      "text/html": [
       "<div>\n",
       "<style scoped>\n",
       "    .dataframe tbody tr th:only-of-type {\n",
       "        vertical-align: middle;\n",
       "    }\n",
       "\n",
       "    .dataframe tbody tr th {\n",
       "        vertical-align: top;\n",
       "    }\n",
       "\n",
       "    .dataframe thead th {\n",
       "        text-align: right;\n",
       "    }\n",
       "</style>\n",
       "<table border=\"1\" class=\"dataframe\">\n",
       "  <thead>\n",
       "    <tr style=\"text-align: right;\">\n",
       "      <th></th>\n",
       "      <th>Disease</th>\n",
       "      <th>Sample_Type</th>\n",
       "      <th>Protocol</th>\n",
       "      <th>Platform</th>\n",
       "    </tr>\n",
       "    <tr>\n",
       "      <th>sample</th>\n",
       "      <th></th>\n",
       "      <th></th>\n",
       "      <th></th>\n",
       "      <th></th>\n",
       "    </tr>\n",
       "  </thead>\n",
       "  <tbody>\n",
       "    <tr>\n",
       "      <th>TCGA-OR-A5J1-01A</th>\n",
       "      <td>ACC</td>\n",
       "      <td>1</td>\n",
       "      <td>Direct</td>\n",
       "      <td>HiSeq</td>\n",
       "    </tr>\n",
       "    <tr>\n",
       "      <th>TCGA-OR-A5J2-01A</th>\n",
       "      <td>ACC</td>\n",
       "      <td>1</td>\n",
       "      <td>Direct</td>\n",
       "      <td>HiSeq</td>\n",
       "    </tr>\n",
       "    <tr>\n",
       "      <th>TCGA-OR-A5J3-01A</th>\n",
       "      <td>ACC</td>\n",
       "      <td>1</td>\n",
       "      <td>Direct</td>\n",
       "      <td>HiSeq</td>\n",
       "    </tr>\n",
       "    <tr>\n",
       "      <th>TCGA-OR-A5J4-01A</th>\n",
       "      <td>ACC</td>\n",
       "      <td>1</td>\n",
       "      <td>Direct</td>\n",
       "      <td>HiSeq</td>\n",
       "    </tr>\n",
       "    <tr>\n",
       "      <th>TCGA-OR-A5J5-01A</th>\n",
       "      <td>ACC</td>\n",
       "      <td>1</td>\n",
       "      <td>Direct</td>\n",
       "      <td>HiSeq</td>\n",
       "    </tr>\n",
       "    <tr>\n",
       "      <th>TCGA-OR-A5J6-01A</th>\n",
       "      <td>ACC</td>\n",
       "      <td>1</td>\n",
       "      <td>Direct</td>\n",
       "      <td>HiSeq</td>\n",
       "    </tr>\n",
       "    <tr>\n",
       "      <th>TCGA-OR-A5J7-01A</th>\n",
       "      <td>ACC</td>\n",
       "      <td>1</td>\n",
       "      <td>Direct</td>\n",
       "      <td>HiSeq</td>\n",
       "    </tr>\n",
       "    <tr>\n",
       "      <th>TCGA-OR-A5J8-01A</th>\n",
       "      <td>ACC</td>\n",
       "      <td>1</td>\n",
       "      <td>Direct</td>\n",
       "      <td>HiSeq</td>\n",
       "    </tr>\n",
       "    <tr>\n",
       "      <th>TCGA-OR-A5J9-01A</th>\n",
       "      <td>ACC</td>\n",
       "      <td>1</td>\n",
       "      <td>Direct</td>\n",
       "      <td>HiSeq</td>\n",
       "    </tr>\n",
       "    <tr>\n",
       "      <th>TCGA-OR-A5JA-01A</th>\n",
       "      <td>ACC</td>\n",
       "      <td>1</td>\n",
       "      <td>Direct</td>\n",
       "      <td>HiSeq</td>\n",
       "    </tr>\n",
       "    <tr>\n",
       "      <th>TCGA-OR-A5JB-01A</th>\n",
       "      <td>ACC</td>\n",
       "      <td>1</td>\n",
       "      <td>Direct</td>\n",
       "      <td>HiSeq</td>\n",
       "    </tr>\n",
       "    <tr>\n",
       "      <th>TCGA-OR-A5JC-01A</th>\n",
       "      <td>ACC</td>\n",
       "      <td>1</td>\n",
       "      <td>Direct</td>\n",
       "      <td>HiSeq</td>\n",
       "    </tr>\n",
       "    <tr>\n",
       "      <th>TCGA-OR-A5JD-01A</th>\n",
       "      <td>ACC</td>\n",
       "      <td>1</td>\n",
       "      <td>Direct</td>\n",
       "      <td>HiSeq</td>\n",
       "    </tr>\n",
       "    <tr>\n",
       "      <th>TCGA-OR-A5JE-01A</th>\n",
       "      <td>ACC</td>\n",
       "      <td>1</td>\n",
       "      <td>Direct</td>\n",
       "      <td>HiSeq</td>\n",
       "    </tr>\n",
       "    <tr>\n",
       "      <th>TCGA-OR-A5JF-01A</th>\n",
       "      <td>ACC</td>\n",
       "      <td>1</td>\n",
       "      <td>Direct</td>\n",
       "      <td>HiSeq</td>\n",
       "    </tr>\n",
       "    <tr>\n",
       "      <th>TCGA-OR-A5JG-01A</th>\n",
       "      <td>ACC</td>\n",
       "      <td>1</td>\n",
       "      <td>Direct</td>\n",
       "      <td>HiSeq</td>\n",
       "    </tr>\n",
       "    <tr>\n",
       "      <th>TCGA-OR-A5JI-01A</th>\n",
       "      <td>ACC</td>\n",
       "      <td>1</td>\n",
       "      <td>Direct</td>\n",
       "      <td>HiSeq</td>\n",
       "    </tr>\n",
       "    <tr>\n",
       "      <th>TCGA-OR-A5JJ-01A</th>\n",
       "      <td>ACC</td>\n",
       "      <td>1</td>\n",
       "      <td>Direct</td>\n",
       "      <td>HiSeq</td>\n",
       "    </tr>\n",
       "    <tr>\n",
       "      <th>TCGA-OR-A5JK-01A</th>\n",
       "      <td>ACC</td>\n",
       "      <td>1</td>\n",
       "      <td>Direct</td>\n",
       "      <td>HiSeq</td>\n",
       "    </tr>\n",
       "    <tr>\n",
       "      <th>TCGA-OR-A5JL-01A</th>\n",
       "      <td>ACC</td>\n",
       "      <td>1</td>\n",
       "      <td>Direct</td>\n",
       "      <td>HiSeq</td>\n",
       "    </tr>\n",
       "    <tr>\n",
       "      <th>TCGA-OR-A5JM-01A</th>\n",
       "      <td>ACC</td>\n",
       "      <td>1</td>\n",
       "      <td>Direct</td>\n",
       "      <td>HiSeq</td>\n",
       "    </tr>\n",
       "    <tr>\n",
       "      <th>TCGA-OR-A5JO-01A</th>\n",
       "      <td>ACC</td>\n",
       "      <td>1</td>\n",
       "      <td>Direct</td>\n",
       "      <td>HiSeq</td>\n",
       "    </tr>\n",
       "    <tr>\n",
       "      <th>TCGA-OR-A5JP-01A</th>\n",
       "      <td>ACC</td>\n",
       "      <td>1</td>\n",
       "      <td>Direct</td>\n",
       "      <td>HiSeq</td>\n",
       "    </tr>\n",
       "    <tr>\n",
       "      <th>TCGA-OR-A5JQ-01A</th>\n",
       "      <td>ACC</td>\n",
       "      <td>1</td>\n",
       "      <td>Direct</td>\n",
       "      <td>HiSeq</td>\n",
       "    </tr>\n",
       "    <tr>\n",
       "      <th>TCGA-OR-A5JR-01A</th>\n",
       "      <td>ACC</td>\n",
       "      <td>1</td>\n",
       "      <td>Direct</td>\n",
       "      <td>HiSeq</td>\n",
       "    </tr>\n",
       "    <tr>\n",
       "      <th>TCGA-OR-A5JS-01A</th>\n",
       "      <td>ACC</td>\n",
       "      <td>1</td>\n",
       "      <td>Direct</td>\n",
       "      <td>HiSeq</td>\n",
       "    </tr>\n",
       "    <tr>\n",
       "      <th>TCGA-OR-A5JT-01A</th>\n",
       "      <td>ACC</td>\n",
       "      <td>1</td>\n",
       "      <td>Direct</td>\n",
       "      <td>HiSeq</td>\n",
       "    </tr>\n",
       "    <tr>\n",
       "      <th>TCGA-OR-A5JV-01A</th>\n",
       "      <td>ACC</td>\n",
       "      <td>1</td>\n",
       "      <td>Direct</td>\n",
       "      <td>HiSeq</td>\n",
       "    </tr>\n",
       "    <tr>\n",
       "      <th>TCGA-OR-A5JW-01A</th>\n",
       "      <td>ACC</td>\n",
       "      <td>1</td>\n",
       "      <td>Direct</td>\n",
       "      <td>HiSeq</td>\n",
       "    </tr>\n",
       "    <tr>\n",
       "      <th>TCGA-OR-A5JX-01A</th>\n",
       "      <td>ACC</td>\n",
       "      <td>1</td>\n",
       "      <td>Direct</td>\n",
       "      <td>HiSeq</td>\n",
       "    </tr>\n",
       "    <tr>\n",
       "      <th>...</th>\n",
       "      <td>...</td>\n",
       "      <td>...</td>\n",
       "      <td>...</td>\n",
       "      <td>...</td>\n",
       "    </tr>\n",
       "    <tr>\n",
       "      <th>TCGA-VD-A8KM-01A</th>\n",
       "      <td>UVM</td>\n",
       "      <td>1</td>\n",
       "      <td>Direct</td>\n",
       "      <td>HiSeq</td>\n",
       "    </tr>\n",
       "    <tr>\n",
       "      <th>TCGA-VD-A8KN-01A</th>\n",
       "      <td>UVM</td>\n",
       "      <td>1</td>\n",
       "      <td>Direct</td>\n",
       "      <td>HiSeq</td>\n",
       "    </tr>\n",
       "    <tr>\n",
       "      <th>TCGA-VD-A8KO-01A</th>\n",
       "      <td>UVM</td>\n",
       "      <td>1</td>\n",
       "      <td>Direct</td>\n",
       "      <td>HiSeq</td>\n",
       "    </tr>\n",
       "    <tr>\n",
       "      <th>TCGA-VD-AA8M-01A</th>\n",
       "      <td>UVM</td>\n",
       "      <td>1</td>\n",
       "      <td>Direct</td>\n",
       "      <td>HiSeq</td>\n",
       "    </tr>\n",
       "    <tr>\n",
       "      <th>TCGA-VD-AA8N-01A</th>\n",
       "      <td>UVM</td>\n",
       "      <td>1</td>\n",
       "      <td>Direct</td>\n",
       "      <td>HiSeq</td>\n",
       "    </tr>\n",
       "    <tr>\n",
       "      <th>TCGA-VD-AA8O-01A</th>\n",
       "      <td>UVM</td>\n",
       "      <td>1</td>\n",
       "      <td>Direct</td>\n",
       "      <td>HiSeq</td>\n",
       "    </tr>\n",
       "    <tr>\n",
       "      <th>TCGA-VD-AA8P-01A</th>\n",
       "      <td>UVM</td>\n",
       "      <td>1</td>\n",
       "      <td>Direct</td>\n",
       "      <td>HiSeq</td>\n",
       "    </tr>\n",
       "    <tr>\n",
       "      <th>TCGA-VD-AA8Q-01A</th>\n",
       "      <td>UVM</td>\n",
       "      <td>1</td>\n",
       "      <td>Direct</td>\n",
       "      <td>HiSeq</td>\n",
       "    </tr>\n",
       "    <tr>\n",
       "      <th>TCGA-VD-AA8R-01A</th>\n",
       "      <td>UVM</td>\n",
       "      <td>1</td>\n",
       "      <td>Direct</td>\n",
       "      <td>HiSeq</td>\n",
       "    </tr>\n",
       "    <tr>\n",
       "      <th>TCGA-VD-AA8S-01B</th>\n",
       "      <td>UVM</td>\n",
       "      <td>1</td>\n",
       "      <td>Direct</td>\n",
       "      <td>HiSeq</td>\n",
       "    </tr>\n",
       "    <tr>\n",
       "      <th>TCGA-VD-AA8T-01A</th>\n",
       "      <td>UVM</td>\n",
       "      <td>1</td>\n",
       "      <td>Direct</td>\n",
       "      <td>HiSeq</td>\n",
       "    </tr>\n",
       "    <tr>\n",
       "      <th>TCGA-WC-A87T-01A</th>\n",
       "      <td>UVM</td>\n",
       "      <td>1</td>\n",
       "      <td>Direct</td>\n",
       "      <td>HiSeq</td>\n",
       "    </tr>\n",
       "    <tr>\n",
       "      <th>TCGA-WC-A87U-01A</th>\n",
       "      <td>UVM</td>\n",
       "      <td>1</td>\n",
       "      <td>Direct</td>\n",
       "      <td>HiSeq</td>\n",
       "    </tr>\n",
       "    <tr>\n",
       "      <th>TCGA-WC-A87W-01A</th>\n",
       "      <td>UVM</td>\n",
       "      <td>1</td>\n",
       "      <td>Direct</td>\n",
       "      <td>HiSeq</td>\n",
       "    </tr>\n",
       "    <tr>\n",
       "      <th>TCGA-WC-A87Y-01A</th>\n",
       "      <td>UVM</td>\n",
       "      <td>1</td>\n",
       "      <td>Direct</td>\n",
       "      <td>HiSeq</td>\n",
       "    </tr>\n",
       "    <tr>\n",
       "      <th>TCGA-WC-A880-01A</th>\n",
       "      <td>UVM</td>\n",
       "      <td>1</td>\n",
       "      <td>Direct</td>\n",
       "      <td>HiSeq</td>\n",
       "    </tr>\n",
       "    <tr>\n",
       "      <th>TCGA-WC-A881-01A</th>\n",
       "      <td>UVM</td>\n",
       "      <td>1</td>\n",
       "      <td>Direct</td>\n",
       "      <td>HiSeq</td>\n",
       "    </tr>\n",
       "    <tr>\n",
       "      <th>TCGA-WC-A882-01A</th>\n",
       "      <td>UVM</td>\n",
       "      <td>1</td>\n",
       "      <td>Direct</td>\n",
       "      <td>HiSeq</td>\n",
       "    </tr>\n",
       "    <tr>\n",
       "      <th>TCGA-WC-A883-01A</th>\n",
       "      <td>UVM</td>\n",
       "      <td>1</td>\n",
       "      <td>Direct</td>\n",
       "      <td>HiSeq</td>\n",
       "    </tr>\n",
       "    <tr>\n",
       "      <th>TCGA-WC-A884-01A</th>\n",
       "      <td>UVM</td>\n",
       "      <td>1</td>\n",
       "      <td>Direct</td>\n",
       "      <td>HiSeq</td>\n",
       "    </tr>\n",
       "    <tr>\n",
       "      <th>TCGA-WC-A885-01A</th>\n",
       "      <td>UVM</td>\n",
       "      <td>1</td>\n",
       "      <td>Direct</td>\n",
       "      <td>HiSeq</td>\n",
       "    </tr>\n",
       "    <tr>\n",
       "      <th>TCGA-WC-A888-01A</th>\n",
       "      <td>UVM</td>\n",
       "      <td>1</td>\n",
       "      <td>Direct</td>\n",
       "      <td>HiSeq</td>\n",
       "    </tr>\n",
       "    <tr>\n",
       "      <th>TCGA-WC-A88A-01A</th>\n",
       "      <td>UVM</td>\n",
       "      <td>1</td>\n",
       "      <td>Direct</td>\n",
       "      <td>HiSeq</td>\n",
       "    </tr>\n",
       "    <tr>\n",
       "      <th>TCGA-WC-AA9A-01A</th>\n",
       "      <td>UVM</td>\n",
       "      <td>1</td>\n",
       "      <td>Direct</td>\n",
       "      <td>HiSeq</td>\n",
       "    </tr>\n",
       "    <tr>\n",
       "      <th>TCGA-WC-AA9E-01A</th>\n",
       "      <td>UVM</td>\n",
       "      <td>1</td>\n",
       "      <td>Direct</td>\n",
       "      <td>HiSeq</td>\n",
       "    </tr>\n",
       "    <tr>\n",
       "      <th>TCGA-YZ-A980-01A</th>\n",
       "      <td>UVM</td>\n",
       "      <td>1</td>\n",
       "      <td>Direct</td>\n",
       "      <td>HiSeq</td>\n",
       "    </tr>\n",
       "    <tr>\n",
       "      <th>TCGA-YZ-A982-01A</th>\n",
       "      <td>UVM</td>\n",
       "      <td>1</td>\n",
       "      <td>Direct</td>\n",
       "      <td>HiSeq</td>\n",
       "    </tr>\n",
       "    <tr>\n",
       "      <th>TCGA-YZ-A983-01A</th>\n",
       "      <td>UVM</td>\n",
       "      <td>1</td>\n",
       "      <td>Direct</td>\n",
       "      <td>HiSeq</td>\n",
       "    </tr>\n",
       "    <tr>\n",
       "      <th>TCGA-YZ-A984-01A</th>\n",
       "      <td>UVM</td>\n",
       "      <td>1</td>\n",
       "      <td>Direct</td>\n",
       "      <td>HiSeq</td>\n",
       "    </tr>\n",
       "    <tr>\n",
       "      <th>TCGA-YZ-A985-01A</th>\n",
       "      <td>UVM</td>\n",
       "      <td>1</td>\n",
       "      <td>Direct</td>\n",
       "      <td>HiSeq</td>\n",
       "    </tr>\n",
       "  </tbody>\n",
       "</table>\n",
       "<p>10824 rows × 4 columns</p>\n",
       "</div>"
      ],
      "text/plain": [
       "                 Disease  Sample_Type Protocol Platform\n",
       "sample                                                 \n",
       "TCGA-OR-A5J1-01A     ACC            1   Direct    HiSeq\n",
       "TCGA-OR-A5J2-01A     ACC            1   Direct    HiSeq\n",
       "TCGA-OR-A5J3-01A     ACC            1   Direct    HiSeq\n",
       "TCGA-OR-A5J4-01A     ACC            1   Direct    HiSeq\n",
       "TCGA-OR-A5J5-01A     ACC            1   Direct    HiSeq\n",
       "TCGA-OR-A5J6-01A     ACC            1   Direct    HiSeq\n",
       "TCGA-OR-A5J7-01A     ACC            1   Direct    HiSeq\n",
       "TCGA-OR-A5J8-01A     ACC            1   Direct    HiSeq\n",
       "TCGA-OR-A5J9-01A     ACC            1   Direct    HiSeq\n",
       "TCGA-OR-A5JA-01A     ACC            1   Direct    HiSeq\n",
       "TCGA-OR-A5JB-01A     ACC            1   Direct    HiSeq\n",
       "TCGA-OR-A5JC-01A     ACC            1   Direct    HiSeq\n",
       "TCGA-OR-A5JD-01A     ACC            1   Direct    HiSeq\n",
       "TCGA-OR-A5JE-01A     ACC            1   Direct    HiSeq\n",
       "TCGA-OR-A5JF-01A     ACC            1   Direct    HiSeq\n",
       "TCGA-OR-A5JG-01A     ACC            1   Direct    HiSeq\n",
       "TCGA-OR-A5JI-01A     ACC            1   Direct    HiSeq\n",
       "TCGA-OR-A5JJ-01A     ACC            1   Direct    HiSeq\n",
       "TCGA-OR-A5JK-01A     ACC            1   Direct    HiSeq\n",
       "TCGA-OR-A5JL-01A     ACC            1   Direct    HiSeq\n",
       "TCGA-OR-A5JM-01A     ACC            1   Direct    HiSeq\n",
       "TCGA-OR-A5JO-01A     ACC            1   Direct    HiSeq\n",
       "TCGA-OR-A5JP-01A     ACC            1   Direct    HiSeq\n",
       "TCGA-OR-A5JQ-01A     ACC            1   Direct    HiSeq\n",
       "TCGA-OR-A5JR-01A     ACC            1   Direct    HiSeq\n",
       "TCGA-OR-A5JS-01A     ACC            1   Direct    HiSeq\n",
       "TCGA-OR-A5JT-01A     ACC            1   Direct    HiSeq\n",
       "TCGA-OR-A5JV-01A     ACC            1   Direct    HiSeq\n",
       "TCGA-OR-A5JW-01A     ACC            1   Direct    HiSeq\n",
       "TCGA-OR-A5JX-01A     ACC            1   Direct    HiSeq\n",
       "...                  ...          ...      ...      ...\n",
       "TCGA-VD-A8KM-01A     UVM            1   Direct    HiSeq\n",
       "TCGA-VD-A8KN-01A     UVM            1   Direct    HiSeq\n",
       "TCGA-VD-A8KO-01A     UVM            1   Direct    HiSeq\n",
       "TCGA-VD-AA8M-01A     UVM            1   Direct    HiSeq\n",
       "TCGA-VD-AA8N-01A     UVM            1   Direct    HiSeq\n",
       "TCGA-VD-AA8O-01A     UVM            1   Direct    HiSeq\n",
       "TCGA-VD-AA8P-01A     UVM            1   Direct    HiSeq\n",
       "TCGA-VD-AA8Q-01A     UVM            1   Direct    HiSeq\n",
       "TCGA-VD-AA8R-01A     UVM            1   Direct    HiSeq\n",
       "TCGA-VD-AA8S-01B     UVM            1   Direct    HiSeq\n",
       "TCGA-VD-AA8T-01A     UVM            1   Direct    HiSeq\n",
       "TCGA-WC-A87T-01A     UVM            1   Direct    HiSeq\n",
       "TCGA-WC-A87U-01A     UVM            1   Direct    HiSeq\n",
       "TCGA-WC-A87W-01A     UVM            1   Direct    HiSeq\n",
       "TCGA-WC-A87Y-01A     UVM            1   Direct    HiSeq\n",
       "TCGA-WC-A880-01A     UVM            1   Direct    HiSeq\n",
       "TCGA-WC-A881-01A     UVM            1   Direct    HiSeq\n",
       "TCGA-WC-A882-01A     UVM            1   Direct    HiSeq\n",
       "TCGA-WC-A883-01A     UVM            1   Direct    HiSeq\n",
       "TCGA-WC-A884-01A     UVM            1   Direct    HiSeq\n",
       "TCGA-WC-A885-01A     UVM            1   Direct    HiSeq\n",
       "TCGA-WC-A888-01A     UVM            1   Direct    HiSeq\n",
       "TCGA-WC-A88A-01A     UVM            1   Direct    HiSeq\n",
       "TCGA-WC-AA9A-01A     UVM            1   Direct    HiSeq\n",
       "TCGA-WC-AA9E-01A     UVM            1   Direct    HiSeq\n",
       "TCGA-YZ-A980-01A     UVM            1   Direct    HiSeq\n",
       "TCGA-YZ-A982-01A     UVM            1   Direct    HiSeq\n",
       "TCGA-YZ-A983-01A     UVM            1   Direct    HiSeq\n",
       "TCGA-YZ-A984-01A     UVM            1   Direct    HiSeq\n",
       "TCGA-YZ-A985-01A     UVM            1   Direct    HiSeq\n",
       "\n",
       "[10824 rows x 4 columns]"
      ]
     },
     "execution_count": 11,
     "metadata": {},
     "output_type": "execute_result"
    }
   ],
   "source": [
    "sample_metadata"
   ]
  },
  {
   "cell_type": "markdown",
   "metadata": {},
   "source": [
    "#### Merging mRNA expression data and (miRNA) sample metadata"
   ]
  },
  {
   "cell_type": "code",
   "execution_count": 10,
   "metadata": {
    "collapsed": true
   },
   "outputs": [],
   "source": [
    "samples = sample_metadata.merge(sample_mRNAs, left_index=True, right_index=True)"
   ]
  },
  {
   "cell_type": "markdown",
   "metadata": {},
   "source": [
    "#### Definition: Considering samples of type 1 only"
   ]
  },
  {
   "cell_type": "code",
   "execution_count": 11,
   "metadata": {
    "collapsed": true
   },
   "outputs": [],
   "source": [
    "type_1_samples = pd.DataFrame(samples[samples.Sample_Type == 1])\n",
    "type_1_sample_mRNAs = type_1_samples.drop(columns=sample_metadata.columns)\n",
    "type_1_mRNA_data = type_1_sample_mRNAs.T"
   ]
  },
  {
   "cell_type": "code",
   "execution_count": 12,
   "metadata": {
    "collapsed": true
   },
   "outputs": [],
   "source": [
    "type_1_samples_count = type_1_samples.shape[0]"
   ]
  },
  {
   "cell_type": "markdown",
   "metadata": {},
   "source": [
    "## Very high-level overview of mRNA-miRNA data"
   ]
  },
  {
   "cell_type": "markdown",
   "metadata": {},
   "source": [
    "#### Number of samples for each tumor type"
   ]
  },
  {
   "cell_type": "code",
   "execution_count": 13,
   "metadata": {
    "collapsed": true
   },
   "outputs": [],
   "source": [
    "tumor_types_and_counts = type_1_samples['Disease'].value_counts().sort_index()\n",
    "tumor_types = tumor_types_and_counts.index\n",
    "tumor_type_counts = tumor_types_and_counts.values\n",
    "tumor_types_num = tumor_types.size"
   ]
  },
  {
   "cell_type": "markdown",
   "metadata": {},
   "source": [
    "#### Bar chart"
   ]
  },
  {
   "cell_type": "code",
   "execution_count": null,
   "metadata": {
    "collapsed": true
   },
   "outputs": [],
   "source": [
    "fig, ax = plt.subplots()\n",
    "bar_width = 5\n",
    "spacing = 10\n",
    "indices = np.arange(0, len(tumor_types) * spacing, spacing)\n",
    "ax.bar(indices, tumor_type_counts, bar_width)\n",
    "ax.set_xlabel('Tumor type', fontsize=12)\n",
    "ax.set_ylabel('Number of samples', fontsize=12)\n",
    "ax.set_title('Number of samples by tumor type', fontsize=14)\n",
    "ax.set_xticks(indices)\n",
    "ax.set_xticklabels(tumor_types, rotation=90)\n",
    "fig = matplotlib.pyplot.gcf()\n",
    "fig.set_size_inches(12, 7.2)\n",
    "fig.savefig('mRNA-miRNA_number-of-samples_barchart.pdf')"
   ]
  },
  {
   "cell_type": "markdown",
   "metadata": {},
   "source": [
    "#### Pie chart"
   ]
  },
  {
   "cell_type": "code",
   "execution_count": null,
   "metadata": {
    "collapsed": true
   },
   "outputs": [],
   "source": [
    "fig, ax = plt.subplots()\n",
    "ax.set_title('Samples by tumor type')\n",
    "plt.pie(tumor_type_counts, labels = tumor_types, autopct='%1.1f%%')\n",
    "fig.set_size_inches(20, 20)\n",
    "fig.savefig('mRNA-miRNA_number-of-samples_piechart.pdf')"
   ]
  },
  {
   "cell_type": "markdown",
   "metadata": {},
   "source": [
    "### Summary of mRNA type-1 sample data"
   ]
  },
  {
   "cell_type": "markdown",
   "metadata": {},
   "source": [
    "#### Overall descriptive summary"
   ]
  },
  {
   "cell_type": "code",
   "execution_count": null,
   "metadata": {},
   "outputs": [],
   "source": [
    "type_1_mRNA_data.describe()"
   ]
  },
  {
   "cell_type": "markdown",
   "metadata": {},
   "source": [
    "#### Maximum sample expression value(s)"
   ]
  },
  {
   "cell_type": "code",
   "execution_count": 23,
   "metadata": {},
   "outputs": [
    {
     "data": {
      "text/plain": [
       "7092440.0"
      ]
     },
     "execution_count": 23,
     "metadata": {},
     "output_type": "execute_result"
    }
   ],
   "source": [
    "type_1_mRNA_data.max().max()"
   ]
  },
  {
   "cell_type": "code",
   "execution_count": 34,
   "metadata": {},
   "outputs": [
    {
     "data": {
      "text/plain": [
       "count    9.310000e+03\n",
       "mean     4.272301e+05\n",
       "std      5.165901e+05\n",
       "min      5.536860e+04\n",
       "25%      1.658308e+05\n",
       "50%      2.567420e+05\n",
       "75%      4.722172e+05\n",
       "max      7.092440e+06\n",
       "dtype: float64"
      ]
     },
     "execution_count": 34,
     "metadata": {},
     "output_type": "execute_result"
    }
   ],
   "source": [
    "type_1_mRNA_data.max().describe()"
   ]
  },
  {
   "cell_type": "markdown",
   "metadata": {},
   "source": [
    "#### MInimum sample expression value is very slightly larger than -1"
   ]
  },
  {
   "cell_type": "code",
   "execution_count": 24,
   "metadata": {},
   "outputs": [
    {
     "data": {
      "text/plain": [
       "-0.99121057347755"
      ]
     },
     "execution_count": 24,
     "metadata": {},
     "output_type": "execute_result"
    }
   ],
   "source": [
    "type_1_mRNA_data.min().min()"
   ]
  },
  {
   "cell_type": "code",
   "execution_count": 33,
   "metadata": {},
   "outputs": [
    {
     "data": {
      "text/plain": [
       "count    9310.000000\n",
       "mean       -0.135038\n",
       "std         0.311809\n",
       "min        -0.991211\n",
       "25%         0.000000\n",
       "50%         0.000000\n",
       "75%         0.000000\n",
       "max         0.000000\n",
       "dtype: float64"
      ]
     },
     "execution_count": 33,
     "metadata": {},
     "output_type": "execute_result"
    }
   ],
   "source": [
    "type_1_mRNA_data.min().describe()"
   ]
  },
  {
   "cell_type": "markdown",
   "metadata": {},
   "source": [
    "#### Sample expression medians"
   ]
  },
  {
   "cell_type": "code",
   "execution_count": 37,
   "metadata": {},
   "outputs": [
    {
     "data": {
      "text/plain": [
       "count    20531.000000\n",
       "mean       714.378856\n",
       "std       2138.330624\n",
       "min          0.000000\n",
       "25%          4.743725\n",
       "50%        178.202110\n",
       "75%        740.260000\n",
       "max      94209.329512\n",
       "dtype: float64"
      ]
     },
     "execution_count": 37,
     "metadata": {},
     "output_type": "execute_result"
    }
   ],
   "source": [
    "type_1_mRNA_data.median(axis=1).describe()"
   ]
  },
  {
   "cell_type": "markdown",
   "metadata": {},
   "source": [
    "### Distribution of missing values across mRNAs and samples"
   ]
  },
  {
   "cell_type": "code",
   "execution_count": 14,
   "metadata": {
    "collapsed": true
   },
   "outputs": [],
   "source": [
    "type_1_mRNA_data_nonnull_mask = type_1_mRNA_data.isnull()\n",
    "type_1_mRNA_na_counts = type_1_mRNA_data_nonnull_mask.sum(axis=1)\n",
    "type_1_sample_na_counts = type_1_mRNA_data_nonnull_mask.sum()"
   ]
  },
  {
   "cell_type": "markdown",
   "metadata": {},
   "source": [
    "#### Total # of missing values"
   ]
  },
  {
   "cell_type": "code",
   "execution_count": 26,
   "metadata": {},
   "outputs": [
    {
     "data": {
      "text/plain": [
       "3107138"
      ]
     },
     "execution_count": 26,
     "metadata": {},
     "output_type": "execute_result"
    }
   ],
   "source": [
    "type_1_mRNA_na_counts.sum()"
   ]
  },
  {
   "cell_type": "markdown",
   "metadata": {},
   "source": [
    "#### Number of mRNAs / samples with missing values"
   ]
  },
  {
   "cell_type": "code",
   "execution_count": 27,
   "metadata": {},
   "outputs": [
    {
     "data": {
      "text/plain": [
       "4196"
      ]
     },
     "execution_count": 27,
     "metadata": {},
     "output_type": "execute_result"
    }
   ],
   "source": [
    "len(type_1_mRNA_na_counts[type_1_mRNA_na_counts != 0])"
   ]
  },
  {
   "cell_type": "code",
   "execution_count": 28,
   "metadata": {},
   "outputs": [
    {
     "data": {
      "text/plain": [
       "1478"
      ]
     },
     "execution_count": 28,
     "metadata": {},
     "output_type": "execute_result"
    }
   ],
   "source": [
    "len(type_1_sample_na_counts[type_1_sample_na_counts != 0])"
   ]
  },
  {
   "cell_type": "markdown",
   "metadata": {},
   "source": [
    "#### Distribution of # of missing values across mRNAs / samples"
   ]
  },
  {
   "cell_type": "code",
   "execution_count": 29,
   "metadata": {},
   "outputs": [
    {
     "data": {
      "text/plain": [
       "count    20531.000000\n",
       "mean       151.338853\n",
       "std        393.685936\n",
       "min          0.000000\n",
       "25%          0.000000\n",
       "50%          0.000000\n",
       "75%          0.000000\n",
       "max       1478.000000\n",
       "dtype: float64"
      ]
     },
     "execution_count": 29,
     "metadata": {},
     "output_type": "execute_result"
    }
   ],
   "source": [
    "type_1_mRNA_na_counts.describe()"
   ]
  },
  {
   "cell_type": "code",
   "execution_count": 30,
   "metadata": {},
   "outputs": [
    {
     "data": {
      "text/plain": [
       "0       16335\n",
       "38       1107\n",
       "1478     1050\n",
       "592       869\n",
       "554       376\n",
       "1445      368\n",
       "625       312\n",
       "587        49\n",
       "891        33\n",
       "71         23\n",
       "33          5\n",
       "924         4\n",
       "dtype: int64"
      ]
     },
     "execution_count": 30,
     "metadata": {},
     "output_type": "execute_result"
    }
   ],
   "source": [
    "type_1_mRNA_na_counts.value_counts()"
   ]
  },
  {
   "cell_type": "code",
   "execution_count": 31,
   "metadata": {},
   "outputs": [
    {
     "data": {
      "text/plain": [
       "count    9310.000000\n",
       "mean      333.741998\n",
       "std       831.914826\n",
       "min         0.000000\n",
       "25%         0.000000\n",
       "50%         0.000000\n",
       "75%         0.000000\n",
       "max      3766.000000\n",
       "dtype: float64"
      ]
     },
     "execution_count": 31,
     "metadata": {},
     "output_type": "execute_result"
    }
   ],
   "source": [
    "type_1_sample_na_counts.describe()"
   ]
  },
  {
   "cell_type": "code",
   "execution_count": 32,
   "metadata": {},
   "outputs": [
    {
     "data": {
      "text/plain": [
       "0       7832\n",
       "1455     853\n",
       "3024     554\n",
       "3766      38\n",
       "1443      33\n",
       "dtype: int64"
      ]
     },
     "execution_count": 32,
     "metadata": {},
     "output_type": "execute_result"
    }
   ],
   "source": [
    "type_1_sample_na_counts.value_counts()"
   ]
  },
  {
   "cell_type": "markdown",
   "metadata": {},
   "source": [
    "## Plots"
   ]
  },
  {
   "cell_type": "markdown",
   "metadata": {},
   "source": [
    "### Function definitions"
   ]
  },
  {
   "cell_type": "code",
   "execution_count": 147,
   "metadata": {
    "collapsed": true
   },
   "outputs": [],
   "source": [
    "def histogram(data, xsz, ysz, title, xlab, ylab, xticks, **kwargs):\n",
    "    fig, ax = plt.subplots()\n",
    "    sns.distplot(data, ax=ax, **kwargs)\n",
    "    fig = ax.get_figure()\n",
    "    fig.set_size_inches(xsz, ysz)\n",
    "    ax.set_title(title)\n",
    "    ax.set_xlabel(xlab)\n",
    "    ax.set_ylabel(ylab)\n",
    "    if xticks is not None:\n",
    "      ax.set_xticks(xticks)\n",
    "    return fig"
   ]
  },
  {
   "cell_type": "code",
   "execution_count": 16,
   "metadata": {
    "collapsed": true
   },
   "outputs": [],
   "source": [
    "def heatmap(data, title, xlab, ylab, xticks, yticks, xticklabels, yticklabels, xsz, ysz, cmap, **kwargs):\n",
    "    fig, ax = plt.subplots()\n",
    "    if 'label_fontsize' in kwargs:\n",
    "        ax.set_title(title, fontsize=kwargs['label_fontsize'])\n",
    "        ax.set_xlabel(xlab, fontsize=kwargs['label_fontsize'])\n",
    "        ax.set_ylabel(ylab, fontsize=kwargs['label_fontsize'])\n",
    "    else:\n",
    "        ax.set_title(title)\n",
    "        ax.set_xlabel(xlab)\n",
    "        ax.set_ylabel(ylab)\n",
    "    ax.set_xticks(xticks)\n",
    "    ax.set_yticks(yticks)\n",
    "    xticklab_dict = dict()\n",
    "    if ('xticklabels_rotation' in kwargs):\n",
    "        xticklab_dict['rotation'] = kwargs['xticklabels_rotation']\n",
    "    if ('ha' in kwargs):\n",
    "        xticklab_dict['ha'] = kwargs['ha']\n",
    "    ax.set_xticklabels(xticklabels, xticklab_dict)\n",
    "    if 'va' in kwargs:\n",
    "        ax.set_yticklabels(yticklabels, va=kwargs['va'])\n",
    "    else:\n",
    "        ax.set_yticklabels(yticklabels)\n",
    "    fig.set_size_inches(xsz, ysz)\n",
    "    heatmap = ax.pcolormesh(data, cmap=cmap)\n",
    "    fig.colorbar(heatmap, ax=ax)\n",
    "    return fig"
   ]
  },
  {
   "cell_type": "markdown",
   "metadata": {},
   "source": [
    "### Data definitions"
   ]
  },
  {
   "cell_type": "code",
   "execution_count": 17,
   "metadata": {
    "collapsed": true
   },
   "outputs": [],
   "source": [
    "mRNA_data_log_transformed = type_1_mRNA_data.applymap(lambda x: m.log(x + 2))"
   ]
  },
  {
   "cell_type": "code",
   "execution_count": 18,
   "metadata": {
    "collapsed": true
   },
   "outputs": [],
   "source": [
    "sample_disease_mRNAs = type_1_samples.drop(columns=['Sample_Type', 'Protocol', 'Platform'])\n",
    "samples_by_tumor_type = sample_disease_mRNAs.groupby('Disease')"
   ]
  },
  {
   "cell_type": "code",
   "execution_count": 19,
   "metadata": {
    "collapsed": true
   },
   "outputs": [],
   "source": [
    "tumor_type_sample_counts_cumulative = np.cumsum(samples_by_tumor_type.size().values)"
   ]
  },
  {
   "cell_type": "code",
   "execution_count": 20,
   "metadata": {
    "collapsed": true
   },
   "outputs": [],
   "source": [
    "samples_sortedby_tumor_type = sample_disease_mRNAs.sort_values(by=['Disease'])\n",
    "sample_mRNAs_sortedby_tumortype = samples_sortedby_tumor_type.drop(columns=['Disease'])\n",
    "sample_mRNAs_sortedby_tumortype_log = sample_mRNAs_sortedby_tumortype.applymap(lambda x: m.log(x + 2))\n",
    "sample_tumor_types_sorted = samples_sortedby_tumor_type['Disease']"
   ]
  },
  {
   "cell_type": "markdown",
   "metadata": {},
   "source": [
    "### Missing values"
   ]
  },
  {
   "cell_type": "code",
   "execution_count": 21,
   "metadata": {
    "collapsed": true
   },
   "outputs": [],
   "source": [
    "sample_mRNAs_sortedby_tumortype_isnull = sample_mRNAs_sortedby_tumortype.isnull()\n",
    "sample_mRNAs_sortedby_tumortype_isnull['Disease'] = sample_tumor_types_sorted\n",
    "sample_mRNAs_isnull_groupedby_tumortype = sample_mRNAs_sortedby_tumortype_isnull.groupby('Disease')\n",
    "sample_mRNAs_groupedby_tumortype_nullcounts = sample_mRNAs_isnull_groupedby_tumortype.sum()\n",
    "sample_mRNAs_groupedby_tumortype_null_percentages = sample_mRNAs_groupedby_tumortype_nullcounts.div(tumor_types_and_counts, axis='index')"
   ]
  },
  {
   "cell_type": "code",
   "execution_count": null,
   "metadata": {
    "collapsed": true,
    "scrolled": true
   },
   "outputs": [],
   "source": [
    "fig = heatmap(sample_mRNAs_groupedby_tumortype_null_percentages,\n",
    "              'missing mRNA expression values as % of cancer type samples', \n",
    "              'mRNA', '% cancer type samples with missing expression values for mRNA', \n",
    "              np.arange(sample_mRNAs_groupedby_tumortype_nullcounts.shape[1]), np.arange(tumor_types_num), \n",
    "              [], tumor_types, 20, 10, 'hot_r', label_fontsize=16, va='bottom')\n",
    "fig.savefig('mRNA-tumortype-missing-percentages-heatmap.png')"
   ]
  },
  {
   "cell_type": "markdown",
   "metadata": {},
   "source": [
    "### mRNA expression sorted by tumor type and mean expression value"
   ]
  },
  {
   "cell_type": "code",
   "execution_count": 22,
   "metadata": {
    "collapsed": true
   },
   "outputs": [],
   "source": [
    "mRNA_samples_by_tumor_type = sample_mRNAs_sortedby_tumortype.T\n",
    "mRNA_samples_by_tumor_type['mean_expr'] = mRNA_samples_by_tumor_type.mean(axis=1)\n",
    "mRNA_samples_by_tumor_type.sort_values(by=['mean_expr'], inplace=True)\n",
    "mRNA_samples_by_tumor_type.drop(columns=['mean_expr'], inplace=True)\n",
    "\n",
    "sample_mRNAs_by_meanexpr_and_tumortype = mRNA_samples_by_tumor_type.T\n",
    "sample_mRNAs_by_meanexpr_and_tumortype['Disease'] = sample_tumor_types_sorted\n",
    "sample_mRNAs_sortedby_meanexpr_groupedby_tumortype = sample_mRNAs_by_meanexpr_and_tumortype.groupby('Disease')\n",
    "mRNA_tumortype_means = sample_mRNAs_sortedby_meanexpr_groupedby_tumortype.mean()"
   ]
  },
  {
   "cell_type": "markdown",
   "metadata": {},
   "source": [
    "#### Mean sample expression"
   ]
  },
  {
   "cell_type": "code",
   "execution_count": null,
   "metadata": {
    "collapsed": true,
    "scrolled": true
   },
   "outputs": [],
   "source": [
    "fig = heatmap(mRNA_tumortype_means.applymap(lambda x: m.log(x + 2)),\n",
    "              'mRNA log((tumor type mean sample expression) + 2), sorted by mRNA mean expression level', \n",
    "              'mRNA', 'log((tumor type mean sample expression) + 2)', \n",
    "              np.arange(len(sample_mRNAs_by_meanexpr_and_tumortype.columns[:-1])), np.arange(tumor_types_num), \n",
    "              [], tumor_types, 50, 15, 'cubehelix_r', label_fontsize=16, va='bottom')\n",
    "fig.savefig('mRNA-tumortype-mean-exprs-heatmap.png')"
   ]
  },
  {
   "cell_type": "markdown",
   "metadata": {},
   "source": [
    "#### Per-mRNA sample expression quantiles"
   ]
  },
  {
   "cell_type": "code",
   "execution_count": 45,
   "metadata": {
    "collapsed": true
   },
   "outputs": [],
   "source": [
    "quantiles = [i/100 for i in list(range(5, 105, 5))]\n",
    "per_mRNA_quantiles = mRNA_samples_by_tumor_type.quantile(q=quantiles, axis=1)"
   ]
  },
  {
   "cell_type": "code",
   "execution_count": null,
   "metadata": {
    "collapsed": true
   },
   "outputs": [],
   "source": [
    "heatmap(per_mRNA_quantiles.applymap(lambda x: m.log(x + 2)),\n",
    "        'mRNA log((per-mRNA expression quantile) + 2), sorted by mRNA mean expression level', 'mRNA',\n",
    "        'log((expression quantile) + 2)', np.arange(len(sample_mRNAs_by_meanexpr_and_tumortype.columns[:-1])),\n",
    "        range(len(quantiles)), [], list(quantiles), 50, 20, 'cubehelix_r',\n",
    "        label_fontsize=16, va='bottom').savefig('mRNA-quantiles_sortedby-means_heatmap.png')"
   ]
  },
  {
   "cell_type": "markdown",
   "metadata": {},
   "source": [
    "#### Per-mRNA sample expression quantiles, normalised"
   ]
  },
  {
   "cell_type": "code",
   "execution_count": 23,
   "metadata": {
    "collapsed": true
   },
   "outputs": [],
   "source": [
    "mRNA_sample_means = mRNA_samples_by_tumor_type.mean(axis=1)\n",
    "mRNA_sample_stdevs = mRNA_samples_by_tumor_type.std(axis=1)"
   ]
  },
  {
   "cell_type": "code",
   "execution_count": 160,
   "metadata": {},
   "outputs": [
    {
     "data": {
      "text/plain": [
       "count     20531.000000\n",
       "mean        988.510438\n",
       "std        2880.887841\n",
       "min          -0.023894\n",
       "25%          42.880666\n",
       "50%         332.102388\n",
       "75%         986.616282\n",
       "max      103669.311442\n",
       "dtype: float64"
      ]
     },
     "execution_count": 160,
     "metadata": {},
     "output_type": "execute_result"
    }
   ],
   "source": [
    "# compare to medians above [type_1_mRNA_data.median(axis=1).describe()]\n",
    "mRNA_sample_means.describe()"
   ]
  },
  {
   "cell_type": "code",
   "execution_count": 47,
   "metadata": {},
   "outputs": [
    {
     "data": {
      "text/plain": [
       "count    223.0\n",
       "mean      20.0\n",
       "std        0.0\n",
       "min       20.0\n",
       "25%       20.0\n",
       "50%       20.0\n",
       "75%       20.0\n",
       "max       20.0\n",
       "dtype: float64"
      ]
     },
     "execution_count": 47,
     "metadata": {},
     "output_type": "execute_result"
    }
   ],
   "source": [
    "mRNA_null_counts = per_mRNA_quantiles.sub(mRNA_sample_means, axis=1).div(mRNA_sample_stdevs, axis=1).isnull().sum()\n",
    "mRNA_null_counts[mRNA_null_counts != 0].describe()"
   ]
  },
  {
   "cell_type": "code",
   "execution_count": 24,
   "metadata": {
    "collapsed": true
   },
   "outputs": [],
   "source": [
    "# using the full range (up to 1) blasts the maximum from around 3 to 80... (resulting in white-out everywhere but top quantile)\n",
    "quantiles = [i/100 for i in list(range(5, 100, 5))]\n",
    "per_mRNA_quantiles = mRNA_samples_by_tumor_type.quantile(q=quantiles, axis=1)"
   ]
  },
  {
   "cell_type": "code",
   "execution_count": null,
   "metadata": {
    "collapsed": true
   },
   "outputs": [],
   "source": [
    "fig = heatmap(per_mRNA_quantiles.sub(mRNA_sample_means, axis=1).div(mRNA_sample_stdevs, axis=1),\n",
    "              'normalised per-mRNA expression quantile, sorted by mRNA mean expression level', \n",
    "              'mRNA', 'normalised per-mRNA expression quantile', np.arange(len(sample_mRNAs_by_meanexpr_and_tumortype.columns[:-1])),\n",
    "              range(len(quantiles)), [], list(quantiles), 50, 20, 'cubehelix_r', label_fontsize=16, va='bottom')\n",
    "fig.savefig('mRNA-normed-quantiles_sortedby-means_heatmap.png')"
   ]
  },
  {
   "cell_type": "markdown",
   "metadata": {},
   "source": [
    "### mRNA expression sorted by tumor type and variance in per-cancer-type mean expression"
   ]
  },
  {
   "cell_type": "code",
   "execution_count": 25,
   "metadata": {
    "collapsed": true
   },
   "outputs": [],
   "source": [
    "mRNA_samples_by_tumor_type = sample_mRNAs_sortedby_tumortype.T\n",
    "mRNA_samples_by_tumor_type['stdev_of_tumor_type_mean'] = samples_by_tumor_type.mean().std().T\n",
    "mRNA_samples_by_tumor_type.sort_values(by=['stdev_of_tumor_type_mean'], inplace=True)\n",
    "mRNA_samples_by_tumor_type.drop(columns=['stdev_of_tumor_type_mean'], inplace=True)\n",
    "\n",
    "sample_mRNAs_by_meanstdev_and_tumortype = mRNA_samples_by_tumor_type.T\n",
    "sample_mRNAs_by_meanstdev_and_tumortype['Disease'] = sample_tumor_types_sorted\n",
    "sample_mRNAs_sortedby_meanstdev_groupedby_tumortype = sample_mRNAs_by_meanstdev_and_tumortype.groupby('Disease')\n",
    "mRNA_tumortype_means = sample_mRNAs_sortedby_meanstdev_groupedby_tumortype.mean()"
   ]
  },
  {
   "cell_type": "markdown",
   "metadata": {},
   "source": [
    "#### Mean sample expression"
   ]
  },
  {
   "cell_type": "code",
   "execution_count": null,
   "metadata": {
    "collapsed": true
   },
   "outputs": [],
   "source": [
    "fig = heatmap(mRNA_tumortype_means.applymap(lambda x: m.log(x + 2)),\n",
    "              'Heatmap: mRNA log((tumor type mean sample expression) + 2), sorted by variance in per-cancer-type means', \n",
    "              'mRNA', 'log((tumor type mean sample expression) + 2)', \n",
    "              np.arange(len(sample_mRNAs_by_meanstdev_and_tumortype.columns[:-1])), np.arange(tumor_types_num), \n",
    "              [], tumor_types, 50, 15, 'cubehelix_r', label_fontsize=16, va='bottom')\n",
    "fig.savefig('mRNA-tumortype-mean-exprs-heatmap_sortedby-meanstdevs.png')"
   ]
  },
  {
   "cell_type": "markdown",
   "metadata": {},
   "source": [
    "### Excluded due to excessive runtime:\n",
    "- Boxplots of raw sample expression values and summary stats (mean, quantiles) for each mRNA\n",
    "- Heatmap of pairwise mRNA correlations (correlation computation takes too long, even within cancer types)\n",
    "- Heatmaps of raw and normalised per-sample expression values"
   ]
  },
  {
   "cell_type": "markdown",
   "metadata": {},
   "source": [
    "#### Grouped boxplot of sample expression for mRNAs with highest and lowest variation in mean expression across tumor types"
   ]
  },
  {
   "cell_type": "code",
   "execution_count": 26,
   "metadata": {
    "collapsed": true
   },
   "outputs": [],
   "source": [
    "quantiles = [i/100 for i in list(range(5, 105, 5))]\n",
    "per_mRNA_quantiles = mRNA_samples_by_tumor_type.quantile(q=quantiles, axis=1)\n",
    "miRNA_null_counts = per_mRNA_quantiles.sub(mRNA_sample_means, axis=1).div(mRNA_sample_stdevs, axis=1).isnull().sum()\n",
    "mRNA_samples_by_tumor_type_no_0stdevs = mRNA_samples_by_tumor_type.drop(miRNA_null_counts[miRNA_null_counts != 0].index)"
   ]
  },
  {
   "cell_type": "code",
   "execution_count": 27,
   "metadata": {
    "collapsed": true
   },
   "outputs": [],
   "source": [
    "most_varied_mRNA = mRNA_samples_by_tumor_type_no_0stdevs.iloc[-1].name\n",
    "least_varied_mRNA = mRNA_samples_by_tumor_type_no_0stdevs.iloc[0].name"
   ]
  },
  {
   "cell_type": "code",
   "execution_count": null,
   "metadata": {
    "collapsed": true
   },
   "outputs": [],
   "source": [
    "most_least_varied_mRNAs = pd.concat([sample_mRNAs_sortedby_tumortype_log[most_varied_mRNA],\n",
    "                                     sample_mRNAs_sortedby_tumortype_log[least_varied_mRNA],\n",
    "                                     samples_sortedby_tumor_type['Disease']], axis=1)\n",
    "ax1, ax2 = most_least_varied_mRNAs.boxplot(by='Disease', whis='range', showfliers=False, figsize=(10, 7))\n",
    "plt.suptitle('log((tumor type sample expression) + 2) for mRNAs with highest and lowest nonzero variation across tumor types')\n",
    "ax1.set_xlabel('Tumor Type')\n",
    "ax2.set_xlabel('Tumor Type')\n",
    "ax1.set_ylabel('log((tumor type sample expression) + 2)')\n",
    "xticks = range(1, tumor_types_num + 2) # +2 because pandas is weird\n",
    "ax1.set_xticks(xticks)\n",
    "ax2.set_xticks(xticks)\n",
    "xticklabels = [''] + tumor_types.tolist()\n",
    "ax1.set_xticklabels(xticklabels, rotation=90, ha='right')\n",
    "ax2.set_xticklabels(xticklabels, rotation=90, ha='right')\n",
    "plt.savefig('most-least-varied-mRNAs-expr-by-tumortype_boxplot.png')"
   ]
  },
  {
   "cell_type": "markdown",
   "metadata": {},
   "source": [
    "### Observations\n",
    "\n",
    "##### Data characteristics\n",
    "- 20531 mRNAs, 9310 (type 1, primary solid tumor) samples\n",
    "- Minimum sample expression value is -0.99121057347755 (very slightly larger than -1)\n",
    "- Max. sample expression value: 7092440\n",
    "- Missing values:\n",
    "  - 3107138 (~16%) in dataset\n",
    "  - 4196 (~20%) mRNAs with missing expression values\n",
    "    - mean 151.338853, stdev 393.685936, max 1478\n",
    "    \n",
    "#### Per-cancer-type mean expression\n",
    "- Distribution of log-transformed expression (+2) seems evenly distributed\n",
    "  - Though with slightly more values at bottom than top end of range\n",
    "- Varies primarily across mRNAs rather than across cancer types\n",
    "  - Fairly even across cancer types for most mRNAs\n",
    "- Shows a more striated pattern sorted by variance of per-cancer-type means than sorted by overall expression mean \n",
    "  - I.e. some mRNAs show large variation away from the top of the distribution\n",
    "\n",
    "#### Per-mRNA sample expression quantiles (sorted by mRNA overall mean expression)\n",
    "- Raw\n",
    "  - Stark contrast between top quantile (max) values and lower ones\n",
    "  - Below the top quantile, most mRNA expression quantiles cover relatively small range\n",
    "- Normalised per mRNA\n",
    "  - Capped at 95th percentile:\n",
    "    - Lowest-mean distributions are quite uniform\n",
    "    - Dispersion increases with mean\n",
    "      - Though again there is a fatter right tail than left tail\n",
    "    - For the top quantiles, a sharp contrast with the next quantile displayed\n",
    "      - Starting farther to the right as the quantile decreases\n",
    "        - I.e. starting at higher-mean mRNAs for lower (but still high) quantiles\n",
    "    - Range: > -3 to -3\n",
    "  - Up to 100th percentile:\n",
    "    - Value of top quantile (maximum) is blasted up to 80, while all other quantile languish close to 0\n",
    "    - However, the (normalised) maximum value is highest for lowest-mean mRNAs, and decreases with increasing mean\n",
    "    \n",
    "#### mRNAs with highest and lowest variation in mean expression across tumor types\n",
    "- Zero variation is recorded for some mRNAs (with only 0 values recorded)\n",
    "- Some others have zero variation (and 0 values) in most cancer types"
   ]
  },
  {
   "cell_type": "markdown",
   "metadata": {},
   "source": [
    "## Analysis"
   ]
  },
  {
   "cell_type": "code",
   "execution_count": 28,
   "metadata": {
    "collapsed": true
   },
   "outputs": [],
   "source": [
    "nranks = 25"
   ]
  },
  {
   "cell_type": "markdown",
   "metadata": {},
   "source": [
    "### Ranking of mRNAs by expression levels"
   ]
  },
  {
   "cell_type": "markdown",
   "metadata": {},
   "source": [
    "#### By mean over all samples"
   ]
  },
  {
   "cell_type": "code",
   "execution_count": 52,
   "metadata": {
    "collapsed": true
   },
   "outputs": [],
   "source": [
    "# last column of sample_mRNAs_by_meanexpr_and_tumortype is 'Disease'\n",
    "top25_mRNAs_by_overall_mean = sample_mRNAs_by_meanexpr_and_tumortype.columns[-2:(-2-nranks):-1]\n",
    "top25_mRNAs_by_overall_mean_idx = {}\n",
    "for i in range(nranks):\n",
    "    top25_mRNAs_by_overall_mean_idx[top25_mRNAs_by_overall_mean[i]] = i"
   ]
  },
  {
   "cell_type": "markdown",
   "metadata": {},
   "source": [
    "#### By mean of per-tumor-type means"
   ]
  },
  {
   "cell_type": "code",
   "execution_count": 53,
   "metadata": {
    "collapsed": true
   },
   "outputs": [],
   "source": [
    "mRNA_tumortype_means_sortedby_mean_of_means = mRNA_tumortype_means.mean().sort_values()"
   ]
  },
  {
   "cell_type": "code",
   "execution_count": 54,
   "metadata": {
    "collapsed": true
   },
   "outputs": [],
   "source": [
    "top25_mRNAs_by_mean_of_means = mRNA_tumortype_means_sortedby_mean_of_means.index[-1:(-1-nranks):-1]\n",
    "top25_mRNAs_by_mean_of_means_idx = {}\n",
    "for i in range(nranks):\n",
    "    top25_mRNAs_by_mean_of_means_idx[top25_mRNAs_by_mean_of_means[i]] = i"
   ]
  },
  {
   "cell_type": "markdown",
   "metadata": {},
   "source": [
    "#### Size of intersection"
   ]
  },
  {
   "cell_type": "code",
   "execution_count": 55,
   "metadata": {},
   "outputs": [
    {
     "data": {
      "text/plain": [
       "22"
      ]
     },
     "execution_count": 55,
     "metadata": {},
     "output_type": "execute_result"
    }
   ],
   "source": [
    "len(top25_mRNAs_by_overall_mean.intersection(top25_mRNAs_by_mean_of_means))"
   ]
  },
  {
   "cell_type": "code",
   "execution_count": 56,
   "metadata": {},
   "outputs": [
    {
     "data": {
      "text/plain": [
       "Index(['ACTB|60', 'EEF1A1|1915', 'GAPDH|2597'], dtype='object')"
      ]
     },
     "execution_count": 56,
     "metadata": {},
     "output_type": "execute_result"
    }
   ],
   "source": [
    "top25_mRNAs_by_overall_mean[0:3]"
   ]
  },
  {
   "cell_type": "code",
   "execution_count": 57,
   "metadata": {},
   "outputs": [
    {
     "data": {
      "text/plain": [
       "Index(['ACTB|60', 'EEF1A1|1915', 'GAPDH|2597'], dtype='object')"
      ]
     },
     "execution_count": 57,
     "metadata": {},
     "output_type": "execute_result"
    }
   ],
   "source": [
    "top25_mRNAs_by_mean_of_means[0:3]"
   ]
  },
  {
   "cell_type": "markdown",
   "metadata": {},
   "source": [
    "#### Mean difference between mRNA ranks\n",
    "- Counting only mRNAs in intersection (i.e. in both)\n",
    "- Subtracting rank by mean of means from rank by overall means"
   ]
  },
  {
   "cell_type": "code",
   "execution_count": 58,
   "metadata": {},
   "outputs": [
    {
     "data": {
      "text/plain": [
       "-0.18181818181818182"
      ]
     },
     "execution_count": 58,
     "metadata": {},
     "output_type": "execute_result"
    }
   ],
   "source": [
    "sum_of_diffs = 0\n",
    "count_of_diffs = 0\n",
    "for i in range(nranks):\n",
    "    if top25_mRNAs_by_overall_mean[i] in top25_mRNAs_by_mean_of_means_idx:\n",
    "        sum_of_diffs += i - top25_mRNAs_by_mean_of_means_idx[top25_mRNAs_by_overall_mean[i]]\n",
    "        count_of_diffs += 1\n",
    "sum_of_diffs / count_of_diffs"
   ]
  },
  {
   "cell_type": "markdown",
   "metadata": {},
   "source": [
    "#### Mean absolute difference between mRNA ranks"
   ]
  },
  {
   "cell_type": "code",
   "execution_count": 59,
   "metadata": {},
   "outputs": [
    {
     "data": {
      "text/plain": [
       "1.9090909090909092"
      ]
     },
     "execution_count": 59,
     "metadata": {},
     "output_type": "execute_result"
    }
   ],
   "source": [
    "sum_of_abs_diffs = 0\n",
    "count_of_diffs = 0\n",
    "for i in range(nranks):\n",
    "    if top25_mRNAs_by_overall_mean[i] in top25_mRNAs_by_mean_of_means_idx:\n",
    "        sum_of_abs_diffs += abs(i - top25_mRNAs_by_mean_of_means_idx[top25_mRNAs_by_overall_mean[i]])\n",
    "        count_of_diffs += 1\n",
    "sum_of_abs_diffs / count_of_diffs"
   ]
  },
  {
   "cell_type": "markdown",
   "metadata": {},
   "source": [
    "#### Differences in differences between the rankings"
   ]
  },
  {
   "cell_type": "code",
   "execution_count": 60,
   "metadata": {
    "collapsed": true
   },
   "outputs": [],
   "source": [
    "mRNAs_by_overall_mean = sample_mRNAs_by_meanexpr_and_tumortype.columns[::-1][1:]\n",
    "mRNAs_by_mean_of_means = mRNA_tumortype_means_sortedby_mean_of_means.index[::-1]"
   ]
  },
  {
   "cell_type": "markdown",
   "metadata": {},
   "source": [
    "#### Mean difference between ranks of mRNAs in differences\n",
    "- The mean absolute differences would have the same magnitudes"
   ]
  },
  {
   "cell_type": "markdown",
   "metadata": {},
   "source": [
    "#### mRNAs in top 25 by overall mean but not by mean of means"
   ]
  },
  {
   "cell_type": "code",
   "execution_count": 61,
   "metadata": {},
   "outputs": [
    {
     "data": {
      "text/plain": [
       "-23.666666666666668"
      ]
     },
     "execution_count": 61,
     "metadata": {},
     "output_type": "execute_result"
    }
   ],
   "source": [
    "sum_of_diffs = 0\n",
    "count_of_diffs = 0\n",
    "for i in range(nranks):\n",
    "    if not(top25_mRNAs_by_overall_mean[i] in top25_mRNAs_by_mean_of_means_idx):\n",
    "        sum_of_diffs += i - mRNAs_by_mean_of_means.get_loc(top25_mRNAs_by_overall_mean[i])\n",
    "        count_of_diffs += 1\n",
    "sum_of_diffs / count_of_diffs"
   ]
  },
  {
   "cell_type": "markdown",
   "metadata": {},
   "source": [
    "#### mRNAs in top 25 by mean of means but not by overall mean"
   ]
  },
  {
   "cell_type": "code",
   "execution_count": 62,
   "metadata": {},
   "outputs": [
    {
     "data": {
      "text/plain": [
       "-16.333333333333332"
      ]
     },
     "execution_count": 62,
     "metadata": {},
     "output_type": "execute_result"
    }
   ],
   "source": [
    "sum_of_diffs = 0\n",
    "count_of_diffs = 0\n",
    "for i in range(nranks):\n",
    "    if not(top25_mRNAs_by_mean_of_means[i] in top25_mRNAs_by_overall_mean_idx):\n",
    "        sum_of_diffs += i - mRNAs_by_overall_mean.get_loc(top25_mRNAs_by_mean_of_means[i])\n",
    "        count_of_diffs += 1\n",
    "sum_of_diffs / count_of_diffs"
   ]
  },
  {
   "cell_type": "markdown",
   "metadata": {},
   "source": [
    "#### Boxplot of sample expression for mRNAs with highest and lowest mean expressions across all samples"
   ]
  },
  {
   "cell_type": "code",
   "execution_count": null,
   "metadata": {
    "collapsed": true
   },
   "outputs": [],
   "source": [
    "fig, ax = plt.subplots()\n",
    "most_least_varied_mRNAs = pd.concat([sample_mRNAs_sortedby_tumortype_log[sample_mRNAs_by_meanexpr_and_tumortype.columns[-2]],\n",
    "                                     sample_mRNAs_sortedby_tumortype_log[sample_mRNAs_by_meanexpr_and_tumortype.columns[-3]],\n",
    "                                     sample_mRNAs_sortedby_tumortype_log[sample_mRNAs_by_meanexpr_and_tumortype.columns[-4]],\n",
    "                                     sample_mRNAs_sortedby_tumortype_log[sample_mRNAs_by_meanexpr_and_tumortype.columns[0]],\n",
    "                                     sample_mRNAs_sortedby_tumortype_log[sample_mRNAs_by_meanexpr_and_tumortype.columns[1]],\n",
    "                                     sample_mRNAs_sortedby_tumortype_log[sample_mRNAs_by_meanexpr_and_tumortype.columns[2]],\n",
    "                                     samples_sortedby_tumor_type['Disease']], axis=1)\n",
    "most_least_varied_mRNAs.boxplot(ax=ax, whis='range', showfliers=False)\n",
    "title = 'log((sample expression) + 2) for mRNAs with highest and lowest expression levels, ranked by mean over dataset'\n",
    "ax.set_title(title, fontsize=14)\n",
    "ax.set_xlabel('mRNA', fontsize=12)\n",
    "ax.set_ylabel('log((tumor type sample expression) + 2)', fontsize=12)\n",
    "fig.set_size_inches(12, 8.4)\n",
    "fig.savefig('mRNAs-highest-lowest-mean-expr_boxplot.png')"
   ]
  },
  {
   "cell_type": "markdown",
   "metadata": {},
   "source": [
    "#### Boxplot of sample expression for mRNAs with highest and lowest means of per-tumor-type mean expressions"
   ]
  },
  {
   "cell_type": "code",
   "execution_count": null,
   "metadata": {
    "collapsed": true
   },
   "outputs": [],
   "source": [
    "fig, ax = plt.subplots()\n",
    "most_least_varied_mRNAs = pd.concat([sample_mRNAs_by_meanexpr_and_tumortype[mRNA_tumortype_means_sortedby_mean_of_means.index[-2]],\n",
    "                                     sample_mRNAs_by_meanexpr_and_tumortype[mRNA_tumortype_means_sortedby_mean_of_means.index[-3]],\n",
    "                                     sample_mRNAs_by_meanexpr_and_tumortype[mRNA_tumortype_means_sortedby_mean_of_means.index[-4]],\n",
    "                                     sample_mRNAs_by_meanexpr_and_tumortype[mRNA_tumortype_means_sortedby_mean_of_means.index[0]],\n",
    "                                     sample_mRNAs_by_meanexpr_and_tumortype[mRNA_tumortype_means_sortedby_mean_of_means.index[1]],\n",
    "                                     sample_mRNAs_by_meanexpr_and_tumortype[mRNA_tumortype_means_sortedby_mean_of_means.index[2]],\n",
    "                                     samples_sortedby_tumor_type['Disease']], axis=1)\n",
    "most_least_varied_mRNAs.boxplot(ax=ax, whis='range', showfliers=False)\n",
    "ax.set_title('log((sample expression) + 2) for mRNAs with highest and lowest expression levels, ranked by mean of per-tumor-type means', fontsize=12)\n",
    "ax.set_xlabel('mRNA', fontsize=12)\n",
    "ax.set_ylabel('log((tumor type sample expression) + 2)', fontsize=12)\n",
    "fig.set_size_inches(12, 8.4)\n",
    "fig.savefig('mRNAs-highest-lowest-mean-of-means-expr_boxplot.png')"
   ]
  },
  {
   "cell_type": "markdown",
   "metadata": {},
   "source": [
    "#### Observations:\n",
    "- Generally, difference between the two rankings reflects a difference between degree of variation across tumor types and degree of variation across samples (the entire dataset)\n",
    "- The two rankings are similar but not identical:\n",
    "  - Out of the 25 in each ranking, 22 mRNAs are in both\n",
    "  - The top 3 in both are identical: ACTB|60, EEF1A1|1915, GAPDH|2597\n",
    "  - The mean difference in position between mRNAs in both is small, at -0.1818\n",
    "  - The mean absolute difference is slightly higher, at 1.9091\n",
    "  - This suggests a very slight concentration overall of high values in tumor types with larger sample sizes relative to the distribution/concentration over all samples\n",
    "  - For the 3 in the top 25 by overall mean but not by mean of means:\n",
    "    - The mean difference is -23.67, suggesting a higher concentration of high values in large-sample cancer types\n",
    "      - The mean absolute difference has same magnitude as the mean difference\n",
    "  - For the 3 in the top 25 by mean of means but not by overall mean:\n",
    "    - The mean difference is -16.33, suggesting a somewhat high concentration of high values in small-sample cancer types, though less imbalanced than for the corresponding large-sample high-value concentration for mRNAs only in the top 25 by overall mean\n",
    "      - Similarly, the mean absolute difference has same magnitude as the mean difference"
   ]
  },
  {
   "cell_type": "markdown",
   "metadata": {},
   "source": [
    "#### Questions\n",
    "- How will these results change when restricting the analysis to different sets of cancer types?\n",
    "- How are the two rankings correlated?\n",
    "- What's the formal/mathematical relationship between the mean over all samples, and the mean of means over subsets of the dataset?"
   ]
  },
  {
   "cell_type": "markdown",
   "metadata": {},
   "source": [
    "### Ranking of mRNAs by variation across tumor types"
   ]
  },
  {
   "cell_type": "markdown",
   "metadata": {},
   "source": [
    "#### Using the mean expression of each mRNA per cancer type, and then computing the variance"
   ]
  },
  {
   "cell_type": "code",
   "execution_count": 63,
   "metadata": {
    "collapsed": true
   },
   "outputs": [],
   "source": [
    "# At time of writing, mRNA_samples_by_tumor_type should be appropriately sorted at this point in the notebook,\n",
    "# but just in case...\n",
    "mRNA_samples_by_tumor_type['stdev_of_tumor_type_mean'] = samples_by_tumor_type.mean().std().T\n",
    "mRNA_samples_by_tumor_type.sort_values(by=['stdev_of_tumor_type_mean'], inplace=True)\n",
    "mRNA_samples_by_tumor_type.drop(columns=['stdev_of_tumor_type_mean'], inplace=True)\n",
    "mRNA_samples_sortedby_stdev_of_tumortype_means = mRNA_samples_by_tumor_type\n",
    "top25_mRNAs_by_stdev_of_means = mRNA_samples_by_tumor_type.index[-1:(-1-nranks):-1]"
   ]
  },
  {
   "cell_type": "code",
   "execution_count": 64,
   "metadata": {
    "collapsed": true
   },
   "outputs": [],
   "source": [
    "bottom25_mRNAs_by_stdev_of_means = mRNA_samples_by_tumor_type.index[:nranks]"
   ]
  },
  {
   "cell_type": "markdown",
   "metadata": {},
   "source": [
    "#### Using a one-way ANOVA test and ranking the mRNAs based on their P-values\n",
    "- Most mRNAs have 0 p-values, so I also sorted by F-statistic value: there are still many 0-p-value mRNAs not included"
   ]
  },
  {
   "cell_type": "code",
   "execution_count": 65,
   "metadata": {
    "collapsed": true
   },
   "outputs": [],
   "source": [
    "mRNA_samples_by_tumor_type = samples_by_tumor_type.obj.T\n",
    "mRNA_samples_by_tumor_type.drop(['Disease'], inplace=True)\n",
    "mRNA_1was = mRNA_samples_by_tumor_type.apply(lambda x: stats.f_oneway(*samples_by_tumor_type[x.name].apply(list)), axis=1)\n",
    "mRNA_samples_by_tumor_type['1way_anova_fstat'] = mRNA_1was.map(lambda x: x.statistic)\n",
    "mRNA_samples_by_tumor_type['1way_anova_pval'] = mRNA_1was.map(lambda x: x.pvalue)"
   ]
  },
  {
   "cell_type": "code",
   "execution_count": 67,
   "metadata": {},
   "outputs": [],
   "source": [
    "mRNA_samples_by_tumor_type_groupedby_1wa_pval = mRNA_samples_by_tumor_type.groupby(['1way_anova_pval'])\n",
    "mRNA_samples_groupedby_1wa_pvals = mRNA_samples_by_tumor_type_groupedby_1wa_pval.apply(lambda x: x.sort_values(by=['1way_anova_fstat'], ascending=False))\n",
    "top25_mRNAs_by_1wa_pvals = mRNA_samples_groupedby_1wa_pvals.loc[0].iloc[0:nranks].index"
   ]
  },
  {
   "cell_type": "code",
   "execution_count": 126,
   "metadata": {},
   "outputs": [],
   "source": [
    "bottom25_mRNAs_by_1wa_pvals = mRNA_samples_groupedby_1wa_pvals.iloc[-1:(-1-nranks):-1].apply(lambda mRNA: mRNA.name[1], axis=1).values"
   ]
  },
  {
   "cell_type": "markdown",
   "metadata": {},
   "source": [
    "#### Using a Kruskal-Wallis test and ranking the mRNAs based on their P-values\n",
    "- Most mRNAs have 0 p-values, so I also sorted by F-statistic value: there are still many 0 p-values not included"
   ]
  },
  {
   "cell_type": "code",
   "execution_count": 128,
   "metadata": {
    "collapsed": true
   },
   "outputs": [],
   "source": [
    "mRNA_samples_by_tumor_type = samples_by_tumor_type.obj.T\n",
    "mRNA_samples_by_tumor_type.drop(['Disease'], inplace=True)\n",
    "mRNA_kws = mRNA_samples_by_tumor_type.apply(lambda x: stats.kruskal(*samples_by_tumor_type[x.name].apply(list)), axis=1)\n",
    "mRNA_samples_by_tumor_type['kruskal_wallis_hstat'] = mRNA_kws.map(lambda x: x.statistic)\n",
    "mRNA_samples_by_tumor_type['kruskal_wallis_pval'] = mRNA_kws.map(lambda x: x.pvalue)"
   ]
  },
  {
   "cell_type": "code",
   "execution_count": 129,
   "metadata": {
    "collapsed": true
   },
   "outputs": [],
   "source": [
    "mRNA_samples_by_tumor_type_groupedby_kw_pval = mRNA_samples_by_tumor_type.groupby(['kruskal_wallis_pval'])\n",
    "mRNA_samples_groupedby_kw_pvals = mRNA_samples_by_tumor_type_groupedby_kw_pval.apply(lambda x: x.sort_values(by=['kruskal_wallis_hstat'], ascending=False))\n",
    "top25_mRNAs_by_kw_pvals = mRNA_samples_groupedby_kw_pvals.loc[0].iloc[0:nranks].index"
   ]
  },
  {
   "cell_type": "code",
   "execution_count": 130,
   "metadata": {
    "collapsed": true
   },
   "outputs": [],
   "source": [
    "bottom25_mRNAs_by_kw_pvals = mRNA_samples_groupedby_kw_pvals.iloc[-1:(-1-nranks):-1].apply(lambda mRNA: mRNA.name[1], axis=1).values"
   ]
  },
  {
   "cell_type": "markdown",
   "metadata": {},
   "source": [
    "#### Intersections and their sizes"
   ]
  },
  {
   "cell_type": "code",
   "execution_count": 133,
   "metadata": {
    "collapsed": true
   },
   "outputs": [],
   "source": [
    "top25_mRNAs_mean_stdevs_1wa_intersection = top25_mRNAs_by_stdev_of_means.intersection(top25_mRNAs_by_1wa_pvals)\n",
    "top25_mRNAs_mean_stdevs_kw_intersection = top25_mRNAs_by_stdev_of_means.intersection(top25_mRNAs_by_kw_pvals)\n",
    "top25_mRNAs_1wa_kw_intersection = pd.Index(list(set(top25_mRNAs_by_1wa_pvals).intersection(set(top25_mRNAs_by_kw_pvals))))\n",
    "top25_mRNAs_3way_intersection = top25_mRNAs_by_stdev_of_means.intersection(top25_mRNAs_1wa_kw_intersection)"
   ]
  },
  {
   "cell_type": "code",
   "execution_count": 134,
   "metadata": {},
   "outputs": [
    {
     "name": "stdout",
     "output_type": "stream",
     "text": [
      "Index([], dtype='object')\n",
      "Index([], dtype='object')\n",
      "Index([], dtype='object')\n",
      "Index([], dtype='object')\n"
     ]
    }
   ],
   "source": [
    "print(top25_mRNAs_mean_stdevs_1wa_intersection)\n",
    "print(top25_mRNAs_mean_stdevs_kw_intersection)\n",
    "print(top25_mRNAs_1wa_kw_intersection)\n",
    "print(top25_mRNAs_3way_intersection)"
   ]
  },
  {
   "cell_type": "code",
   "execution_count": 135,
   "metadata": {},
   "outputs": [
    {
     "name": "stdout",
     "output_type": "stream",
     "text": [
      "0\n",
      "0\n",
      "0\n",
      "0\n"
     ]
    }
   ],
   "source": [
    "print(len(top25_mRNAs_mean_stdevs_1wa_intersection))\n",
    "print(len(top25_mRNAs_mean_stdevs_kw_intersection))\n",
    "print(len(top25_mRNAs_1wa_kw_intersection))\n",
    "print(len(top25_mRNAs_3way_intersection))"
   ]
  },
  {
   "cell_type": "markdown",
   "metadata": {},
   "source": [
    "#### Grouped boxplot of per-cancer-type expression for mRNAs with highest and lowest variation in mean expression across tumor types, ranked by stdev of per-cancer-type means"
   ]
  },
  {
   "cell_type": "code",
   "execution_count": 136,
   "metadata": {
    "collapsed": true
   },
   "outputs": [],
   "source": [
    "mRNAs_of_interest = [mRNA_samples_sortedby_stdev_of_tumortype_means.iloc[i].name for i in [-1, -2, -3, 2, 1, 0]]"
   ]
  },
  {
   "cell_type": "code",
   "execution_count": 137,
   "metadata": {
    "collapsed": true
   },
   "outputs": [],
   "source": [
    "exprs_for_boxplot_len = len(samples_sortedby_tumor_type.index) * 6\n",
    "exprs_for_boxplot_idx = pd.Index(range(exprs_for_boxplot_len))"
   ]
  },
  {
   "cell_type": "code",
   "execution_count": 138,
   "metadata": {
    "collapsed": true
   },
   "outputs": [],
   "source": [
    "tumortype_col = pd.concat([samples_sortedby_tumor_type['Disease']] * 6)\n",
    "tumortype_col.index = exprs_for_boxplot_idx"
   ]
  },
  {
   "cell_type": "code",
   "execution_count": 139,
   "metadata": {
    "collapsed": true
   },
   "outputs": [],
   "source": [
    "mRNA_col = pd.Series(mRNAs_of_interest).repeat([len(samples_sortedby_tumor_type.index)] * 6)\n",
    "mRNA_col.index = exprs_for_boxplot_idx"
   ]
  },
  {
   "cell_type": "code",
   "execution_count": 140,
   "metadata": {
    "collapsed": true
   },
   "outputs": [],
   "source": [
    "expr_col = pd.concat([sample_mRNAs_sortedby_tumortype_log[mRNA] for mRNA in mRNAs_of_interest])\n",
    "expr_col.index = exprs_for_boxplot_idx"
   ]
  },
  {
   "cell_type": "code",
   "execution_count": 141,
   "metadata": {
    "collapsed": true
   },
   "outputs": [],
   "source": [
    "mRNA_exprs_long_for_boxplot = pd.concat([tumortype_col, mRNA_col, expr_col], axis=1)\n",
    "mRNA_exprs_long_for_boxplot.rename(columns={ 0: 'mRNA', 1: 'expr' }, inplace=True)"
   ]
  },
  {
   "cell_type": "code",
   "execution_count": null,
   "metadata": {
    "collapsed": true
   },
   "outputs": [],
   "source": [
    "fig, ax = plt.subplots()\n",
    "sns.boxplot(x='Disease', y='expr', hue='mRNA', data=mRNA_exprs_long_for_boxplot, ax=ax)\n",
    "fig = ax.get_figure()\n",
    "fig.set_size_inches(40, 40)\n",
    "ax.set_title('log((sample expression) + 2) for mRNAs with highest and lowest expression variation across cancer types, ranked by stdev of per-tumor-type means')\n",
    "ax.set_xlabel('Cancer Type')\n",
    "ax.set_ylabel('log((sample expression) + 2)')\n",
    "fig.savefig('highest-lowest-tumortype-expr-variation_mRNA-expr_by-stdev-of-means_boxplot.png')"
   ]
  },
  {
   "cell_type": "markdown",
   "metadata": {},
   "source": [
    "#### Grouped boxplot of per-cancer-type expression for mRNAs with highest and lowest variation in mean expression across tumor types, ranked by one-way Anova p-values"
   ]
  },
  {
   "cell_type": "code",
   "execution_count": 143,
   "metadata": {},
   "outputs": [],
   "source": [
    "mRNAs_of_interest = [mRNA_samples_groupedby_1wa_pvals.iloc[i].name[1] for i in [0, 1, 2, -3, -2, -1]]"
   ]
  },
  {
   "cell_type": "code",
   "execution_count": 146,
   "metadata": {
    "collapsed": true
   },
   "outputs": [],
   "source": [
    "exprs_for_boxplot_len = len(samples_sortedby_tumor_type.index) * 6\n",
    "exprs_for_boxplot_idx = pd.Index(range(exprs_for_boxplot_len))"
   ]
  },
  {
   "cell_type": "code",
   "execution_count": 147,
   "metadata": {
    "collapsed": true
   },
   "outputs": [],
   "source": [
    "tumortype_col = pd.concat([samples_sortedby_tumor_type['Disease']] * 6)\n",
    "tumortype_col.index = exprs_for_boxplot_idx"
   ]
  },
  {
   "cell_type": "code",
   "execution_count": 148,
   "metadata": {
    "collapsed": true
   },
   "outputs": [],
   "source": [
    "mRNA_col = pd.Series(mRNAs_of_interest).repeat([len(samples_sortedby_tumor_type.index)] * 6)\n",
    "mRNA_col.index = exprs_for_boxplot_idx"
   ]
  },
  {
   "cell_type": "code",
   "execution_count": 149,
   "metadata": {
    "collapsed": true
   },
   "outputs": [],
   "source": [
    "expr_col = pd.concat([sample_mRNAs_sortedby_tumortype_log[mRNA] for mRNA in mRNAs_of_interest])\n",
    "expr_col.index = exprs_for_boxplot_idx"
   ]
  },
  {
   "cell_type": "code",
   "execution_count": 150,
   "metadata": {
    "collapsed": true
   },
   "outputs": [],
   "source": [
    "mRNA_exprs_long_for_boxplot = pd.concat([tumortype_col, mRNA_col, expr_col], axis=1)\n",
    "mRNA_exprs_long_for_boxplot.rename(columns={ 0: 'mRNA', 1: 'expr' }, inplace=True)"
   ]
  },
  {
   "cell_type": "code",
   "execution_count": null,
   "metadata": {
    "collapsed": true
   },
   "outputs": [],
   "source": [
    "fig, ax = plt.subplots()\n",
    "sns.boxplot(x='Disease', y='expr', hue='mRNA', data=mRNA_exprs_long_for_boxplot, ax=ax)\n",
    "fig = ax.get_figure()\n",
    "fig.set_size_inches(40, 40)\n",
    "ax.set_title('log((sample expression) + 2) for mRNAs with highest and lowest expression variation across cancer types, ranked by one-way ANOVA p-values')\n",
    "ax.set_xlabel('Cancer Type')\n",
    "ax.set_ylabel('log((sample expression) + 2)')\n",
    "fig.savefig('highest-lowest-tumortype-expr-variation_mRNA-expr_by-1wa-pvals_boxplot.png')"
   ]
  },
  {
   "cell_type": "markdown",
   "metadata": {},
   "source": [
    "#### Grouped boxplot of per-cancer-type expression for mRNAs with highest and lowest variation in mean expression across tumor types, ranked by Kruskal-Wallis p-values"
   ]
  },
  {
   "cell_type": "code",
   "execution_count": 151,
   "metadata": {
    "collapsed": true
   },
   "outputs": [],
   "source": [
    "mRNAs_of_interest = [mRNA_samples_groupedby_kw_pvals.iloc[i].name[1] for i in [0, 1, 2, -3, -2, -1]]"
   ]
  },
  {
   "cell_type": "code",
   "execution_count": 152,
   "metadata": {
    "collapsed": true
   },
   "outputs": [],
   "source": [
    "exprs_for_boxplot_len = len(samples_sortedby_tumor_type.index) * 6\n",
    "exprs_for_boxplot_idx = pd.Index(range(exprs_for_boxplot_len))"
   ]
  },
  {
   "cell_type": "code",
   "execution_count": 153,
   "metadata": {
    "collapsed": true
   },
   "outputs": [],
   "source": [
    "tumortype_col = pd.concat([samples_sortedby_tumor_type['Disease']] * 6)\n",
    "tumortype_col.index = exprs_for_boxplot_idx"
   ]
  },
  {
   "cell_type": "code",
   "execution_count": 154,
   "metadata": {
    "collapsed": true
   },
   "outputs": [],
   "source": [
    "mRNA_col = pd.Series(mRNAs_of_interest).repeat([len(samples_sortedby_tumor_type.index)] * 6)\n",
    "mRNA_col.index = exprs_for_boxplot_idx"
   ]
  },
  {
   "cell_type": "code",
   "execution_count": 155,
   "metadata": {
    "collapsed": true
   },
   "outputs": [],
   "source": [
    "expr_col = pd.concat([sample_mRNAs_sortedby_tumortype_log[mRNA] for mRNA in mRNAs_of_interest])\n",
    "expr_col.index = exprs_for_boxplot_idx"
   ]
  },
  {
   "cell_type": "code",
   "execution_count": 156,
   "metadata": {
    "collapsed": true
   },
   "outputs": [],
   "source": [
    "mRNA_exprs_long_for_boxplot = pd.concat([tumortype_col, mRNA_col, expr_col], axis=1)\n",
    "mRNA_exprs_long_for_boxplot.rename(columns={ 0: 'mRNA', 1: 'expr' }, inplace=True)"
   ]
  },
  {
   "cell_type": "code",
   "execution_count": null,
   "metadata": {
    "collapsed": true
   },
   "outputs": [],
   "source": [
    "fig, ax = plt.subplots()\n",
    "sns.boxplot(x='Disease', y='expr', hue='mRNA', data=mRNA_exprs_long_for_boxplot, ax=ax)\n",
    "fig = ax.get_figure()\n",
    "fig.set_size_inches(40, 40)\n",
    "ax.set_title('log((sample expression) + 2) for mRNAs with highest and lowest expression variation across cancer types, ranked by Kruskal-Wallis test p-values')\n",
    "ax.set_xlabel('Cancer Type')\n",
    "ax.set_ylabel('log((sample expression) + 2)')\n",
    "fig.savefig('highest-lowest-tumortype-expr-variation_mRNA-expr_by-kw-pvals_boxplot.png')"
   ]
  },
  {
   "cell_type": "markdown",
   "metadata": {},
   "source": [
    "#### Observations\n",
    "- None of the rankings intersect: the top 25 mRNAs are different in all\n",
    "- The bottom 3 mRNAs are also different in all of them\n",
    "- Ranking by stdev of per-cancer-type means:\n",
    "  - Top 3:\n",
    "    - Most per-cancer-type distributions fall within relatively low and narrow range (log-transformed expression 2 to 4)\n",
    "    - Each is dominated by 1 or 2 cancer types with distributions far outside that range, or a slightly larger # of cancer types with distributions closer to but still outside or on the extremes of that range\n",
    "  - Bottom 3:\n",
    "    - Distributions appear flat at 0 in grouped boxplot with top 3 mRNAs\n",
    "- Ranking by 1-way ANOVA p-values:\n",
    "  - Top 3:\n",
    "    - Most per-cancer-type distributions are more dispersed (relative to top 3 in ranking by stdev of per-cancer-type means) across wider range\n",
    "    - Again, each has 1 or 2 cancer types with distributions far outside that range\n",
    "  - Bottom 3:\n",
    "    - Per-cancer-type distributions across a relatively but not imperceptibly narrow range—narrow relative to within-group variance?\n",
    "      - Why??? Is (between-group variance / within-group variance) higher for the latter, or is there some other reason, e.g. (hard to tell from plot) within-group variance is too small, etc. (e.g. # obs / missing values)?\n",
    "    - Not composed of seemingly zero-expressed mRNAs\n",
    "- Ranking by Kruskal-Wallis p-values:\n",
    "  - Intuitively visible how the top 3 and bottom 3 have low/high p-values under K-W (testing equality of group mean ranks), but unclear, for instance, why they don't also rank similarly under 1-way ANOVA"
   ]
  },
  {
   "cell_type": "markdown",
   "metadata": {},
   "source": [
    "### mRNA expression histograms"
   ]
  },
  {
   "cell_type": "code",
   "execution_count": null,
   "metadata": {
    "collapsed": true
   },
   "outputs": [],
   "source": [
    "mRNA_expression_values_log = sample_mRNAs_sortedby_tumortype_log.values.flatten()\n",
    "fig, ax = plt.subplots()\n",
    "sns.distplot(mRNA_expression_values_log[~np.isnan(mRNA_expression_values_log)], ax=ax)\n",
    "fig = ax.get_figure()\n",
    "fig.set_size_inches(8, 4)\n",
    "ax.set_title('Histogram: log((expression) + 2) for mRNAs across all samples')\n",
    "ax.set_xlabel('log((sample expression) + 2)')\n",
    "fig.savefig('log-expression-all-histogram.png')"
   ]
  },
  {
   "cell_type": "code",
   "execution_count": 157,
   "metadata": {
    "collapsed": true
   },
   "outputs": [],
   "source": [
    "sample_mRNAs_sortedby_tumortype_log['Disease'] = sample_tumor_types_sorted\n",
    "sample_mRNAs_log_groupedby_tumortype = sample_mRNAs_sortedby_tumortype_log.groupby('Disease')"
   ]
  },
  {
   "cell_type": "code",
   "execution_count": null,
   "metadata": {
    "collapsed": true
   },
   "outputs": [],
   "source": [
    "for cancer_type, type_samples in sample_mRNAs_log_groupedby_tumortype:\n",
    "    mRNA_expression_values_log = type_samples.drop(columns=['Disease']).values.flatten()\n",
    "    fig, ax = plt.subplots()\n",
    "    sns.distplot(mRNA_expression_values_log[~np.isnan(mRNA_expression_values_log)], ax=ax)\n",
    "    fig = ax.get_figure()\n",
    "    fig.set_size_inches(8, 4)\n",
    "    ax.set_title('Histogram: log((expression) + 2) for mRNAs in ' + cancer_type + ' samples')\n",
    "    ax.set_xlabel('log((sample expression) + 2)')\n",
    "    fig.savefig('log-expression-' + cancer_type + '-histogram.png')"
   ]
  },
  {
   "cell_type": "markdown",
   "metadata": {},
   "source": [
    "### Identify mRNAs with expression and variation exceeding a certain level\n",
    "- using one or more metrics:\n",
    "    - coefficient of variation\n",
    "    - min. # samples with expression value >= 6 (or other number)\n",
    "- Histogram/heatmap of number of miRNAs as parameter levels are varied / held constant\n",
    "    - Histogram of # of samples (per mRNA) with expression value >= m, with m being e.g. 4 or above\n",
    "        - Set m and min. # samples or percentile (requiring >= m) accordingly\n",
    "    - mRNA-expression quantile heatmap?\n",
    "    - mRNA-nth quantile heatmap? Or\n",
    "    - mRNA-# samples (for chosen m) heatmap?"
   ]
  },
  {
   "cell_type": "markdown",
   "metadata": {},
   "source": [
    "#### Coefficients of variation"
   ]
  },
  {
   "cell_type": "code",
   "execution_count": 156,
   "metadata": {
    "collapsed": true
   },
   "outputs": [],
   "source": [
    "mRNA_meta = pd.DataFrame(None, mRNA_data.index, ['coeff_of_variation'])"
   ]
  },
  {
   "cell_type": "code",
   "execution_count": 157,
   "metadata": {},
   "outputs": [],
   "source": [
    "mRNA_meta['coeff_of_variation'] = stats.variation(sample_mRNAs_sortedby_tumortype.T.values, axis=1, nan_policy='omit')"
   ]
  },
  {
   "cell_type": "code",
   "execution_count": 158,
   "metadata": {},
   "outputs": [
    {
     "data": {
      "text/plain": [
       "223"
      ]
     },
     "execution_count": 158,
     "metadata": {},
     "output_type": "execute_result"
    }
   ],
   "source": [
    "mRNA_meta.coeff_of_variation[mRNA_meta.coeff_of_variation == 0].size"
   ]
  },
  {
   "cell_type": "code",
   "execution_count": 159,
   "metadata": {},
   "outputs": [
    {
     "data": {
      "text/plain": [
       "2"
      ]
     },
     "execution_count": 159,
     "metadata": {},
     "output_type": "execute_result"
    }
   ],
   "source": [
    "mRNA_meta.coeff_of_variation[mRNA_meta.coeff_of_variation < 0].size"
   ]
  },
  {
   "cell_type": "markdown",
   "metadata": {},
   "source": [
    "#### Histogram: coefficient of variation in mRNA expression"
   ]
  },
  {
   "cell_type": "code",
   "execution_count": null,
   "metadata": {},
   "outputs": [],
   "source": [
    "xaxis_max = 5 * m.ceil(mRNA_meta.coeff_of_variation.max() / 5)\n",
    "xaxis_min = 5 * m.ceil(mRNA_meta.coeff_of_variation.min() / 5)\n",
    "histogram(mRNA_meta.coeff_of_variation[~np.isnan(mRNA_meta.coeff_of_variation)], 20, 10, 'Histogram: mRNA coefficient of variation',\n",
    "          'coefficient of variation', '# mRNAs', np.arange(xaxis_min, xaxis_max, 5), kde=False, bins=np.arange(xaxis_min, xaxis_max, 0.5)).savefig('temp.png')\n",
    "save_as('temp.png', 'gs://yfl-mirna/explore/mRNA/plots/mRNA-coeff-of-var_histogram.png')"
   ]
  },
  {
   "cell_type": "markdown",
   "metadata": {},
   "source": [
    "#### Histogram: # of samples (per mRNA) with expression value >= m, m in [4, 6]"
   ]
  },
  {
   "cell_type": "code",
   "execution_count": 161,
   "metadata": {
    "collapsed": true
   },
   "outputs": [],
   "source": [
    "binwidth = 500"
   ]
  },
  {
   "cell_type": "code",
   "execution_count": null,
   "metadata": {},
   "outputs": [],
   "source": [
    "for i in range(4, 7):\n",
    "  colname = 'samples_gte' + str(i) + '_count'\n",
    "  mRNA_meta[colname] = type_1_sample_mRNAs[type_1_sample_mRNAs >= i].count()\n",
    "  sample_count_max = binwidth * m.ceil(mRNA_meta[colname].max() / binwidth)\n",
    "  histogram(mRNA_meta[colname], 10, 10, '# samples per mRNA with expression value >= ' + str(i), '# samples', '# mRNAs', None,\n",
    "            kde=False, bins=range(0, sample_count_max + 1, binwidth)).savefig('temp.png')\n",
    "  save_as('temp.png', 'gs://yfl-mirna/explore/mRNA/plots/mRNA-samples-gte' + str(i) + '_histogram.png')"
   ]
  },
  {
   "cell_type": "markdown",
   "metadata": {},
   "source": [
    "#### Heatmap: coefficient of variation vs. # samples with expression value >= 6"
   ]
  },
  {
   "cell_type": "code",
   "execution_count": 163,
   "metadata": {},
   "outputs": [],
   "source": [
    "mRNA_meta['samples_gte6_count_sup'] =  mRNA_meta.samples_gte6_count.apply(lambda x: binwidth * m.ceil(x / binwidth))\n",
    "mRNA_meta['coeff_of_variation_sup'] = mRNA_meta.coeff_of_variation.apply(lambda x: m.ceil(x))\n",
    "mRNA_meta_crosstab = pd.crosstab(mRNA_meta.samples_gte6_count_sup, mRNA_meta.coeff_of_variation_sup)"
   ]
  },
  {
   "cell_type": "code",
   "execution_count": 169,
   "metadata": {},
   "outputs": [
    {
     "data": {
      "text/plain": [
       "82"
      ]
     },
     "execution_count": 169,
     "metadata": {},
     "output_type": "execute_result"
    }
   ],
   "source": [
    "mRNA_meta['coeff_of_variation_sup'].value_counts().size"
   ]
  },
  {
   "cell_type": "code",
   "execution_count": 170,
   "metadata": {},
   "outputs": [],
   "source": [
    "coeff_of_var_max = mRNA_meta['coeff_of_variation_sup'].max()"
   ]
  },
  {
   "cell_type": "code",
   "execution_count": 171,
   "metadata": {},
   "outputs": [],
   "source": [
    "coeff_of_var_min = mRNA_meta['coeff_of_variation_sup'].min()"
   ]
  },
  {
   "cell_type": "code",
   "execution_count": null,
   "metadata": {},
   "outputs": [],
   "source": [
    "mRNA_meta_crosstab_for_heatmap = pd.DataFrame(mRNA_meta_crosstab, mRNA_meta_crosstab.index, range(mRNA_meta_crosstab.columns.min(), mRNA_meta_crosstab.columns.max() + 1))\n",
    "for i in range(mRNA_meta_crosstab.columns.min(), mRNA_meta_crosstab.columns.max() + 1):\n",
    "  if i not in mRNA_meta_crosstab.columns:\n",
    "    mRNA_meta_crosstab_for_heatmap[i] = 0\n",
    "mRNA_meta_crosstab_for_heatmap.reindex(sorted(mRNA_meta_crosstab_for_heatmap.columns), axis=1)"
   ]
  },
  {
   "cell_type": "code",
   "execution_count": 119,
   "metadata": {},
   "outputs": [
    {
     "data": {
      "text/plain": [
       "RangeIndex(start=-34, stop=90, step=1)"
      ]
     },
     "execution_count": 119,
     "metadata": {},
     "output_type": "execute_result"
    }
   ],
   "source": [
    "mRNA_meta_crosstab_for_heatmap.columns"
   ]
  },
  {
   "cell_type": "code",
   "execution_count": 123,
   "metadata": {},
   "outputs": [
    {
     "data": {
      "text/plain": [
       "RangeIndex(start=-34, stop=90, step=1)"
      ]
     },
     "execution_count": 123,
     "metadata": {},
     "output_type": "execute_result"
    }
   ],
   "source": [
    "mRNA_meta_crosstab_for_heatmap.columns"
   ]
  },
  {
   "cell_type": "code",
   "execution_count": null,
   "metadata": {},
   "outputs": [],
   "source": [
    "fig = heatmap(mRNA_meta_crosstab_for_heatmap.applymap(lambda x: 1000 if x > 1000 else x), '# mRNAs (capped at 1000) with: # samples with value >= 6 vs. coefficient of variation', \n",
    "              'coefficient of variation', '# samples with value >= 6', range(coeff_of_var_max - coeff_of_var_min + 1), range(1, mRNA_meta_crosstab.index.size + 1),\n",
    "              mRNA_meta_crosstab_for_heatmap.columns, mRNA_meta_crosstab.index, 50, 10, 'cubehelix_r')\n",
    "fig.savefig('temp.png')\n",
    "save_as('temp.png', 'gs://yfl-mirna/explore/mRNA/plots/mRNA-samples-gte6_vs_coeff-of-var_heatmap.png')"
   ]
  },
  {
   "cell_type": "markdown",
   "metadata": {},
   "source": [
    "### Pie-in-the-sky to-dos:\n",
    "- Pairwise t-tests and Tukey's tests"
   ]
  },
  {
   "cell_type": "markdown",
   "metadata": {},
   "source": [
    "### Test"
   ]
  },
  {
   "cell_type": "code",
   "execution_count": 127,
   "metadata": {},
   "outputs": [
    {
     "data": {
      "text/plain": [
       "[(1, 4), (2, 5), (3, 6)]"
      ]
     },
     "execution_count": 127,
     "metadata": {},
     "output_type": "execute_result"
    }
   ],
   "source": [
    "x = [1, 2, 3]\n",
    "y = [4, 5, 6]\n",
    "list(zip(x, y))"
   ]
  },
  {
   "cell_type": "code",
   "execution_count": 182,
   "metadata": {
    "collapsed": true
   },
   "outputs": [],
   "source": [
    "np.random.seed(1234321)\n",
    "x2n=np.random.randn(500,2)\n",
    "y2n=np.random.randn(500,2)"
   ]
  },
  {
   "cell_type": "code",
   "execution_count": 183,
   "metadata": {
    "collapsed": true
   },
   "outputs": [],
   "source": [
    "for idxs in list(zip(np.random.randint(300, size=12), np.random.randint(2, size=12))):\n",
    "    x2n[idxs[0]][idxs[1]] = np.nan"
   ]
  },
  {
   "cell_type": "code",
   "execution_count": 184,
   "metadata": {
    "collapsed": true
   },
   "outputs": [],
   "source": [
    "for idxs in list(zip(np.random.randint(300, size=12), np.random.randint(2, size=12))):\n",
    "    y2n[idxs[0]][idxs[1]] = np.nan"
   ]
  },
  {
   "cell_type": "code",
   "execution_count": 186,
   "metadata": {
    "collapsed": true
   },
   "outputs": [],
   "source": [
    "x2n_ma = np.ma.array(x2n, mask=np.isnan(x2n))\n",
    "y2n_ma = np.ma.array(y2n, mask=np.isnan(y2n))"
   ]
  },
  {
   "cell_type": "code",
   "execution_count": 202,
   "metadata": {
    "collapsed": true
   },
   "outputs": [],
   "source": [
    "test = np.random.randn(5, 2)"
   ]
  },
  {
   "cell_type": "code",
   "execution_count": 204,
   "metadata": {
    "collapsed": true
   },
   "outputs": [],
   "source": [
    "test[0][1] = np.nan\n",
    "test[3][0] = np.nan"
   ]
  },
  {
   "cell_type": "code",
   "execution_count": 211,
   "metadata": {},
   "outputs": [
    {
     "data": {
      "text/plain": [
       "array([[-1.54597768,         nan],\n",
       "       [-0.11503133,  0.61305353],\n",
       "       [-1.19194079,  0.82848454],\n",
       "       [        nan,  0.84074474],\n",
       "       [ 1.39147797, -1.8660572 ]])"
      ]
     },
     "execution_count": 211,
     "metadata": {},
     "output_type": "execute_result"
    }
   ],
   "source": [
    "test"
   ]
  },
  {
   "cell_type": "code",
   "execution_count": 212,
   "metadata": {},
   "outputs": [
    {
     "data": {
      "text/plain": [
       "array([[ True, False],\n",
       "       [ True,  True],\n",
       "       [ True,  True],\n",
       "       [False,  True],\n",
       "       [ True,  True]])"
      ]
     },
     "execution_count": 212,
     "metadata": {},
     "output_type": "execute_result"
    }
   ],
   "source": [
    "~np.isnan(test)"
   ]
  },
  {
   "cell_type": "code",
   "execution_count": 252,
   "metadata": {
    "collapsed": true
   },
   "outputs": [],
   "source": [
    "df = pd.DataFrame([[1, 0.3], [0.5, np.nan]])\n",
    "# ma = pd.DataFrame([[1, 1], [1, 1]])\n",
    "# ma.mask(df < 1, np.nan)"
   ]
  },
  {
   "cell_type": "code",
   "execution_count": 253,
   "metadata": {},
   "outputs": [
    {
     "data": {
      "text/html": [
       "<div>\n",
       "<style scoped>\n",
       "    .dataframe tbody tr th:only-of-type {\n",
       "        vertical-align: middle;\n",
       "    }\n",
       "\n",
       "    .dataframe tbody tr th {\n",
       "        vertical-align: top;\n",
       "    }\n",
       "\n",
       "    .dataframe thead th {\n",
       "        text-align: right;\n",
       "    }\n",
       "</style>\n",
       "<table border=\"1\" class=\"dataframe\">\n",
       "  <thead>\n",
       "    <tr style=\"text-align: right;\">\n",
       "      <th></th>\n",
       "      <th>0</th>\n",
       "      <th>1</th>\n",
       "    </tr>\n",
       "  </thead>\n",
       "  <tbody>\n",
       "    <tr>\n",
       "      <th>0</th>\n",
       "      <td>False</td>\n",
       "      <td>True</td>\n",
       "    </tr>\n",
       "    <tr>\n",
       "      <th>1</th>\n",
       "      <td>True</td>\n",
       "      <td>False</td>\n",
       "    </tr>\n",
       "  </tbody>\n",
       "</table>\n",
       "</div>"
      ],
      "text/plain": [
       "       0      1\n",
       "0  False   True\n",
       "1   True  False"
      ]
     },
     "execution_count": 253,
     "metadata": {},
     "output_type": "execute_result"
    }
   ],
   "source": [
    "df < 1"
   ]
  },
  {
   "cell_type": "code",
   "execution_count": 247,
   "metadata": {},
   "outputs": [
    {
     "data": {
      "text/html": [
       "<div>\n",
       "<style scoped>\n",
       "    .dataframe tbody tr th:only-of-type {\n",
       "        vertical-align: middle;\n",
       "    }\n",
       "\n",
       "    .dataframe tbody tr th {\n",
       "        vertical-align: top;\n",
       "    }\n",
       "\n",
       "    .dataframe thead th {\n",
       "        text-align: right;\n",
       "    }\n",
       "</style>\n",
       "<table border=\"1\" class=\"dataframe\">\n",
       "  <thead>\n",
       "    <tr style=\"text-align: right;\">\n",
       "      <th></th>\n",
       "      <th>0</th>\n",
       "      <th>1</th>\n",
       "    </tr>\n",
       "  </thead>\n",
       "  <tbody>\n",
       "    <tr>\n",
       "      <th>0</th>\n",
       "      <td>True</td>\n",
       "      <td>True</td>\n",
       "    </tr>\n",
       "    <tr>\n",
       "      <th>1</th>\n",
       "      <td>False</td>\n",
       "      <td>False</td>\n",
       "    </tr>\n",
       "  </tbody>\n",
       "</table>\n",
       "</div>"
      ],
      "text/plain": [
       "       0      1\n",
       "0   True   True\n",
       "1  False  False"
      ]
     },
     "execution_count": 247,
     "metadata": {},
     "output_type": "execute_result"
    }
   ],
   "source": [
    "~df.T.isna()"
   ]
  },
  {
   "cell_type": "code",
   "execution_count": 187,
   "metadata": {},
   "outputs": [
    {
     "data": {
      "text/plain": [
       "SpearmanrResult(correlation=0.00813648338003592, pvalue=masked_array(data=0.79959574,\n",
       "             mask=False,\n",
       "       fill_value=1e+20))"
      ]
     },
     "execution_count": 187,
     "metadata": {},
     "output_type": "execute_result"
    }
   ],
   "source": [
    "stats.mstats.spearmanr(x2n_ma, y2n_ma)"
   ]
  },
  {
   "cell_type": "code",
   "execution_count": 227,
   "metadata": {
    "collapsed": true
   },
   "outputs": [],
   "source": [
    "test1 = np.array([1, np.nan, np.nan])\n",
    "test1_ma = np.ma.array(test1, mask=np.isnan(test1))\n",
    "test2 = np.array([np.nan, 1, 1])\n",
    "test2_ma = np.ma.array(test2, mask=np.isnan(test2))"
   ]
  },
  {
   "cell_type": "code",
   "execution_count": 229,
   "metadata": {},
   "outputs": [
    {
     "ename": "ValueError",
     "evalue": "The input must have at least 3 entries!",
     "output_type": "error",
     "traceback": [
      "\u001b[0;31m---------------------------------------------------------------------------\u001b[0m",
      "\u001b[0;31mValueError\u001b[0m                                Traceback (most recent call last)",
      "\u001b[0;32m<ipython-input-229-44b508f5cef7>\u001b[0m in \u001b[0;36m<module>\u001b[0;34m()\u001b[0m\n\u001b[0;32m----> 1\u001b[0;31m \u001b[0mstats\u001b[0m\u001b[0;34m.\u001b[0m\u001b[0mmstats\u001b[0m\u001b[0;34m.\u001b[0m\u001b[0mspearmanr\u001b[0m\u001b[0;34m(\u001b[0m\u001b[0mtest1_ma\u001b[0m\u001b[0;34m,\u001b[0m \u001b[0mtest2_ma\u001b[0m\u001b[0;34m)\u001b[0m\u001b[0;34m\u001b[0m\u001b[0m\n\u001b[0m",
      "\u001b[0;32m/anaconda3/lib/python3.6/site-packages/scipy/stats/mstats_basic.py\u001b[0m in \u001b[0;36mspearmanr\u001b[0;34m(x, y, use_ties)\u001b[0m\n\u001b[1;32m    457\u001b[0m     \u001b[0mdf\u001b[0m \u001b[0;34m=\u001b[0m \u001b[0mn\u001b[0m\u001b[0;34m-\u001b[0m\u001b[0;36m2\u001b[0m\u001b[0;34m\u001b[0m\u001b[0m\n\u001b[1;32m    458\u001b[0m     \u001b[0;32mif\u001b[0m \u001b[0mdf\u001b[0m \u001b[0;34m<\u001b[0m \u001b[0;36m0\u001b[0m\u001b[0;34m:\u001b[0m\u001b[0;34m\u001b[0m\u001b[0m\n\u001b[0;32m--> 459\u001b[0;31m         \u001b[0;32mraise\u001b[0m \u001b[0mValueError\u001b[0m\u001b[0;34m(\u001b[0m\u001b[0;34m\"The input must have at least 3 entries!\"\u001b[0m\u001b[0;34m)\u001b[0m\u001b[0;34m\u001b[0m\u001b[0m\n\u001b[0m\u001b[1;32m    460\u001b[0m \u001b[0;34m\u001b[0m\u001b[0m\n\u001b[1;32m    461\u001b[0m     \u001b[0;31m# Gets the ranks and rank differences\u001b[0m\u001b[0;34m\u001b[0m\u001b[0;34m\u001b[0m\u001b[0m\n",
      "\u001b[0;31mValueError\u001b[0m: The input must have at least 3 entries!"
     ]
    }
   ],
   "source": [
    "stats.mstats.spearmanr(test1_ma, test2_ma)"
   ]
  },
  {
   "cell_type": "code",
   "execution_count": 231,
   "metadata": {},
   "outputs": [
    {
     "data": {
      "text/plain": [
       "nan"
      ]
     },
     "execution_count": 231,
     "metadata": {},
     "output_type": "execute_result"
    }
   ],
   "source": [
    "test1 = pd.Series([1, np.nan, np.nan])\n",
    "test2 = pd.Series([np.nan, 1, 1])\n",
    "test1.corr(test2)"
   ]
  },
  {
   "cell_type": "code",
   "execution_count": null,
   "metadata": {
    "collapsed": true
   },
   "outputs": [],
   "source": [
    "mRNA_expressions = type_1_sample_mirtars.loc[:, sample_mRNAs.columns].values.T\n",
    "miRNA_expressions = type_1_sample_mirtars.loc[:, sample_miRNAs.columns].values.T\n",
    "mRNA_expressions_masked = np.ma.array(mRNA_expressions, mask=np.isnan(mRNA_expressions))\n",
    "miRNA_expressions_masked = np.ma.array(miRNA_expressions, mask=np.isnan(miRNA_expressions))"
   ]
  },
  {
   "cell_type": "code",
   "execution_count": null,
   "metadata": {
    "collapsed": true
   },
   "outputs": [],
   "source": [
    "mirtar_corrs = np.ma.corrcoef(mRNA_expressions_masked, miRNA_expressions_masked, allow_masked=True)"
   ]
  }
 ],
 "metadata": {
  "kernelspec": {
   "display_name": "Python 3",
   "language": "python",
   "name": "python3"
  },
  "language_info": {
   "codemirror_mode": {
    "name": "ipython",
    "version": 3
   },
   "file_extension": ".py",
   "mimetype": "text/x-python",
   "name": "python",
   "nbconvert_exporter": "python",
   "pygments_lexer": "ipython3",
   "version": "3.5.5"
  }
 },
 "nbformat": 4,
 "nbformat_minor": 2
}
