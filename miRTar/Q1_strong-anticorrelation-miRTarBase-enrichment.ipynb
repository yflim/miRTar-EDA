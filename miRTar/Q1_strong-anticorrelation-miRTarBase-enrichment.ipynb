{
 "cells": [
  {
   "cell_type": "markdown",
   "metadata": {},
   "source": [
    "# Question 1: Only a small proportion of genuine miRNA-target interactions have been experimentally identified; at the same time, miRTarBase could also contain some proportion of false positives. Does our data reflect these observations? How and to what extent do miRTarBase interactions overlap with our data?"
   ]
  },
  {
   "cell_type": "markdown",
   "metadata": {},
   "source": [
    "### Or: What’s the relationship between miRTarBase-reported interactions (of both regular and strong support type), and magnitudes of within- and pan-cancer correlations in the dataset?"
   ]
  },
  {
   "cell_type": "code",
   "execution_count": 1,
   "metadata": {},
   "outputs": [],
   "source": [
    "import csv\n",
    "import datetime\n",
    "import datalab.bigquery as bq\n",
    "import google.datalab.storage as storage\n",
    "import io\n",
    "import logging\n",
    "import math as m\n",
    "import matplotlib\n",
    "import matplotlib.pyplot as plt\n",
    "import numpy as np\n",
    "import pandas as pd\n",
    "import re\n",
    "import scipy.stats as stats\n",
    "import seaborn as sns\n",
    "import statsmodels.sandbox.stats.multicomp as multicomp\n",
    "import time"
   ]
  },
  {
   "cell_type": "markdown",
   "metadata": {},
   "source": [
    "## Function definitions"
   ]
  },
  {
   "cell_type": "markdown",
   "metadata": {},
   "source": [
    "#### Utils"
   ]
  },
  {
   "cell_type": "code",
   "execution_count": 2,
   "metadata": {},
   "outputs": [],
   "source": [
    "def read_file(bucket, filepath, **kwargs):\n",
    "  uri = bucket.object(filepath).uri\n",
    "  get_ipython().run_line_magic('gcs', 'read --object ' + uri + ' --variable csv_data')\n",
    "  return pd.read_csv(io.BytesIO(csv_data), **kwargs)"
   ]
  },
  {
   "cell_type": "code",
   "execution_count": 3,
   "metadata": {},
   "outputs": [],
   "source": [
    "def write_df_to_csv(df, index_label, csv_filepath):\n",
    "  df.to_csv('temp.csv', index_label = index_label)\n",
    "  !gsutil cp 'temp.csv' $csv_filepath"
   ]
  },
  {
   "cell_type": "code",
   "execution_count": 4,
   "metadata": {},
   "outputs": [],
   "source": [
    "def write_series_to_csv(series, index_label, csv_filepath):\n",
    "  series.to_csv('temp.csv', index_label = index_label)\n",
    "  !gsutil cp 'temp.csv' $csv_filepath"
   ]
  },
  {
   "cell_type": "code",
   "execution_count": 5,
   "metadata": {},
   "outputs": [],
   "source": [
    "def get_corrs_df(bucket, filepath, index_col):\n",
    "  df = read_file(bucket, filepath)\n",
    "  df.set_index(index_col, inplace=True)\n",
    "  return df"
   ]
  },
  {
   "cell_type": "markdown",
   "metadata": {},
   "source": [
    "#### Analysis"
   ]
  },
  {
   "cell_type": "code",
   "execution_count": 6,
   "metadata": {},
   "outputs": [],
   "source": [
    "def get_rank_indices(df, ranks):\n",
    "  df_flattened = df.values.flatten()\n",
    "  df_flattened_argsorted = np.argsort(df_flattened)\n",
    "  df_flattened_sorted_nan_idxs = np.where(np.isnan(np.sort(df_flattened)))[0]\n",
    "  if df_flattened_sorted_nan_idxs.size > 0:\n",
    "    df_flattened_argsorted = df_flattened_argsorted[:df_flattened_sorted_nan_idxs[0]]\n",
    "  return zip(map(lambda i: df.index[df_flattened_argsorted[i] / df.shape[1]], ranks), map(lambda i: df.columns[df_flattened_argsorted[i] % df.shape[1]], ranks))"
   ]
  },
  {
   "cell_type": "markdown",
   "metadata": {},
   "source": [
    "## Data: Preliminaries"
   ]
  },
  {
   "cell_type": "code",
   "execution_count": 7,
   "metadata": {},
   "outputs": [],
   "source": [
    "bucket = storage.Bucket('yfl-mirna')"
   ]
  },
  {
   "cell_type": "markdown",
   "metadata": {},
   "source": [
    "### Correlation data"
   ]
  },
  {
   "cell_type": "markdown",
   "metadata": {},
   "source": [
    "#### Across all samples"
   ]
  },
  {
   "cell_type": "code",
   "execution_count": 8,
   "metadata": {},
   "outputs": [],
   "source": [
    "miRNAmRNA_corrs = read_file(bucket, 'explore/miRTar/pearson-corrs/data/mirtar-corrs.csv')\n",
    "miRNAmRNA_corrs.set_index('miRNA', inplace=True)\n",
    "miRNAmRNA_corrs_np = miRNAmRNA_corrs.values"
   ]
  },
  {
   "cell_type": "code",
   "execution_count": 9,
   "metadata": {},
   "outputs": [],
   "source": [
    "miRNAmRNA_log_corrs = read_file(bucket, 'explore/miRTar/pearson-corrs/data/mirtar-log-corrs.csv')\n",
    "miRNAmRNA_log_corrs.set_index('miRNA', inplace=True)\n",
    "miRNAmRNA_log_corrs_np = miRNAmRNA_log_corrs.values"
   ]
  },
  {
   "cell_type": "code",
   "execution_count": 10,
   "metadata": {},
   "outputs": [],
   "source": [
    "miRNAmRNA_spearman_corrs = read_file(bucket, 'explore/miRTar/spearman-corrs/data/mirtar-spearman-corrs.csv')\n",
    "miRNAmRNA_spearman_corrs.set_index('miRNA', inplace=True)\n",
    "miRNAmRNA_spearman_corrs_np = miRNAmRNA_spearman_corrs.values"
   ]
  },
  {
   "cell_type": "markdown",
   "metadata": {},
   "source": [
    "### Sample metadata"
   ]
  },
  {
   "cell_type": "code",
   "execution_count": 11,
   "metadata": {},
   "outputs": [],
   "source": [
    "sample_metadata = read_file(bucket, 'data/sample/PanCanAtlas_miRNA_sample_information_list.txt', delimiter='\\t')"
   ]
  },
  {
   "cell_type": "code",
   "execution_count": 12,
   "metadata": {},
   "outputs": [],
   "source": [
    "sample_metadata.rename(index=str, columns={'id': 'sample'}, inplace=True)\n",
    "sample_metadata.set_index('sample', inplace=True)\n",
    "sample_metadata.index = sample_metadata.index.map(lambda x: '-'.join(x.split('-')[0:4]))\n",
    "sample_metadata.reset_index(inplace=True)\n",
    "sample_metadata.drop_duplicates(subset='sample', keep='first', inplace=True)\n",
    "sample_metadata.set_index('sample', inplace=True)"
   ]
  },
  {
   "cell_type": "markdown",
   "metadata": {},
   "source": [
    "### Sample miRNA and mRNA expressions with cancer type"
   ]
  },
  {
   "cell_type": "code",
   "execution_count": 13,
   "metadata": {},
   "outputs": [],
   "source": [
    "type1_sample_disease_mirtars = read_file(bucket, 'data/miRTar/type1-sample_disease_miRNAmRNA-exprs.csv')"
   ]
  },
  {
   "cell_type": "code",
   "execution_count": 14,
   "metadata": {},
   "outputs": [],
   "source": [
    "type1_sample_disease_mirtars.set_index('sample', inplace=True)"
   ]
  },
  {
   "cell_type": "code",
   "execution_count": 15,
   "metadata": {},
   "outputs": [],
   "source": [
    "cancer_types_and_counts = type1_sample_disease_mirtars['Disease'].value_counts().sort_values()\n",
    "cancer_types_and_counts_with_pancan = cancer_types_and_counts.append(pd.Series([type1_sample_disease_mirtars.shape[0]], ['PAN']))\n",
    "cancer_types = cancer_types_and_counts.index\n",
    "cancer_types_list = cancer_types_and_counts_with_pancan.index"
   ]
  },
  {
   "cell_type": "code",
   "execution_count": 16,
   "metadata": {},
   "outputs": [
    {
     "data": {
      "text/plain": [
       "CHOL      36\n",
       "DLBC      47\n",
       "UCS       56\n",
       "KICH      65\n",
       "ACC       78\n",
       "UVM       80\n",
       "MESO      87\n",
       "SKCM      97\n",
       "THYM     120\n",
       "TGCT     149\n",
       "READ     152\n",
       "PAAD     177\n",
       "PCPG     178\n",
       "ESCA     181\n",
       "SARC     254\n",
       "KIRP     285\n",
       "OV       301\n",
       "CESC     303\n",
       "LIHC     364\n",
       "BLCA     405\n",
       "STAD     409\n",
       "COAD     421\n",
       "LUSC     464\n",
       "PRAD     490\n",
       "KIRC     498\n",
       "THCA     500\n",
       "LUAD     505\n",
       "LGG      510\n",
       "HNSC     511\n",
       "UCEC     521\n",
       "BRCA    1066\n",
       "Name: Disease, dtype: int64"
      ]
     },
     "execution_count": 16,
     "metadata": {},
     "output_type": "execute_result"
    }
   ],
   "source": [
    "cancer_types_and_counts"
   ]
  },
  {
   "cell_type": "markdown",
   "metadata": {},
   "source": [
    "### miRNA-mRNA miRTarBase masks"
   ]
  },
  {
   "cell_type": "code",
   "execution_count": 17,
   "metadata": {},
   "outputs": [],
   "source": [
    "miRNAmRNA_pancan_corrs_in_mirtarbase_mask = read_file(bucket, 'data/miRTar/miRNAmRNA-corrs-pancan_miRTarBase_mask.csv')\n",
    "miRNAmRNA_pancan_corrs_in_mirtarbase_mask.set_index('miRNA', inplace=True)"
   ]
  },
  {
   "cell_type": "code",
   "execution_count": 18,
   "metadata": {},
   "outputs": [],
   "source": [
    "miRNAmRNA_pancan_corrs_mirtarbase_strong_mask = read_file(bucket, 'data/miRTar/miRNAmRNA-corrs-pancan_miRTarBase-strong_mask.csv')\n",
    "miRNAmRNA_pancan_corrs_mirtarbase_strong_mask.set_index('miRNA', inplace=True)"
   ]
  },
  {
   "cell_type": "code",
   "execution_count": 19,
   "metadata": {},
   "outputs": [],
   "source": [
    "miRNAmRNAs_in_mirtarbase_mask = read_file(bucket, 'data/miRTar/miRNAmRNA-corrs-full_miRTarBase_mask.csv')\n",
    "miRNAmRNAs_in_mirtarbase_mask.set_index('miRNA', inplace=True)"
   ]
  },
  {
   "cell_type": "code",
   "execution_count": 20,
   "metadata": {},
   "outputs": [],
   "source": [
    "miRNAmRNAs_mirtarbase_strong_mask = read_file(bucket, 'data/miRTar/miRNAmRNA-corrs-full_miRTarBase-strong_mask.csv')\n",
    "miRNAmRNAs_mirtarbase_strong_mask.set_index('miRNA', inplace=True)"
   ]
  },
  {
   "cell_type": "code",
   "execution_count": 21,
   "metadata": {},
   "outputs": [],
   "source": [
    "all_miRNAs = miRNAmRNAs_in_mirtarbase_mask.index\n",
    "all_mRNAs = miRNAmRNAs_in_mirtarbase_mask.columns"
   ]
  },
  {
   "cell_type": "code",
   "execution_count": 22,
   "metadata": {},
   "outputs": [
    {
     "data": {
      "text/plain": [
       "0.011448552987767474"
      ]
     },
     "execution_count": 22,
     "metadata": {},
     "output_type": "execute_result"
    }
   ],
   "source": [
    "# The number of miRTarBase interactions as a % of all possible miRNA-mRNA pairs\n",
    "miRNAmRNAs_in_mirtarbase_mask.sum().sum() * 1.0 / miRNAmRNA_spearman_corrs.size"
   ]
  },
  {
   "cell_type": "markdown",
   "metadata": {},
   "source": [
    "## Use hypergeometric test to test for enrichment of miRTarBase relationships in miRNA-mRNA pairs with top n anticorrelations: n = 10, 50, 100, 250, 500, 750, 1000, 2000"
   ]
  },
  {
   "cell_type": "markdown",
   "metadata": {},
   "source": [
    "### Definitions"
   ]
  },
  {
   "cell_type": "code",
   "execution_count": 24,
   "metadata": {},
   "outputs": [],
   "source": [
    "hypergeom_test_ns = [10, 50, 100, 250, 500, 750, 1000, 2000]"
   ]
  },
  {
   "cell_type": "code",
   "execution_count": 25,
   "metadata": {},
   "outputs": [],
   "source": [
    "hypergeom_test_n_strs = map(str, hypergeom_test_ns)"
   ]
  },
  {
   "cell_type": "code",
   "execution_count": 26,
   "metadata": {},
   "outputs": [],
   "source": [
    "miRNAmRNA_corrs_nonnull = ~miRNAmRNA_corrs.isnull()"
   ]
  },
  {
   "cell_type": "code",
   "execution_count": 27,
   "metadata": {},
   "outputs": [
    {
     "data": {
      "text/plain": [
       "True"
      ]
     },
     "execution_count": 27,
     "metadata": {},
     "output_type": "execute_result"
    }
   ],
   "source": [
    "# even though all mirtar_corrs (computed on type-1 samples only) happen to be non-null\n",
    "N = miRNAmRNA_corrs_nonnull.sum().sum()\n",
    "N == miRNAmRNA_corrs.size"
   ]
  },
  {
   "cell_type": "code",
   "execution_count": 28,
   "metadata": {},
   "outputs": [],
   "source": [
    "def get_ranks_intersection_counts(data, mask, rank_ns):\n",
    "  return map(lambda n: sum(i == True for i in map(lambda idx: mask.loc[idx[0], idx[1]], get_rank_indices(data, list(range(n))))), rank_ns)"
   ]
  },
  {
   "cell_type": "code",
   "execution_count": 29,
   "metadata": {},
   "outputs": [],
   "source": [
    "def get_top_n_miRNAs(data, miRNAs, n):\n",
    "  miRNA_mask = pd.Series(None, miRNAs)\n",
    "  miRNA_mask[pd.Series(map(lambda idx: idx[0], get_rank_indices(data, list(range(n))))).unique()] = True\n",
    "  return miRNA_mask"
   ]
  },
  {
   "cell_type": "code",
   "execution_count": 30,
   "metadata": {},
   "outputs": [],
   "source": [
    "def get_top_n_intersection_miRNAs_mask(data, mask, n):\n",
    "  miRNA_mask = pd.Series(None, mask.index)\n",
    "  miRNA_mask[[mir for mir in np.unique(np.array(map(lambda idx: idx[0] if mask.loc[idx[0], idx[1]] else None, get_rank_indices(data, list(range(n)))))) if mir is not None]] = True\n",
    "  return miRNA_mask"
   ]
  },
  {
   "cell_type": "code",
   "execution_count": 31,
   "metadata": {},
   "outputs": [],
   "source": [
    "def bonferroni_adj(pvals):\n",
    "  return multicomp.multipletests(pvals, method='bonferroni')[1]"
   ]
  },
  {
   "cell_type": "code",
   "execution_count": 32,
   "metadata": {},
   "outputs": [],
   "source": [
    "def benjaminihochberg(pvals):\n",
    "  return multicomp.multipletests(pvals, method='fdr_bh')[1]"
   ]
  },
  {
   "cell_type": "code",
   "execution_count": 33,
   "metadata": {},
   "outputs": [],
   "source": [
    "def benjaminihochberg_2stage(pvals):\n",
    "  return multicomp.multipletests(pvals, method='fdr_tsbh')[1]"
   ]
  },
  {
   "cell_type": "markdown",
   "metadata": {},
   "source": [
    "### All miRTarBase relationships"
   ]
  },
  {
   "cell_type": "markdown",
   "metadata": {},
   "source": [
    "#### Pan-cancer (implicitly relying on all N miRNA-mRNA pairs having non-null correlations)"
   ]
  },
  {
   "cell_type": "code",
   "execution_count": 34,
   "metadata": {},
   "outputs": [],
   "source": [
    "mirtars_nonnull_count = (miRNAmRNA_corrs_nonnull & miRNAmRNA_pancan_corrs_in_mirtarbase_mask).sum().sum()"
   ]
  },
  {
   "cell_type": "code",
   "execution_count": 35,
   "metadata": {},
   "outputs": [],
   "source": [
    "hypergeom_test_n_rvs = map(lambda n: stats.hypergeom(N, mirtars_nonnull_count, n), hypergeom_test_ns)"
   ]
  },
  {
   "cell_type": "code",
   "execution_count": 36,
   "metadata": {},
   "outputs": [],
   "source": [
    "cancer_type_top_n_log_corrs_mirtarbase_counts = pd.DataFrame(None, hypergeom_test_n_strs, cancer_types_list)\n",
    "cancer_type_top_n_log_corrs_mirtarbase_pvals = pd.DataFrame(None, hypergeom_test_n_strs, cancer_types_list)"
   ]
  },
  {
   "cell_type": "code",
   "execution_count": 37,
   "metadata": {},
   "outputs": [],
   "source": [
    "cancer_type_top_n_log_corrs_mirtarbase_counts['PAN'] = get_ranks_intersection_counts(miRNAmRNA_log_corrs, miRNAmRNA_pancan_corrs_in_mirtarbase_mask, hypergeom_test_ns)\n",
    "cancer_type_top_n_log_corrs_mirtarbase_pvals['PAN'] = map(lambda i: 1 - hypergeom_test_n_rvs[i].cdf([cancer_type_top_n_log_corrs_mirtarbase_counts['PAN'][i]])[0],\n",
    "                                                          range(len(hypergeom_test_ns)))"
   ]
  },
  {
   "cell_type": "code",
   "execution_count": 38,
   "metadata": {},
   "outputs": [],
   "source": [
    "cancer_type_top_n_log_corrs_mirtarbase_counts_log2OE = pd.DataFrame(None, hypergeom_test_n_strs, cancer_types_list)\n",
    "cancer_type_top_n_log_corrs_mirtarbase_counts_log2OE['PAN'] = cancer_type_top_n_log_corrs_mirtarbase_counts['PAN'] / map(lambda n: n * 1.0 * mirtars_nonnull_count / N, hypergeom_test_ns)\n",
    "cancer_type_top_n_log_corrs_mirtarbase_counts_log2OE['PAN'] = cancer_type_top_n_log_corrs_mirtarbase_counts_log2OE['PAN'].apply(lambda x: m.log(x + 1, 2))"
   ]
  },
  {
   "cell_type": "code",
   "execution_count": 39,
   "metadata": {},
   "outputs": [],
   "source": [
    "cancer_type_top1000_log_corrs_mtb_miRNAs = pd.DataFrame(None, cancer_types_list, miRNAmRNA_log_corrs.index)\n",
    "cancer_type_top1000_log_corrs_mtb_miRNAs.loc['PAN'] = get_top_n_intersection_miRNAs_mask(miRNAmRNA_log_corrs, miRNAmRNAs_in_mirtarbase_mask, 1000)"
   ]
  },
  {
   "cell_type": "code",
   "execution_count": 41,
   "metadata": {},
   "outputs": [],
   "source": [
    "cancer_type_top1000_log_corrs_miRNAs = pd.DataFrame(None, cancer_types_list, miRNAmRNA_log_corrs.index)\n",
    "cancer_type_top1000_log_corrs_miRNAs.loc['PAN'] = get_top_n_miRNAs(miRNAmRNA_log_corrs, miRNAmRNA_log_corrs.index, 1000)"
   ]
  },
  {
   "cell_type": "code",
   "execution_count": null,
   "metadata": {},
   "outputs": [],
   "source": [
    "cancer_type_top_n_spearman_corrs_mirtarbase_counts = pd.DataFrame(None, hypergeom_test_n_strs, cancer_types_list)\n",
    "cancer_type_top_n_spearman_corrs_mirtarbase_pvals = pd.DataFrame(None, hypergeom_test_n_strs, cancer_types_list)"
   ]
  },
  {
   "cell_type": "code",
   "execution_count": null,
   "metadata": {},
   "outputs": [],
   "source": [
    "cancer_type_top_n_spearman_corrs_mirtarbase_counts['PAN'] = get_ranks_intersection_counts(miRNAmRNA_spearman_corrs, miRNAmRNA_pancan_corrs_in_mirtarbase_mask, hypergeom_test_ns)\n",
    "cancer_type_top_n_spearman_corrs_mirtarbase_pvals['PAN'] = map(lambda i: 1 - hypergeom_test_n_rvs[i].cdf([cancer_type_top_n_spearman_corrs_mirtarbase_counts['PAN'][i]])[0],\n",
    "                                                               range(len(hypergeom_test_ns)))"
   ]
  },
  {
   "cell_type": "code",
   "execution_count": null,
   "metadata": {},
   "outputs": [],
   "source": [
    "cancer_type_top_n_spearman_corrs_mirtarbase_counts_log2OE = pd.DataFrame(None, hypergeom_test_n_strs, cancer_types_list)\n",
    "cancer_type_top_n_spearman_corrs_mirtarbase_expecteds = map(lambda n: n * 1.0 * mirtars_nonnull_count / N, hypergeom_test_ns)\n",
    "cancer_type_top_n_spearman_corrs_mirtarbase_counts_log2OE['PAN'] = cancer_type_top_n_spearman_corrs_mirtarbase_counts['PAN'] / cancer_type_top_n_spearman_corrs_mirtarbase_expecteds\n",
    "cancer_type_top_n_spearman_corrs_mirtarbase_counts_log2OE['PAN'] = cancer_type_top_n_spearman_corrs_mirtarbase_counts_log2OE['PAN'].apply(lambda x: m.log(x + 1, 2))"
   ]
  },
  {
   "cell_type": "code",
   "execution_count": null,
   "metadata": {},
   "outputs": [],
   "source": [
    "cancer_type_top1000_spearman_corrs_mtb_miRNAs = pd.DataFrame(None, cancer_types_list, miRNAmRNA_spearman_corrs.index)\n",
    "cancer_type_top1000_spearman_corrs_mtb_miRNAs.loc['PAN'] = get_top_n_intersection_miRNAs_mask(miRNAmRNA_spearman_corrs, miRNAmRNAs_in_mirtarbase_mask, 1000)"
   ]
  },
  {
   "cell_type": "code",
   "execution_count": null,
   "metadata": {},
   "outputs": [],
   "source": [
    "cancer_type_top1000_spearman_corrs_miRNAs = pd.DataFrame(None, cancer_types_list, miRNAmRNA_spearman_corrs.index)\n",
    "cancer_type_top1000_spearman_corrs_miRNAs.loc['PAN'] = get_top_n_miRNAs(miRNAmRNA_spearman_corrs, miRNAmRNA_spearman_corrs.index, 1000)"
   ]
  },
  {
   "cell_type": "code",
   "execution_count": null,
   "metadata": {},
   "outputs": [],
   "source": [
    "cancer_type_hypergeom_test_params = pd.DataFrame(None, cancer_types_list, ['N', 'K'])\n",
    "cancer_type_hypergeom_test_params.loc['PAN'] = [N, mirtars_nonnull_count]"
   ]
  },
  {
   "cell_type": "markdown",
   "metadata": {},
   "source": [
    "#### Within-cancer"
   ]
  },
  {
   "cell_type": "code",
   "execution_count": 95,
   "metadata": {},
   "outputs": [],
   "source": [
    "for cancer_type in cancer_types:\n",
    "    type_miRNAmRNA_log_corrs = get_corrs_df(bucket, 'explore/miRTar/pearson-corrs/data/mirtar-log-corrs_' + cancer_type + '.csv', 'miRNA')\n",
    "    miRNAmRNA_corrs_nonnull = ~type_miRNAmRNA_log_corrs.isnull()\n",
    "    N = miRNAmRNA_corrs_nonnull.sum().sum()\n",
    "    mirtars_nonnull_count = (miRNAmRNA_corrs_nonnull & miRNAmRNAs_in_mirtarbase_mask).sum().sum()\n",
    "    cancer_type_hypergeom_test_params.loc[cancer_type] = [N, mirtars_nonnull_count]\n",
    "    hypergeom_test_n_rvs = map(lambda n: stats.hypergeom(N, mirtars_nonnull_count, n), hypergeom_test_ns)\n",
    "    cancer_type_top_n_log_corrs_mirtarbase_counts[cancer_type] = get_ranks_intersection_counts(type_miRNAmRNA_log_corrs, miRNAmRNAs_in_mirtarbase_mask, hypergeom_test_ns)\n",
    "    cancer_type_top_n_log_corrs_mirtarbase_pvals[cancer_type] = map(lambda i: 1 - hypergeom_test_n_rvs[i].cdf([cancer_type_top_n_log_corrs_mirtarbase_counts[cancer_type][i]])[0],\n",
    "                                                                    range(len(hypergeom_test_ns)))\n",
    "    cancer_type_top_n_corrs_mirtarbase_expecteds = map(lambda n: n * 1.0 * mirtars_nonnull_count / N, hypergeom_test_ns)\n",
    "    cancer_type_top_n_log_corrs_mirtarbase_counts_log2OE[cancer_type] = cancer_type_top_n_log_corrs_mirtarbase_counts[cancer_type] / cancer_type_top_n_corrs_mirtarbase_expecteds\n",
    "    cancer_type_top_n_log_corrs_mirtarbase_counts_log2OE[cancer_type] = cancer_type_top_n_log_corrs_mirtarbase_counts_log2OE[cancer_type].apply(lambda x: m.log(x + 1, 2))\n",
    "    cancer_type_top1000_log_corrs_mtb_miRNAs.loc[cancer_type] = get_top_n_intersection_miRNAs_mask(type_miRNAmRNA_log_corrs, miRNAmRNAs_in_mirtarbase_mask, 1000)\n",
    "    cancer_type_top1000_log_corrs_miRNAs.loc[cancer_type] = get_top_n_miRNAs(type_miRNAmRNA_log_corrs, miRNAmRNA_log_corrs.index, 1000)\n",
    "    type_miRNAmRNA_spearman_corrs = get_corrs_df(bucket, 'explore/miRTar/spearman-corrs/data/mirtar-spearman-corrs_' + cancer_type + '.csv', 'miRNA')\n",
    "    cancer_type_top_n_spearman_corrs_mirtarbase_counts[cancer_type] = get_ranks_intersection_counts(type_miRNAmRNA_spearman_corrs, miRNAmRNAs_in_mirtarbase_mask, hypergeom_test_ns)\n",
    "    def get_top_n_spearman_corrs_hypergeom_pval(i):\n",
    "      return 1 - hypergeom_test_n_rvs[i].cdf([cancer_type_top_n_spearman_corrs_mirtarbase_counts[cancer_type][i]])[0]\n",
    "    cancer_type_top_n_spearman_corrs_mirtarbase_pvals[cancer_type] = map(get_top_n_spearman_corrs_hypergeom_pval, range(len(hypergeom_test_ns)))\n",
    "    cancer_type_top_n_spearman_corrs_mirtarbase_counts_log2OE[cancer_type] = cancer_type_top_n_spearman_corrs_mirtarbase_counts[cancer_type] / cancer_type_top_n_corrs_mirtarbase_expecteds\n",
    "    cancer_type_top_n_spearman_corrs_mirtarbase_counts_log2OE[cancer_type] = cancer_type_top_n_spearman_corrs_mirtarbase_counts_log2OE[cancer_type].apply(lambda x: m.log(x + 1, 2))\n",
    "    cancer_type_top1000_spearman_corrs_mtb_miRNAs.loc[cancer_type] = get_top_n_intersection_miRNAs_mask(type_miRNAmRNA_spearman_corrs, miRNAmRNAs_in_mirtarbase_mask, 1000)\n",
    "    cancer_type_top1000_spearman_corrs_miRNAs.loc[cancer_type] = get_top_n_miRNAs(type_miRNAmRNA_spearman_corrs, miRNAmRNA_spearman_corrs.index, 1000)"
   ]
  },
  {
   "cell_type": "code",
   "execution_count": 77,
   "metadata": {},
   "outputs": [],
   "source": [
    "cancer_type_top_n_log_corrs_mirtarbase_pvals_bf_adj = cancer_type_top_n_log_corrs_mirtarbase_pvals.loc[:, cancer_types_list].apply(bonferroni_adj, axis=1)\n",
    "cancer_type_top_n_log_corrs_mirtarbase_pvals_bh_adj = cancer_type_top_n_log_corrs_mirtarbase_pvals.loc[:, cancer_types_list].apply(benjaminihochberg, axis=1)\n",
    "cancer_type_top_n_log_corrs_mirtarbase_pvals_2sbh_adj = cancer_type_top_n_log_corrs_mirtarbase_pvals.loc[:, cancer_types_list].apply(benjaminihochberg_2stage, axis=1)"
   ]
  },
  {
   "cell_type": "code",
   "execution_count": null,
   "metadata": {},
   "outputs": [],
   "source": [
    "write_df_to_csv(cancer_type_top_n_log_corrs_mirtarbase_counts, 'n', 'gs://yfl-mirna/analysis/enrichment/cancer-type_top-n-log-corrs-mirtarbase_counts.csv')\n",
    "write_df_to_csv(cancer_type_top_n_log_corrs_mirtarbase_pvals, 'n', 'gs://yfl-mirna/analysis/enrichment/cancer-type_top-n-log-corrs-mirtarbase_pvals.csv')\n",
    "write_df_to_csv(cancer_type_top_n_log_corrs_mirtarbase_pvals_bf_adj, 'n', 'gs://yfl-mirna/analysis/enrichment/cancer-type_top-n-log-corrs-mirtarbase_pvals-bf-adj.csv')\n",
    "write_df_to_csv(cancer_type_top_n_log_corrs_mirtarbase_pvals_bh_adj, 'n', 'gs://yfl-mirna/analysis/enrichment/cancer-type_top-n-log-corrs-mirtarbase_pvals-bh-adj.csv')\n",
    "write_df_to_csv(cancer_type_top_n_log_corrs_mirtarbase_pvals_2sbh_adj, 'n', 'gs://yfl-mirna/analysis/enrichment/cancer-type_top-n-log-corrs-mirtarbase_pvals-2sbh-adj.csv')\n",
    "write_df_to_csv(cancer_type_top_n_log_corrs_mirtarbase_counts_log2OE, 'n', 'gs://yfl-mirna/analysis/enrichment/cancer-type_top-n-log-corrs-mirtarbase_counts_log2OE.csv')"
   ]
  },
  {
   "cell_type": "code",
   "execution_count": null,
   "metadata": {},
   "outputs": [],
   "source": [
    "write_df_to_csv(cancer_type_top1000_log_corrs_mtb_miRNAs, 'cancer_type', 'gs://yfl-mirna/analysis/enrichment/cancer-type_top-1000-log-corrs-mirtarbase_miRNAs.csv')\n",
    "write_df_to_csv(cancer_type_top1000_log_corrs_miRNAs, 'cancer_type', 'gs://yfl-mirna/analysis/enrichment/cancer-type_top-1000-log-corrs_miRNAs.csv')"
   ]
  },
  {
   "cell_type": "code",
   "execution_count": 82,
   "metadata": {},
   "outputs": [],
   "source": [
    "cancer_type_top_n_spearman_corrs_mirtarbase_pvals_bf_adj = cancer_type_top_n_spearman_corrs_mirtarbase_pvals.loc[:, cancer_types_list].apply(bonferroni_adj, axis=1)\n",
    "cancer_type_top_n_spearman_corrs_mirtarbase_pvals_bh_adj = cancer_type_top_n_spearman_corrs_mirtarbase_pvals.loc[:, cancer_types_list].apply(benjaminihochberg, axis=1)\n",
    "cancer_type_top_n_spearman_corrs_mirtarbase_pvals_2sbh_adj = cancer_type_top_n_spearman_corrs_mirtarbase_pvals.loc[:, cancer_types_list].apply(benjaminihochberg_2stage, axis=1)"
   ]
  },
  {
   "cell_type": "code",
   "execution_count": null,
   "metadata": {},
   "outputs": [],
   "source": [
    "write_df_to_csv(cancer_type_top_n_spearman_corrs_mirtarbase_counts, 'n', 'gs://yfl-mirna/analysis/enrichment/cancer-type_top-n-spearman-corrs-mirtarbase_counts.csv')\n",
    "write_df_to_csv(cancer_type_top_n_spearman_corrs_mirtarbase_pvals, 'n', 'gs://yfl-mirna/analysis/enrichment/cancer-type_top-n-spearman-corrs-mirtarbase_pvals.csv')\n",
    "write_df_to_csv(cancer_type_top_n_spearman_corrs_mirtarbase_pvals_bf_adj, 'n', 'gs://yfl-mirna/analysis/enrichment/cancer-type_top-n-spearman-corrs-mirtarbase_pvals-bf-adj.csv')\n",
    "write_df_to_csv(cancer_type_top_n_spearman_corrs_mirtarbase_pvals_bh_adj, 'n', 'gs://yfl-mirna/analysis/enrichment/cancer-type_top-n-spearman-corrs-mirtarbase_pvals-bh-adj.csv')\n",
    "write_df_to_csv(cancer_type_top_n_spearman_corrs_mirtarbase_pvals_2sbh_adj, 'n', 'gs://yfl-mirna/analysis/enrichment/cancer-type_top-n-spearman-corrs-mirtarbase_pvals-2sbh-adj.csv')\n",
    "write_df_to_csv(cancer_type_top_n_spearman_corrs_mirtarbase_counts_log2OE, 'n', 'gs://yfl-mirna/analysis/enrichment/cancer-type_top-n-spearman-corrs-mirtarbase_counts_log2OE.csv')"
   ]
  },
  {
   "cell_type": "code",
   "execution_count": null,
   "metadata": {},
   "outputs": [],
   "source": [
    "write_df_to_csv(cancer_type_top1000_spearman_corrs_mtb_miRNAs, 'cancer_type', 'gs://yfl-mirna/analysis/enrichment/cancer-type_top-1000-spearman-corrs-mirtarbase_miRNAs.csv')\n",
    "write_df_to_csv(cancer_type_top1000_spearman_corrs_miRNAs, 'cancer_type', 'gs://yfl-mirna/analysis/enrichment/cancer-type_top-1000-spearman-corrs_miRNAs.csv')"
   ]
  },
  {
   "cell_type": "code",
   "execution_count": 128,
   "metadata": {},
   "outputs": [
    {
     "name": "stdout",
     "output_type": "stream",
     "text": [
      "Copying file://temp.csv [Content-Type=text/csv]...\n",
      "/ [1 files][  1.0 KiB/  1.0 KiB]                                                \n",
      "Operation completed over 1 objects/1.0 KiB.                                      \n"
     ]
    }
   ],
   "source": [
    "cancer_type_top1000_mtb_stats = pd.DataFrame({'log_corrs_mtb_miRNAs': cancer_type_top1000_log_corrs_mtb_miRNAs.sum(axis=1),\n",
    "                                              'log_corrs_all_miRNAs': cancer_type_top1000_log_corrs_miRNAs.sum(axis=1),\n",
    "                                              'log_corrs_mtb': cancer_type_top_n_log_corrs_mirtarbase_counts.loc[1000].reindex(cancer_types_list),\n",
    "                                              'log_corrs_mtb_log2OE': cancer_type_top_n_log_corrs_mirtarbase_counts_log2OE.loc[1000].reindex(cancer_types_list),\n",
    "                                              'spearman_corrs_mtb_miRNAs': cancer_type_top1000_spearman_corrs_mtb_miRNAs.sum(axis=1),\n",
    "                                              'spearman_corrs_all_miRNAs': cancer_type_top1000_spearman_corrs_miRNAs.sum(axis=1),                            \n",
    "                                              'spearman_corrs_mtb': cancer_type_top_n_spearman_corrs_mirtarbase_counts.loc[1000].reindex(cancer_types_list),\n",
    "                                              'spearman_corrs_mtb_log2OE': cancer_type_top_n_spearman_corrs_mirtarbase_counts_log2OE.loc[1000].reindex(cancer_types_list)})\n",
    "cancer_type_top1000_mtb_stats = cancer_type_top1000_mtb_stats.reindex(columns=['log_corrs_mtb_miRNAs', 'log_corrs_all_miRNAs', 'log_corrs_mtb', 'log_corrs_mtb_log2OE',\n",
    "                                                                               'spearman_corrs_mtb_miRNAs', 'spearman_corrs_all_miRNAs', 'spearman_corrs_mtb', 'spearman_corrs_mtb_log2OE'])\n",
    "write_df_to_csv(cancer_type_top1000_mtb_stats.applymap(lambda x: int(x)), 'cancer_type', 'gs://yfl-mirna/analysis/enrichment/cancertype_top1000-mtb_stats.csv')"
   ]
  },
  {
   "cell_type": "code",
   "execution_count": null,
   "metadata": {},
   "outputs": [],
   "source": [
    "write_df_to_csv(cancer_type_hypergeom_test_params, 'cancer_type', 'gs://yfl-mirna/analysis/enrichment/cancer-type_mtbase_hypergeom-test-params.csv')"
   ]
  },
  {
   "cell_type": "markdown",
   "metadata": {},
   "source": [
    "### Only strong miRTarBase relationships (at least 1 non-weak-support-type entry)"
   ]
  },
  {
   "cell_type": "markdown",
   "metadata": {},
   "source": [
    "#### Pan-cancer"
   ]
  },
  {
   "cell_type": "code",
   "execution_count": 42,
   "metadata": {},
   "outputs": [],
   "source": [
    "N = miRNAmRNA_corrs_nonnull.sum().sum()"
   ]
  },
  {
   "cell_type": "code",
   "execution_count": 43,
   "metadata": {},
   "outputs": [],
   "source": [
    "mirtars_strong_nonnull_count = (miRNAmRNA_corrs_nonnull & miRNAmRNA_pancan_corrs_mirtarbase_strong_mask).sum().sum()"
   ]
  },
  {
   "cell_type": "code",
   "execution_count": 44,
   "metadata": {},
   "outputs": [],
   "source": [
    "hypergeom_test_n_rvs = map(lambda n: stats.hypergeom(N, mirtars_strong_nonnull_count, n), hypergeom_test_ns)"
   ]
  },
  {
   "cell_type": "code",
   "execution_count": 37,
   "metadata": {},
   "outputs": [],
   "source": [
    "cancer_type_top_n_log_corrs_mtbase_strong_counts = pd.DataFrame(None, hypergeom_test_n_strs, cancer_types_list)\n",
    "cancer_type_top_n_log_corrs_mtbase_strong_pvals = pd.DataFrame(None, hypergeom_test_n_strs, cancer_types_list)"
   ]
  },
  {
   "cell_type": "code",
   "execution_count": 38,
   "metadata": {},
   "outputs": [],
   "source": [
    "cancer_type_top_n_log_corrs_mtbase_strong_counts['PAN'] = get_ranks_intersection_counts(miRNAmRNA_log_corrs, miRNAmRNA_pancan_corrs_mirtarbase_strong_mask, hypergeom_test_ns)\n",
    "cancer_type_top_n_log_corrs_mtbase_strong_pvals['PAN'] = map(lambda i: 1 - hypergeom_test_n_rvs[i].cdf([cancer_type_top_n_log_corrs_mtbase_strong_counts['PAN'][i]])[0],\n",
    "                                                             range(len(hypergeom_test_ns)))"
   ]
  },
  {
   "cell_type": "code",
   "execution_count": 39,
   "metadata": {},
   "outputs": [],
   "source": [
    "cancer_type_top_n_log_corrs_mtbase_strong_counts_log2OE = pd.DataFrame(None, hypergeom_test_n_strs, cancer_types_list)"
   ]
  },
  {
   "cell_type": "code",
   "execution_count": 65,
   "metadata": {},
   "outputs": [],
   "source": [
    "cancer_type_top_n_log_corrs_mtbase_strong_exps = map(lambda n: n * mirtars_strong_nonnull_count / N, hypergeom_test_ns)\n",
    "cancer_type_top_n_log_corrs_mtbase_strong_counts_log2OE['PAN'] = cancer_type_top_n_log_corrs_mtbase_strong_counts['PAN'] / cancer_type_top_n_log_corrs_mtbase_strong_exps\n",
    "cancer_type_top_n_log_corrs_mtbase_strong_counts_log2OE['PAN'] = cancer_type_top_n_log_corrs_mtbase_strong_counts_log2OE['PAN'].apply(lambda x: m.log(x + 1, 2))"
   ]
  },
  {
   "cell_type": "code",
   "execution_count": 104,
   "metadata": {},
   "outputs": [],
   "source": [
    "cancer_type_top1000_log_corrs_mtb_strong_miRNAs = pd.DataFrame(False, cancer_types_list, miRNAmRNA_log_corrs.index)\n",
    "cancer_type_top1000_log_corrs_mtb_strong_miRNAs.loc['PAN'] = get_top_n_intersection_miRNAs_mask(miRNAmRNA_log_corrs, miRNAmRNAs_mirtarbase_strong_mask, 1000)"
   ]
  },
  {
   "cell_type": "code",
   "execution_count": 66,
   "metadata": {},
   "outputs": [],
   "source": [
    "cancer_type_top_n_spearman_corrs_mtbase_strong_counts = pd.DataFrame(None, hypergeom_test_n_strs, cancer_types_list)\n",
    "cancer_type_top_n_spearman_corrs_mtbase_strong_pvals = pd.DataFrame(None, hypergeom_test_n_strs, cancer_types_list)"
   ]
  },
  {
   "cell_type": "code",
   "execution_count": 67,
   "metadata": {},
   "outputs": [],
   "source": [
    "cancer_type_top_n_spearman_corrs_mtbase_strong_counts['PAN'] = get_ranks_intersection_counts(miRNAmRNA_spearman_corrs, miRNAmRNA_pancan_corrs_mirtarbase_strong_mask, hypergeom_test_ns)\n",
    "cancer_type_top_n_spearman_corrs_mtbase_strong_pvals['PAN'] = map(lambda i: 1 - hypergeom_test_n_rvs[i].cdf([cancer_type_top_n_spearman_corrs_mtbase_strong_counts['PAN'][i]])[0],\n",
    "                                                                  range(len(hypergeom_test_ns)))"
   ]
  },
  {
   "cell_type": "code",
   "execution_count": 68,
   "metadata": {},
   "outputs": [],
   "source": [
    "cancer_type_top_n_spearman_corrs_mtbase_strong_counts_log2OE = pd.DataFrame(None, hypergeom_test_n_strs, cancer_types_list)"
   ]
  },
  {
   "cell_type": "code",
   "execution_count": 69,
   "metadata": {},
   "outputs": [],
   "source": [
    "cancer_type_top_n_spearman_corrs_mtbase_strong_exps = map(lambda n: n * mirtars_nonnull_count / N, hypergeom_test_ns)\n",
    "cancer_type_top_n_spearman_corrs_mtbase_strong_counts_log2OE['PAN'] = cancer_type_top_n_spearman_corrs_mtbase_strong_counts['PAN'] / cancer_type_top_n_spearman_corrs_mtbase_strong_exps\n",
    "cancer_type_top_n_spearman_corrs_mtbase_strong_counts_log2OE['PAN'] = cancer_type_top_n_spearman_corrs_mtbase_strong_counts_log2OE['PAN'].apply(lambda x: m.log(x + 1, 2))"
   ]
  },
  {
   "cell_type": "code",
   "execution_count": 105,
   "metadata": {},
   "outputs": [],
   "source": [
    "cancer_type_top1000_spearman_corrs_mtb_strong_miRNAs = pd.DataFrame(False, cancer_types_list, miRNAmRNA_spearman_corrs.index)\n",
    "cancer_type_top1000_spearman_corrs_mtb_strong_miRNAs.loc['PAN'] = get_top_n_intersection_miRNAs_mask(miRNAmRNA_spearman_corrs, miRNAmRNAs_mirtarbase_strong_mask, 1000)"
   ]
  },
  {
   "cell_type": "code",
   "execution_count": 70,
   "metadata": {},
   "outputs": [],
   "source": [
    "cancer_type_mtbase_strong_hypergeom_test_params = pd.DataFrame(None, cancer_types_list, ['N', 'K'])\n",
    "cancer_type_mtbase_strong_hypergeom_test_params.loc['PAN'] = [N, mirtars_strong_nonnull_count]"
   ]
  },
  {
   "cell_type": "markdown",
   "metadata": {},
   "source": [
    "#### Within-cancer"
   ]
  },
  {
   "cell_type": "code",
   "execution_count": 107,
   "metadata": {},
   "outputs": [
    {
     "name": "stderr",
     "output_type": "stream",
     "text": [
      "\n",
      "Source object gs://yfl-mirna/explore/miRTar/pearson-corrs/data/mirtar-log-corrs_PAN.csv does not exist\n",
      "Source object gs://yfl-mirna/explore/miRTar/spearman-corrs/data/mirtar-spearman-corrs_PAN.csv does not exist"
     ]
    }
   ],
   "source": [
    "for cancer_type in cancer_types_list:\n",
    "    type_miRNAmRNA_log_corrs = get_corrs_df(bucket, 'explore/miRTar/pearson-corrs/data/mirtar-log-corrs_' + cancer_type + '.csv', 'miRNA')\n",
    "    miRNAmRNA_corrs_nonnull = ~type_miRNAmRNA_log_corrs.isnull()\n",
    "    N = miRNAmRNA_corrs_nonnull.sum().sum()\n",
    "    mirtars_strong_nonnull_count = (miRNAmRNA_corrs_nonnull & miRNAmRNAs_mirtarbase_strong_mask).sum().sum()\n",
    "    cancer_type_mtbase_strong_hypergeom_test_params.loc[cancer_type] = [N, mirtars_strong_nonnull_count]\n",
    "    hypergeom_test_n_rvs = map(lambda n: stats.hypergeom(N, mirtars_strong_nonnull_count, n), hypergeom_test_ns)\n",
    "    cancer_type_top_n_log_corrs_mtbase_strong_counts[cancer_type] = get_ranks_intersection_counts(type_miRNAmRNA_log_corrs, miRNAmRNAs_mirtarbase_strong_mask, hypergeom_test_ns)\n",
    "    type_top_n_log_corrs_mtbase_strong_counts = cancer_type_top_n_log_corrs_mtbase_strong_counts[cancer_type]\n",
    "    cancer_type_top_n_log_corrs_mtbase_strong_pvals[cancer_type] = map(lambda i: 1 - hypergeom_test_n_rvs[i].cdf([type_top_n_log_corrs_mtbase_strong_counts[i]])[0],\n",
    "                                                                       range(len(hypergeom_test_ns)))\n",
    "    cancer_type_top_n_corrs_mtbase_strong_exps = map(lambda n: n * mirtars_strong_nonnull_count / N, hypergeom_test_ns)\n",
    "    cancer_type_top_n_log_corrs_mtbase_strong_counts_log2OE[cancer_type] = cancer_type_top_n_log_corrs_mtbase_strong_counts[cancer_type] / cancer_type_top_n_corrs_mtbase_strong_exps\n",
    "    cancer_type_top_n_log_corrs_mtbase_strong_counts_log2OE[cancer_type] = cancer_type_top_n_log_corrs_mtbase_strong_counts_log2OE[cancer_type].apply(lambda x: m.log(x + 1, 2))\n",
    "    cancer_type_top1000_log_corrs_mtb_strong_miRNAs.loc[cancer_type] = get_top_n_intersection_miRNAs_mask(type_miRNAmRNA_log_corrs, miRNAmRNAs_mirtarbase_strong_mask, 1000)\n",
    "    type_miRNAmRNA_spearman_corrs = get_corrs_df(bucket, 'explore/miRTar/spearman-corrs/data/mirtar-spearman-corrs_' + cancer_type + '.csv', 'miRNA')\n",
    "    cancer_type_top_n_spearman_corrs_mtbase_strong_counts[cancer_type] = get_ranks_intersection_counts(type_miRNAmRNA_spearman_corrs, miRNAmRNAs_mirtarbase_strong_mask, hypergeom_test_ns)\n",
    "    type_top_n_spearman_corrs_mtbase_strong_counts = cancer_type_top_n_spearman_corrs_mtbase_strong_counts[cancer_type]\n",
    "    cancer_type_top_n_spearman_corrs_mtbase_strong_pvals[cancer_type] = map(lambda i: 1 - hypergeom_test_n_rvs[i].cdf([type_top_n_spearman_corrs_mtbase_strong_counts[i]])[0],\n",
    "                                                                            range(len(hypergeom_test_ns)))\n",
    "    cancer_type_top_n_spearman_corrs_mtbase_strong_counts_log2OE[cancer_type] = cancer_type_top_n_spearman_corrs_mtbase_strong_counts[cancer_type] / cancer_type_top_n_corrs_mtbase_strong_exps\n",
    "    cancer_type_top_n_spearman_corrs_mtbase_strong_counts_log2OE[cancer_type] = cancer_type_top_n_spearman_corrs_mtbase_strong_counts_log2OE[cancer_type].apply(lambda x: m.log(x+1, 2))\n",
    "    cancer_type_top1000_spearman_corrs_mtb_strong_miRNAs.loc[cancer_type] = get_top_n_intersection_miRNAs_mask(type_miRNAmRNA_spearman_corrs, miRNAmRNAs_mirtarbase_strong_mask, 1000)"
   ]
  },
  {
   "cell_type": "code",
   "execution_count": 77,
   "metadata": {},
   "outputs": [],
   "source": [
    "cancer_type_top_n_log_corrs_mtbase_strong_pvals_bf_adj = cancer_type_top_n_log_corrs_mtbase_strong_pvals.loc[:, cancer_types_list].apply(bonferroni_adj, axis=1)\n",
    "cancer_type_top_n_log_corrs_mtbase_strong_pvals_bh_adj = cancer_type_top_n_log_corrs_mtbase_strong_pvals.loc[:, cancer_types_list].apply(benjaminihochberg, axis=1)\n",
    "cancer_type_top_n_log_corrs_mtbase_strong_pvals_2sbh_adj = cancer_type_top_n_log_corrs_mtbase_strong_pvals.loc[:, cancer_types_list].apply(benjaminihochberg_2stage, axis=1)"
   ]
  },
  {
   "cell_type": "code",
   "execution_count": null,
   "metadata": {},
   "outputs": [],
   "source": [
    "write_df_to_csv(cancer_type_top_n_log_corrs_mtbase_strong_counts, 'n', 'gs://yfl-mirna/analysis/enrichment/cancer-type_top-n-log-corrs-mtbase-strong_counts.csv')\n",
    "write_df_to_csv(cancer_type_top_n_log_corrs_mtbase_strong_pvals, 'n', 'gs://yfl-mirna/analysis/enrichment/cancer-type_top-n-log-corrs-mtbase-strong_pvals.csv')\n",
    "write_df_to_csv(cancer_type_top_n_log_corrs_mtbase_strong_pvals_bf_adj, 'n', 'gs://yfl-mirna/analysis/enrichment/cancer-type_top-n-log-corrs-mtbase-strong_pvals-bf-adj.csv')\n",
    "write_df_to_csv(cancer_type_top_n_log_corrs_mtbase_strong_pvals_bh_adj, 'n', 'gs://yfl-mirna/analysis/enrichment/cancer-type_top-n-log-corrs-mtbase-strong_pvals-bh-adj.csv')\n",
    "write_df_to_csv(cancer_type_top_n_log_corrs_mtbase_strong_pvals_2sbh_adj, 'n', 'gs://yfl-mirna/analysis/enrichment/cancer-type_top-n-log-corrs-mtbase-strong_pvals-2sbh-adj.csv')\n",
    "write_df_to_csv(cancer_type_top_n_log_corrs_mtbase_strong_counts_log2OE, 'n', 'gs://yfl-mirna/analysis/enrichment/cancer-type_top-n-log-corrs-mtbase-strong_counts_log2OE.csv')"
   ]
  },
  {
   "cell_type": "code",
   "execution_count": null,
   "metadata": {},
   "outputs": [],
   "source": [
    "write_df_to_csv(cancer_type_top1000_log_corrs_mtb_strong_miRNAs, 'cancer_type', 'gs://yfl-mirna/analysis/enrichment/cancer-type_top-1000-log-corrs-mtbase-strong_miRNAs.csv')"
   ]
  },
  {
   "cell_type": "code",
   "execution_count": 77,
   "metadata": {},
   "outputs": [],
   "source": [
    "cancer_type_top_n_spearman_corrs_mtbase_strong_pvals_bf_adj = cancer_type_top_n_spearman_corrs_mtbase_strong_pvals.loc[:, cancer_types_list].apply(bonferroni_adj, axis=1)\n",
    "cancer_type_top_n_spearman_corrs_mtbase_strong_pvals_bh_adj = cancer_type_top_n_spearman_corrs_mtbase_strong_pvals.loc[:, cancer_types_list].apply(benjaminihochberg, axis=1)\n",
    "cancer_type_top_n_spearman_corrs_mtbase_strong_pvals_2sbh_adj = cancer_type_top_n_spearman_corrs_mtbase_strong_pvals.loc[:, cancer_types_list].apply(benjaminihochberg_2stage, axis=1)"
   ]
  },
  {
   "cell_type": "code",
   "execution_count": null,
   "metadata": {},
   "outputs": [],
   "source": [
    "write_df_to_csv(cancer_type_top_n_spearman_corrs_mtbase_strong_counts, 'n', 'gs://yfl-mirna/analysis/enrichment/cancer-type_top-n-spearman-corrs-mtbase-strong_counts.csv')\n",
    "write_df_to_csv(cancer_type_top_n_spearman_corrs_mtbase_strong_pvals, 'n', 'gs://yfl-mirna/analysis/enrichment/cancer-type_top-n-spearman-corrs-mtbase-strong_pvals.csv')\n",
    "write_df_to_csv(cancer_type_top_n_spearman_corrs_mtbase_strong_pvals_bf_adj, 'n', 'gs://yfl-mirna/analysis/enrichment/cancer-type_top-n-spearman-corrs-mtbase-strong_pvals-bf-adj.csv')\n",
    "write_df_to_csv(cancer_type_top_n_spearman_corrs_mtbase_strong_pvals_bh_adj, 'n', 'gs://yfl-mirna/analysis/enrichment/cancer-type_top-n-spearman-corrs-mtbase-strong_pvals-bh-adj.csv')\n",
    "write_df_to_csv(cancer_type_top_n_spearman_corrs_mtbase_strong_pvals_2sbh_adj, 'n', 'gs://yfl-mirna/analysis/enrichment/cancer-type_top-n-spearman-corrs-mtbase-strong_pvals-2sbh-adj.csv')\n",
    "write_df_to_csv(cancer_type_top_n_spearman_corrs_mtbase_strong_counts_log2OE, 'n', 'gs://yfl-mirna/analysis/enrichment/cancer-type_top-n-spearman-corrs-mtbase-strong_counts_log2OE.csv')"
   ]
  },
  {
   "cell_type": "code",
   "execution_count": null,
   "metadata": {},
   "outputs": [],
   "source": [
    "write_df_to_csv(cancer_type_top1000_spearman_corrs_mtb_strong_miRNAs, 'cancer_type', 'gs://yfl-mirna/analysis/enrichment/cancer-type_top-1000-spearman-corrs-mtbase-strong_miRNAs.csv')"
   ]
  },
  {
   "cell_type": "code",
   "execution_count": null,
   "metadata": {},
   "outputs": [],
   "source": [
    "cancer_type_top1000_mtb_strong_stats = pd.DataFrame({'log_corrs_mtb_miRNAs': cancer_type_top1000_log_corrs_mtb_strong_miRNAs.sum(axis=1).map(lambda x: int(x)),\n",
    "                                                     'log_corrs_all_miRNAs': cancer_type_top1000_log_corrs_miRNAs.sum(axis=1).map(lambda x: int(x)),\n",
    "                                                     'log_corrs_mtb': cancer_type_top_n_log_corrs_mtbase_strong_counts.loc[1000].reindex(cancer_types_list),\n",
    "                                                     'log_corrs_mtb_log2OE': cancer_type_top_n_log_corrs_mtbase_strong_counts_log2OE.loc[1000].reindex(cancer_types_list),\n",
    "                                                     'spearman_corrs_mtb_miRNAs': cancer_type_top1000_spearman_corrs_mtb_strong_miRNAs.sum(axis=1).map(lambda x: int(x)),\n",
    "                                                     'spearman_corrs_all_miRNAs': cancer_type_top1000_spearman_corrs_miRNAs.sum(axis=1).map(lambda x: int(x)),                            \n",
    "                                                     'spearman_corrs_mtb': cancer_type_top_n_spearman_corrs_mtbase_strong_counts.loc[1000].reindex(cancer_types_list),\n",
    "                                                     'spearman_corrs_mtb_log2OE': cancer_type_top_n_spearman_corrs_mtbase_strong_counts_log2OE.loc[1000].reindex(cancer_types_list)})\n",
    "cancer_type_top1000_mtb_strong_stats = cancer_type_top1000_mtb_strong_stats.reindex(columns=['log_corrs_mtb_miRNAs', 'log_corrs_all_miRNAs', 'log_corrs_mtb', 'log_corrs_mtb_log2OE',\n",
    "                                                                                             'spearman_corrs_mtb_miRNAs', 'spearman_corrs_all_miRNAs', 'spearman_corrs_mtb', 'spearman_corrs_mtb_log2OE'])\n",
    "write_df_to_csv(cancer_type_top1000_mtb_strong_stats, 'cancer_type', 'gs://yfl-mirna/analysis/enrichment/cancertype_top1000-mtb-strong_stats.csv')"
   ]
  },
  {
   "cell_type": "code",
   "execution_count": null,
   "metadata": {},
   "outputs": [],
   "source": [
    "write_df_to_csv(cancer_type_mtbase_strong_hypergeom_test_params, 'cancer_type', 'gs://yfl-mirna/analysis/enrichment/cancer-type_mtbase-strong_hypergeom-test-params.csv')"
   ]
  },
  {
   "cell_type": "markdown",
   "metadata": {},
   "source": [
    "### TODO: Edit to reflect one-pass workflow"
   ]
  },
  {
   "cell_type": "markdown",
   "metadata": {},
   "source": [
    "### Because I'm an idiot and didn't write up conclusions right after analysis"
   ]
  },
  {
   "cell_type": "code",
   "execution_count": 45,
   "metadata": {},
   "outputs": [],
   "source": [
    "cancer_type_top_n_log_corrs_mirtarbase_pvals = read_file(bucket, 'analysis/enrichment/cancer-type_top-n-log-corrs-mirtarbase_pvals.csv')\n",
    "cancer_type_top_n_log_corrs_mirtarbase_pvals.set_index('n', inplace=True)"
   ]
  },
  {
   "cell_type": "code",
   "execution_count": 46,
   "metadata": {},
   "outputs": [],
   "source": [
    "cancer_type_top_n_log_corrs_mirtarbase_pvals_bf_adj = read_file(bucket, 'analysis/enrichment/cancer-type_top-n-log-corrs-mirtarbase_pvals-bf-adj.csv')\n",
    "cancer_type_top_n_log_corrs_mirtarbase_pvals_bf_adj.set_index('n', inplace=True)"
   ]
  },
  {
   "cell_type": "code",
   "execution_count": 47,
   "metadata": {},
   "outputs": [],
   "source": [
    "cancer_type_top_n_log_corrs_mirtarbase_pvals_bh_adj = read_file(bucket, 'analysis/enrichment/cancer-type_top-n-log-corrs-mirtarbase_pvals-bh-adj.csv')\n",
    "cancer_type_top_n_log_corrs_mirtarbase_pvals_bh_adj.set_index('n', inplace=True)"
   ]
  },
  {
   "cell_type": "code",
   "execution_count": 48,
   "metadata": {},
   "outputs": [],
   "source": [
    "cancer_type_top_n_log_corrs_mirtarbase_pvals_2sbh_adj = read_file(bucket, 'analysis/enrichment/cancer-type_top-n-log-corrs-mirtarbase_pvals-2sbh-adj.csv')\n",
    "cancer_type_top_n_log_corrs_mirtarbase_pvals_2sbh_adj.set_index('n', inplace=True)"
   ]
  },
  {
   "cell_type": "code",
   "execution_count": 49,
   "metadata": {},
   "outputs": [],
   "source": [
    "cancer_type_top_n_spearman_corrs_mirtarbase_pvals = read_file(bucket, 'analysis/enrichment/cancer-type_top-n-spearman-corrs-mirtarbase_pvals.csv')\n",
    "cancer_type_top_n_spearman_corrs_mirtarbase_pvals.set_index('n', inplace=True)"
   ]
  },
  {
   "cell_type": "code",
   "execution_count": 50,
   "metadata": {},
   "outputs": [],
   "source": [
    "cancer_type_top_n_spearman_corrs_mirtarbase_pvals_bf_adj = read_file(bucket, 'analysis/enrichment/cancer-type_top-n-spearman-corrs-mirtarbase_pvals-bf-adj.csv')\n",
    "cancer_type_top_n_spearman_corrs_mirtarbase_pvals_bf_adj.set_index('n', inplace=True)"
   ]
  },
  {
   "cell_type": "code",
   "execution_count": 51,
   "metadata": {},
   "outputs": [],
   "source": [
    "cancer_type_top_n_spearman_corrs_mirtarbase_pvals_bh_adj = read_file(bucket, 'analysis/enrichment/cancer-type_top-n-spearman-corrs-mirtarbase_pvals-bh-adj.csv')\n",
    "cancer_type_top_n_spearman_corrs_mirtarbase_pvals_bh_adj.set_index('n', inplace=True)"
   ]
  },
  {
   "cell_type": "code",
   "execution_count": 52,
   "metadata": {},
   "outputs": [],
   "source": [
    "cancer_type_top_n_spearman_corrs_mirtarbase_pvals_2sbh_adj = read_file(bucket, 'analysis/enrichment/cancer-type_top-n-spearman-corrs-mirtarbase_pvals-2sbh-adj.csv')\n",
    "cancer_type_top_n_spearman_corrs_mirtarbase_pvals_2sbh_adj.set_index('n', inplace=True)"
   ]
  },
  {
   "cell_type": "code",
   "execution_count": 53,
   "metadata": {},
   "outputs": [],
   "source": [
    "cancer_type_top_n_log_corrs_mtbase_strong_pvals = read_file(bucket, 'analysis/enrichment/cancer-type_top-n-log-corrs-mtbase-strong_pvals.csv')\n",
    "cancer_type_top_n_log_corrs_mtbase_strong_pvals.set_index('n', inplace=True)"
   ]
  },
  {
   "cell_type": "code",
   "execution_count": 54,
   "metadata": {},
   "outputs": [],
   "source": [
    "cancer_type_top_n_log_corrs_mtbase_strong_pvals_bf_adj = read_file(bucket, 'analysis/enrichment/cancer-type_top-n-log-corrs-mtbase-strong_pvals-bf-adj.csv')\n",
    "cancer_type_top_n_log_corrs_mtbase_strong_pvals_bf_adj.set_index('n', inplace=True)"
   ]
  },
  {
   "cell_type": "code",
   "execution_count": 55,
   "metadata": {},
   "outputs": [],
   "source": [
    "cancer_type_top_n_log_corrs_mtbase_strong_pvals_bh_adj = read_file(bucket, 'analysis/enrichment/cancer-type_top-n-log-corrs-mtbase-strong_pvals-bh-adj.csv')\n",
    "cancer_type_top_n_log_corrs_mtbase_strong_pvals_bh_adj.set_index('n', inplace=True)"
   ]
  },
  {
   "cell_type": "code",
   "execution_count": 56,
   "metadata": {},
   "outputs": [],
   "source": [
    "cancer_type_top_n_log_corrs_mtbase_strong_pvals_2sbh_adj = read_file(bucket, 'analysis/enrichment/cancer-type_top-n-log-corrs-mtbase-strong_pvals-2sbh-adj.csv')\n",
    "cancer_type_top_n_log_corrs_mtbase_strong_pvals_2sbh_adj.set_index('n', inplace=True)"
   ]
  },
  {
   "cell_type": "code",
   "execution_count": 57,
   "metadata": {},
   "outputs": [],
   "source": [
    "cancer_type_top_n_spearman_corrs_mtbase_strong_pvals = read_file(bucket, 'analysis/enrichment/cancer-type_top-n-spearman-corrs-mtbase-strong_pvals.csv')\n",
    "cancer_type_top_n_spearman_corrs_mtbase_strong_pvals.set_index('n', inplace=True)"
   ]
  },
  {
   "cell_type": "code",
   "execution_count": 58,
   "metadata": {},
   "outputs": [],
   "source": [
    "cancer_type_top_n_spearman_corrs_mtbase_strong_pvals_bf_adj = read_file(bucket, 'analysis/enrichment/cancer-type_top-n-spearman-corrs-mtbase-strong_pvals-bf-adj.csv')\n",
    "cancer_type_top_n_spearman_corrs_mtbase_strong_pvals_bf_adj.set_index('n', inplace=True)"
   ]
  },
  {
   "cell_type": "code",
   "execution_count": 59,
   "metadata": {},
   "outputs": [],
   "source": [
    "cancer_type_top_n_spearman_corrs_mtbase_strong_pvals_bh_adj = read_file(bucket, 'analysis/enrichment/cancer-type_top-n-spearman-corrs-mtbase-strong_pvals-bh-adj.csv')\n",
    "cancer_type_top_n_spearman_corrs_mtbase_strong_pvals_bh_adj.set_index('n', inplace=True)"
   ]
  },
  {
   "cell_type": "code",
   "execution_count": 60,
   "metadata": {},
   "outputs": [],
   "source": [
    "cancer_type_top_n_spearman_corrs_mtbase_strong_pvals_2sbh_adj = read_file(bucket, 'analysis/enrichment/cancer-type_top-n-spearman-corrs-mtbase-strong_pvals-2sbh-adj.csv')\n",
    "cancer_type_top_n_spearman_corrs_mtbase_strong_pvals_2sbh_adj.set_index('n', inplace=True)"
   ]
  },
  {
   "cell_type": "code",
   "execution_count": 61,
   "metadata": {},
   "outputs": [],
   "source": [
    "cancer_type_top1000_spearman_corrs_miRNAs = read_file(bucket, 'analysis/enrichment/cancer-type_top-1000-spearman-corrs_miRNAs.csv')\n",
    "cancer_type_top1000_spearman_corrs_miRNAs.set_index('cancer_type', inplace=True)"
   ]
  },
  {
   "cell_type": "code",
   "execution_count": 56,
   "metadata": {},
   "outputs": [
    {
     "data": {
      "text/plain": [
       "count    743.000000\n",
       "mean       3.429341\n",
       "std        3.068851\n",
       "min        0.000000\n",
       "25%        1.000000\n",
       "50%        3.000000\n",
       "75%        5.000000\n",
       "max       18.000000\n",
       "dtype: float64"
      ]
     },
     "execution_count": 56,
     "metadata": {},
     "output_type": "execute_result"
    }
   ],
   "source": [
    "cancer_type_top1000_spearman_corrs_miRNAs.sum().describe()"
   ]
  },
  {
   "cell_type": "markdown",
   "metadata": {},
   "source": [
    "### TODO: Move following cells"
   ]
  },
  {
   "cell_type": "markdown",
   "metadata": {},
   "source": [
    "#### TODO: Uncomment"
   ]
  },
  {
   "cell_type": "code",
   "execution_count": 62,
   "metadata": {},
   "outputs": [],
   "source": [
    "cancer_type_top1000_spearman_corrs_miRNAs_sorted = cancer_type_top1000_spearman_corrs_miRNAs.sum().sort_values().apply(int)\n",
    "#write_series_to_csv(cancer_type_top1000_spearman_corrs_miRNAs_sorted[-1:-26:-1], 'miRNA', 'gs://yfl-mirna/analysis/enrichment/cancertype-top1000-spearman-anticorrs_top26-miRNAs.csv')"
   ]
  },
  {
   "cell_type": "code",
   "execution_count": 63,
   "metadata": {},
   "outputs": [],
   "source": [
    "top1000_spearman_corrs_miRNAcancer_count = cancer_type_top1000_spearman_corrs_miRNAs.sum().sum()"
   ]
  },
  {
   "cell_type": "code",
   "execution_count": 64,
   "metadata": {},
   "outputs": [
    {
     "data": {
      "text/plain": [
       "475"
      ]
     },
     "execution_count": 64,
     "metadata": {},
     "output_type": "execute_result"
    }
   ],
   "source": [
    "cancer_type_top1000_spearman_corrs_miRNAs_sorted[cancer_type_top1000_spearman_corrs_miRNAs_sorted >= 10].sum()"
   ]
  },
  {
   "cell_type": "code",
   "execution_count": null,
   "metadata": {},
   "outputs": [],
   "source": [
    "cancer_type_top1000_spearman_corrs_miRNAs_sorted[cancer_type_top1000_spearman_corrs_miRNAs_sorted >= 10].sum() / top1000_spearman_corrs_miRNAcancer_count"
   ]
  },
  {
   "cell_type": "code",
   "execution_count": null,
   "metadata": {},
   "outputs": [],
   "source": [
    "cancer_type_top1000_spearman_corrs_miRNAs_sorted[cancer_type_top1000_spearman_corrs_miRNAs_sorted >= 5].sum() / top1000_spearman_corrs_miRNAcancer_count"
   ]
  },
  {
   "cell_type": "code",
   "execution_count": null,
   "metadata": {},
   "outputs": [],
   "source": [
    "(cancer_type_top1000_spearman_corrs_miRNAs_sorted >= 10).sum()"
   ]
  },
  {
   "cell_type": "code",
   "execution_count": null,
   "metadata": {},
   "outputs": [],
   "source": [
    "((cancer_type_top1000_spearman_corrs_miRNAs_sorted < 10) & (cancer_type_top1000_spearman_corrs_miRNAs_sorted >= 5)).sum()"
   ]
  },
  {
   "cell_type": "code",
   "execution_count": null,
   "metadata": {},
   "outputs": [],
   "source": [
    "((cancer_type_top1000_spearman_corrs_miRNAs_sorted < 5) & (cancer_type_top1000_spearman_corrs_miRNAs_sorted > 0)).sum()"
   ]
  },
  {
   "cell_type": "markdown",
   "metadata": {},
   "source": [
    "#### Probably obsolete: Delete?"
   ]
  },
  {
   "cell_type": "code",
   "execution_count": 65,
   "metadata": {},
   "outputs": [],
   "source": [
    "all_ns = cancer_type_top_n_spearman_corrs_mirtarbase_pvals_bf_adj.loc[[100, 500, 1000], :].T.rename(columns=lambda n: 'all_' + str(n))\n",
    "strong_ns = cancer_type_top_n_spearman_corrs_mtbase_strong_pvals_bf_adj.loc[[100, 500, 1000], :].T.rename(columns=lambda n: 'strong_' + str(n))\n",
    "#write_df_to_csv(all_ns.join(strong_ns), 'cancer_type', 'gs://yfl-mirna/analysis/enrichment/cancer-type_top-n-spearman_all-vs-strong-mtb_pvals-bf-adj.csv')"
   ]
  },
  {
   "cell_type": "code",
   "execution_count": 66,
   "metadata": {},
   "outputs": [
    {
     "data": {
      "text/html": [
       "<div>\n",
       "<style scoped>\n",
       "    .dataframe tbody tr th:only-of-type {\n",
       "        vertical-align: middle;\n",
       "    }\n",
       "\n",
       "    .dataframe tbody tr th {\n",
       "        vertical-align: top;\n",
       "    }\n",
       "\n",
       "    .dataframe thead th {\n",
       "        text-align: right;\n",
       "    }\n",
       "</style>\n",
       "<table border=\"1\" class=\"dataframe\">\n",
       "  <thead>\n",
       "    <tr style=\"text-align: right;\">\n",
       "      <th>n</th>\n",
       "      <th>all_100</th>\n",
       "      <th>all_500</th>\n",
       "      <th>all_1000</th>\n",
       "      <th>strong_100</th>\n",
       "      <th>strong_500</th>\n",
       "      <th>strong_1000</th>\n",
       "    </tr>\n",
       "  </thead>\n",
       "  <tbody>\n",
       "    <tr>\n",
       "      <th>CHOL</th>\n",
       "      <td>0.012928</td>\n",
       "      <td>0.000282</td>\n",
       "      <td>2.216039e-05</td>\n",
       "      <td>0.044210</td>\n",
       "      <td>8.438281e-02</td>\n",
       "      <td>6.699086e-04</td>\n",
       "    </tr>\n",
       "    <tr>\n",
       "      <th>DLBC</th>\n",
       "      <td>1.000000</td>\n",
       "      <td>1.000000</td>\n",
       "      <td>4.390561e-02</td>\n",
       "      <td>1.000000</td>\n",
       "      <td>1.000000e+00</td>\n",
       "      <td>1.000000e+00</td>\n",
       "    </tr>\n",
       "    <tr>\n",
       "      <th>UCS</th>\n",
       "      <td>0.000163</td>\n",
       "      <td>0.034313</td>\n",
       "      <td>1.299621e-03</td>\n",
       "      <td>0.041815</td>\n",
       "      <td>9.183866e-01</td>\n",
       "      <td>4.188977e-05</td>\n",
       "    </tr>\n",
       "    <tr>\n",
       "      <th>KICH</th>\n",
       "      <td>1.000000</td>\n",
       "      <td>0.011297</td>\n",
       "      <td>1.719406e-04</td>\n",
       "      <td>1.000000</td>\n",
       "      <td>8.017122e-02</td>\n",
       "      <td>6.782149e-02</td>\n",
       "    </tr>\n",
       "    <tr>\n",
       "      <th>ACC</th>\n",
       "      <td>1.000000</td>\n",
       "      <td>0.716888</td>\n",
       "      <td>2.635288e-01</td>\n",
       "      <td>1.000000</td>\n",
       "      <td>9.375176e-01</td>\n",
       "      <td>1.000000e+00</td>\n",
       "    </tr>\n",
       "    <tr>\n",
       "      <th>UVM</th>\n",
       "      <td>1.000000</td>\n",
       "      <td>1.000000</td>\n",
       "      <td>1.000000e+00</td>\n",
       "      <td>1.000000</td>\n",
       "      <td>1.000000e+00</td>\n",
       "      <td>1.000000e+00</td>\n",
       "    </tr>\n",
       "    <tr>\n",
       "      <th>MESO</th>\n",
       "      <td>0.012305</td>\n",
       "      <td>0.000944</td>\n",
       "      <td>2.229928e-02</td>\n",
       "      <td>0.000706</td>\n",
       "      <td>0.000000e+00</td>\n",
       "      <td>0.000000e+00</td>\n",
       "    </tr>\n",
       "    <tr>\n",
       "      <th>SKCM</th>\n",
       "      <td>0.460790</td>\n",
       "      <td>0.093506</td>\n",
       "      <td>4.570719e-02</td>\n",
       "      <td>0.041261</td>\n",
       "      <td>7.646810e-02</td>\n",
       "      <td>6.483476e-03</td>\n",
       "    </tr>\n",
       "    <tr>\n",
       "      <th>THYM</th>\n",
       "      <td>0.476149</td>\n",
       "      <td>0.003313</td>\n",
       "      <td>1.341815e-06</td>\n",
       "      <td>1.000000</td>\n",
       "      <td>9.163238e-01</td>\n",
       "      <td>6.512095e-02</td>\n",
       "    </tr>\n",
       "    <tr>\n",
       "      <th>TGCT</th>\n",
       "      <td>1.000000</td>\n",
       "      <td>0.009925</td>\n",
       "      <td>1.016029e-01</td>\n",
       "      <td>1.000000</td>\n",
       "      <td>1.000000e+00</td>\n",
       "      <td>1.000000e+00</td>\n",
       "    </tr>\n",
       "    <tr>\n",
       "      <th>READ</th>\n",
       "      <td>1.000000</td>\n",
       "      <td>1.000000</td>\n",
       "      <td>1.000000e+00</td>\n",
       "      <td>1.000000</td>\n",
       "      <td>1.000000e+00</td>\n",
       "      <td>1.000000e+00</td>\n",
       "    </tr>\n",
       "    <tr>\n",
       "      <th>PAAD</th>\n",
       "      <td>1.000000</td>\n",
       "      <td>0.097765</td>\n",
       "      <td>2.077775e-02</td>\n",
       "      <td>1.000000</td>\n",
       "      <td>0.000000e+00</td>\n",
       "      <td>0.000000e+00</td>\n",
       "    </tr>\n",
       "    <tr>\n",
       "      <th>PCPG</th>\n",
       "      <td>1.000000</td>\n",
       "      <td>0.266561</td>\n",
       "      <td>1.251846e-03</td>\n",
       "      <td>1.000000</td>\n",
       "      <td>9.122156e-01</td>\n",
       "      <td>6.574565e-03</td>\n",
       "    </tr>\n",
       "    <tr>\n",
       "      <th>ESCA</th>\n",
       "      <td>1.000000</td>\n",
       "      <td>0.005153</td>\n",
       "      <td>9.312091e-04</td>\n",
       "      <td>1.000000</td>\n",
       "      <td>1.000000e+00</td>\n",
       "      <td>5.735361e-01</td>\n",
       "    </tr>\n",
       "    <tr>\n",
       "      <th>SARC</th>\n",
       "      <td>0.079238</td>\n",
       "      <td>0.031072</td>\n",
       "      <td>1.003276e-01</td>\n",
       "      <td>0.040545</td>\n",
       "      <td>2.387469e-04</td>\n",
       "      <td>5.245498e-04</td>\n",
       "    </tr>\n",
       "    <tr>\n",
       "      <th>KIRP</th>\n",
       "      <td>1.000000</td>\n",
       "      <td>1.000000</td>\n",
       "      <td>1.000000e+00</td>\n",
       "      <td>0.040782</td>\n",
       "      <td>8.972699e-01</td>\n",
       "      <td>4.991866e-01</td>\n",
       "    </tr>\n",
       "    <tr>\n",
       "      <th>OV</th>\n",
       "      <td>1.000000</td>\n",
       "      <td>1.000000</td>\n",
       "      <td>1.000000e+00</td>\n",
       "      <td>1.000000</td>\n",
       "      <td>8.765155e-02</td>\n",
       "      <td>7.231583e-04</td>\n",
       "    </tr>\n",
       "    <tr>\n",
       "      <th>CESC</th>\n",
       "      <td>1.000000</td>\n",
       "      <td>1.000000</td>\n",
       "      <td>4.493812e-01</td>\n",
       "      <td>1.000000</td>\n",
       "      <td>8.994782e-01</td>\n",
       "      <td>5.009490e-01</td>\n",
       "    </tr>\n",
       "    <tr>\n",
       "      <th>LIHC</th>\n",
       "      <td>0.001425</td>\n",
       "      <td>0.031600</td>\n",
       "      <td>2.736463e-07</td>\n",
       "      <td>0.040499</td>\n",
       "      <td>7.445888e-02</td>\n",
       "      <td>2.532742e-07</td>\n",
       "    </tr>\n",
       "    <tr>\n",
       "      <th>BLCA</th>\n",
       "      <td>0.011324</td>\n",
       "      <td>0.000000</td>\n",
       "      <td>0.000000e+00</td>\n",
       "      <td>0.000008</td>\n",
       "      <td>0.000000e+00</td>\n",
       "      <td>0.000000e+00</td>\n",
       "    </tr>\n",
       "    <tr>\n",
       "      <th>STAD</th>\n",
       "      <td>0.144336</td>\n",
       "      <td>0.012927</td>\n",
       "      <td>3.670597e-03</td>\n",
       "      <td>0.000015</td>\n",
       "      <td>1.182831e-07</td>\n",
       "      <td>9.795966e-07</td>\n",
       "    </tr>\n",
       "    <tr>\n",
       "      <th>COAD</th>\n",
       "      <td>1.000000</td>\n",
       "      <td>1.000000</td>\n",
       "      <td>1.000000e+00</td>\n",
       "      <td>1.000000</td>\n",
       "      <td>1.000000e+00</td>\n",
       "      <td>9.792969e-02</td>\n",
       "    </tr>\n",
       "    <tr>\n",
       "      <th>LUSC</th>\n",
       "      <td>0.078987</td>\n",
       "      <td>0.002874</td>\n",
       "      <td>2.912956e-03</td>\n",
       "      <td>0.000677</td>\n",
       "      <td>1.069775e-05</td>\n",
       "      <td>1.258269e-06</td>\n",
       "    </tr>\n",
       "    <tr>\n",
       "      <th>PRAD</th>\n",
       "      <td>0.001958</td>\n",
       "      <td>0.001487</td>\n",
       "      <td>5.249432e-07</td>\n",
       "      <td>0.045610</td>\n",
       "      <td>5.905567e-03</td>\n",
       "      <td>0.000000e+00</td>\n",
       "    </tr>\n",
       "    <tr>\n",
       "      <th>KIRC</th>\n",
       "      <td>0.077978</td>\n",
       "      <td>0.088987</td>\n",
       "      <td>9.642185e-02</td>\n",
       "      <td>0.041031</td>\n",
       "      <td>7.585649e-02</td>\n",
       "      <td>6.318799e-02</td>\n",
       "    </tr>\n",
       "    <tr>\n",
       "      <th>THCA</th>\n",
       "      <td>0.000151</td>\n",
       "      <td>0.000211</td>\n",
       "      <td>4.570147e-05</td>\n",
       "      <td>0.000008</td>\n",
       "      <td>0.000000e+00</td>\n",
       "      <td>0.000000e+00</td>\n",
       "    </tr>\n",
       "    <tr>\n",
       "      <th>LUAD</th>\n",
       "      <td>0.078646</td>\n",
       "      <td>0.247745</td>\n",
       "      <td>0.000000e+00</td>\n",
       "      <td>1.000000</td>\n",
       "      <td>4.753644e-03</td>\n",
       "      <td>3.881776e-05</td>\n",
       "    </tr>\n",
       "    <tr>\n",
       "      <th>LGG</th>\n",
       "      <td>1.000000</td>\n",
       "      <td>1.000000</td>\n",
       "      <td>1.000000e+00</td>\n",
       "      <td>1.000000</td>\n",
       "      <td>8.902304e-01</td>\n",
       "      <td>6.185575e-03</td>\n",
       "    </tr>\n",
       "    <tr>\n",
       "      <th>HNSC</th>\n",
       "      <td>0.452317</td>\n",
       "      <td>0.030220</td>\n",
       "      <td>1.042411e-03</td>\n",
       "      <td>0.000684</td>\n",
       "      <td>1.046556e-05</td>\n",
       "      <td>9.262948e-07</td>\n",
       "    </tr>\n",
       "    <tr>\n",
       "      <th>UCEC</th>\n",
       "      <td>0.021199</td>\n",
       "      <td>0.000003</td>\n",
       "      <td>0.000000e+00</td>\n",
       "      <td>0.000016</td>\n",
       "      <td>3.201684e-07</td>\n",
       "      <td>1.851130e-07</td>\n",
       "    </tr>\n",
       "    <tr>\n",
       "      <th>BRCA</th>\n",
       "      <td>1.000000</td>\n",
       "      <td>0.000198</td>\n",
       "      <td>4.188388e-05</td>\n",
       "      <td>1.000000</td>\n",
       "      <td>7.446799e-02</td>\n",
       "      <td>5.230752e-04</td>\n",
       "    </tr>\n",
       "    <tr>\n",
       "      <th>PAN</th>\n",
       "      <td>1.000000</td>\n",
       "      <td>0.000035</td>\n",
       "      <td>3.903328e-07</td>\n",
       "      <td>1.000000</td>\n",
       "      <td>1.029783e-05</td>\n",
       "      <td>0.000000e+00</td>\n",
       "    </tr>\n",
       "  </tbody>\n",
       "</table>\n",
       "</div>"
      ],
      "text/plain": [
       "n      all_100   all_500      all_1000  strong_100    strong_500   strong_1000\n",
       "CHOL  0.012928  0.000282  2.216039e-05    0.044210  8.438281e-02  6.699086e-04\n",
       "DLBC  1.000000  1.000000  4.390561e-02    1.000000  1.000000e+00  1.000000e+00\n",
       "UCS   0.000163  0.034313  1.299621e-03    0.041815  9.183866e-01  4.188977e-05\n",
       "KICH  1.000000  0.011297  1.719406e-04    1.000000  8.017122e-02  6.782149e-02\n",
       "ACC   1.000000  0.716888  2.635288e-01    1.000000  9.375176e-01  1.000000e+00\n",
       "UVM   1.000000  1.000000  1.000000e+00    1.000000  1.000000e+00  1.000000e+00\n",
       "MESO  0.012305  0.000944  2.229928e-02    0.000706  0.000000e+00  0.000000e+00\n",
       "SKCM  0.460790  0.093506  4.570719e-02    0.041261  7.646810e-02  6.483476e-03\n",
       "THYM  0.476149  0.003313  1.341815e-06    1.000000  9.163238e-01  6.512095e-02\n",
       "TGCT  1.000000  0.009925  1.016029e-01    1.000000  1.000000e+00  1.000000e+00\n",
       "READ  1.000000  1.000000  1.000000e+00    1.000000  1.000000e+00  1.000000e+00\n",
       "PAAD  1.000000  0.097765  2.077775e-02    1.000000  0.000000e+00  0.000000e+00\n",
       "PCPG  1.000000  0.266561  1.251846e-03    1.000000  9.122156e-01  6.574565e-03\n",
       "ESCA  1.000000  0.005153  9.312091e-04    1.000000  1.000000e+00  5.735361e-01\n",
       "SARC  0.079238  0.031072  1.003276e-01    0.040545  2.387469e-04  5.245498e-04\n",
       "KIRP  1.000000  1.000000  1.000000e+00    0.040782  8.972699e-01  4.991866e-01\n",
       "OV    1.000000  1.000000  1.000000e+00    1.000000  8.765155e-02  7.231583e-04\n",
       "CESC  1.000000  1.000000  4.493812e-01    1.000000  8.994782e-01  5.009490e-01\n",
       "LIHC  0.001425  0.031600  2.736463e-07    0.040499  7.445888e-02  2.532742e-07\n",
       "BLCA  0.011324  0.000000  0.000000e+00    0.000008  0.000000e+00  0.000000e+00\n",
       "STAD  0.144336  0.012927  3.670597e-03    0.000015  1.182831e-07  9.795966e-07\n",
       "COAD  1.000000  1.000000  1.000000e+00    1.000000  1.000000e+00  9.792969e-02\n",
       "LUSC  0.078987  0.002874  2.912956e-03    0.000677  1.069775e-05  1.258269e-06\n",
       "PRAD  0.001958  0.001487  5.249432e-07    0.045610  5.905567e-03  0.000000e+00\n",
       "KIRC  0.077978  0.088987  9.642185e-02    0.041031  7.585649e-02  6.318799e-02\n",
       "THCA  0.000151  0.000211  4.570147e-05    0.000008  0.000000e+00  0.000000e+00\n",
       "LUAD  0.078646  0.247745  0.000000e+00    1.000000  4.753644e-03  3.881776e-05\n",
       "LGG   1.000000  1.000000  1.000000e+00    1.000000  8.902304e-01  6.185575e-03\n",
       "HNSC  0.452317  0.030220  1.042411e-03    0.000684  1.046556e-05  9.262948e-07\n",
       "UCEC  0.021199  0.000003  0.000000e+00    0.000016  3.201684e-07  1.851130e-07\n",
       "BRCA  1.000000  0.000198  4.188388e-05    1.000000  7.446799e-02  5.230752e-04\n",
       "PAN   1.000000  0.000035  3.903328e-07    1.000000  1.029783e-05  0.000000e+00"
      ]
     },
     "execution_count": 66,
     "metadata": {},
     "output_type": "execute_result"
    }
   ],
   "source": [
    "all_ns.join(strong_ns)"
   ]
  },
  {
   "cell_type": "code",
   "execution_count": 67,
   "metadata": {},
   "outputs": [
    {
     "data": {
      "text/plain": [
       "n\n",
       "all_100      8\n",
       "all_500     18\n",
       "all_1000    21\n",
       "dtype: int64"
      ]
     },
     "execution_count": 67,
     "metadata": {},
     "output_type": "execute_result"
    }
   ],
   "source": [
    "(all_ns < 0.05).sum()"
   ]
  },
  {
   "cell_type": "code",
   "execution_count": 68,
   "metadata": {},
   "outputs": [
    {
     "data": {
      "text/plain": [
       "n\n",
       "strong_100     15\n",
       "strong_500     12\n",
       "strong_1000    20\n",
       "dtype: int64"
      ]
     },
     "execution_count": 68,
     "metadata": {},
     "output_type": "execute_result"
    }
   ],
   "source": [
    "(strong_ns < 0.05).sum()"
   ]
  },
  {
   "cell_type": "code",
   "execution_count": 69,
   "metadata": {},
   "outputs": [],
   "source": [
    "del all_ns\n",
    "del strong_ns"
   ]
  },
  {
   "cell_type": "markdown",
   "metadata": {},
   "source": [
    "#### Hypergeometric test p-values for enrichment of miRTarBase interactions (all or those with strong support type entries only) in top n anticorrelations per cancer type and pan-cancer; n = 100, 500, 1000. FDR control using two-stage Benjamini-Hochberg."
   ]
  },
  {
   "cell_type": "code",
   "execution_count": 66,
   "metadata": {},
   "outputs": [
    {
     "name": "stdout",
     "output_type": "stream",
     "text": [
      "Copying file://temp.csv [Content-Type=text/csv]...\n",
      "/ [1 files][  4.0 KiB/  4.0 KiB]                                                \n",
      "Operation completed over 1 objects/4.0 KiB.                                      \n"
     ]
    }
   ],
   "source": [
    "all_ns = cancer_type_top_n_spearman_corrs_mirtarbase_pvals_2sbh_adj.loc[[100, 500, 1000], :].T.rename(columns=lambda n: 'all_' + str(n))\n",
    "strong_ns = cancer_type_top_n_spearman_corrs_mtbase_strong_pvals_2sbh_adj.loc[[100, 500, 1000], :].T.rename(columns=lambda n: 'strong_' + str(n))\n",
    "write_df_to_csv(all_ns.join(strong_ns), 'cancer_type', 'gs://yfl-mirna/analysis/enrichment/cancer-type_top-n-spearman_all-vs-strong-mtb_pvals-2sbh-adj.csv')"
   ]
  },
  {
   "cell_type": "code",
   "execution_count": null,
   "metadata": {},
   "outputs": [],
   "source": [
    "all_ns.join(strong_ns)"
   ]
  },
  {
   "cell_type": "code",
   "execution_count": null,
   "metadata": {},
   "outputs": [],
   "source": [
    "(all_ns < 0.05).sum()"
   ]
  },
  {
   "cell_type": "code",
   "execution_count": null,
   "metadata": {},
   "outputs": [],
   "source": [
    "(strong_ns < 0.05).sum()"
   ]
  },
  {
   "cell_type": "code",
   "execution_count": 64,
   "metadata": {},
   "outputs": [],
   "source": [
    "del all_ns\n",
    "del strong_ns"
   ]
  },
  {
   "cell_type": "markdown",
   "metadata": {},
   "source": [
    "#### More cruft?"
   ]
  },
  {
   "cell_type": "code",
   "execution_count": null,
   "metadata": {},
   "outputs": [],
   "source": [
    "pd.concat([cancer_type_top_n_log_corrs_mirtarbase_pvals_bf_adj.loc[[100, 500, 1000], :].T, cancer_type_top_n_log_corrs_mtbase_strong_pvals_bf_adj.loc[[100, 500, 1000], :].T], axis=1)"
   ]
  },
  {
   "cell_type": "code",
   "execution_count": 66,
   "metadata": {},
   "outputs": [],
   "source": [
    "cancer_type_top_n_spearman_corrs_mtbase_strong_pvals_bh_adj = read_file(bucket, 'analysis/enrichment/cancer-type_top-n-spearman-corrs-mtbase-strong_pvals-bh-adj.csv')\n",
    "cancer_type_top_n_spearman_corrs_mtbase_strong_pvals_bh_adj.set_index('n', inplace=True)"
   ]
  },
  {
   "cell_type": "code",
   "execution_count": 67,
   "metadata": {},
   "outputs": [],
   "source": [
    "cancer_type_top_n_spearman_corrs_mtbase_strong_pvals_2sbh_adj = read_file(bucket, 'analysis/enrichment/cancer-type_top-n-spearman-corrs-mtbase-strong_pvals-2sbh-adj.csv')\n",
    "cancer_type_top_n_spearman_corrs_mtbase_strong_pvals_2sbh_adj.set_index('n', inplace=True)"
   ]
  },
  {
   "cell_type": "code",
   "execution_count": 68,
   "metadata": {},
   "outputs": [],
   "source": [
    "data = { 'log': (cancer_type_top_n_log_corrs_mirtarbase_pvals_2sbh_adj <= 0.05).sum(), 'spearman': (cancer_type_top_n_spearman_corrs_mirtarbase_pvals_2sbh_adj <= 0.05).sum(),\n",
    "         'log_strong': (cancer_type_top_n_log_corrs_mtbase_strong_pvals_2sbh_adj <= 0.05).sum(),\n",
    "         'spearman_strong': (cancer_type_top_n_spearman_corrs_mtbase_strong_pvals_2sbh_adj <= 0.05).sum() }\n",
    "cancertype_topn_corrs_mtb_enrichment_2sbh_adj_5pct_sign_counts = pd.DataFrame(data, index=cancer_types_list)"
   ]
  },
  {
   "cell_type": "code",
   "execution_count": 69,
   "metadata": {},
   "outputs": [],
   "source": [
    "data = {'log': (cancer_type_top_n_log_corrs_mirtarbase_pvals_2sbh_adj <= 0.05).sum(axis=1), 'spearman': (cancer_type_top_n_spearman_corrs_mirtarbase_pvals_2sbh_adj <= 0.05).sum(axis=1),\n",
    "        'log_strong': (cancer_type_top_n_log_corrs_mtbase_strong_pvals_2sbh_adj <= 0.05).sum(axis=1),\n",
    "        'spearman_strong': (cancer_type_top_n_spearman_corrs_mtbase_strong_pvals_2sbh_adj <= 0.05).sum(axis=1) }\n",
    "cancertype_topn_corrs_mtb_enrichment_2sbh_adj_5pct_sigtype_counts = pd.DataFrame(data, index=hypergeom_test_ns)"
   ]
  },
  {
   "cell_type": "markdown",
   "metadata": {},
   "source": [
    "## Hypergeometric test for miRTarBase enrichment in n strongest mRNA expression anticorrelations per miRNA"
   ]
  },
  {
   "cell_type": "markdown",
   "metadata": {},
   "source": [
    "#### TODO: Delete all *2sbh?"
   ]
  },
  {
   "cell_type": "code",
   "execution_count": 70,
   "metadata": {},
   "outputs": [],
   "source": [
    "hypergeom_test_ns = [50, 100, 250, 500, 750, 1000]"
   ]
  },
  {
   "cell_type": "code",
   "execution_count": 71,
   "metadata": {},
   "outputs": [],
   "source": [
    "hypergeom_test_n_strs = map(str, hypergeom_test_ns)"
   ]
  },
  {
   "cell_type": "markdown",
   "metadata": {},
   "source": [
    "### All miRTarBase relationships"
   ]
  },
  {
   "cell_type": "code",
   "execution_count": 46,
   "metadata": {},
   "outputs": [],
   "source": [
    "cancertype_n_log_corrs_sig_pval_counts_bh = pd.DataFrame(None, cancer_types_list, hypergeom_test_n_strs)\n",
    "#cancertype_n_log_corrs_sig_pval_counts_2sbh = pd.DataFrame(None, cancer_types_list, hypergeom_test_n_strs)"
   ]
  },
  {
   "cell_type": "code",
   "execution_count": 47,
   "metadata": {},
   "outputs": [],
   "source": [
    "cancertype_n_spearman_corrs_sig_pval_counts_bh = pd.DataFrame(None, cancer_types_list, hypergeom_test_n_strs)\n",
    "#cancertype_n_spearman_corrs_sig_pval_counts_2sbh = pd.DataFrame(None, cancer_types_list, hypergeom_test_n_strs)"
   ]
  },
  {
   "cell_type": "code",
   "execution_count": 48,
   "metadata": {},
   "outputs": [],
   "source": [
    "cancertype_miRNA_top50_log_corrs_log2OE = pd.DataFrame(None, cancer_types_list, miRNAmRNAs_in_mirtarbase_mask.index)\n",
    "cancertype_miRNA_top50_log_corrs_pval_bh_adj = pd.DataFrame(None, cancer_types_list, miRNAmRNAs_in_mirtarbase_mask.index)\n",
    "cancertype_top50_log_corrs_mtbase_sig_miRNAs_mask = pd.DataFrame(False, cancer_types_list, miRNAmRNAs_in_mirtarbase_mask.index)"
   ]
  },
  {
   "cell_type": "code",
   "execution_count": 49,
   "metadata": {},
   "outputs": [],
   "source": [
    "cancertype_miRNA_top50_spearman_corrs_log2OE = pd.DataFrame(None, cancer_types_list, miRNAmRNAs_in_mirtarbase_mask.index)\n",
    "cancertype_miRNA_top50_spearman_corrs_pval_bh_adj = pd.DataFrame(None, cancer_types_list, miRNAmRNAs_in_mirtarbase_mask.index)\n",
    "cancertype_top50_spearman_corrs_mtbase_sig_miRNAs_mask = pd.DataFrame(False, cancer_types_list, miRNAmRNAs_in_mirtarbase_mask.index)"
   ]
  },
  {
   "cell_type": "markdown",
   "metadata": {},
   "source": [
    "#### TODO: Delete the next two (and all subsequent references/usage)?"
   ]
  },
  {
   "cell_type": "code",
   "execution_count": 36,
   "metadata": {},
   "outputs": [],
   "source": [
    "cancertype_miRNA_top500_log_corrs_log2OE = pd.DataFrame(None, cancer_types_list, miRNAmRNAs_in_mirtarbase_mask.index)\n",
    "cancertype_miRNA_top500_log_corrs_pval_bh_adj = pd.DataFrame(None, cancer_types_list, miRNAmRNAs_in_mirtarbase_mask.index)\n",
    "cancertype_top500_log_corrs_mtbase_sig_miRNAs_mask = pd.DataFrame(False, cancer_types_list, miRNAmRNAs_in_mirtarbase_mask.index)\n",
    "cancertype_miRNA_top500_log_corrs_pval_2sbh_adj = pd.DataFrame(None, cancer_types_list, miRNAmRNAs_in_mirtarbase_mask.index)"
   ]
  },
  {
   "cell_type": "code",
   "execution_count": 37,
   "metadata": {},
   "outputs": [],
   "source": [
    "cancertype_miRNA_top500_spearman_corrs_log2OE = pd.DataFrame(None, cancer_types_list, miRNAmRNAs_in_mirtarbase_mask.index)\n",
    "cancertype_miRNA_top500_spearman_corrs_pval_bh_adj = pd.DataFrame(None, cancer_types_list, miRNAmRNAs_in_mirtarbase_mask.index)\n",
    "cancertype_top500_spearman_corrs_mtbase_sig_miRNAs_mask = pd.DataFrame(False, cancer_types_list, miRNAmRNAs_in_mirtarbase_mask.index)\n",
    "cancertype_miRNA_top500_spearman_corrs_pval_2sbh_adj = pd.DataFrame(None, cancer_types_list, miRNAmRNAs_in_mirtarbase_mask.index)"
   ]
  },
  {
   "cell_type": "markdown",
   "metadata": {},
   "source": [
    "#### Pan-cancer"
   ]
  },
  {
   "cell_type": "code",
   "execution_count": 72,
   "metadata": {},
   "outputs": [],
   "source": [
    "miRNAs = miRNAmRNAs_in_mirtarbase_mask.index # making use of this coinciding with miRNAmRNA_log_corrs.index\n",
    "mRNAs = miRNAmRNA_pancan_corrs_in_mirtarbase_mask.columns.intersection(miRNAmRNA_log_corrs.columns)\n",
    "pancan_corrs_in_mirtarbase_mask = miRNAmRNA_pancan_corrs_in_mirtarbase_mask.loc[miRNAs, mRNAs]\n",
    "miRNA_pancan_target_counts = pancan_corrs_in_mirtarbase_mask.sum(axis=1)"
   ]
  },
  {
   "cell_type": "code",
   "execution_count": 73,
   "metadata": {},
   "outputs": [
    {
     "data": {
      "text/plain": [
       "743"
      ]
     },
     "execution_count": 73,
     "metadata": {},
     "output_type": "execute_result"
    }
   ],
   "source": [
    "(miRNAs == miRNAmRNAs_in_mirtarbase_mask.index).sum()"
   ]
  },
  {
   "cell_type": "code",
   "execution_count": 74,
   "metadata": {},
   "outputs": [],
   "source": [
    "N = mRNAs.size"
   ]
  },
  {
   "cell_type": "code",
   "execution_count": 75,
   "metadata": {},
   "outputs": [],
   "source": [
    "hypergeom_test_miRNA_n_rvs = pd.DataFrame(None, miRNAs, hypergeom_test_n_strs)\n",
    "hypergeom_test_miRNA_n_rvs = hypergeom_test_miRNA_n_rvs.apply(lambda n: miRNA_pancan_target_counts.map(lambda count: stats.hypergeom(N, count, int(n.name))))"
   ]
  },
  {
   "cell_type": "code",
   "execution_count": 41,
   "metadata": {},
   "outputs": [],
   "source": [
    "miRNA_top_n_log_corrs_mask = {}\n",
    "miRNA_top_n_spearman_corrs_mask = {}"
   ]
  },
  {
   "cell_type": "code",
   "execution_count": 42,
   "metadata": {},
   "outputs": [],
   "source": [
    "for n in hypergeom_test_n_strs:\n",
    "  miRNA_top_n_log_corrs_mask[n] = pd.DataFrame(False, miRNAs, mRNAs)\n",
    "  miRNA_top_n_log_corrs = miRNAmRNA_log_corrs.loc[miRNAs, mRNAs].apply(lambda row: row.argsort()[:int(n)], axis=1)\n",
    "  for miRNA in miRNA_top_n_log_corrs_mask[n].index:\n",
    "    miRNA_top_n_log_corrs_mask[n].loc[miRNA][miRNA_top_n_log_corrs.loc[miRNA]] = True\n",
    "  miRNA_top_n_spearman_corrs_mask[n] = pd.DataFrame(False, miRNAs, mRNAs)\n",
    "  miRNA_top_n_spearman_corrs = miRNAmRNA_spearman_corrs.loc[miRNAs, mRNAs].apply(lambda row: row.argsort()[:int(n)], axis=1)\n",
    "  for miRNA in miRNA_top_n_spearman_corrs_mask[n].index:\n",
    "    miRNA_top_n_spearman_corrs_mask[n].loc[miRNA][miRNA_top_n_spearman_corrs.loc[miRNA]] = True"
   ]
  },
  {
   "cell_type": "code",
   "execution_count": 38,
   "metadata": {},
   "outputs": [],
   "source": [
    "def get_pval(rvs, top_n_counts, miRNA):\n",
    "  return (1 - rvs[top_n_counts.name][miRNA].cdf(top_n_counts[miRNA]))"
   ]
  },
  {
   "cell_type": "code",
   "execution_count": 44,
   "metadata": {},
   "outputs": [],
   "source": [
    "miRNA_top_n_log_corrs_mtbase_counts = pd.DataFrame(None, miRNAs, hypergeom_test_n_strs)\n",
    "miRNA_top_n_log_corrs_mtbase_counts = miRNA_top_n_log_corrs_mtbase_counts.apply(lambda n: (miRNA_top_n_log_corrs_mask[n.name] & pancan_corrs_in_mirtarbase_mask).sum(axis=1))\n",
    "miRNA_top_n_log_corrs_mtbase_pvals = miRNA_top_n_log_corrs_mtbase_counts.apply(lambda counts: miRNAs.map(lambda miRNA: get_pval(hypergeom_test_miRNA_n_rvs, counts, miRNA)))"
   ]
  },
  {
   "cell_type": "code",
   "execution_count": 46,
   "metadata": {},
   "outputs": [],
   "source": [
    "miRNA_top_n_spearman_corrs_mtbase_counts = pd.DataFrame(None, miRNAs, hypergeom_test_n_strs)\n",
    "miRNA_top_n_spearman_corrs_mtbase_counts = miRNA_top_n_spearman_corrs_mtbase_counts.apply(lambda n: (miRNA_top_n_spearman_corrs_mask[n.name] & pancan_corrs_in_mirtarbase_mask).sum(axis=1))\n",
    "miRNA_top_n_spearman_corrs_mtbase_pvals = miRNA_top_n_spearman_corrs_mtbase_counts.apply(lambda counts: miRNAs.map(lambda miRNA: get_pval(hypergeom_test_miRNA_n_rvs, counts, miRNA)))"
   ]
  },
  {
   "cell_type": "code",
   "execution_count": 48,
   "metadata": {},
   "outputs": [],
   "source": [
    "pancan_miRNA_top_n_log_corrs_mtbase_pvals_bh_adj = miRNA_top_n_log_corrs_mtbase_pvals.apply(benjaminihochberg)\n",
    "pancan_miRNA_top_n_log_corrs_mtbase_pvals_2sbh_adj = miRNA_top_n_log_corrs_mtbase_pvals.apply(benjaminihochberg_2stage)\n",
    "pancan_miRNA_top_n_spearman_corrs_mtbase_pvals_bh_adj = miRNA_top_n_spearman_corrs_mtbase_pvals.apply(benjaminihochberg)\n",
    "pancan_miRNA_top_n_spearman_corrs_mtbase_pvals_2sbh_adj = miRNA_top_n_spearman_corrs_mtbase_pvals.apply(benjaminihochberg_2stage)"
   ]
  },
  {
   "cell_type": "code",
   "execution_count": null,
   "metadata": {},
   "outputs": [],
   "source": [
    "write_df_to_csv(miRNA_top_n_log_corrs_mtbase_counts, 'miRNA', 'gs://yfl-mirna/analysis/enrichment/miRNA_top-n-log-corrs-mtbase_counts.csv')\n",
    "write_df_to_csv(miRNA_top_n_spearman_corrs_mtbase_counts, 'miRNA', 'gs://yfl-mirna/analysis/enrichment/miRNA_top-n-spearman-corrs-mtbase_counts.csv')\n",
    "write_df_to_csv(pancan_miRNA_top_n_log_corrs_mtbase_pvals_bh_adj, 'miRNA', 'gs://yfl-mirna/analysis/enrichment/miRNA_top-n-log-corrs-mtbase_pvals-bh-adj.csv')\n",
    "write_df_to_csv(pancan_miRNA_top_n_spearman_corrs_mtbase_pvals_bh_adj, 'miRNA', 'gs://yfl-mirna/analysis/enrichment/miRNA_top-n-spearman-corrs-mtbase_pvals-bh-adj.csv')"
   ]
  },
  {
   "cell_type": "code",
   "execution_count": 57,
   "metadata": {},
   "outputs": [],
   "source": [
    "cancertype_n_log_corrs_sig_pval_counts_bh.loc['PAN'] = (pancan_miRNA_top_n_log_corrs_mtbase_pvals_bh_adj <= 0.05).sum()\n",
    "cancertype_n_log_corrs_sig_pval_counts_2sbh.loc['PAN'] = (pancan_miRNA_top_n_log_corrs_mtbase_pvals_2sbh_adj <= 0.05).sum()"
   ]
  },
  {
   "cell_type": "code",
   "execution_count": 58,
   "metadata": {},
   "outputs": [],
   "source": [
    "cancertype_n_spearman_corrs_sig_pval_counts_bh.loc['PAN'] = (pancan_miRNA_top_n_spearman_corrs_mtbase_pvals_bh_adj <= 0.05).sum()\n",
    "cancertype_n_spearman_corrs_sig_pval_counts_2sbh.loc['PAN'] = (pancan_miRNA_top_n_spearman_corrs_mtbase_pvals_2sbh_adj <= 0.05).sum()"
   ]
  },
  {
   "cell_type": "code",
   "execution_count": 52,
   "metadata": {},
   "outputs": [],
   "source": [
    "cancertype_miRNA_top50_log_corrs_log2OE.loc['PAN', miRNAs] = ((miRNA_top_n_log_corrs_mtbase_counts['50'] * 1.0) / (miRNA_pancan_target_counts * 50.0 / N))\n",
    "cancertype_miRNA_top50_log_corrs_log2OE.loc['PAN', miRNAs] = cancertype_miRNA_top50_log_corrs_log2OE.loc['PAN', miRNAs].map(lambda oe: m.log(oe + 1, 2))\n",
    "cancertype_miRNA_top50_log_corrs_pval_bh_adj.loc['PAN'] = pancan_miRNA_top_n_log_corrs_mtbase_pvals_bh_adj['50']\n",
    "cancertype_top50_log_corrs_mtbase_sig_miRNAs_mask.loc['PAN'] = (pancan_miRNA_top_n_log_corrs_mtbase_pvals_bh_adj['50'] <= 0.05)"
   ]
  },
  {
   "cell_type": "code",
   "execution_count": 53,
   "metadata": {},
   "outputs": [],
   "source": [
    "cancertype_miRNA_top50_spearman_corrs_log2OE.loc['PAN', miRNAs] = ((miRNA_top_n_spearman_corrs_mtbase_counts['50'] * 1.0) / (miRNA_pancan_target_counts * 50.0 / N))\n",
    "cancertype_miRNA_top50_spearman_corrs_log2OE.loc['PAN', miRNAs] = cancertype_miRNA_top50_spearman_corrs_log2OE.loc['PAN', miRNAs].map(lambda oe: m.log(oe + 1, 2))\n",
    "cancertype_miRNA_top50_spearman_corrs_pval_bh_adj.loc['PAN'] = pancan_miRNA_top_n_spearman_corrs_mtbase_pvals_bh_adj['50']\n",
    "cancertype_top50_spearman_corrs_mtbase_sig_miRNAs_mask.loc['PAN'] = (pancan_miRNA_top_n_spearman_corrs_mtbase_pvals_bh_adj['50'] <= 0.05)"
   ]
  },
  {
   "cell_type": "markdown",
   "metadata": {},
   "source": [
    "#### TODO: Delete next 2 cells?"
   ]
  },
  {
   "cell_type": "code",
   "execution_count": 52,
   "metadata": {},
   "outputs": [],
   "source": [
    "cancertype_miRNA_top500_log_corrs_log2OE.loc['PAN', miRNAs] = ((miRNA_top_n_log_corrs_mtbase_counts['500'] * 1.0) / (miRNA_pancan_target_counts * 500.0 / N))\n",
    "cancertype_miRNA_top500_log_corrs_log2OE.loc['PAN', miRNAs] = cancertype_miRNA_top500_log_corrs_log2OE.loc['PAN', miRNAs].map(lambda oe: m.log(oe + 1, 2))\n",
    "cancertype_miRNA_top500_log_corrs_pval_bh_adj.loc['PAN'] = pancan_miRNA_top_n_log_corrs_mtbase_pvals_bh_adj['500']\n",
    "cancertype_top500_log_corrs_mtbase_sig_miRNAs_mask.loc['PAN'] = (pancan_miRNA_top_n_log_corrs_mtbase_pvals_bh_adj['500'] <= 0.05)\n",
    "cancertype_miRNA_top500_log_corrs_pval_2sbh_adj.loc['PAN'] = pancan_miRNA_top_n_log_corrs_mtbase_pvals_2sbh_adj['500']"
   ]
  },
  {
   "cell_type": "code",
   "execution_count": 53,
   "metadata": {},
   "outputs": [],
   "source": [
    "cancertype_miRNA_top500_spearman_corrs_log2OE.loc['PAN', miRNAs] = ((miRNA_top_n_spearman_corrs_mtbase_counts['500'] * 1.0) / (miRNA_pancan_target_counts * 500.0 / N))\n",
    "cancertype_miRNA_top500_spearman_corrs_log2OE.loc['PAN', miRNAs] = cancertype_miRNA_top500_spearman_corrs_log2OE.loc['PAN', miRNAs].map(lambda oe: m.log(oe + 1, 2))\n",
    "cancertype_miRNA_top500_spearman_corrs_pval_bh_adj.loc['PAN'] = pancan_miRNA_top_n_spearman_corrs_mtbase_pvals_bh_adj['500']\n",
    "cancertype_top500_spearman_corrs_mtbase_sig_miRNAs_mask.loc['PAN'] = (pancan_miRNA_top_n_spearman_corrs_mtbase_pvals_bh_adj['500'] <= 0.05)\n",
    "cancertype_miRNA_top500_spearman_corrs_pval_2sbh_adj.loc['PAN'] = pancan_miRNA_top_n_spearman_corrs_mtbase_pvals_2sbh_adj['500']"
   ]
  },
  {
   "cell_type": "code",
   "execution_count": 149,
   "metadata": {},
   "outputs": [],
   "source": [
    "for cancer_type in cancer_types:\n",
    "  type_miRNAmRNA_log_corrs = get_corrs_df(bucket, 'explore/miRTar/pearson-corrs/data/mirtar-log-corrs_' + cancer_type + '.csv', 'miRNA')\n",
    "  type_miRNAmRNA_spearman_corrs = get_corrs_df(bucket, 'explore/miRTar/spearman-corrs/data/mirtar-spearman-corrs_' + cancer_type + '.csv', 'miRNA')\n",
    "  miRNAs = miRNAmRNAs_in_mirtarbase_mask.index.intersection(type_miRNAmRNA_log_corrs.index)\n",
    "  mRNAs = miRNAmRNAs_in_mirtarbase_mask.columns.intersection(type_miRNAmRNA_log_corrs.columns)\n",
    "  corrs_in_mirtarbase_mask = miRNAmRNAs_in_mirtarbase_mask.loc[miRNAs, mRNAs]\n",
    "  miRNA_target_counts = corrs_in_mirtarbase_mask.sum(axis=1)\n",
    "  N = mRNAs.size\n",
    "  hypergeom_test_miRNA_n_rvs = pd.DataFrame(None, miRNAs, hypergeom_test_n_strs)\n",
    "  hypergeom_test_miRNA_n_rvs = hypergeom_test_miRNA_n_rvs.apply(lambda n: miRNA_target_counts.map(lambda count: stats.hypergeom(N, count, int(n.name))))\n",
    "  type_miRNA_top_n_log_corrs_mask = {}\n",
    "  type_miRNA_top_n_spearman_corrs_mask = {}\n",
    "  for n in hypergeom_test_n_strs:  \n",
    "    type_miRNA_top_n_log_corrs_mask[n] = pd.DataFrame(False, miRNAs, mRNAs)\n",
    "    type_miRNA_top_n_log_corrs = type_miRNAmRNA_log_corrs.loc[miRNAs, mRNAs].apply(lambda row: row.argsort()[:int(n)], axis=1)\n",
    "    for miRNA in type_miRNA_top_n_log_corrs_mask[n].index:\n",
    "      type_miRNA_top_n_log_corrs_mask[n].loc[miRNA][type_miRNA_top_n_log_corrs.loc[miRNA]] = True\n",
    "    type_miRNA_top_n_spearman_corrs_mask[n] = pd.DataFrame(False, miRNAs, mRNAs)\n",
    "    type_miRNA_top_n_spearman_corrs = type_miRNAmRNA_spearman_corrs.apply(lambda row: row.argsort()[:int(n)], axis=1)\n",
    "    for miRNA in type_miRNA_top_n_spearman_corrs_mask[n].index:\n",
    "      type_miRNA_top_n_spearman_corrs_mask[n].loc[miRNA][type_miRNA_top_n_spearman_corrs.loc[miRNA]] = True\n",
    "  \n",
    "  type_miRNA_top_n_log_corrs_mtbase_counts = pd.DataFrame(None, miRNAs, hypergeom_test_n_strs)\n",
    "  type_miRNA_top_n_log_corrs_mtbase_counts = type_miRNA_top_n_log_corrs_mtbase_counts.apply(lambda n: (type_miRNA_top_n_log_corrs_mask[n.name] & corrs_in_mirtarbase_mask).sum(axis=1))\n",
    "  type_miRNA_top_n_log_corrs_mtbase_pvals = type_miRNA_top_n_log_corrs_mtbase_counts.apply(lambda counts: miRNAs.map(lambda miRNA: get_pval(hypergeom_test_miRNA_n_rvs, counts, miRNA)))\n",
    "  type_miRNA_top_n_log_corrs_mtbase_pvals_bh_adj = type_miRNA_top_n_log_corrs_mtbase_pvals.apply(benjaminihochberg)\n",
    "  type_miRNA_top_n_log_corrs_mtbase_pvals_2sbh_adj = type_miRNA_top_n_log_corrs_mtbase_pvals.apply(benjaminihochberg_2stage)\n",
    "  \n",
    "  type_miRNA_top_n_spearman_corrs_mtbase_counts = pd.DataFrame(None, miRNAs, hypergeom_test_n_strs)\n",
    "  type_miRNA_top_n_spearman_corrs_mtbase_counts = type_miRNA_top_n_spearman_corrs_mtbase_counts.apply(lambda n: (type_miRNA_top_n_spearman_corrs_mask[n.name] & corrs_in_mirtarbase_mask).sum(axis=1))\n",
    "  type_miRNA_top_n_spearman_corrs_mtbase_pvals = type_miRNA_top_n_spearman_corrs_mtbase_counts.apply(lambda counts: miRNAs.map(lambda miRNA: get_pval(hypergeom_test_miRNA_n_rvs, counts, miRNA)))\n",
    "  type_miRNA_top_n_spearman_corrs_mtbase_pvals_bh_adj = type_miRNA_top_n_spearman_corrs_mtbase_pvals.apply(benjaminihochberg)\n",
    "  type_miRNA_top_n_spearman_corrs_mtbase_pvals_2sbh_adj = type_miRNA_top_n_spearman_corrs_mtbase_pvals.apply(benjaminihochberg_2stage)\n",
    "  \n",
    "  write_df_to_csv(type_miRNA_top_n_log_corrs_mtbase_counts, 'miRNA', 'gs://yfl-mirna/analysis/enrichment/miRNA_top-n-log-corrs-mtbase_counts_' + cancer_type + '.csv')\n",
    "  write_df_to_csv(type_miRNA_top_n_spearman_corrs_mtbase_counts, 'miRNA', 'gs://yfl-mirna/analysis/enrichment/miRNA_top-n-spearman-corrs-mtbase_counts_' + cancer_type + '.csv')\n",
    "  write_df_to_csv(type_miRNA_top_n_log_corrs_mtbase_pvals_bh_adj, 'miRNA', 'gs://yfl-mirna/analysis/enrichment/miRNA_top-n-log-corrs-mtbase_pvals-bh-adj_' + cancer_type + '.csv')\n",
    "  write_df_to_csv(type_miRNA_top_n_spearman_corrs_mtbase_pvals_bh_adj, 'miRNA', 'gs://yfl-mirna/analysis/enrichment/miRNA_top-n-spearman-corrs-mtbase_pvals-bh-adj_' + cancer_type + '.csv')\n",
    "  \n",
    "  cancertype_n_log_corrs_sig_pval_counts_bh.loc[cancer_type] = (type_miRNA_top_n_log_corrs_mtbase_pvals_bh_adj <= 0.05).sum()\n",
    "  cancertype_n_log_corrs_sig_pval_counts_2sbh.loc[cancer_type] = (type_miRNA_top_n_log_corrs_mtbase_pvals_2sbh_adj <= 0.05).sum()\n",
    "  cancertype_n_spearman_corrs_sig_pval_counts_bh.loc[cancer_type] = (type_miRNA_top_n_spearman_corrs_mtbase_pvals_bh_adj <= 0.05).sum()\n",
    "  cancertype_n_spearman_corrs_sig_pval_counts_2sbh.loc[cancer_type] = (type_miRNA_top_n_spearman_corrs_mtbase_pvals_2sbh_adj <= 0.05).sum()\n",
    "  \n",
    "  cancertype_n_log_corrs_sig_pval_counts_bh.loc[cancer_type] = (type_miRNA_top_n_log_corrs_mtbase_pvals_bh_adj <= 0.05).sum()\n",
    "  cancertype_miRNA_top50_log_corrs_log2OE.loc[cancer_type, miRNAs] = ((type_miRNA_top_n_log_corrs_mtbase_counts['50'] * 1.0) / (miRNA_target_counts * 50.0 / N))\n",
    "  cancertype_miRNA_top50_log_corrs_log2OE.loc[cancer_type, miRNAs] = cancertype_miRNA_top50_log_corrs_log2OE.loc[cancer_type, miRNAs].map(lambda oe: m.log(oe + 1, 2))\n",
    "  cancertype_miRNA_top50_log_corrs_pval_bh_adj.loc[cancer_type] = type_miRNA_top_n_log_corrs_mtbase_pvals_bh_adj['50']\n",
    "  cancertype_top50_log_corrs_mtbase_sig_miRNAs_mask.loc[cancer_type] = (type_miRNA_top_n_log_corrs_mtbase_pvals_bh_adj['50'] <= 0.05)\n",
    "  \n",
    "  cancertype_n_spearman_corrs_sig_pval_counts_bh.loc[cancer_type] = (type_miRNA_top_n_spearman_corrs_mtbase_pvals_bh_adj <= 0.05).sum()\n",
    "  cancertype_miRNA_top50_spearman_corrs_log2OE.loc[cancer_type, miRNAs] = ((type_miRNA_top_n_spearman_corrs_mtbase_counts['50'] * 1.0) / (miRNA_target_counts * 50.0 / N))\n",
    "  cancertype_miRNA_top50_spearman_corrs_log2OE.loc[cancer_type, miRNAs] = cancertype_miRNA_top50_spearman_corrs_log2OE.loc[cancer_type, miRNAs].map(lambda oe: m.log(oe + 1, 2))\n",
    "  cancertype_miRNA_top50_spearman_corrs_pval_bh_adj.loc[cancer_type] = type_miRNA_top_n_spearman_corrs_mtbase_pvals_bh_adj['50']\n",
    "  cancertype_top50_spearman_corrs_mtbase_sig_miRNAs_mask.loc[cancer_type] = (type_miRNA_top_n_spearman_corrs_mtbase_pvals_bh_adj['50'] <= 0.05)\n",
    "  \n",
    "  # TODO: Delete commented?\n",
    "  #   cancertype_miRNA_top500_log_corrs_log2OE.loc[cancer_type, miRNAs] = ((type_miRNA_top_n_log_corrs_mtbase_counts['500'] * 1.0) / (miRNA_target_counts * 500.0 / N))\n",
    "#   cancertype_miRNA_top500_log_corrs_log2OE.loc[cancer_type, miRNAs] = cancertype_miRNA_top500_log_corrs_log2OE.loc[cancer_type, miRNAs].map(lambda oe: m.log(oe + 1, 2))\n",
    "#   cancertype_miRNA_top500_log_corrs_pval_bh_adj.loc[cancer_type] = type_miRNA_top_n_log_corrs_mtbase_pvals_bh_adj['500']\n",
    "#   cancertype_top500_log_corrs_mtbase_sig_miRNAs_mask.loc[cancer_type] = (type_miRNA_top_n_log_corrs_mtbase_pvals_bh_adj['500'] <= 0.05)\n",
    "#   cancertype_miRNA_top500_log_corrs_pval_2sbh_adj.loc[cancer_type] = type_miRNA_top_n_log_corrs_mtbase_pvals_2sbh_adj['500']\n",
    "#   cancertype_miRNA_top500_spearman_corrs_log2OE.loc[cancer_type, miRNAs] = ((type_miRNA_top_n_spearman_corrs_mtbase_counts['500'] * 1.0) / (miRNA_target_counts * 500.0 / N))\n",
    "#   cancertype_miRNA_top500_spearman_corrs_log2OE.loc[cancer_type, miRNAs] = cancertype_miRNA_top500_spearman_corrs_log2OE.loc[cancer_type, miRNAs].map(lambda oe: m.log(oe + 1, 2))\n",
    "#   cancertype_miRNA_top500_spearman_corrs_pval_bh_adj.loc[cancer_type] = type_miRNA_top_n_spearman_corrs_mtbase_pvals_bh_adj['500']\n",
    "#   cancertype_top500_spearman_corrs_mtbase_sig_miRNAs_mask.loc[cancer_type] = (type_miRNA_top_n_spearman_corrs_mtbase_pvals_bh_adj['500'] <= 0.05)\n",
    "#   cancertype_miRNA_top500_spearman_corrs_pval_2sbh_adj.loc[cancer_type] = type_miRNA_top_n_spearman_corrs_mtbase_pvals_2sbh_adj['500']"
   ]
  },
  {
   "cell_type": "code",
   "execution_count": null,
   "metadata": {},
   "outputs": [],
   "source": [
    "write_df_to_csv(cancertype_n_log_corrs_sig_pval_counts_bh, 'cancer_type', 'gs://yfl-mirna/analysis/enrichment/cancer-type_top-n-log-corrs-mtbase_sig-bh-adj-pval-counts.csv')\n",
    "write_df_to_csv(cancertype_n_log_corrs_sig_pval_counts_2sbh, 'cancer_type', 'gs://yfl-mirna/analysis/enrichment/cancer-type_top-n-log-corrs-mtbase_sig-2sbh-adj-pval-counts.csv')\n",
    "write_df_to_csv(cancertype_n_spearman_corrs_sig_pval_counts_bh, 'cancer_type', 'gs://yfl-mirna/analysis/enrichment/cancer-type_top-n-spearman-corrs-mtbase_sig-bh-adj-pval-counts.csv')\n",
    "write_df_to_csv(cancertype_n_spearman_corrs_sig_pval_counts_2sbh, 'cancer_type', 'gs://yfl-mirna/analysis/enrichment/cancer-type_top-n-spearman-corrs-mtbase_sig-2sbh-adj-pval-counts.csv')"
   ]
  },
  {
   "cell_type": "code",
   "execution_count": null,
   "metadata": {},
   "outputs": [],
   "source": [
    "write_df_to_csv(cancertype_miRNA_top50_log_corrs_log2OE, 'cancer_type', 'gs://yfl-mirna/analysis/enrichment/cancer-type_miRNA_top50-log-corrs_log2OE.csv')\n",
    "write_df_to_csv(cancertype_miRNA_top50_log_corrs_pval_bh_adj, 'cancer_type', 'gs://yfl-mirna/analysis/enrichment/cancer-type_miRNA_top50-log-corrs_pval-bh-adj.csv')\n",
    "write_df_to_csv(cancertype_top50_log_corrs_mtbase_sig_miRNAs_mask, 'cancer_type', 'gs://yfl-mirna/analysis/enrichment/cancer-type_top50-log-corrs-mtbase_sig-bh-adj-pval_miRNAs_mask.csv')"
   ]
  },
  {
   "cell_type": "code",
   "execution_count": null,
   "metadata": {},
   "outputs": [],
   "source": [
    "write_df_to_csv(cancertype_miRNA_top50_spearman_corrs_log2OE, 'cancer_type', 'gs://yfl-mirna/analysis/enrichment/cancer-type_miRNA_top50-spearman-corrs_log2OE.csv')\n",
    "write_df_to_csv(cancertype_miRNA_top50_spearman_corrs_pval_bh_adj, 'cancer_type', 'gs://yfl-mirna/analysis/enrichment/cancer-type_miRNA_top50-spearman-corrs_pval-bh-adj.csv')\n",
    "write_df_to_csv(cancertype_top50_spearman_corrs_mtbase_sig_miRNAs_mask, 'cancer_type', 'gs://yfl-mirna/analysis/enrichment/cancer-type_top50-spearman-corrs-mtbase_sig-bh-adj-pval_miRNAs_mask.csv')"
   ]
  },
  {
   "cell_type": "markdown",
   "metadata": {},
   "source": [
    "#### TODO: Delete next two?"
   ]
  },
  {
   "cell_type": "code",
   "execution_count": null,
   "metadata": {},
   "outputs": [],
   "source": [
    "write_df_to_csv(cancertype_miRNA_top500_log_corrs_log2OE, 'cancer_type', 'gs://yfl-mirna/analysis/enrichment/cancer-type_miRNA_top500-log-corrs_log2OE.csv')\n",
    "write_df_to_csv(cancertype_miRNA_top500_log_corrs_pval_bh_adj, 'cancer_type', 'gs://yfl-mirna/analysis/enrichment/cancer-type_miRNA_top500-log-corrs_pval-bh-adj.csv')\n",
    "write_df_to_csv(cancertype_top500_log_corrs_mtbase_sig_miRNAs_mask, 'cancer_type', 'gs://yfl-mirna/analysis/enrichment/cancer-type_top500-log-corrs-mtbase_sig-bh-adj-pval_miRNAs_mask.csv')\n",
    "write_df_to_csv(cancertype_miRNA_top500_log_corrs_pval_2sbh_adj, 'cancer_type', 'gs://yfl-mirna/analysis/enrichment/cancer-type_miRNA_top500-log-corrs_pval-2sbh-adj.csv')"
   ]
  },
  {
   "cell_type": "code",
   "execution_count": null,
   "metadata": {},
   "outputs": [],
   "source": [
    "write_df_to_csv(cancertype_miRNA_top500_spearman_corrs_log2OE, 'cancer_type', 'gs://yfl-mirna/analysis/enrichment/cancer-type_miRNA_top500-spearman-corrs_log2OE.csv')\n",
    "write_df_to_csv(cancertype_miRNA_top500_spearman_corrs_pval_bh_adj, 'cancer_type', 'gs://yfl-mirna/analysis/enrichment/cancer-type_miRNA_top500-spearman-corrs_pval-bh-adj.csv')\n",
    "write_df_to_csv(cancertype_top500_spearman_corrs_mtbase_sig_miRNAs_mask, 'cancer_type', 'gs://yfl-mirna/analysis/enrichment/cancer-type_top500-spearman-corrs-mtbase_sig-bh-adj-pval_miRNAs_mask.csv')\n",
    "write_df_to_csv(cancertype_miRNA_top500_spearman_corrs_pval_2sbh_adj, 'cancer_type', 'gs://yfl-mirna/analysis/enrichment/cancer-type_miRNA_top500-spearman-corrs_pval-2sbh-adj.csv')"
   ]
  },
  {
   "cell_type": "markdown",
   "metadata": {},
   "source": [
    "### Only strong miRTarBase relationships (at least 1 non-weak-support-type entry)"
   ]
  },
  {
   "cell_type": "code",
   "execution_count": 44,
   "metadata": {},
   "outputs": [],
   "source": [
    "cancertype_n_log_corrs_mtb_strong_sig_pval_counts_bh = pd.DataFrame(None, cancer_types_list, hypergeom_test_n_strs)\n",
    "#cancertype_n_log_corrs_mtb_strong_sig_pval_counts_2sbh = pd.DataFrame(None, cancer_types_list, hypergeom_test_n_strs)"
   ]
  },
  {
   "cell_type": "code",
   "execution_count": 45,
   "metadata": {},
   "outputs": [],
   "source": [
    "cancertype_n_spearman_corrs_mtb_strong_sig_pval_counts_bh = pd.DataFrame(None, cancer_types_list, hypergeom_test_n_strs)\n",
    "#cancertype_n_spearman_corrs_mtb_strong_sig_pval_counts_2sbh = pd.DataFrame(None, cancer_types_list, hypergeom_test_n_strs)"
   ]
  },
  {
   "cell_type": "code",
   "execution_count": 46,
   "metadata": {},
   "outputs": [],
   "source": [
    "cancertype_miRNA_top50_log_corrs_mtb_strong_log2OE = pd.DataFrame(None, cancer_types_list, miRNAmRNAs_mirtarbase_strong_mask.index)\n",
    "cancertype_miRNA_top50_log_corrs_mtb_strong_pval_bh_adj = pd.DataFrame(None, cancer_types_list, miRNAmRNAs_mirtarbase_strong_mask.index)\n",
    "cancertype_top50_log_corrs_mtb_strong_sig_miRNAs_mask = pd.DataFrame(False, cancer_types_list, miRNAmRNAs_mirtarbase_strong_mask.index)"
   ]
  },
  {
   "cell_type": "code",
   "execution_count": 47,
   "metadata": {},
   "outputs": [],
   "source": [
    "cancertype_miRNA_top50_spearman_corrs_mtb_strong_log2OE = pd.DataFrame(None, cancer_types_list, miRNAmRNAs_mirtarbase_strong_mask.index)\n",
    "cancertype_miRNA_top50_spearman_corrs_mtb_strong_pval_bh_adj = pd.DataFrame(None, cancer_types_list, miRNAmRNAs_mirtarbase_strong_mask.index)\n",
    "cancertype_top50_spearman_corrs_mtb_strong_sig_miRNAs_mask = pd.DataFrame(False, cancer_types_list, miRNAmRNAs_mirtarbase_strong_mask.index)"
   ]
  },
  {
   "cell_type": "markdown",
   "metadata": {},
   "source": [
    "#### TODO: Delete next two cells?"
   ]
  },
  {
   "cell_type": "code",
   "execution_count": 50,
   "metadata": {},
   "outputs": [],
   "source": [
    "cancertype_miRNA_top500_log_corrs_mtb_strong_log2OE = pd.DataFrame(None, cancer_types_list, miRNAmRNAs_mirtarbase_strong_mask.index)\n",
    "cancertype_miRNA_top500_log_corrs_mtb_strong_pval_bh_adj = pd.DataFrame(None, cancer_types_list, miRNAmRNAs_mirtarbase_strong_mask.index)\n",
    "cancertype_top500_log_corrs_mtb_strong_sig_miRNAs_mask = pd.DataFrame(False, cancer_types_list, miRNAmRNAs_mirtarbase_strong_mask.index)\n",
    "cancertype_miRNA_top500_log_corrs_mtb_strong_pval_2sbh_adj = pd.DataFrame(None, cancer_types_list, miRNAmRNAs_mirtarbase_strong_mask.index)"
   ]
  },
  {
   "cell_type": "code",
   "execution_count": 51,
   "metadata": {},
   "outputs": [],
   "source": [
    "cancertype_miRNA_top500_spearman_corrs_mtb_strong_log2OE = pd.DataFrame(None, cancer_types_list, miRNAmRNAs_mirtarbase_strong_mask.index)\n",
    "cancertype_miRNA_top500_spearman_corrs_mtb_strong_pval_bh_adj = pd.DataFrame(None, cancer_types_list, miRNAmRNAs_mirtarbase_strong_mask.index)\n",
    "cancertype_top500_spearman_corrs_mtb_strong_sig_miRNAs_mask = pd.DataFrame(False, cancer_types_list, miRNAmRNAs_mirtarbase_strong_mask.index)\n",
    "cancertype_miRNA_top500_spearman_corrs_mtb_strong_pval_2sbh_adj = pd.DataFrame(None, cancer_types_list, miRNAmRNAs_mirtarbase_strong_mask.index)"
   ]
  },
  {
   "cell_type": "markdown",
   "metadata": {},
   "source": [
    "#### Pan-cancer"
   ]
  },
  {
   "cell_type": "code",
   "execution_count": 76,
   "metadata": {},
   "outputs": [],
   "source": [
    "miRNAs = miRNAmRNAs_mirtarbase_strong_mask.index # making use of this coinciding with miRNAmRNA_log_corrs.index\n",
    "mRNAs = miRNAmRNA_pancan_corrs_mirtarbase_strong_mask.columns.intersection(miRNAmRNA_log_corrs.columns)\n",
    "pancan_corrs_in_mtbase_strong_mask = miRNAmRNA_pancan_corrs_mirtarbase_strong_mask.loc[miRNAs, mRNAs]\n",
    "miRNA_pancan_strong_target_counts = pancan_corrs_in_mtbase_strong_mask.sum(axis=1)"
   ]
  },
  {
   "cell_type": "code",
   "execution_count": 77,
   "metadata": {},
   "outputs": [],
   "source": [
    "N = mRNAs.size"
   ]
  },
  {
   "cell_type": "code",
   "execution_count": 78,
   "metadata": {},
   "outputs": [],
   "source": [
    "hypergeom_test_miRNA_n_rvs = pd.DataFrame(None, miRNAs, hypergeom_test_n_strs)\n",
    "hypergeom_test_miRNA_n_rvs = hypergeom_test_miRNA_n_rvs.apply(lambda n: miRNA_pancan_strong_target_counts.map(lambda count: stats.hypergeom(N, count, int(n.name))))"
   ]
  },
  {
   "cell_type": "code",
   "execution_count": 55,
   "metadata": {},
   "outputs": [],
   "source": [
    "miRNA_top_n_log_corrs_mask = {}\n",
    "miRNA_top_n_spearman_corrs_mask = {}"
   ]
  },
  {
   "cell_type": "code",
   "execution_count": 56,
   "metadata": {},
   "outputs": [],
   "source": [
    "for n in hypergeom_test_n_strs:\n",
    "  miRNA_top_n_log_corrs_mask[n] = pd.DataFrame(False, miRNAs, mRNAs)\n",
    "  miRNA_top_n_log_corrs = miRNAmRNA_log_corrs.loc[miRNAs, mRNAs].apply(lambda row: row.argsort()[:int(n)], axis=1)\n",
    "  for miRNA in miRNA_top_n_log_corrs_mask[n].index:\n",
    "    miRNA_top_n_log_corrs_mask[n].loc[miRNA][miRNA_top_n_log_corrs.loc[miRNA]] = True\n",
    "  miRNA_top_n_spearman_corrs_mask[n] = pd.DataFrame(False, miRNAs, mRNAs)\n",
    "  miRNA_top_n_spearman_corrs = miRNAmRNA_spearman_corrs.loc[miRNAs, mRNAs].apply(lambda row: row.argsort()[:int(n)], axis=1)\n",
    "  for miRNA in miRNA_top_n_spearman_corrs_mask[n].index:\n",
    "    miRNA_top_n_spearman_corrs_mask[n].loc[miRNA][miRNA_top_n_spearman_corrs.loc[miRNA]] = True"
   ]
  },
  {
   "cell_type": "code",
   "execution_count": 57,
   "metadata": {},
   "outputs": [],
   "source": [
    "miRNA_top_n_log_corrs_mtb_strong_counts = pd.DataFrame(None, miRNAs, hypergeom_test_n_strs)\n",
    "miRNA_top_n_log_corrs_mtb_strong_counts = miRNA_top_n_log_corrs_mtb_strong_counts.apply(lambda n: (miRNA_top_n_log_corrs_mask[n.name] & pancan_corrs_in_mtbase_strong_mask).sum(axis=1))\n",
    "miRNA_top_n_log_corrs_mtb_strong_pvals = miRNA_top_n_log_corrs_mtb_strong_counts.apply(lambda counts: miRNAs.map(lambda miRNA: get_pval(hypergeom_test_miRNA_n_rvs, counts, miRNA)))"
   ]
  },
  {
   "cell_type": "code",
   "execution_count": 58,
   "metadata": {},
   "outputs": [],
   "source": [
    "miRNA_top_n_spearman_corrs_mtb_strong_counts = pd.DataFrame(None, miRNAs, hypergeom_test_n_strs)\n",
    "miRNA_top_n_spearman_corrs_mtb_strong_counts = miRNA_top_n_spearman_corrs_mtb_strong_counts.apply(lambda n: (miRNA_top_n_spearman_corrs_mask[n.name] & pancan_corrs_in_mtbase_strong_mask).sum(axis=1))\n",
    "miRNA_top_n_spearman_corrs_mtb_strong_pvals = miRNA_top_n_spearman_corrs_mtb_strong_counts.apply(lambda counts: miRNAs.map(lambda miRNA: get_pval(hypergeom_test_miRNA_n_rvs, counts, miRNA)))"
   ]
  },
  {
   "cell_type": "code",
   "execution_count": 59,
   "metadata": {},
   "outputs": [],
   "source": [
    "pancan_miRNA_top_n_log_corrs_mtb_strong_pvals_bh_adj = miRNA_top_n_log_corrs_mtb_strong_pvals.apply(benjaminihochberg)\n",
    "pancan_miRNA_top_n_log_corrs_mtb_strong_pvals_2sbh_adj = miRNA_top_n_log_corrs_mtb_strong_pvals.apply(benjaminihochberg_2stage)\n",
    "pancan_miRNA_top_n_spearman_corrs_mtb_strong_pvals_bh_adj = miRNA_top_n_spearman_corrs_mtb_strong_pvals.apply(benjaminihochberg)\n",
    "pancan_miRNA_top_n_spearman_corrs_mtb_strong_pvals_2sbh_adj = miRNA_top_n_spearman_corrs_mtb_strong_pvals.apply(benjaminihochberg_2stage)"
   ]
  },
  {
   "cell_type": "code",
   "execution_count": null,
   "metadata": {},
   "outputs": [],
   "source": [
    "write_df_to_csv(miRNA_top_n_log_corrs_mtb_strong_counts, 'miRNA', 'gs://yfl-mirna/analysis/enrichment/miRNA_top-n-log-corrs-mtb-strong_counts.csv')\n",
    "write_df_to_csv(miRNA_top_n_spearman_corrs_mtb_strong_counts, 'miRNA', 'gs://yfl-mirna/analysis/enrichment/miRNA_top-n-spearman-corrs-mtb-strong_counts.csv')\n",
    "write_df_to_csv(pancan_miRNA_top_n_log_corrs_mtb_strong_pvals_bh_adj, 'miRNA', 'gs://yfl-mirna/analysis/enrichment/miRNA_top-n-log-corrs-mtb-strong_pvals-bh-adj.csv')\n",
    "write_df_to_csv(pancan_miRNA_top_n_spearman_corrs_mtb_strong_pvals_bh_adj, 'miRNA', 'gs://yfl-mirna/analysis/enrichment/miRNA_top-n-spearman-corrs-mtb-strong_pvals-bh-adj.csv')"
   ]
  },
  {
   "cell_type": "code",
   "execution_count": 60,
   "metadata": {},
   "outputs": [],
   "source": [
    "cancertype_n_log_corrs_mtb_strong_sig_pval_counts_bh.loc['PAN'] = (pancan_miRNA_top_n_log_corrs_mtb_strong_pvals_bh_adj <= 0.05).sum()\n",
    "cancertype_n_log_corrs_mtb_strong_sig_pval_counts_2sbh.loc['PAN'] = (pancan_miRNA_top_n_log_corrs_mtb_strong_pvals_2sbh_adj <= 0.05).sum()"
   ]
  },
  {
   "cell_type": "code",
   "execution_count": 61,
   "metadata": {},
   "outputs": [],
   "source": [
    "cancertype_n_spearman_corrs_mtb_strong_sig_pval_counts_bh.loc['PAN'] = (pancan_miRNA_top_n_spearman_corrs_mtb_strong_pvals_bh_adj <= 0.05).sum()\n",
    "cancertype_n_spearman_corrs_mtb_strong_sig_pval_counts_2sbh.loc['PAN'] = (pancan_miRNA_top_n_spearman_corrs_mtb_strong_pvals_2sbh_adj <= 0.05).sum()"
   ]
  },
  {
   "cell_type": "code",
   "execution_count": 53,
   "metadata": {},
   "outputs": [],
   "source": [
    "cancertype_miRNA_top50_log_corrs_mtb_strong_log2OE.loc['PAN', miRNAs] = ((miRNA_top_n_log_corrs_mtb_strong_counts['50'] * 1.0) / (miRNA_pancan_strong_target_counts * 50.0 / N))\n",
    "cancertype_miRNA_top50_log_corrs_mtb_strong_log2OE.loc['PAN', miRNAs] = cancertype_miRNA_top50_log_corrs_mtb_strong_log2OE.loc['PAN', miRNAs].map(lambda oe: m.log(oe + 1, 2))\n",
    "cancertype_miRNA_top50_log_corrs_mtb_strong_pval_bh_adj.loc['PAN'] = pancan_miRNA_top_n_log_corrs_mtb_strong_pvals_bh_adj['50']\n",
    "cancertype_top50_log_corrs_mtb_strong_sig_miRNAs_mask.loc['PAN'] = (pancan_miRNA_top_n_log_corrs_mtb_strong_pvals_bh_adj['50'] <= 0.05)"
   ]
  },
  {
   "cell_type": "code",
   "execution_count": 54,
   "metadata": {},
   "outputs": [],
   "source": [
    "cancertype_miRNA_top50_spearman_corrs_mtb_strong_log2OE.loc['PAN', miRNAs] = ((miRNA_top_n_spearman_corrs_mtb_strong_counts['50'] * 1.0) / (miRNA_pancan_strong_target_counts * 50.0 / N))\n",
    "cancertype_miRNA_top50_spearman_corrs_mtb_strong_log2OE.loc['PAN', miRNAs] = cancertype_miRNA_top50_spearman_corrs_mtb_strong_log2OE.loc['PAN', miRNAs].map(lambda oe: m.log(oe + 1, 2))\n",
    "cancertype_miRNA_top50_spearman_corrs_mtb_strong_pval_bh_adj.loc['PAN'] = pancan_miRNA_top_n_spearman_corrs_mtb_strong_pvals_bh_adj['50']\n",
    "cancertype_top50_spearman_corrs_mtb_strong_sig_miRNAs_mask.loc['PAN'] = (pancan_miRNA_top_n_spearman_corrs_mtb_strong_pvals_bh_adj['50'] <= 0.05)"
   ]
  },
  {
   "cell_type": "markdown",
   "metadata": {},
   "source": [
    "#### TODO: Delete next two cells (and subsequence references)?"
   ]
  },
  {
   "cell_type": "code",
   "execution_count": 62,
   "metadata": {},
   "outputs": [],
   "source": [
    "cancertype_miRNA_top500_log_corrs_mtb_strong_log2OE.loc['PAN', miRNAs] = ((miRNA_top_n_log_corrs_mtb_strong_counts['500'] * 1.0) / (miRNA_pancan_strong_target_counts * 500.0 / N))\n",
    "cancertype_miRNA_top500_log_corrs_mtb_strong_log2OE.loc['PAN', miRNAs] = cancertype_miRNA_top500_log_corrs_mtb_strong_log2OE.loc['PAN', miRNAs].map(lambda oe: m.log(oe + 1, 2))\n",
    "cancertype_miRNA_top500_log_corrs_mtb_strong_pval_bh_adj.loc['PAN'] = pancan_miRNA_top_n_log_corrs_mtb_strong_pvals_bh_adj['500']\n",
    "cancertype_top500_log_corrs_mtb_strong_sig_miRNAs_mask.loc['PAN'] = (pancan_miRNA_top_n_log_corrs_mtb_strong_pvals_bh_adj['500'] <= 0.05)\n",
    "cancertype_miRNA_top500_log_corrs_mtb_strong_pval_2sbh_adj.loc['PAN'] = pancan_miRNA_top_n_log_corrs_mtb_strong_pvals_2sbh_adj['500']"
   ]
  },
  {
   "cell_type": "code",
   "execution_count": 63,
   "metadata": {},
   "outputs": [],
   "source": [
    "cancertype_miRNA_top500_spearman_corrs_mtb_strong_log2OE.loc['PAN', miRNAs] = ((miRNA_top_n_spearman_corrs_mtb_strong_counts['500'] * 1.0) / (miRNA_pancan_strong_target_counts * 500.0 / N))\n",
    "cancertype_miRNA_top500_spearman_corrs_mtb_strong_log2OE.loc['PAN', miRNAs] = cancertype_miRNA_top500_spearman_corrs_mtb_strong_log2OE.loc['PAN', miRNAs].map(lambda oe: m.log(oe + 1, 2))\n",
    "cancertype_miRNA_top500_spearman_corrs_mtb_strong_pval_bh_adj.loc['PAN'] = pancan_miRNA_top_n_spearman_corrs_mtb_strong_pvals_bh_adj['500']\n",
    "cancertype_top500_spearman_corrs_mtb_strong_sig_miRNAs_mask.loc['PAN'] = (pancan_miRNA_top_n_spearman_corrs_mtb_strong_pvals_bh_adj['500'] <= 0.05)\n",
    "cancertype_miRNA_top500_spearman_corrs_mtb_strong_pval_2sbh_adj.loc['PAN'] = pancan_miRNA_top_n_spearman_corrs_mtb_strong_pvals_2sbh_adj['500']"
   ]
  },
  {
   "cell_type": "code",
   "execution_count": null,
   "metadata": {},
   "outputs": [],
   "source": [
    "for cancer_type in cancer_types:\n",
    "  type_miRNAmRNA_log_corrs = get_corrs_df(bucket, 'explore/miRTar/pearson-corrs/data/mirtar-log-corrs_' + cancer_type + '.csv', 'miRNA')\n",
    "  type_miRNAmRNA_spearman_corrs = get_corrs_df(bucket, 'explore/miRTar/spearman-corrs/data/mirtar-spearman-corrs_' + cancer_type + '.csv', 'miRNA')\n",
    "  miRNAs = miRNAmRNAs_mirtarbase_strong_mask.index.intersection(type_miRNAmRNA_log_corrs.index)\n",
    "  mRNAs = miRNAmRNAs_mirtarbase_strong_mask.columns.intersection(type_miRNAmRNA_log_corrs.columns)\n",
    "  corrs_in_mirtarbase_strong_mask = miRNAmRNAs_mirtarbase_strong_mask.loc[miRNAs, mRNAs]\n",
    "  miRNA_strong_target_counts = corrs_in_mirtarbase_strong_mask.sum(axis=1)\n",
    "  N = mRNAs.size\n",
    "  hypergeom_test_miRNA_n_rvs = pd.DataFrame(None, miRNAs, hypergeom_test_n_strs)\n",
    "  hypergeom_test_miRNA_n_rvs = hypergeom_test_miRNA_n_rvs.apply(lambda n: miRNA_strong_target_counts.map(lambda count: stats.hypergeom(N, count, int(n.name))))\n",
    "  type_miRNA_top_n_log_corrs_mask = {}\n",
    "  type_miRNA_top_n_spearman_corrs_mask = {}\n",
    "  for n in hypergeom_test_n_strs:  \n",
    "    type_miRNA_top_n_log_corrs_mask[n] = pd.DataFrame(False, miRNAs, mRNAs)\n",
    "    type_miRNA_top_n_log_corrs = type_miRNAmRNA_log_corrs.loc[miRNAs, mRNAs].apply(lambda row: row.argsort()[:int(n)], axis=1)\n",
    "    for miRNA in type_miRNA_top_n_log_corrs_mask[n].index:\n",
    "      type_miRNA_top_n_log_corrs_mask[n].loc[miRNA][type_miRNA_top_n_log_corrs.loc[miRNA]] = True\n",
    "    type_miRNA_top_n_spearman_corrs_mask[n] = pd.DataFrame(False, miRNAs, mRNAs)\n",
    "    type_miRNA_top_n_spearman_corrs = type_miRNAmRNA_spearman_corrs.apply(lambda row: row.argsort()[:int(n)], axis=1)\n",
    "    for miRNA in type_miRNA_top_n_spearman_corrs_mask[n].index:\n",
    "      type_miRNA_top_n_spearman_corrs_mask[n].loc[miRNA][type_miRNA_top_n_spearman_corrs.loc[miRNA]] = True\n",
    "  \n",
    "  type_miRNA_top_n_log_corrs_mtb_strong_counts = pd.DataFrame(None, miRNAs, hypergeom_test_n_strs)\n",
    "  type_miRNA_top_n_log_corrs_mtb_strong_counts = type_miRNA_top_n_log_corrs_mtb_strong_counts.apply(lambda n: (type_miRNA_top_n_log_corrs_mask[n.name] & corrs_in_mirtarbase_strong_mask).sum(axis=1))\n",
    "  type_miRNA_top_n_log_corrs_mtb_strong_pvals = type_miRNA_top_n_log_corrs_mtb_strong_counts.apply(lambda counts: miRNAs.map(lambda miRNA: get_pval(hypergeom_test_miRNA_n_rvs, counts, miRNA)))\n",
    "  type_miRNA_top_n_log_corrs_mtb_strong_pvals_bh_adj = type_miRNA_top_n_log_corrs_mtb_strong_pvals.apply(benjaminihochberg)\n",
    "  type_miRNA_top_n_log_corrs_mtb_strong_pvals_2sbh_adj = type_miRNA_top_n_log_corrs_mtb_strong_pvals.apply(benjaminihochberg_2stage)\n",
    "  \n",
    "  type_miRNA_top_n_spearman_corrs_mtb_strong_counts = pd.DataFrame(None, miRNAs, hypergeom_test_n_strs)\n",
    "  type_miRNA_top_n_spearman_corrs_mtb_strong_counts = type_miRNA_top_n_spearman_corrs_mtb_strong_counts.apply(lambda n: (type_miRNA_top_n_spearman_corrs_mask[n.name] & corrs_in_mirtarbase_strong_mask).sum(axis=1))\n",
    "  type_miRNA_top_n_spearman_corrs_mtb_strong_pvals = type_miRNA_top_n_spearman_corrs_mtb_strong_counts.apply(lambda counts: miRNAs.map(lambda miRNA: get_pval(hypergeom_test_miRNA_n_rvs, counts, miRNA)))\n",
    "  type_miRNA_top_n_spearman_corrs_mtb_strong_pvals_bh_adj = type_miRNA_top_n_spearman_corrs_mtb_strong_pvals.apply(benjaminihochberg)\n",
    "  type_miRNA_top_n_spearman_corrs_mtb_strong_pvals_2sbh_adj = type_miRNA_top_n_spearman_corrs_mtb_strong_pvals.apply(benjaminihochberg_2stage)\n",
    "  \n",
    "  write_df_to_csv(type_miRNA_top_n_log_corrs_mtb_strong_counts, 'miRNA', 'gs://yfl-mirna/analysis/enrichment/miRNA_top-n-log-corrs-mtb-strong_counts_' + cancer_type + '.csv')\n",
    "  write_df_to_csv(type_miRNA_top_n_spearman_corrs_mtb_strong_counts, 'miRNA', 'gs://yfl-mirna/analysis/enrichment/miRNA_top-n-spearman-corrs-mtb-strong_counts_' + cancer_type + '.csv')\n",
    "  write_df_to_csv(type_miRNA_top_n_log_corrs_mtb_strong_pvals_bh_adj, 'miRNA', 'gs://yfl-mirna/analysis/enrichment/miRNA_top-n-log-corrs-mtb-strong_pvals-bh-adj_' + cancer_type + '.csv')\n",
    "  write_df_to_csv(type_miRNA_top_n_spearman_corrs_mtb_strong_pvals_bh_adj, 'miRNA', 'gs://yfl-mirna/analysis/enrichment/miRNA_top-n-spearman-corrs-mtb-strong_pvals-bh-adj_' + cancer_type + '.csv')\n",
    "  \n",
    "  cancertype_n_log_corrs_mtb_strong_sig_pval_counts_bh.loc[cancer_type] = (type_miRNA_top_n_log_corrs_mtb_strong_pvals_bh_adj <= 0.05).sum()\n",
    "  cancertype_miRNA_top50_log_corrs_mtb_strong_log2OE.loc[cancer_type, miRNAs] = ((type_miRNA_top_n_log_corrs_mtb_strong_counts['50'] * 1.0) / (miRNA_strong_target_counts * 50.0 / N))\n",
    "  cancertype_miRNA_top50_log_corrs_mtb_strong_log2OE.loc[cancer_type, miRNAs] = cancertype_miRNA_top50_log_corrs_mtb_strong_log2OE.loc[cancer_type, miRNAs].map(lambda oe: m.log(oe + 1, 2))\n",
    "  cancertype_miRNA_top50_log_corrs_mtb_strong_pval_bh_adj.loc[cancer_type] = type_miRNA_top_n_log_corrs_mtb_strong_pvals_bh_adj['50']\n",
    "  cancertype_top50_log_corrs_mtb_strong_sig_miRNAs_mask.loc[cancer_type] = (type_miRNA_top_n_log_corrs_mtb_strong_pvals_bh_adj['50'] <= 0.05)\n",
    "  \n",
    "  cancertype_n_spearman_corrs_mtb_strong_sig_pval_counts_bh.loc[cancer_type] = (type_miRNA_top_n_spearman_corrs_mtb_strong_pvals_bh_adj <= 0.05).sum()\n",
    "  cancertype_miRNA_top50_spearman_corrs_mtb_strong_log2OE.loc[cancer_type, miRNAs] = ((type_miRNA_top_n_spearman_corrs_mtb_strong_counts['50'] * 1.0) / (miRNA_strong_target_counts * 50.0 / N))\n",
    "  cancertype_miRNA_top50_spearman_corrs_mtb_strong_log2OE.loc[cancer_type, miRNAs] = cancertype_miRNA_top50_spearman_corrs_mtb_strong_log2OE.loc[cancer_type, miRNAs].map(lambda oe: m.log(oe + 1, 2))\n",
    "  cancertype_miRNA_top50_spearman_corrs_mtb_strong_pval_bh_adj.loc[cancer_type] = type_miRNA_top_n_spearman_corrs_mtb_strong_pvals_bh_adj['50']\n",
    "  cancertype_top50_spearman_corrs_mtb_strong_sig_miRNAs_mask.loc[cancer_type] = (type_miRNA_top_n_spearman_corrs_mtb_strong_pvals_bh_adj['50'] <= 0.05)\n",
    "  \n",
    "  # TODO: Delete following?\n",
    "#   cancertype_n_log_corrs_mtb_strong_sig_pval_counts_bh.loc[cancer_type] = (type_miRNA_top_n_log_corrs_mtb_strong_pvals_bh_adj <= 0.05).sum()\n",
    "#   cancertype_n_log_corrs_mtb_strong_sig_pval_counts_2sbh.loc[cancer_type] = (type_miRNA_top_n_log_corrs_mtb_strong_pvals_2sbh_adj <= 0.05).sum()\n",
    "#   cancertype_miRNA_top500_log_corrs_mtb_strong_log2OE.loc[cancer_type, miRNAs] = ((type_miRNA_top_n_log_corrs_mtb_strong_counts['500'] * 1.0) / (miRNA_strong_target_counts * 500.0 / N))\n",
    "#   cancertype_miRNA_top500_log_corrs_mtb_strong_log2OE.loc[cancer_type, miRNAs] = cancertype_miRNA_top500_log_corrs_mtb_strong_log2OE.loc[cancer_type, miRNAs].map(lambda oe: m.log(oe + 1, 2))\n",
    "#   cancertype_miRNA_top500_log_corrs_mtb_strong_pval_bh_adj.loc[cancer_type] = type_miRNA_top_n_log_corrs_mtb_strong_pvals_bh_adj['500']\n",
    "#   cancertype_top500_log_corrs_mtb_strong_sig_miRNAs_mask.loc[cancer_type] = (type_miRNA_top_n_log_corrs_mtb_strong_pvals_bh_adj['500'] <= 0.05)\n",
    "#   cancertype_miRNA_top500_log_corrs_mtb_strong_pval_2sbh_adj.loc[cancer_type] = type_miRNA_top_n_log_corrs_mtb_strong_pvals_2sbh_adj['500']\n",
    "  \n",
    "#   cancertype_n_spearman_corrs_mtb_strong_sig_pval_counts_bh.loc[cancer_type] = (type_miRNA_top_n_spearman_corrs_mtb_strong_pvals_bh_adj <= 0.05).sum()\n",
    "#   cancertype_n_spearman_corrs_mtb_strong_sig_pval_counts_2sbh.loc[cancer_type] = (type_miRNA_top_n_spearman_corrs_mtb_strong_pvals_2sbh_adj <= 0.05).sum()\n",
    "#   cancertype_miRNA_top500_spearman_corrs_mtb_strong_log2OE.loc[cancer_type, miRNAs] = ((type_miRNA_top_n_spearman_corrs_mtb_strong_counts['500'] * 1.0) / (miRNA_strong_target_counts * 500.0 / N))\n",
    "#   cancertype_miRNA_top500_spearman_corrs_mtb_strong_log2OE.loc[cancer_type, miRNAs] = cancertype_miRNA_top500_spearman_corrs_mtb_strong_log2OE.loc[cancer_type, miRNAs].map(lambda oe: m.log(oe + 1, 2))\n",
    "#   cancertype_miRNA_top500_spearman_corrs_mtb_strong_pval_bh_adj.loc[cancer_type] = type_miRNA_top_n_spearman_corrs_mtb_strong_pvals_bh_adj['500']\n",
    "#   cancertype_top500_spearman_corrs_mtb_strong_sig_miRNAs_mask.loc[cancer_type] = (type_miRNA_top_n_spearman_corrs_mtb_strong_pvals_bh_adj['500'] <= 0.05)\n",
    "#   cancertype_miRNA_top500_spearman_corrs_mtb_strong_pval_2sbh_adj.loc[cancer_type] = type_miRNA_top_n_spearman_corrs_mtb_strong_pvals_2sbh_adj['500']"
   ]
  },
  {
   "cell_type": "code",
   "execution_count": null,
   "metadata": {},
   "outputs": [],
   "source": [
    "write_df_to_csv(cancertype_n_log_corrs_mtb_strong_sig_pval_counts_bh, 'cancer_type', 'gs://yfl-mirna/analysis/enrichment/cancer-type_top-n-log-corrs-mtb-strong_sig-bh-adj-pval-counts.csv')\n",
    "write_df_to_csv(cancertype_n_log_corrs_mtb_strong_sig_pval_counts_2sbh, 'cancer_type', 'gs://yfl-mirna/analysis/enrichment/cancer-type_top-n-log-corrs-mtb-strong_sig-2sbh-adj-pval-counts.csv')\n",
    "write_df_to_csv(cancertype_n_spearman_corrs_mtb_strong_sig_pval_counts_bh, 'cancer_type', 'gs://yfl-mirna/analysis/enrichment/cancer-type_top-n-spearman-corrs-mtb-strong_sig-bh-adj-pval-counts.csv')\n",
    "write_df_to_csv(cancertype_n_spearman_corrs_mtb_strong_sig_pval_counts_2sbh, 'cancer_type', 'gs://yfl-mirna/analysis/enrichment/cancer-type_top-n-spearman-corrs-mtb-strong_sig-2sbh-adj-pval-counts.csv')"
   ]
  },
  {
   "cell_type": "markdown",
   "metadata": {},
   "source": [
    "### TODO: Delete next 2?"
   ]
  },
  {
   "cell_type": "code",
   "execution_count": null,
   "metadata": {},
   "outputs": [],
   "source": [
    "write_df_to_csv(cancertype_miRNA_top500_log_corrs_mtb_strong_log2OE, 'cancer_type', 'gs://yfl-mirna/analysis/enrichment/cancer-type_miRNA_top500-log-corrs-mtb-strong_log2OE.csv')\n",
    "write_df_to_csv(cancertype_miRNA_top500_log_corrs_mtb_strong_pval_bh_adj, 'cancer_type', 'gs://yfl-mirna/analysis/enrichment/cancer-type_miRNA_top500-log-corrs-mtb-strong_pval-bh-adj.csv')\n",
    "write_df_to_csv(cancertype_top500_log_corrs_mtb_strong_sig_miRNAs_mask, 'cancer_type', 'gs://yfl-mirna/analysis/enrichment/cancer-type_top500-log-corrs-mtb-strong_sig-bh-adj-pval_miRNAs_mask.csv')\n",
    "write_df_to_csv(cancertype_miRNA_top500_log_corrs_mtb_strong_pval_2sbh_adj, 'cancer_type', 'gs://yfl-mirna/analysis/enrichment/cancer-type_miRNA_top500-log-corrs-mtb-strong_pval-2sbh-adj.csv')"
   ]
  },
  {
   "cell_type": "code",
   "execution_count": null,
   "metadata": {},
   "outputs": [],
   "source": [
    "write_df_to_csv(cancertype_miRNA_top500_spearman_corrs_mtb_strong_log2OE, 'cancer_type', 'gs://yfl-mirna/analysis/enrichment/cancer-type_miRNA_top500-spearman-corrs-mtb-strong_log2OE.csv')\n",
    "write_df_to_csv(cancertype_miRNA_top500_spearman_corrs_mtb_strong_pval_bh_adj, 'cancer_type', 'gs://yfl-mirna/analysis/enrichment/cancer-type_miRNA_top500-spearman-corrs-mtb-strong_pval-bh-adj.csv')\n",
    "write_df_to_csv(cancertype_top500_spearman_corrs_mtb_strong_sig_miRNAs_mask, 'cancer_type', 'gs://yfl-mirna/analysis/enrichment/cancer-type_top500-spearman-corrs-mtb-strong-mtbase_sig-bh-adj-pval_miRNAs_mask.csv')\n",
    "write_df_to_csv(cancertype_miRNA_top500_spearman_corrs_mtb_strong_pval_2sbh_adj, 'cancer_type', 'gs://yfl-mirna/analysis/enrichment/cancer-type_miRNA_top500-spearman-corrs-mtb-strong_pval-2sbh-adj.csv')"
   ]
  },
  {
   "cell_type": "markdown",
   "metadata": {},
   "source": [
    "### Summary, illustration & interpretation"
   ]
  },
  {
   "cell_type": "code",
   "execution_count": 79,
   "metadata": {},
   "outputs": [],
   "source": [
    "cancertype_miRNA_top50_spearman_corrs_log2OE = read_file(bucket, 'analysis/enrichment/cancer-type_miRNA_top50-spearman-corrs_log2OE.csv')\n",
    "cancertype_miRNA_top50_spearman_corrs_log2OE.set_index('cancer_type', inplace=True)"
   ]
  },
  {
   "cell_type": "code",
   "execution_count": null,
   "metadata": {},
   "outputs": [],
   "source": [
    "cancertype_miRNA_top50_spearman_corrs_log2OE.T.describe()"
   ]
  },
  {
   "cell_type": "code",
   "execution_count": 74,
   "metadata": {},
   "outputs": [
    {
     "data": {
      "text/plain": [
       "count    738.000000\n",
       "mean       2.731844\n",
       "std        0.987079\n",
       "min        0.000000\n",
       "25%        2.212197\n",
       "50%        2.740034\n",
       "75%        3.261035\n",
       "max        6.377193\n",
       "Name: max, dtype: float64"
      ]
     },
     "execution_count": 74,
     "metadata": {},
     "output_type": "execute_result"
    }
   ],
   "source": [
    "cancertype_miRNA_top50_spearman_corrs_log2OE.describe().loc['max'].describe()"
   ]
  },
  {
   "cell_type": "code",
   "execution_count": 75,
   "metadata": {},
   "outputs": [],
   "source": [
    "cancertype_miRNA_top50_spearman_corrs_pval_bh_adj = read_file(bucket, 'analysis/enrichment/cancer-type_miRNA_top50-spearman-corrs_pval-bh-adj.csv')\n",
    "cancertype_miRNA_top50_spearman_corrs_pval_bh_adj.set_index('cancer_type', inplace=True)"
   ]
  },
  {
   "cell_type": "code",
   "execution_count": 76,
   "metadata": {},
   "outputs": [
    {
     "data": {
      "text/html": [
       "<div>\n",
       "<style scoped>\n",
       "    .dataframe tbody tr th:only-of-type {\n",
       "        vertical-align: middle;\n",
       "    }\n",
       "\n",
       "    .dataframe tbody tr th {\n",
       "        vertical-align: top;\n",
       "    }\n",
       "\n",
       "    .dataframe thead th {\n",
       "        text-align: right;\n",
       "    }\n",
       "</style>\n",
       "<table border=\"1\" class=\"dataframe\">\n",
       "  <thead>\n",
       "    <tr style=\"text-align: right;\">\n",
       "      <th>cancer_type</th>\n",
       "      <th>CHOL</th>\n",
       "      <th>DLBC</th>\n",
       "      <th>UCS</th>\n",
       "      <th>KICH</th>\n",
       "      <th>ACC</th>\n",
       "      <th>UVM</th>\n",
       "      <th>MESO</th>\n",
       "      <th>SKCM</th>\n",
       "      <th>THYM</th>\n",
       "      <th>TGCT</th>\n",
       "      <th>...</th>\n",
       "      <th>LUSC</th>\n",
       "      <th>PRAD</th>\n",
       "      <th>KIRC</th>\n",
       "      <th>THCA</th>\n",
       "      <th>LUAD</th>\n",
       "      <th>LGG</th>\n",
       "      <th>HNSC</th>\n",
       "      <th>UCEC</th>\n",
       "      <th>BRCA</th>\n",
       "      <th>PAN</th>\n",
       "    </tr>\n",
       "  </thead>\n",
       "  <tbody>\n",
       "    <tr>\n",
       "      <th>count</th>\n",
       "      <td>743.000000</td>\n",
       "      <td>743.000000</td>\n",
       "      <td>743.000000</td>\n",
       "      <td>743.000000</td>\n",
       "      <td>743.000000</td>\n",
       "      <td>743.000000</td>\n",
       "      <td>743.000000</td>\n",
       "      <td>743.000000</td>\n",
       "      <td>743.000000</td>\n",
       "      <td>743.000000</td>\n",
       "      <td>...</td>\n",
       "      <td>743.000000</td>\n",
       "      <td>743.000000</td>\n",
       "      <td>743.000000</td>\n",
       "      <td>743.000000</td>\n",
       "      <td>743.000000</td>\n",
       "      <td>743.000000</td>\n",
       "      <td>743.000000</td>\n",
       "      <td>743.000000</td>\n",
       "      <td>743.000000</td>\n",
       "      <td>0.0</td>\n",
       "    </tr>\n",
       "    <tr>\n",
       "      <th>mean</th>\n",
       "      <td>0.355704</td>\n",
       "      <td>0.337603</td>\n",
       "      <td>0.334062</td>\n",
       "      <td>0.330386</td>\n",
       "      <td>0.340698</td>\n",
       "      <td>0.355078</td>\n",
       "      <td>0.344907</td>\n",
       "      <td>0.350200</td>\n",
       "      <td>0.318444</td>\n",
       "      <td>0.336156</td>\n",
       "      <td>...</td>\n",
       "      <td>0.340530</td>\n",
       "      <td>0.269108</td>\n",
       "      <td>0.328191</td>\n",
       "      <td>0.331739</td>\n",
       "      <td>0.324232</td>\n",
       "      <td>0.335185</td>\n",
       "      <td>0.317737</td>\n",
       "      <td>0.321239</td>\n",
       "      <td>0.307422</td>\n",
       "      <td>NaN</td>\n",
       "    </tr>\n",
       "    <tr>\n",
       "      <th>std</th>\n",
       "      <td>0.129295</td>\n",
       "      <td>0.125322</td>\n",
       "      <td>0.129911</td>\n",
       "      <td>0.123657</td>\n",
       "      <td>0.120742</td>\n",
       "      <td>0.120554</td>\n",
       "      <td>0.129286</td>\n",
       "      <td>0.125572</td>\n",
       "      <td>0.134244</td>\n",
       "      <td>0.113546</td>\n",
       "      <td>...</td>\n",
       "      <td>0.123884</td>\n",
       "      <td>0.145092</td>\n",
       "      <td>0.122535</td>\n",
       "      <td>0.111594</td>\n",
       "      <td>0.118710</td>\n",
       "      <td>0.124219</td>\n",
       "      <td>0.118155</td>\n",
       "      <td>0.147792</td>\n",
       "      <td>0.128193</td>\n",
       "      <td>NaN</td>\n",
       "    </tr>\n",
       "    <tr>\n",
       "      <th>min</th>\n",
       "      <td>0.000000</td>\n",
       "      <td>0.000000</td>\n",
       "      <td>0.000000</td>\n",
       "      <td>0.000000</td>\n",
       "      <td>0.000000</td>\n",
       "      <td>0.000000</td>\n",
       "      <td>0.000000</td>\n",
       "      <td>0.000000</td>\n",
       "      <td>0.000000</td>\n",
       "      <td>0.000000</td>\n",
       "      <td>...</td>\n",
       "      <td>0.000000</td>\n",
       "      <td>0.000000</td>\n",
       "      <td>0.000000</td>\n",
       "      <td>0.000000</td>\n",
       "      <td>0.000000</td>\n",
       "      <td>0.000000</td>\n",
       "      <td>0.000000</td>\n",
       "      <td>0.000000</td>\n",
       "      <td>0.000000</td>\n",
       "      <td>NaN</td>\n",
       "    </tr>\n",
       "    <tr>\n",
       "      <th>25%</th>\n",
       "      <td>0.292890</td>\n",
       "      <td>0.276172</td>\n",
       "      <td>0.279049</td>\n",
       "      <td>0.276172</td>\n",
       "      <td>0.287924</td>\n",
       "      <td>0.314671</td>\n",
       "      <td>0.287680</td>\n",
       "      <td>0.296861</td>\n",
       "      <td>0.234139</td>\n",
       "      <td>0.288361</td>\n",
       "      <td>...</td>\n",
       "      <td>0.283969</td>\n",
       "      <td>0.170979</td>\n",
       "      <td>0.266224</td>\n",
       "      <td>0.272008</td>\n",
       "      <td>0.270555</td>\n",
       "      <td>0.278631</td>\n",
       "      <td>0.239640</td>\n",
       "      <td>0.221016</td>\n",
       "      <td>0.227638</td>\n",
       "      <td>NaN</td>\n",
       "    </tr>\n",
       "    <tr>\n",
       "      <th>50%</th>\n",
       "      <td>0.328513</td>\n",
       "      <td>0.299071</td>\n",
       "      <td>0.311302</td>\n",
       "      <td>0.299071</td>\n",
       "      <td>0.310262</td>\n",
       "      <td>0.322101</td>\n",
       "      <td>0.321237</td>\n",
       "      <td>0.318747</td>\n",
       "      <td>0.303405</td>\n",
       "      <td>0.308245</td>\n",
       "      <td>...</td>\n",
       "      <td>0.313669</td>\n",
       "      <td>0.265807</td>\n",
       "      <td>0.308818</td>\n",
       "      <td>0.304807</td>\n",
       "      <td>0.298275</td>\n",
       "      <td>0.308929</td>\n",
       "      <td>0.294361</td>\n",
       "      <td>0.308123</td>\n",
       "      <td>0.289474</td>\n",
       "      <td>NaN</td>\n",
       "    </tr>\n",
       "    <tr>\n",
       "      <th>75%</th>\n",
       "      <td>0.388499</td>\n",
       "      <td>0.366248</td>\n",
       "      <td>0.362467</td>\n",
       "      <td>0.356727</td>\n",
       "      <td>0.361601</td>\n",
       "      <td>0.395420</td>\n",
       "      <td>0.374837</td>\n",
       "      <td>0.371489</td>\n",
       "      <td>0.356727</td>\n",
       "      <td>0.360542</td>\n",
       "      <td>...</td>\n",
       "      <td>0.363761</td>\n",
       "      <td>0.333227</td>\n",
       "      <td>0.357924</td>\n",
       "      <td>0.362467</td>\n",
       "      <td>0.359439</td>\n",
       "      <td>0.362690</td>\n",
       "      <td>0.348323</td>\n",
       "      <td>0.375627</td>\n",
       "      <td>0.352375</td>\n",
       "      <td>NaN</td>\n",
       "    </tr>\n",
       "    <tr>\n",
       "      <th>max</th>\n",
       "      <td>0.933997</td>\n",
       "      <td>0.893429</td>\n",
       "      <td>0.915975</td>\n",
       "      <td>0.915975</td>\n",
       "      <td>0.980558</td>\n",
       "      <td>0.874541</td>\n",
       "      <td>0.896904</td>\n",
       "      <td>0.855780</td>\n",
       "      <td>0.878648</td>\n",
       "      <td>0.869698</td>\n",
       "      <td>...</td>\n",
       "      <td>0.973760</td>\n",
       "      <td>0.844694</td>\n",
       "      <td>0.835492</td>\n",
       "      <td>0.846741</td>\n",
       "      <td>0.930333</td>\n",
       "      <td>0.900747</td>\n",
       "      <td>0.900747</td>\n",
       "      <td>0.941050</td>\n",
       "      <td>0.853199</td>\n",
       "      <td>NaN</td>\n",
       "    </tr>\n",
       "  </tbody>\n",
       "</table>\n",
       "<p>8 rows × 32 columns</p>\n",
       "</div>"
      ],
      "text/plain": [
       "cancer_type        CHOL        DLBC         UCS        KICH         ACC  \\\n",
       "count        743.000000  743.000000  743.000000  743.000000  743.000000   \n",
       "mean           0.355704    0.337603    0.334062    0.330386    0.340698   \n",
       "std            0.129295    0.125322    0.129911    0.123657    0.120742   \n",
       "min            0.000000    0.000000    0.000000    0.000000    0.000000   \n",
       "25%            0.292890    0.276172    0.279049    0.276172    0.287924   \n",
       "50%            0.328513    0.299071    0.311302    0.299071    0.310262   \n",
       "75%            0.388499    0.366248    0.362467    0.356727    0.361601   \n",
       "max            0.933997    0.893429    0.915975    0.915975    0.980558   \n",
       "\n",
       "cancer_type         UVM        MESO        SKCM        THYM        TGCT ...   \\\n",
       "count        743.000000  743.000000  743.000000  743.000000  743.000000 ...    \n",
       "mean           0.355078    0.344907    0.350200    0.318444    0.336156 ...    \n",
       "std            0.120554    0.129286    0.125572    0.134244    0.113546 ...    \n",
       "min            0.000000    0.000000    0.000000    0.000000    0.000000 ...    \n",
       "25%            0.314671    0.287680    0.296861    0.234139    0.288361 ...    \n",
       "50%            0.322101    0.321237    0.318747    0.303405    0.308245 ...    \n",
       "75%            0.395420    0.374837    0.371489    0.356727    0.360542 ...    \n",
       "max            0.874541    0.896904    0.855780    0.878648    0.869698 ...    \n",
       "\n",
       "cancer_type        LUSC        PRAD        KIRC        THCA        LUAD  \\\n",
       "count        743.000000  743.000000  743.000000  743.000000  743.000000   \n",
       "mean           0.340530    0.269108    0.328191    0.331739    0.324232   \n",
       "std            0.123884    0.145092    0.122535    0.111594    0.118710   \n",
       "min            0.000000    0.000000    0.000000    0.000000    0.000000   \n",
       "25%            0.283969    0.170979    0.266224    0.272008    0.270555   \n",
       "50%            0.313669    0.265807    0.308818    0.304807    0.298275   \n",
       "75%            0.363761    0.333227    0.357924    0.362467    0.359439   \n",
       "max            0.973760    0.844694    0.835492    0.846741    0.930333   \n",
       "\n",
       "cancer_type         LGG        HNSC        UCEC        BRCA  PAN  \n",
       "count        743.000000  743.000000  743.000000  743.000000  0.0  \n",
       "mean           0.335185    0.317737    0.321239    0.307422  NaN  \n",
       "std            0.124219    0.118155    0.147792    0.128193  NaN  \n",
       "min            0.000000    0.000000    0.000000    0.000000  NaN  \n",
       "25%            0.278631    0.239640    0.221016    0.227638  NaN  \n",
       "50%            0.308929    0.294361    0.308123    0.289474  NaN  \n",
       "75%            0.362690    0.348323    0.375627    0.352375  NaN  \n",
       "max            0.900747    0.900747    0.941050    0.853199  NaN  \n",
       "\n",
       "[8 rows x 32 columns]"
      ]
     },
     "execution_count": 76,
     "metadata": {},
     "output_type": "execute_result"
    }
   ],
   "source": [
    "cancertype_miRNA_top50_spearman_corrs_pval_bh_adj.T.describe()"
   ]
  },
  {
   "cell_type": "markdown",
   "metadata": {},
   "source": [
    "### TODO: Move remarks; delete file-read cells later"
   ]
  },
  {
   "cell_type": "markdown",
   "metadata": {},
   "source": [
    "#### Remarks\n",
    "- Using Benjamini-Hochberg instead of the two-stage version to control the false discovery rate (FDR) because:\n",
    "  - Going by e.g. log2(observed/expected) for overlap of per-miRNA top 50 mRNA expression anticorrelations with miRTarBase interactions, which have a median of 0 and 75th percentile close to 1 for all cancer types, miRNAs with significant overlap seem sparse (# insignificant close to # of miRNAs)\n",
    "    - see e.g. http://www.stat.cmu.edu/~genovese/talks/hannover1-04.pdf: \"BH performs best in very sparse cases\"\n",
    "- Counts of miRNAs with significant overlap for various values of n, adjusted using Benjamini-Hochberg or two-stage Benjamini-Hochberg, are very similar"
   ]
  },
  {
   "cell_type": "code",
   "execution_count": 80,
   "metadata": {},
   "outputs": [],
   "source": [
    "cancertype_n_log_corrs_sig_pval_counts_bh = read_file(bucket, 'analysis/enrichment/cancer-type_top-n-log-corrs-mtbase_sig-bh-adj-pval-counts.csv')\n",
    "cancertype_n_log_corrs_sig_pval_counts_bh.set_index('cancer_type', inplace=True)"
   ]
  },
  {
   "cell_type": "code",
   "execution_count": 81,
   "metadata": {},
   "outputs": [],
   "source": [
    "cancertype_n_spearman_corrs_sig_pval_counts_bh = read_file(bucket, 'analysis/enrichment/cancer-type_top-n-spearman-corrs-mtbase_sig-bh-adj-pval-counts.csv')\n",
    "cancertype_n_spearman_corrs_sig_pval_counts_bh.set_index('cancer_type', inplace=True)"
   ]
  },
  {
   "cell_type": "code",
   "execution_count": 80,
   "metadata": {},
   "outputs": [
    {
     "data": {
      "text/html": [
       "<div>\n",
       "<style scoped>\n",
       "    .dataframe tbody tr th:only-of-type {\n",
       "        vertical-align: middle;\n",
       "    }\n",
       "\n",
       "    .dataframe tbody tr th {\n",
       "        vertical-align: top;\n",
       "    }\n",
       "\n",
       "    .dataframe thead th {\n",
       "        text-align: right;\n",
       "    }\n",
       "</style>\n",
       "<table border=\"1\" class=\"dataframe\">\n",
       "  <thead>\n",
       "    <tr style=\"text-align: right;\">\n",
       "      <th></th>\n",
       "      <th>50</th>\n",
       "      <th>100</th>\n",
       "      <th>250</th>\n",
       "      <th>500</th>\n",
       "      <th>750</th>\n",
       "      <th>1000</th>\n",
       "    </tr>\n",
       "  </thead>\n",
       "  <tbody>\n",
       "    <tr>\n",
       "      <th>count</th>\n",
       "      <td>32.000000</td>\n",
       "      <td>32.000000</td>\n",
       "      <td>32.000000</td>\n",
       "      <td>32.000000</td>\n",
       "      <td>32.000000</td>\n",
       "      <td>32.00000</td>\n",
       "    </tr>\n",
       "    <tr>\n",
       "      <th>mean</th>\n",
       "      <td>10.375000</td>\n",
       "      <td>10.468750</td>\n",
       "      <td>11.531250</td>\n",
       "      <td>13.406250</td>\n",
       "      <td>16.250000</td>\n",
       "      <td>16.90625</td>\n",
       "    </tr>\n",
       "    <tr>\n",
       "      <th>std</th>\n",
       "      <td>7.169604</td>\n",
       "      <td>9.224737</td>\n",
       "      <td>12.753202</td>\n",
       "      <td>18.023031</td>\n",
       "      <td>22.426942</td>\n",
       "      <td>25.33563</td>\n",
       "    </tr>\n",
       "    <tr>\n",
       "      <th>min</th>\n",
       "      <td>5.000000</td>\n",
       "      <td>5.000000</td>\n",
       "      <td>5.000000</td>\n",
       "      <td>5.000000</td>\n",
       "      <td>5.000000</td>\n",
       "      <td>5.00000</td>\n",
       "    </tr>\n",
       "    <tr>\n",
       "      <th>25%</th>\n",
       "      <td>6.750000</td>\n",
       "      <td>6.000000</td>\n",
       "      <td>6.000000</td>\n",
       "      <td>5.750000</td>\n",
       "      <td>5.000000</td>\n",
       "      <td>5.00000</td>\n",
       "    </tr>\n",
       "    <tr>\n",
       "      <th>50%</th>\n",
       "      <td>8.000000</td>\n",
       "      <td>8.000000</td>\n",
       "      <td>7.000000</td>\n",
       "      <td>6.000000</td>\n",
       "      <td>7.000000</td>\n",
       "      <td>6.00000</td>\n",
       "    </tr>\n",
       "    <tr>\n",
       "      <th>75%</th>\n",
       "      <td>10.000000</td>\n",
       "      <td>9.250000</td>\n",
       "      <td>9.000000</td>\n",
       "      <td>8.000000</td>\n",
       "      <td>8.000000</td>\n",
       "      <td>8.00000</td>\n",
       "    </tr>\n",
       "    <tr>\n",
       "      <th>max</th>\n",
       "      <td>42.000000</td>\n",
       "      <td>50.000000</td>\n",
       "      <td>70.000000</td>\n",
       "      <td>90.000000</td>\n",
       "      <td>106.000000</td>\n",
       "      <td>113.00000</td>\n",
       "    </tr>\n",
       "  </tbody>\n",
       "</table>\n",
       "</div>"
      ],
      "text/plain": [
       "              50        100        250        500         750       1000\n",
       "count  32.000000  32.000000  32.000000  32.000000   32.000000   32.00000\n",
       "mean   10.375000  10.468750  11.531250  13.406250   16.250000   16.90625\n",
       "std     7.169604   9.224737  12.753202  18.023031   22.426942   25.33563\n",
       "min     5.000000   5.000000   5.000000   5.000000    5.000000    5.00000\n",
       "25%     6.750000   6.000000   6.000000   5.750000    5.000000    5.00000\n",
       "50%     8.000000   8.000000   7.000000   6.000000    7.000000    6.00000\n",
       "75%    10.000000   9.250000   9.000000   8.000000    8.000000    8.00000\n",
       "max    42.000000  50.000000  70.000000  90.000000  106.000000  113.00000"
      ]
     },
     "execution_count": 80,
     "metadata": {},
     "output_type": "execute_result"
    }
   ],
   "source": [
    "cancertype_n_spearman_corrs_sig_pval_counts_bh.describe()"
   ]
  },
  {
   "cell_type": "markdown",
   "metadata": {},
   "source": [
    "#### Observations\n",
    "- With both Pearson and Spearman correlations, the number of miRNAs with significant top-n anticorrelation overlap with miRTarBase interactions is small, and decreases (or rises then falls) with increasing n in most cancer types, with a few highly visible exceptions\n",
    "- Exceptions: READ, ESCA, OV (notable exception—Pearson correlations only), STAD, COAD, PRAD, UCEC, PAN (pan-cancer). The numbers of such miRNAs in these cases also start higher than average to begin with."
   ]
  },
  {
   "cell_type": "markdown",
   "metadata": {},
   "source": [
    "#### Follow-up questions\n",
    "- How do (miRNA and mRNA) expression profiles compare across the two groups of cancers described above? In particular, how do the expression levels of miRNAs testing as significant compare?\n",
    "- Similarly, how do the numbers of miRTarBase targets for these miRNAs compare?"
   ]
  },
  {
   "cell_type": "code",
   "execution_count": 82,
   "metadata": {},
   "outputs": [],
   "source": [
    "cancer_type_top1000_log_corrs_mtb_miRNAs = read_file(bucket, 'analysis/enrichment/cancer-type_top-1000-log-corrs-mirtarbase_miRNAs.csv')\n",
    "cancer_type_top1000_log_corrs_mtb_miRNAs.set_index('cancer_type', inplace=True)"
   ]
  },
  {
   "cell_type": "code",
   "execution_count": 83,
   "metadata": {},
   "outputs": [],
   "source": [
    "cancer_type_top1000_log_corrs_miRNAs = read_file(bucket, 'analysis/enrichment/cancer-type_top-1000-log-corrs_miRNAs.csv')\n",
    "cancer_type_top1000_log_corrs_miRNAs.set_index('cancer_type', inplace=True)"
   ]
  },
  {
   "cell_type": "code",
   "execution_count": 84,
   "metadata": {},
   "outputs": [],
   "source": [
    "cancer_type_top1000_spearman_corrs_mtb_miRNAs = read_file(bucket, 'analysis/enrichment/cancer-type_top-1000-spearman-corrs-mirtarbase_miRNAs.csv')\n",
    "cancer_type_top1000_spearman_corrs_mtb_miRNAs.set_index('cancer_type', inplace=True)"
   ]
  },
  {
   "cell_type": "markdown",
   "metadata": {},
   "source": [
    "#### Overlap between miRNAs in top 1000 Pearson and Spearman correlations as indicator of linearity (or lack thereof) of strongest monotonic miRNA-mRNA expression relationships"
   ]
  },
  {
   "cell_type": "code",
   "execution_count": null,
   "metadata": {},
   "outputs": [],
   "source": [
    "cols = ['# miRNAs in top 1000 Pearson correlations', '% also in top 1000 Spearman correlations',\n",
    "        '# miRNAs in top 1000 Spearman correlations', '% also in top 1000 Pearson correlations']\n",
    "intersection = (cancer_type_top1000_log_corrs_miRNAs & cancer_type_top1000_spearman_corrs_miRNAs).sum(axis=1)\n",
    "pearson_counts = cancer_type_top1000_log_corrs_miRNAs.sum(axis=1)\n",
    "spearman_counts = cancer_type_top1000_spearman_corrs_miRNAs.sum(axis=1)\n",
    "data = { '# miRNAs in top 1000 Pearson correlations': pearson_counts, '% also in top 1000 Spearman correlations': intersection / pearson_counts,\n",
    "         '# miRNAs in top 1000 Spearman correlations': spearman_counts, '% also in top 1000 Pearson correlations': intersection / spearman_counts }\n",
    "cancer_type_top1000_log_and_spearman_corrs_miRNA_counts = pd.DataFrame(data, index=cancer_types_list, columns=cols)\n",
    "del intersection, pearson_counts, spearman_counts\n",
    "cancer_type_top1000_log_and_spearman_corrs_miRNA_counts"
   ]
  },
  {
   "cell_type": "code",
   "execution_count": null,
   "metadata": {},
   "outputs": [],
   "source": [
    "cols = ['# miRNAs in intersection of top 1000 Pearson correlations and miRTarBase', '# miRNAs in intersection of top 1000 Spearman correlations and miRTarBase',\n",
    "        '# miRNAs in intersection of the preceding']\n",
    "data = { '# miRNAs in intersection of top 1000 Pearson correlations and miRTarBase': cancer_type_top1000_log_corrs_mtb_miRNAs.sum(axis=1),\n",
    "         '# miRNAs in intersection of top 1000 Spearman correlations and miRTarBase': cancer_type_top1000_spearman_corrs_mtb_miRNAs.sum(axis=1),\n",
    "         '# miRNAs in intersection of the preceding': (cancer_type_top1000_log_corrs_mtb_miRNAs & cancer_type_top1000_spearman_corrs_mtb_miRNAs).sum(axis=1) }\n",
    "cancer_type_top1000_log_and_spearman_corrs_mtb_miRNA_counts = pd.DataFrame(data, index=cancer_types_list, columns=cols)\n",
    "cancer_type_top1000_log_and_spearman_corrs_mtb_miRNA_counts"
   ]
  },
  {
   "cell_type": "markdown",
   "metadata": {},
   "source": [
    "### Observations"
   ]
  },
  {
   "cell_type": "markdown",
   "metadata": {},
   "source": [
    "- Within individual cancer types, only 12 to 183, i.e. a small fraction of about 1.5% to 25%, of miRNAs have a Pearson (log) anticorrelation in the top 1000, with the corresponding figures for Spearman correlations being 16 to 315 miRNAs\n",
    "  - The proportion is very roughly decreasing as sample size increases\n",
    "  - This also means that each miRNA in the top 1000 anticorrelations is paired with several mRNAs\n",
    "  - The corresponding ratio, of mRNAs to miRNAs, in the intersection of top 1000 anticorrelations with miRTarBase interactions is much lower\n",
    "    - This reflects the relatively low ratio of miRTarBase miRNA-target interactions to miRNA-mRNA pairs\n",
    "  - However, there are notable differences between the figures arising from rankings based on Pearson and Spearman correlations\n",
    "    - Generally fewer miRNAs in the Spearman rankings (1), but at the same time, a significantly higher proportion intersecting with miRTarBase (2)\n",
    "      - (1) I.e. at least some/several of the strongest linear miRNA-mRNA expression relationships are monotonically weaker\n",
    "      - (2) I.e. the strongest monotonic relationships show a greater enrichment for miRTarBase interactions than the strongest linear (but monotonically weaker) ones\n",
    "        - Credible support for validity of miRTarBase because the former should show greater enrichment for genuine miRNA-target interactions than the latter\n",
    "      - And several of the strongest monotonic relationships are significantly non-/less linear\n",
    "      - The strongest monotonic relationships are relatively concentrated on fewer miRNAs\n",
    "        - TODO: Might the distributions of miRNA expression and number of miRTarBase targets in the two rankings show some interesting patterns?\n",
    "      - What's the degree of overlap between the miRNAs and miRNA-mRNA pairs in the two rankings? A lower overlap suggests that the strongest monotonic relationships are less or non-linear, and the strongest linear relationships are somewhat noisy as indicators of (monotonic) dependence\n",
    "        - TODO: What's the degree of overlap between the miRNAs and miRNA-mRNA pairs in the two rankings?\n",
    "- In turn, about 1.5% to 33% of those miRNAs have an (top 1000) anticorrelation recorded in miRTarBase, with even fewer of strong support type\n",
    "  - Nevertheless, as observed elsewhere, the top 1000 anticorrelations are enriched for miRTarBase interactions, though arguably not strongly:\n",
    "    - log2(O/E) below 3 for enrichment of any miRTarBase interactions in top-1000 anticorrelations\n",
    "    - Slightly stronger enrichment considering only miRTarBase interactions reported with strong support: a few log2(O/E) exceeding 4"
   ]
  },
  {
   "cell_type": "markdown",
   "metadata": {},
   "source": [
    "### Questions\n",
    "- TODO: Is the distribution of miRNAs in the intersection of top-1000 anticorrelations and miRTarBase interactions different from that of all miRNAs involved in top-1000 anticorrelations? E.g. how do their expression profiles compare?"
   ]
  },
  {
   "cell_type": "markdown",
   "metadata": {},
   "source": [
    "### TODO: Delete when done"
   ]
  },
  {
   "cell_type": "code",
   "execution_count": 85,
   "metadata": {},
   "outputs": [],
   "source": [
    "cancertype_miRNA_top50_log_corrs_log2OE = read_file(bucket, 'analysis/enrichment/cancer-type_miRNA_top50-log-corrs_log2OE.csv')\n",
    "cancertype_miRNA_top50_log_corrs_log2OE.set_index('cancer_type', inplace=True)\n",
    "cancertype_miRNA_top50_log_corrs_pval_bh_adj = read_file(bucket, 'analysis/enrichment/cancer-type_miRNA_top50-log-corrs_pval-bh-adj.csv')\n",
    "cancertype_miRNA_top50_log_corrs_pval_bh_adj.set_index('cancer_type', inplace=True)\n",
    "cancertype_top50_log_corrs_mtbase_sig_miRNAs_mask = read_file(bucket, 'analysis/enrichment/cancer-type_top50-log-corrs-mtbase_sig-bh-adj-pval_miRNAs_mask.csv')\n",
    "cancertype_top50_log_corrs_mtbase_sig_miRNAs_mask.set_index('cancer_type', inplace=True)\n",
    "\n",
    "cancertype_miRNA_top50_spearman_corrs_log2OE = read_file(bucket, 'analysis/enrichment/cancer-type_miRNA_top50-spearman-corrs_log2OE.csv')\n",
    "cancertype_miRNA_top50_spearman_corrs_log2OE.set_index('cancer_type', inplace=True)\n",
    "cancertype_miRNA_top50_spearman_corrs_pval_bh_adj = read_file(bucket, 'analysis/enrichment/cancer-type_miRNA_top50-spearman-corrs_pval-bh-adj.csv')\n",
    "cancertype_miRNA_top50_spearman_corrs_pval_bh_adj.set_index('cancer_type', inplace=True)\n",
    "cancertype_top50_spearman_corrs_mtbase_sig_miRNAs_mask = read_file(bucket, 'analysis/enrichment/cancer-type_top50-spearman-corrs-mtbase_sig-bh-adj-pval_miRNAs_mask.csv')\n",
    "cancertype_top50_spearman_corrs_mtbase_sig_miRNAs_mask.set_index('cancer_type', inplace=True)"
   ]
  },
  {
   "cell_type": "code",
   "execution_count": 86,
   "metadata": {},
   "outputs": [],
   "source": [
    "cancertype_miRNA_top50_log_corrs_mtb_strong_log2OE = read_file(bucket, 'analysis/enrichment/cancer-type_miRNA_top50-log-corrs-mtb-strong_log2OE.csv')\n",
    "cancertype_miRNA_top50_log_corrs_mtb_strong_log2OE.set_index('cancer_type', inplace=True)\n",
    "cancertype_miRNA_top50_log_corrs_mtb_strong_pval_bh_adj = read_file(bucket, 'analysis/enrichment/cancer-type_miRNA_top50-log-corrs-mtb-strong_pval-bh-adj.csv')\n",
    "cancertype_miRNA_top50_log_corrs_mtb_strong_pval_bh_adj.set_index('cancer_type', inplace=True)\n",
    "cancertype_top50_log_corrs_mtb_strong_sig_miRNAs_mask = read_file(bucket, 'analysis/enrichment/cancer-type_top50-log-corrs-mtb-strong_sig-bh-adj-pval_miRNAs_mask.csv')\n",
    "cancertype_top50_log_corrs_mtb_strong_sig_miRNAs_mask.set_index('cancer_type', inplace=True)\n",
    "\n",
    "cancertype_miRNA_top50_spearman_corrs_mtb_strong_log2OE = read_file(bucket, 'analysis/enrichment/cancer-type_miRNA_top50-spearman-corrs-mtb-strong_log2OE.csv')\n",
    "cancertype_miRNA_top50_spearman_corrs_mtb_strong_log2OE.set_index('cancer_type', inplace=True)\n",
    "cancertype_miRNA_top50_spearman_corrs_mtb_strong_pval_bh_adj = read_file(bucket, 'analysis/enrichment/cancer-type_miRNA_top50-spearman-corrs-mtb-strong_pval-bh-adj.csv')\n",
    "cancertype_miRNA_top50_spearman_corrs_mtb_strong_pval_bh_adj.set_index('cancer_type', inplace=True)\n",
    "cancertype_top50_spearman_corrs_mtb_strong_sig_miRNAs_mask = read_file(bucket, 'analysis/enrichment/cancer-type_top50-spearman-corrs-mtb-strong-mtbase_sig-bh-adj-pval_miRNAs_mask.csv')\n",
    "cancertype_top50_spearman_corrs_mtb_strong_sig_miRNAs_mask.set_index('cancer_type', inplace=True)"
   ]
  },
  {
   "cell_type": "code",
   "execution_count": 87,
   "metadata": {},
   "outputs": [
    {
     "data": {
      "text/html": [
       "<div>\n",
       "<style scoped>\n",
       "    .dataframe tbody tr th:only-of-type {\n",
       "        vertical-align: middle;\n",
       "    }\n",
       "\n",
       "    .dataframe tbody tr th {\n",
       "        vertical-align: top;\n",
       "    }\n",
       "\n",
       "    .dataframe thead th {\n",
       "        text-align: right;\n",
       "    }\n",
       "</style>\n",
       "<table border=\"1\" class=\"dataframe\">\n",
       "  <thead>\n",
       "    <tr style=\"text-align: right;\">\n",
       "      <th>cancer_type</th>\n",
       "      <th>CHOL</th>\n",
       "      <th>DLBC</th>\n",
       "      <th>UCS</th>\n",
       "      <th>KICH</th>\n",
       "      <th>ACC</th>\n",
       "      <th>UVM</th>\n",
       "      <th>MESO</th>\n",
       "      <th>SKCM</th>\n",
       "      <th>THYM</th>\n",
       "      <th>TGCT</th>\n",
       "      <th>...</th>\n",
       "      <th>LUSC</th>\n",
       "      <th>PRAD</th>\n",
       "      <th>KIRC</th>\n",
       "      <th>THCA</th>\n",
       "      <th>LUAD</th>\n",
       "      <th>LGG</th>\n",
       "      <th>HNSC</th>\n",
       "      <th>UCEC</th>\n",
       "      <th>BRCA</th>\n",
       "      <th>PAN</th>\n",
       "    </tr>\n",
       "  </thead>\n",
       "  <tbody>\n",
       "    <tr>\n",
       "      <th>count</th>\n",
       "      <td>738.000000</td>\n",
       "      <td>738.000000</td>\n",
       "      <td>738.000000</td>\n",
       "      <td>738.000000</td>\n",
       "      <td>738.000000</td>\n",
       "      <td>738.000000</td>\n",
       "      <td>738.000000</td>\n",
       "      <td>738.000000</td>\n",
       "      <td>738.000000</td>\n",
       "      <td>738.000000</td>\n",
       "      <td>...</td>\n",
       "      <td>738.000000</td>\n",
       "      <td>738.000000</td>\n",
       "      <td>738.000000</td>\n",
       "      <td>738.000000</td>\n",
       "      <td>738.000000</td>\n",
       "      <td>738.000000</td>\n",
       "      <td>738.000000</td>\n",
       "      <td>738.000000</td>\n",
       "      <td>738.000000</td>\n",
       "      <td>0.0</td>\n",
       "    </tr>\n",
       "    <tr>\n",
       "      <th>mean</th>\n",
       "      <td>0.471941</td>\n",
       "      <td>0.540487</td>\n",
       "      <td>0.540063</td>\n",
       "      <td>0.397930</td>\n",
       "      <td>0.442971</td>\n",
       "      <td>0.452810</td>\n",
       "      <td>0.474411</td>\n",
       "      <td>0.521547</td>\n",
       "      <td>0.557593</td>\n",
       "      <td>0.538629</td>\n",
       "      <td>...</td>\n",
       "      <td>0.492293</td>\n",
       "      <td>0.720291</td>\n",
       "      <td>0.545960</td>\n",
       "      <td>0.490415</td>\n",
       "      <td>0.591637</td>\n",
       "      <td>0.532026</td>\n",
       "      <td>0.594950</td>\n",
       "      <td>0.588695</td>\n",
       "      <td>0.552402</td>\n",
       "      <td>NaN</td>\n",
       "    </tr>\n",
       "    <tr>\n",
       "      <th>std</th>\n",
       "      <td>0.907733</td>\n",
       "      <td>0.986805</td>\n",
       "      <td>0.940857</td>\n",
       "      <td>0.821127</td>\n",
       "      <td>0.869790</td>\n",
       "      <td>0.879896</td>\n",
       "      <td>0.873230</td>\n",
       "      <td>0.925187</td>\n",
       "      <td>0.974868</td>\n",
       "      <td>0.934342</td>\n",
       "      <td>...</td>\n",
       "      <td>0.901434</td>\n",
       "      <td>1.061707</td>\n",
       "      <td>0.950901</td>\n",
       "      <td>0.886388</td>\n",
       "      <td>0.984555</td>\n",
       "      <td>0.912345</td>\n",
       "      <td>0.974959</td>\n",
       "      <td>0.954820</td>\n",
       "      <td>0.965476</td>\n",
       "      <td>NaN</td>\n",
       "    </tr>\n",
       "    <tr>\n",
       "      <th>min</th>\n",
       "      <td>0.000000</td>\n",
       "      <td>0.000000</td>\n",
       "      <td>0.000000</td>\n",
       "      <td>0.000000</td>\n",
       "      <td>0.000000</td>\n",
       "      <td>0.000000</td>\n",
       "      <td>0.000000</td>\n",
       "      <td>0.000000</td>\n",
       "      <td>0.000000</td>\n",
       "      <td>0.000000</td>\n",
       "      <td>...</td>\n",
       "      <td>0.000000</td>\n",
       "      <td>0.000000</td>\n",
       "      <td>0.000000</td>\n",
       "      <td>0.000000</td>\n",
       "      <td>0.000000</td>\n",
       "      <td>0.000000</td>\n",
       "      <td>0.000000</td>\n",
       "      <td>0.000000</td>\n",
       "      <td>0.000000</td>\n",
       "      <td>NaN</td>\n",
       "    </tr>\n",
       "    <tr>\n",
       "      <th>25%</th>\n",
       "      <td>0.000000</td>\n",
       "      <td>0.000000</td>\n",
       "      <td>0.000000</td>\n",
       "      <td>0.000000</td>\n",
       "      <td>0.000000</td>\n",
       "      <td>0.000000</td>\n",
       "      <td>0.000000</td>\n",
       "      <td>0.000000</td>\n",
       "      <td>0.000000</td>\n",
       "      <td>0.000000</td>\n",
       "      <td>...</td>\n",
       "      <td>0.000000</td>\n",
       "      <td>0.000000</td>\n",
       "      <td>0.000000</td>\n",
       "      <td>0.000000</td>\n",
       "      <td>0.000000</td>\n",
       "      <td>0.000000</td>\n",
       "      <td>0.000000</td>\n",
       "      <td>0.000000</td>\n",
       "      <td>0.000000</td>\n",
       "      <td>NaN</td>\n",
       "    </tr>\n",
       "    <tr>\n",
       "      <th>50%</th>\n",
       "      <td>0.000000</td>\n",
       "      <td>0.000000</td>\n",
       "      <td>0.000000</td>\n",
       "      <td>0.000000</td>\n",
       "      <td>0.000000</td>\n",
       "      <td>0.000000</td>\n",
       "      <td>0.000000</td>\n",
       "      <td>0.000000</td>\n",
       "      <td>0.000000</td>\n",
       "      <td>0.000000</td>\n",
       "      <td>...</td>\n",
       "      <td>0.000000</td>\n",
       "      <td>0.000000</td>\n",
       "      <td>0.000000</td>\n",
       "      <td>0.000000</td>\n",
       "      <td>0.000000</td>\n",
       "      <td>0.000000</td>\n",
       "      <td>0.000000</td>\n",
       "      <td>0.000000</td>\n",
       "      <td>0.000000</td>\n",
       "      <td>NaN</td>\n",
       "    </tr>\n",
       "    <tr>\n",
       "      <th>75%</th>\n",
       "      <td>0.604673</td>\n",
       "      <td>0.886536</td>\n",
       "      <td>1.022947</td>\n",
       "      <td>0.000000</td>\n",
       "      <td>0.490477</td>\n",
       "      <td>0.622102</td>\n",
       "      <td>0.831802</td>\n",
       "      <td>0.933924</td>\n",
       "      <td>1.029181</td>\n",
       "      <td>0.976850</td>\n",
       "      <td>...</td>\n",
       "      <td>0.846840</td>\n",
       "      <td>1.559617</td>\n",
       "      <td>1.015845</td>\n",
       "      <td>0.923407</td>\n",
       "      <td>1.148970</td>\n",
       "      <td>1.031516</td>\n",
       "      <td>1.229754</td>\n",
       "      <td>1.195361</td>\n",
       "      <td>1.077615</td>\n",
       "      <td>NaN</td>\n",
       "    </tr>\n",
       "    <tr>\n",
       "      <th>max</th>\n",
       "      <td>4.069795</td>\n",
       "      <td>5.260368</td>\n",
       "      <td>5.394446</td>\n",
       "      <td>6.377193</td>\n",
       "      <td>5.543015</td>\n",
       "      <td>5.394446</td>\n",
       "      <td>4.652723</td>\n",
       "      <td>4.873745</td>\n",
       "      <td>5.543015</td>\n",
       "      <td>5.260368</td>\n",
       "      <td>...</td>\n",
       "      <td>4.573630</td>\n",
       "      <td>5.291898</td>\n",
       "      <td>5.394446</td>\n",
       "      <td>5.026187</td>\n",
       "      <td>5.394446</td>\n",
       "      <td>6.695646</td>\n",
       "      <td>5.260368</td>\n",
       "      <td>4.143502</td>\n",
       "      <td>4.612588</td>\n",
       "      <td>NaN</td>\n",
       "    </tr>\n",
       "  </tbody>\n",
       "</table>\n",
       "<p>8 rows × 32 columns</p>\n",
       "</div>"
      ],
      "text/plain": [
       "cancer_type        CHOL        DLBC         UCS        KICH         ACC  \\\n",
       "count        738.000000  738.000000  738.000000  738.000000  738.000000   \n",
       "mean           0.471941    0.540487    0.540063    0.397930    0.442971   \n",
       "std            0.907733    0.986805    0.940857    0.821127    0.869790   \n",
       "min            0.000000    0.000000    0.000000    0.000000    0.000000   \n",
       "25%            0.000000    0.000000    0.000000    0.000000    0.000000   \n",
       "50%            0.000000    0.000000    0.000000    0.000000    0.000000   \n",
       "75%            0.604673    0.886536    1.022947    0.000000    0.490477   \n",
       "max            4.069795    5.260368    5.394446    6.377193    5.543015   \n",
       "\n",
       "cancer_type         UVM        MESO        SKCM        THYM        TGCT ...   \\\n",
       "count        738.000000  738.000000  738.000000  738.000000  738.000000 ...    \n",
       "mean           0.452810    0.474411    0.521547    0.557593    0.538629 ...    \n",
       "std            0.879896    0.873230    0.925187    0.974868    0.934342 ...    \n",
       "min            0.000000    0.000000    0.000000    0.000000    0.000000 ...    \n",
       "25%            0.000000    0.000000    0.000000    0.000000    0.000000 ...    \n",
       "50%            0.000000    0.000000    0.000000    0.000000    0.000000 ...    \n",
       "75%            0.622102    0.831802    0.933924    1.029181    0.976850 ...    \n",
       "max            5.394446    4.652723    4.873745    5.543015    5.260368 ...    \n",
       "\n",
       "cancer_type        LUSC        PRAD        KIRC        THCA        LUAD  \\\n",
       "count        738.000000  738.000000  738.000000  738.000000  738.000000   \n",
       "mean           0.492293    0.720291    0.545960    0.490415    0.591637   \n",
       "std            0.901434    1.061707    0.950901    0.886388    0.984555   \n",
       "min            0.000000    0.000000    0.000000    0.000000    0.000000   \n",
       "25%            0.000000    0.000000    0.000000    0.000000    0.000000   \n",
       "50%            0.000000    0.000000    0.000000    0.000000    0.000000   \n",
       "75%            0.846840    1.559617    1.015845    0.923407    1.148970   \n",
       "max            4.573630    5.291898    5.394446    5.026187    5.394446   \n",
       "\n",
       "cancer_type         LGG        HNSC        UCEC        BRCA  PAN  \n",
       "count        738.000000  738.000000  738.000000  738.000000  0.0  \n",
       "mean           0.532026    0.594950    0.588695    0.552402  NaN  \n",
       "std            0.912345    0.974959    0.954820    0.965476  NaN  \n",
       "min            0.000000    0.000000    0.000000    0.000000  NaN  \n",
       "25%            0.000000    0.000000    0.000000    0.000000  NaN  \n",
       "50%            0.000000    0.000000    0.000000    0.000000  NaN  \n",
       "75%            1.031516    1.229754    1.195361    1.077615  NaN  \n",
       "max            6.695646    5.260368    4.143502    4.612588  NaN  \n",
       "\n",
       "[8 rows x 32 columns]"
      ]
     },
     "execution_count": 87,
     "metadata": {},
     "output_type": "execute_result"
    }
   ],
   "source": [
    "cancertype_miRNA_top50_log_corrs_log2OE.T.describe()"
   ]
  },
  {
   "cell_type": "markdown",
   "metadata": {},
   "source": [
    "### Observations"
   ]
  },
  {
   "cell_type": "markdown",
   "metadata": {},
   "source": [
    "- miRNA expression\n",
    "- number of miRNAs in top 1000, intersection with miRTarBase or all"
   ]
  },
  {
   "cell_type": "code",
   "execution_count": 88,
   "metadata": {},
   "outputs": [],
   "source": [
    "cancer_type_top_n_log_corrs_mirtarbase_counts = read_file(bucket, 'analysis/enrichment/cancer-type_top-n-log-corrs-mirtarbase_counts.csv')\n",
    "cancer_type_top_n_log_corrs_mirtarbase_counts.set_index('n', inplace=True)"
   ]
  },
  {
   "cell_type": "code",
   "execution_count": 89,
   "metadata": {},
   "outputs": [],
   "source": [
    "cancer_type_top_n_log_corrs_mtbase_strong_counts = read_file(bucket, 'analysis/enrichment/cancer-type_top-n-log-corrs-mtbase-strong_counts.csv')\n",
    "cancer_type_top_n_log_corrs_mtbase_strong_counts.set_index('n', inplace=True)"
   ]
  },
  {
   "cell_type": "code",
   "execution_count": 90,
   "metadata": {},
   "outputs": [],
   "source": [
    "cancer_type_top_n_spearman_corrs_mirtarbase_counts = read_file(bucket, 'analysis/enrichment/cancer-type_top-n-spearman-corrs-mirtarbase_counts.csv')\n",
    "cancer_type_top_n_spearman_corrs_mirtarbase_counts.set_index('n', inplace=True)"
   ]
  },
  {
   "cell_type": "code",
   "execution_count": 91,
   "metadata": {},
   "outputs": [],
   "source": [
    "cancer_type_top_n_spearman_corrs_mtbase_strong_counts = read_file(bucket, 'analysis/enrichment/cancer-type_top-n-spearman-corrs-mtbase-strong_counts.csv')\n",
    "cancer_type_top_n_spearman_corrs_mtbase_strong_counts.set_index('n', inplace=True)"
   ]
  },
  {
   "cell_type": "code",
   "execution_count": 95,
   "metadata": {},
   "outputs": [],
   "source": [
    "pancan_miRNA_top_n_spearman_corrs_mtbase_pvals_bh_adj = read_file(bucket, 'analysis/enrichment/miRNA_top-n-spearman-corrs-mtbase_pvals-bh-adj.csv')\n",
    "pancan_miRNA_top_n_spearman_corrs_mtbase_pvals_bh_adj.set_index('miRNA', inplace=True)"
   ]
  },
  {
   "cell_type": "code",
   "execution_count": 111,
   "metadata": {},
   "outputs": [
    {
     "name": "stdout",
     "output_type": "stream",
     "text": [
      "Copying file://temp.csv [Content-Type=text/csv]...\n",
      "/ [1 files][149.9 KiB/149.9 KiB]                                                \n",
      "Operation completed over 1 objects/149.9 KiB.                                    \n"
     ]
    }
   ],
   "source": [
    "cancertype_top1000_spearman_corrs_mtbase_sig_miRNAs_mask = pd.DataFrame(False, cancer_types_list, miRNAmRNAs_in_mirtarbase_mask.index)\n",
    "cancertype_top1000_spearman_corrs_mtbase_sig_miRNAs_mask.loc['PAN'] = (pancan_miRNA_top_n_spearman_corrs_mtbase_pvals_bh_adj['1000'] <= 0.05)\n",
    "for cancer_type in cancer_types:\n",
    "  type_miRNA_top_n_spearman_corrs_mtbase_pvals_bh_adj = read_file(bucket, 'analysis/enrichment/miRNA_top-n-spearman-corrs-mtbase_pvals-bh-adj_' + cancer_type + '.csv')\n",
    "  type_miRNA_top_n_spearman_corrs_mtbase_pvals_bh_adj.set_index('miRNA', inplace=True)\n",
    "  cancertype_top1000_spearman_corrs_mtbase_sig_miRNAs_mask.loc[cancer_type] = (type_miRNA_top_n_spearman_corrs_mtbase_pvals_bh_adj['1000'] <= 0.05)\n",
    "write_df_to_csv(cancertype_top1000_spearman_corrs_mtbase_sig_miRNAs_mask, 'cancer_type', 'gs://yfl-mirna/analysis/enrichment/cancer-type_top1000-spearman-corrs-mtbase_sig-bh-adj-pval_miRNAs_mask.csv')"
   ]
  },
  {
   "cell_type": "code",
   "execution_count": 112,
   "metadata": {},
   "outputs": [],
   "source": [
    "cols = ['top1000_corrs_mtb & per-miRNA_top1000_corrs_mtb_sig # miRNAs', 'top1000_corrs & per-miRNA_top1000_corrs_mtb_sig # miRNAs',\n",
    "        'per-miRNA_top1000_corrs_mtb_sig # miRNAs', 'top1000_corrs # miRNAs', 'top1000_corrs_mtb # miRNAs', 'top1000_corrs_mtb']\n",
    "data = { 'top1000_corrs & per-miRNA_top1000_corrs_mtb_sig # miRNAs': (cancer_type_top1000_spearman_corrs_miRNAs & cancertype_top1000_spearman_corrs_mtbase_sig_miRNAs_mask).sum(axis=1),\n",
    "         'top1000_corrs_mtb & per-miRNA_top1000_corrs_mtb_sig # miRNAs': (cancer_type_top1000_spearman_corrs_mtb_miRNAs & cancertype_top1000_spearman_corrs_mtbase_sig_miRNAs_mask).sum(axis=1),\n",
    "         'per-miRNA_top1000_corrs_mtb_sig # miRNAs': cancertype_top1000_spearman_corrs_mtbase_sig_miRNAs_mask.sum(axis=1),\n",
    "         'top1000_corrs # miRNAs': cancer_type_top1000_spearman_corrs_miRNAs.sum(axis=1),\n",
    "         'top1000_corrs_mtb # miRNAs': cancer_type_top1000_spearman_corrs_mtb_miRNAs.sum(axis=1),\n",
    "         'top1000_corrs_mtb': cancer_type_top_n_spearman_corrs_mirtarbase_counts.loc[1000].reindex(cancer_types_list) }\n",
    "cancertype_top1000_spearman_corrs_and_permiRNA_top1000_corrs_mtb_sig_counts = pd.DataFrame(data, index=cancer_types_list, columns=cols)"
   ]
  },
  {
   "cell_type": "code",
   "execution_count": 113,
   "metadata": {},
   "outputs": [
    {
     "data": {
      "text/html": [
       "<div>\n",
       "<style scoped>\n",
       "    .dataframe tbody tr th:only-of-type {\n",
       "        vertical-align: middle;\n",
       "    }\n",
       "\n",
       "    .dataframe tbody tr th {\n",
       "        vertical-align: top;\n",
       "    }\n",
       "\n",
       "    .dataframe thead th {\n",
       "        text-align: right;\n",
       "    }\n",
       "</style>\n",
       "<table border=\"1\" class=\"dataframe\">\n",
       "  <thead>\n",
       "    <tr style=\"text-align: right;\">\n",
       "      <th></th>\n",
       "      <th>top1000_corrs_mtb &amp; per-miRNA_top1000_corrs_mtb_sig # miRNAs</th>\n",
       "      <th>top1000_corrs &amp; per-miRNA_top1000_corrs_mtb_sig # miRNAs</th>\n",
       "      <th>per-miRNA_top1000_corrs_mtb_sig # miRNAs</th>\n",
       "      <th>top1000_corrs # miRNAs</th>\n",
       "      <th>top1000_corrs_mtb # miRNAs</th>\n",
       "      <th>top1000_corrs_mtb</th>\n",
       "    </tr>\n",
       "  </thead>\n",
       "  <tbody>\n",
       "    <tr>\n",
       "      <th>CHOL</th>\n",
       "      <td>0.0</td>\n",
       "      <td>2.0</td>\n",
       "      <td>5</td>\n",
       "      <td>315.0</td>\n",
       "      <td>18.0</td>\n",
       "      <td>27</td>\n",
       "    </tr>\n",
       "    <tr>\n",
       "      <th>DLBC</th>\n",
       "      <td>0.0</td>\n",
       "      <td>1.0</td>\n",
       "      <td>7</td>\n",
       "      <td>109.0</td>\n",
       "      <td>9.0</td>\n",
       "      <td>19</td>\n",
       "    </tr>\n",
       "    <tr>\n",
       "      <th>UCS</th>\n",
       "      <td>0.0</td>\n",
       "      <td>1.0</td>\n",
       "      <td>6</td>\n",
       "      <td>152.0</td>\n",
       "      <td>17.0</td>\n",
       "      <td>23</td>\n",
       "    </tr>\n",
       "    <tr>\n",
       "      <th>KICH</th>\n",
       "      <td>0.0</td>\n",
       "      <td>1.0</td>\n",
       "      <td>5</td>\n",
       "      <td>181.0</td>\n",
       "      <td>18.0</td>\n",
       "      <td>25</td>\n",
       "    </tr>\n",
       "    <tr>\n",
       "      <th>ACC</th>\n",
       "      <td>0.0</td>\n",
       "      <td>1.0</td>\n",
       "      <td>6</td>\n",
       "      <td>94.0</td>\n",
       "      <td>14.0</td>\n",
       "      <td>17</td>\n",
       "    </tr>\n",
       "    <tr>\n",
       "      <th>UVM</th>\n",
       "      <td>0.0</td>\n",
       "      <td>1.0</td>\n",
       "      <td>5</td>\n",
       "      <td>57.0</td>\n",
       "      <td>7.0</td>\n",
       "      <td>7</td>\n",
       "    </tr>\n",
       "    <tr>\n",
       "      <th>MESO</th>\n",
       "      <td>0.0</td>\n",
       "      <td>1.0</td>\n",
       "      <td>5</td>\n",
       "      <td>87.0</td>\n",
       "      <td>10.0</td>\n",
       "      <td>20</td>\n",
       "    </tr>\n",
       "    <tr>\n",
       "      <th>SKCM</th>\n",
       "      <td>0.0</td>\n",
       "      <td>0.0</td>\n",
       "      <td>5</td>\n",
       "      <td>171.0</td>\n",
       "      <td>15.0</td>\n",
       "      <td>19</td>\n",
       "    </tr>\n",
       "    <tr>\n",
       "      <th>THYM</th>\n",
       "      <td>0.0</td>\n",
       "      <td>0.0</td>\n",
       "      <td>5</td>\n",
       "      <td>61.0</td>\n",
       "      <td>19.0</td>\n",
       "      <td>32</td>\n",
       "    </tr>\n",
       "    <tr>\n",
       "      <th>TGCT</th>\n",
       "      <td>0.0</td>\n",
       "      <td>2.0</td>\n",
       "      <td>5</td>\n",
       "      <td>79.0</td>\n",
       "      <td>13.0</td>\n",
       "      <td>18</td>\n",
       "    </tr>\n",
       "    <tr>\n",
       "      <th>READ</th>\n",
       "      <td>0.0</td>\n",
       "      <td>0.0</td>\n",
       "      <td>25</td>\n",
       "      <td>57.0</td>\n",
       "      <td>3.0</td>\n",
       "      <td>3</td>\n",
       "    </tr>\n",
       "    <tr>\n",
       "      <th>PAAD</th>\n",
       "      <td>0.0</td>\n",
       "      <td>1.0</td>\n",
       "      <td>5</td>\n",
       "      <td>32.0</td>\n",
       "      <td>10.0</td>\n",
       "      <td>20</td>\n",
       "    </tr>\n",
       "    <tr>\n",
       "      <th>PCPG</th>\n",
       "      <td>0.0</td>\n",
       "      <td>0.0</td>\n",
       "      <td>5</td>\n",
       "      <td>72.0</td>\n",
       "      <td>15.0</td>\n",
       "      <td>23</td>\n",
       "    </tr>\n",
       "    <tr>\n",
       "      <th>ESCA</th>\n",
       "      <td>2.0</td>\n",
       "      <td>2.0</td>\n",
       "      <td>34</td>\n",
       "      <td>16.0</td>\n",
       "      <td>7.0</td>\n",
       "      <td>24</td>\n",
       "    </tr>\n",
       "    <tr>\n",
       "      <th>SARC</th>\n",
       "      <td>0.0</td>\n",
       "      <td>1.0</td>\n",
       "      <td>5</td>\n",
       "      <td>118.0</td>\n",
       "      <td>13.0</td>\n",
       "      <td>18</td>\n",
       "    </tr>\n",
       "    <tr>\n",
       "      <th>KIRP</th>\n",
       "      <td>0.0</td>\n",
       "      <td>1.0</td>\n",
       "      <td>6</td>\n",
       "      <td>64.0</td>\n",
       "      <td>8.0</td>\n",
       "      <td>10</td>\n",
       "    </tr>\n",
       "    <tr>\n",
       "      <th>OV</th>\n",
       "      <td>2.0</td>\n",
       "      <td>3.0</td>\n",
       "      <td>7</td>\n",
       "      <td>60.0</td>\n",
       "      <td>12.0</td>\n",
       "      <td>14</td>\n",
       "    </tr>\n",
       "    <tr>\n",
       "      <th>CESC</th>\n",
       "      <td>0.0</td>\n",
       "      <td>1.0</td>\n",
       "      <td>6</td>\n",
       "      <td>43.0</td>\n",
       "      <td>8.0</td>\n",
       "      <td>16</td>\n",
       "    </tr>\n",
       "    <tr>\n",
       "      <th>LIHC</th>\n",
       "      <td>0.0</td>\n",
       "      <td>0.0</td>\n",
       "      <td>5</td>\n",
       "      <td>52.0</td>\n",
       "      <td>10.0</td>\n",
       "      <td>30</td>\n",
       "    </tr>\n",
       "    <tr>\n",
       "      <th>BLCA</th>\n",
       "      <td>0.0</td>\n",
       "      <td>0.0</td>\n",
       "      <td>6</td>\n",
       "      <td>20.0</td>\n",
       "      <td>6.0</td>\n",
       "      <td>30</td>\n",
       "    </tr>\n",
       "    <tr>\n",
       "      <th>STAD</th>\n",
       "      <td>1.0</td>\n",
       "      <td>2.0</td>\n",
       "      <td>83</td>\n",
       "      <td>37.0</td>\n",
       "      <td>10.0</td>\n",
       "      <td>24</td>\n",
       "    </tr>\n",
       "    <tr>\n",
       "      <th>COAD</th>\n",
       "      <td>2.0</td>\n",
       "      <td>3.0</td>\n",
       "      <td>48</td>\n",
       "      <td>86.0</td>\n",
       "      <td>5.0</td>\n",
       "      <td>6</td>\n",
       "    </tr>\n",
       "    <tr>\n",
       "      <th>LUSC</th>\n",
       "      <td>0.0</td>\n",
       "      <td>1.0</td>\n",
       "      <td>5</td>\n",
       "      <td>54.0</td>\n",
       "      <td>12.0</td>\n",
       "      <td>22</td>\n",
       "    </tr>\n",
       "    <tr>\n",
       "      <th>PRAD</th>\n",
       "      <td>4.0</td>\n",
       "      <td>5.0</td>\n",
       "      <td>113</td>\n",
       "      <td>23.0</td>\n",
       "      <td>7.0</td>\n",
       "      <td>30</td>\n",
       "    </tr>\n",
       "    <tr>\n",
       "      <th>KIRC</th>\n",
       "      <td>0.0</td>\n",
       "      <td>0.0</td>\n",
       "      <td>6</td>\n",
       "      <td>42.0</td>\n",
       "      <td>6.0</td>\n",
       "      <td>18</td>\n",
       "    </tr>\n",
       "    <tr>\n",
       "      <th>THCA</th>\n",
       "      <td>0.0</td>\n",
       "      <td>1.0</td>\n",
       "      <td>7</td>\n",
       "      <td>35.0</td>\n",
       "      <td>11.0</td>\n",
       "      <td>26</td>\n",
       "    </tr>\n",
       "    <tr>\n",
       "      <th>LUAD</th>\n",
       "      <td>0.0</td>\n",
       "      <td>1.0</td>\n",
       "      <td>5</td>\n",
       "      <td>68.0</td>\n",
       "      <td>19.0</td>\n",
       "      <td>30</td>\n",
       "    </tr>\n",
       "    <tr>\n",
       "      <th>LGG</th>\n",
       "      <td>0.0</td>\n",
       "      <td>1.0</td>\n",
       "      <td>6</td>\n",
       "      <td>73.0</td>\n",
       "      <td>11.0</td>\n",
       "      <td>14</td>\n",
       "    </tr>\n",
       "    <tr>\n",
       "      <th>HNSC</th>\n",
       "      <td>0.0</td>\n",
       "      <td>1.0</td>\n",
       "      <td>8</td>\n",
       "      <td>52.0</td>\n",
       "      <td>11.0</td>\n",
       "      <td>23</td>\n",
       "    </tr>\n",
       "    <tr>\n",
       "      <th>UCEC</th>\n",
       "      <td>7.0</td>\n",
       "      <td>14.0</td>\n",
       "      <td>51</td>\n",
       "      <td>100.0</td>\n",
       "      <td>18.0</td>\n",
       "      <td>43</td>\n",
       "    </tr>\n",
       "    <tr>\n",
       "      <th>BRCA</th>\n",
       "      <td>0.0</td>\n",
       "      <td>1.0</td>\n",
       "      <td>8</td>\n",
       "      <td>73.0</td>\n",
       "      <td>12.0</td>\n",
       "      <td>26</td>\n",
       "    </tr>\n",
       "    <tr>\n",
       "      <th>PAN</th>\n",
       "      <td>1.0</td>\n",
       "      <td>3.0</td>\n",
       "      <td>43</td>\n",
       "      <td>65.0</td>\n",
       "      <td>16.0</td>\n",
       "      <td>34</td>\n",
       "    </tr>\n",
       "  </tbody>\n",
       "</table>\n",
       "</div>"
      ],
      "text/plain": [
       "      top1000_corrs_mtb & per-miRNA_top1000_corrs_mtb_sig # miRNAs  \\\n",
       "CHOL                                                0.0              \n",
       "DLBC                                                0.0              \n",
       "UCS                                                 0.0              \n",
       "KICH                                                0.0              \n",
       "ACC                                                 0.0              \n",
       "UVM                                                 0.0              \n",
       "MESO                                                0.0              \n",
       "SKCM                                                0.0              \n",
       "THYM                                                0.0              \n",
       "TGCT                                                0.0              \n",
       "READ                                                0.0              \n",
       "PAAD                                                0.0              \n",
       "PCPG                                                0.0              \n",
       "ESCA                                                2.0              \n",
       "SARC                                                0.0              \n",
       "KIRP                                                0.0              \n",
       "OV                                                  2.0              \n",
       "CESC                                                0.0              \n",
       "LIHC                                                0.0              \n",
       "BLCA                                                0.0              \n",
       "STAD                                                1.0              \n",
       "COAD                                                2.0              \n",
       "LUSC                                                0.0              \n",
       "PRAD                                                4.0              \n",
       "KIRC                                                0.0              \n",
       "THCA                                                0.0              \n",
       "LUAD                                                0.0              \n",
       "LGG                                                 0.0              \n",
       "HNSC                                                0.0              \n",
       "UCEC                                                7.0              \n",
       "BRCA                                                0.0              \n",
       "PAN                                                 1.0              \n",
       "\n",
       "      top1000_corrs & per-miRNA_top1000_corrs_mtb_sig # miRNAs  \\\n",
       "CHOL                                                2.0          \n",
       "DLBC                                                1.0          \n",
       "UCS                                                 1.0          \n",
       "KICH                                                1.0          \n",
       "ACC                                                 1.0          \n",
       "UVM                                                 1.0          \n",
       "MESO                                                1.0          \n",
       "SKCM                                                0.0          \n",
       "THYM                                                0.0          \n",
       "TGCT                                                2.0          \n",
       "READ                                                0.0          \n",
       "PAAD                                                1.0          \n",
       "PCPG                                                0.0          \n",
       "ESCA                                                2.0          \n",
       "SARC                                                1.0          \n",
       "KIRP                                                1.0          \n",
       "OV                                                  3.0          \n",
       "CESC                                                1.0          \n",
       "LIHC                                                0.0          \n",
       "BLCA                                                0.0          \n",
       "STAD                                                2.0          \n",
       "COAD                                                3.0          \n",
       "LUSC                                                1.0          \n",
       "PRAD                                                5.0          \n",
       "KIRC                                                0.0          \n",
       "THCA                                                1.0          \n",
       "LUAD                                                1.0          \n",
       "LGG                                                 1.0          \n",
       "HNSC                                                1.0          \n",
       "UCEC                                               14.0          \n",
       "BRCA                                                1.0          \n",
       "PAN                                                 3.0          \n",
       "\n",
       "      per-miRNA_top1000_corrs_mtb_sig # miRNAs  top1000_corrs # miRNAs  \\\n",
       "CHOL                                         5                   315.0   \n",
       "DLBC                                         7                   109.0   \n",
       "UCS                                          6                   152.0   \n",
       "KICH                                         5                   181.0   \n",
       "ACC                                          6                    94.0   \n",
       "UVM                                          5                    57.0   \n",
       "MESO                                         5                    87.0   \n",
       "SKCM                                         5                   171.0   \n",
       "THYM                                         5                    61.0   \n",
       "TGCT                                         5                    79.0   \n",
       "READ                                        25                    57.0   \n",
       "PAAD                                         5                    32.0   \n",
       "PCPG                                         5                    72.0   \n",
       "ESCA                                        34                    16.0   \n",
       "SARC                                         5                   118.0   \n",
       "KIRP                                         6                    64.0   \n",
       "OV                                           7                    60.0   \n",
       "CESC                                         6                    43.0   \n",
       "LIHC                                         5                    52.0   \n",
       "BLCA                                         6                    20.0   \n",
       "STAD                                        83                    37.0   \n",
       "COAD                                        48                    86.0   \n",
       "LUSC                                         5                    54.0   \n",
       "PRAD                                       113                    23.0   \n",
       "KIRC                                         6                    42.0   \n",
       "THCA                                         7                    35.0   \n",
       "LUAD                                         5                    68.0   \n",
       "LGG                                          6                    73.0   \n",
       "HNSC                                         8                    52.0   \n",
       "UCEC                                        51                   100.0   \n",
       "BRCA                                         8                    73.0   \n",
       "PAN                                         43                    65.0   \n",
       "\n",
       "      top1000_corrs_mtb # miRNAs  top1000_corrs_mtb  \n",
       "CHOL                        18.0                 27  \n",
       "DLBC                         9.0                 19  \n",
       "UCS                         17.0                 23  \n",
       "KICH                        18.0                 25  \n",
       "ACC                         14.0                 17  \n",
       "UVM                          7.0                  7  \n",
       "MESO                        10.0                 20  \n",
       "SKCM                        15.0                 19  \n",
       "THYM                        19.0                 32  \n",
       "TGCT                        13.0                 18  \n",
       "READ                         3.0                  3  \n",
       "PAAD                        10.0                 20  \n",
       "PCPG                        15.0                 23  \n",
       "ESCA                         7.0                 24  \n",
       "SARC                        13.0                 18  \n",
       "KIRP                         8.0                 10  \n",
       "OV                          12.0                 14  \n",
       "CESC                         8.0                 16  \n",
       "LIHC                        10.0                 30  \n",
       "BLCA                         6.0                 30  \n",
       "STAD                        10.0                 24  \n",
       "COAD                         5.0                  6  \n",
       "LUSC                        12.0                 22  \n",
       "PRAD                         7.0                 30  \n",
       "KIRC                         6.0                 18  \n",
       "THCA                        11.0                 26  \n",
       "LUAD                        19.0                 30  \n",
       "LGG                         11.0                 14  \n",
       "HNSC                        11.0                 23  \n",
       "UCEC                        18.0                 43  \n",
       "BRCA                        12.0                 26  \n",
       "PAN                         16.0                 34  "
      ]
     },
     "execution_count": 113,
     "metadata": {},
     "output_type": "execute_result"
    }
   ],
   "source": [
    "cancertype_top1000_spearman_corrs_and_permiRNA_top1000_corrs_mtb_sig_counts"
   ]
  },
  {
   "cell_type": "markdown",
   "metadata": {},
   "source": [
    "#### Table S2"
   ]
  },
  {
   "cell_type": "code",
   "execution_count": 137,
   "metadata": {},
   "outputs": [],
   "source": [
    "cols = ['top1000_pearson_corrs_miRNAs', 'top1000_pearson_corrs_mtb_miRNA_pcts', 'top1000_spearman_corrs_miRNAs', 'top1000_spearman_corrs_mtb_miRNA_pcts']\n",
    "top1000_pearson_corrs_miRNAs = cancer_type_top1000_log_corrs_miRNAs.sum(axis=1)\n",
    "top1000_spearman_corrs_miRNAs = cancer_type_top1000_spearman_corrs_miRNAs.sum(axis=1)\n",
    "data = { 'top1000_pearson_corrs_miRNAs': top1000_pearson_corrs_miRNAs,\n",
    "        'top1000_pearson_corrs_mtb_miRNA_pcts': cancer_type_top1000_log_corrs_mtb_miRNAs.sum(axis=1) / top1000_pearson_corrs_miRNAs,\n",
    "         'top1000_spearman_corrs_miRNAs': top1000_spearman_corrs_miRNAs,\n",
    "         'top1000_spearman_corrs_mtb_miRNA_pcts': cancer_type_top1000_spearman_corrs_mtb_miRNAs.sum(axis=1) / top1000_spearman_corrs_miRNAs }\n",
    "cancertype_top1000_spearman_pearson_corrs_mtb_miRNAs = pd.DataFrame(data, index=cancer_types_list, columns=cols)\n",
    "del top1000_pearson_corrs_miRNAs, top1000_spearman_corrs_miRNAs"
   ]
  },
  {
   "cell_type": "code",
   "execution_count": 138,
   "metadata": {},
   "outputs": [
    {
     "data": {
      "text/html": [
       "<div>\n",
       "<style scoped>\n",
       "    .dataframe tbody tr th:only-of-type {\n",
       "        vertical-align: middle;\n",
       "    }\n",
       "\n",
       "    .dataframe tbody tr th {\n",
       "        vertical-align: top;\n",
       "    }\n",
       "\n",
       "    .dataframe thead th {\n",
       "        text-align: right;\n",
       "    }\n",
       "</style>\n",
       "<table border=\"1\" class=\"dataframe\">\n",
       "  <thead>\n",
       "    <tr style=\"text-align: right;\">\n",
       "      <th></th>\n",
       "      <th>top1000_pearson_corrs_miRNAs</th>\n",
       "      <th>top1000_pearson_corrs_mtb_miRNA_pcts</th>\n",
       "      <th>top1000_spearman_corrs_miRNAs</th>\n",
       "      <th>top1000_spearman_corrs_mtb_miRNA_pcts</th>\n",
       "    </tr>\n",
       "  </thead>\n",
       "  <tbody>\n",
       "    <tr>\n",
       "      <th>CHOL</th>\n",
       "      <td>158.0</td>\n",
       "      <td>0.063291</td>\n",
       "      <td>315.0</td>\n",
       "      <td>0.057143</td>\n",
       "    </tr>\n",
       "    <tr>\n",
       "      <th>DLBC</th>\n",
       "      <td>129.0</td>\n",
       "      <td>0.085271</td>\n",
       "      <td>109.0</td>\n",
       "      <td>0.082569</td>\n",
       "    </tr>\n",
       "    <tr>\n",
       "      <th>UCS</th>\n",
       "      <td>112.0</td>\n",
       "      <td>0.089286</td>\n",
       "      <td>152.0</td>\n",
       "      <td>0.111842</td>\n",
       "    </tr>\n",
       "    <tr>\n",
       "      <th>KICH</th>\n",
       "      <td>129.0</td>\n",
       "      <td>0.015504</td>\n",
       "      <td>181.0</td>\n",
       "      <td>0.099448</td>\n",
       "    </tr>\n",
       "    <tr>\n",
       "      <th>ACC</th>\n",
       "      <td>152.0</td>\n",
       "      <td>0.098684</td>\n",
       "      <td>94.0</td>\n",
       "      <td>0.148936</td>\n",
       "    </tr>\n",
       "    <tr>\n",
       "      <th>UVM</th>\n",
       "      <td>69.0</td>\n",
       "      <td>0.086957</td>\n",
       "      <td>57.0</td>\n",
       "      <td>0.122807</td>\n",
       "    </tr>\n",
       "    <tr>\n",
       "      <th>MESO</th>\n",
       "      <td>109.0</td>\n",
       "      <td>0.100917</td>\n",
       "      <td>87.0</td>\n",
       "      <td>0.114943</td>\n",
       "    </tr>\n",
       "    <tr>\n",
       "      <th>SKCM</th>\n",
       "      <td>183.0</td>\n",
       "      <td>0.076503</td>\n",
       "      <td>171.0</td>\n",
       "      <td>0.087719</td>\n",
       "    </tr>\n",
       "    <tr>\n",
       "      <th>THYM</th>\n",
       "      <td>102.0</td>\n",
       "      <td>0.127451</td>\n",
       "      <td>61.0</td>\n",
       "      <td>0.311475</td>\n",
       "    </tr>\n",
       "    <tr>\n",
       "      <th>TGCT</th>\n",
       "      <td>84.0</td>\n",
       "      <td>0.130952</td>\n",
       "      <td>79.0</td>\n",
       "      <td>0.164557</td>\n",
       "    </tr>\n",
       "    <tr>\n",
       "      <th>READ</th>\n",
       "      <td>50.0</td>\n",
       "      <td>0.060000</td>\n",
       "      <td>57.0</td>\n",
       "      <td>0.052632</td>\n",
       "    </tr>\n",
       "    <tr>\n",
       "      <th>PAAD</th>\n",
       "      <td>52.0</td>\n",
       "      <td>0.096154</td>\n",
       "      <td>32.0</td>\n",
       "      <td>0.312500</td>\n",
       "    </tr>\n",
       "    <tr>\n",
       "      <th>PCPG</th>\n",
       "      <td>130.0</td>\n",
       "      <td>0.092308</td>\n",
       "      <td>72.0</td>\n",
       "      <td>0.208333</td>\n",
       "    </tr>\n",
       "    <tr>\n",
       "      <th>ESCA</th>\n",
       "      <td>12.0</td>\n",
       "      <td>0.500000</td>\n",
       "      <td>16.0</td>\n",
       "      <td>0.437500</td>\n",
       "    </tr>\n",
       "    <tr>\n",
       "      <th>SARC</th>\n",
       "      <td>91.0</td>\n",
       "      <td>0.120879</td>\n",
       "      <td>118.0</td>\n",
       "      <td>0.110169</td>\n",
       "    </tr>\n",
       "    <tr>\n",
       "      <th>KIRP</th>\n",
       "      <td>114.0</td>\n",
       "      <td>0.061404</td>\n",
       "      <td>64.0</td>\n",
       "      <td>0.125000</td>\n",
       "    </tr>\n",
       "    <tr>\n",
       "      <th>OV</th>\n",
       "      <td>114.0</td>\n",
       "      <td>0.131579</td>\n",
       "      <td>60.0</td>\n",
       "      <td>0.200000</td>\n",
       "    </tr>\n",
       "    <tr>\n",
       "      <th>CESC</th>\n",
       "      <td>30.0</td>\n",
       "      <td>0.200000</td>\n",
       "      <td>43.0</td>\n",
       "      <td>0.186047</td>\n",
       "    </tr>\n",
       "    <tr>\n",
       "      <th>LIHC</th>\n",
       "      <td>51.0</td>\n",
       "      <td>0.274510</td>\n",
       "      <td>52.0</td>\n",
       "      <td>0.192308</td>\n",
       "    </tr>\n",
       "    <tr>\n",
       "      <th>BLCA</th>\n",
       "      <td>36.0</td>\n",
       "      <td>0.166667</td>\n",
       "      <td>20.0</td>\n",
       "      <td>0.300000</td>\n",
       "    </tr>\n",
       "    <tr>\n",
       "      <th>STAD</th>\n",
       "      <td>35.0</td>\n",
       "      <td>0.371429</td>\n",
       "      <td>37.0</td>\n",
       "      <td>0.270270</td>\n",
       "    </tr>\n",
       "    <tr>\n",
       "      <th>COAD</th>\n",
       "      <td>57.0</td>\n",
       "      <td>0.105263</td>\n",
       "      <td>86.0</td>\n",
       "      <td>0.058140</td>\n",
       "    </tr>\n",
       "    <tr>\n",
       "      <th>LUSC</th>\n",
       "      <td>64.0</td>\n",
       "      <td>0.250000</td>\n",
       "      <td>54.0</td>\n",
       "      <td>0.222222</td>\n",
       "    </tr>\n",
       "    <tr>\n",
       "      <th>PRAD</th>\n",
       "      <td>27.0</td>\n",
       "      <td>0.222222</td>\n",
       "      <td>23.0</td>\n",
       "      <td>0.304348</td>\n",
       "    </tr>\n",
       "    <tr>\n",
       "      <th>KIRC</th>\n",
       "      <td>52.0</td>\n",
       "      <td>0.115385</td>\n",
       "      <td>42.0</td>\n",
       "      <td>0.142857</td>\n",
       "    </tr>\n",
       "    <tr>\n",
       "      <th>THCA</th>\n",
       "      <td>28.0</td>\n",
       "      <td>0.321429</td>\n",
       "      <td>35.0</td>\n",
       "      <td>0.314286</td>\n",
       "    </tr>\n",
       "    <tr>\n",
       "      <th>LUAD</th>\n",
       "      <td>70.0</td>\n",
       "      <td>0.257143</td>\n",
       "      <td>68.0</td>\n",
       "      <td>0.279412</td>\n",
       "    </tr>\n",
       "    <tr>\n",
       "      <th>LGG</th>\n",
       "      <td>110.0</td>\n",
       "      <td>0.118182</td>\n",
       "      <td>73.0</td>\n",
       "      <td>0.150685</td>\n",
       "    </tr>\n",
       "    <tr>\n",
       "      <th>HNSC</th>\n",
       "      <td>64.0</td>\n",
       "      <td>0.218750</td>\n",
       "      <td>52.0</td>\n",
       "      <td>0.211538</td>\n",
       "    </tr>\n",
       "    <tr>\n",
       "      <th>UCEC</th>\n",
       "      <td>115.0</td>\n",
       "      <td>0.156522</td>\n",
       "      <td>100.0</td>\n",
       "      <td>0.180000</td>\n",
       "    </tr>\n",
       "    <tr>\n",
       "      <th>BRCA</th>\n",
       "      <td>42.0</td>\n",
       "      <td>0.142857</td>\n",
       "      <td>73.0</td>\n",
       "      <td>0.164384</td>\n",
       "    </tr>\n",
       "    <tr>\n",
       "      <th>PAN</th>\n",
       "      <td>64.0</td>\n",
       "      <td>0.140625</td>\n",
       "      <td>65.0</td>\n",
       "      <td>0.246154</td>\n",
       "    </tr>\n",
       "  </tbody>\n",
       "</table>\n",
       "</div>"
      ],
      "text/plain": [
       "      top1000_pearson_corrs_miRNAs  top1000_pearson_corrs_mtb_miRNA_pcts  \\\n",
       "CHOL                         158.0                              0.063291   \n",
       "DLBC                         129.0                              0.085271   \n",
       "UCS                          112.0                              0.089286   \n",
       "KICH                         129.0                              0.015504   \n",
       "ACC                          152.0                              0.098684   \n",
       "UVM                           69.0                              0.086957   \n",
       "MESO                         109.0                              0.100917   \n",
       "SKCM                         183.0                              0.076503   \n",
       "THYM                         102.0                              0.127451   \n",
       "TGCT                          84.0                              0.130952   \n",
       "READ                          50.0                              0.060000   \n",
       "PAAD                          52.0                              0.096154   \n",
       "PCPG                         130.0                              0.092308   \n",
       "ESCA                          12.0                              0.500000   \n",
       "SARC                          91.0                              0.120879   \n",
       "KIRP                         114.0                              0.061404   \n",
       "OV                           114.0                              0.131579   \n",
       "CESC                          30.0                              0.200000   \n",
       "LIHC                          51.0                              0.274510   \n",
       "BLCA                          36.0                              0.166667   \n",
       "STAD                          35.0                              0.371429   \n",
       "COAD                          57.0                              0.105263   \n",
       "LUSC                          64.0                              0.250000   \n",
       "PRAD                          27.0                              0.222222   \n",
       "KIRC                          52.0                              0.115385   \n",
       "THCA                          28.0                              0.321429   \n",
       "LUAD                          70.0                              0.257143   \n",
       "LGG                          110.0                              0.118182   \n",
       "HNSC                          64.0                              0.218750   \n",
       "UCEC                         115.0                              0.156522   \n",
       "BRCA                          42.0                              0.142857   \n",
       "PAN                           64.0                              0.140625   \n",
       "\n",
       "      top1000_spearman_corrs_miRNAs  top1000_spearman_corrs_mtb_miRNA_pcts  \n",
       "CHOL                          315.0                               0.057143  \n",
       "DLBC                          109.0                               0.082569  \n",
       "UCS                           152.0                               0.111842  \n",
       "KICH                          181.0                               0.099448  \n",
       "ACC                            94.0                               0.148936  \n",
       "UVM                            57.0                               0.122807  \n",
       "MESO                           87.0                               0.114943  \n",
       "SKCM                          171.0                               0.087719  \n",
       "THYM                           61.0                               0.311475  \n",
       "TGCT                           79.0                               0.164557  \n",
       "READ                           57.0                               0.052632  \n",
       "PAAD                           32.0                               0.312500  \n",
       "PCPG                           72.0                               0.208333  \n",
       "ESCA                           16.0                               0.437500  \n",
       "SARC                          118.0                               0.110169  \n",
       "KIRP                           64.0                               0.125000  \n",
       "OV                             60.0                               0.200000  \n",
       "CESC                           43.0                               0.186047  \n",
       "LIHC                           52.0                               0.192308  \n",
       "BLCA                           20.0                               0.300000  \n",
       "STAD                           37.0                               0.270270  \n",
       "COAD                           86.0                               0.058140  \n",
       "LUSC                           54.0                               0.222222  \n",
       "PRAD                           23.0                               0.304348  \n",
       "KIRC                           42.0                               0.142857  \n",
       "THCA                           35.0                               0.314286  \n",
       "LUAD                           68.0                               0.279412  \n",
       "LGG                            73.0                               0.150685  \n",
       "HNSC                           52.0                               0.211538  \n",
       "UCEC                          100.0                               0.180000  \n",
       "BRCA                           73.0                               0.164384  \n",
       "PAN                            65.0                               0.246154  "
      ]
     },
     "execution_count": 138,
     "metadata": {},
     "output_type": "execute_result"
    }
   ],
   "source": [
    "cancertype_top1000_spearman_pearson_corrs_mtb_miRNAs"
   ]
  },
  {
   "cell_type": "markdown",
   "metadata": {},
   "source": [
    "#### Observations\n",
    "- There is no enrichment in most cancer types in miRNAs in the top 1000 anticorrelations for miRNAs with significant top-50 mRNA expression anticorrelations\n",
    "  - Mild enrichment in a few, and significant enrichment in a few others: LUSC, PRAD, LUAD, UCEC\n",
    "- In turn, in most cancer types, there is no visible enrichment in miRNAs in the top 1000 anticorrelations with miRTarBase support for miRNAs with significant top-50 mRNA expression anticorrelations, with a few possible exceptions: OV, STAD, LUSC, LUAD, UCEC\n",
    "- This suggests that there may be no easily identifiable subset of miRNAs or miRNA-mRNA pairs, e.g. the most highly expressed or most anticorrelated, consistently enriched for miRTarBase interactions.\n",
    "  - However, further exploratory work could be done to refine/investigate this, e.g.:\n",
    "    - Compare the distributions of expression and/or # of (miRTarBase) targets for miRNAs with significant enrichment of miRTarBase interactions in their top 50 mRNA expression anticorrelations."
   ]
  },
  {
   "cell_type": "code",
   "execution_count": 76,
   "metadata": {},
   "outputs": [],
   "source": [
    "cancer_type_top_n_log_corrs_mirtarbase_counts_log2OE = read_file(bucket, 'analysis/enrichment/cancer-type_top-n-log-corrs-mirtarbase_counts_log2OE.csv')\n",
    "cancer_type_top_n_log_corrs_mirtarbase_counts_log2OE.set_index('n', inplace=True)"
   ]
  },
  {
   "cell_type": "code",
   "execution_count": 77,
   "metadata": {},
   "outputs": [],
   "source": [
    "cancer_type_top_n_log_corrs_mtbase_strong_counts_log2OE = read_file(bucket, 'analysis/enrichment/cancer-type_top-n-log-corrs-mtbase-strong_counts_log2OE.csv')\n",
    "cancer_type_top_n_log_corrs_mtbase_strong_counts_log2OE.set_index('n', inplace=True)"
   ]
  },
  {
   "cell_type": "code",
   "execution_count": 78,
   "metadata": {},
   "outputs": [],
   "source": [
    "cancer_type_top_n_spearman_corrs_mirtarbase_counts_log2OE = read_file(bucket, 'analysis/enrichment/cancer-type_top-n-spearman-corrs-mirtarbase_counts_log2OE.csv')\n",
    "cancer_type_top_n_spearman_corrs_mirtarbase_counts_log2OE.set_index('n', inplace=True)"
   ]
  },
  {
   "cell_type": "code",
   "execution_count": 79,
   "metadata": {},
   "outputs": [],
   "source": [
    "cancer_type_top_n_spearman_corrs_mtbase_strong_counts_log2OE = read_file(bucket, 'analysis/enrichment/cancer-type_top-n-spearman-corrs-mtbase-strong_counts_log2OE.csv')\n",
    "cancer_type_top_n_spearman_corrs_mtbase_strong_counts_log2OE.set_index('n', inplace=True)"
   ]
  },
  {
   "cell_type": "code",
   "execution_count": 80,
   "metadata": {},
   "outputs": [],
   "source": [
    "cancer_type_top_n_spearman_corrs_mtbase_strong_counts_log2OE = read_file(bucket, 'analysis/enrichment/cancer-type_top-n-spearman-corrs-mtbase-strong_counts_log2OE.csv')\n",
    "cancer_type_top_n_spearman_corrs_mtbase_strong_counts_log2OE.set_index('n', inplace=True)"
   ]
  },
  {
   "cell_type": "code",
   "execution_count": 81,
   "metadata": {},
   "outputs": [],
   "source": [
    "cancer_type_top1000_mtb_strong_stats = read_file(bucket, 'analysis/enrichment/cancertype_top1000-mtb-strong_stats.csv')\n",
    "cancer_type_top1000_mtb_strong_stats.set_index('cancer_type', inplace=True)"
   ]
  },
  {
   "cell_type": "code",
   "execution_count": 96,
   "metadata": {},
   "outputs": [
    {
     "data": {
      "text/html": [
       "<div>\n",
       "<style scoped>\n",
       "    .dataframe tbody tr th:only-of-type {\n",
       "        vertical-align: middle;\n",
       "    }\n",
       "\n",
       "    .dataframe tbody tr th {\n",
       "        vertical-align: top;\n",
       "    }\n",
       "\n",
       "    .dataframe thead th {\n",
       "        text-align: right;\n",
       "    }\n",
       "</style>\n",
       "<table border=\"1\" class=\"dataframe\">\n",
       "  <thead>\n",
       "    <tr style=\"text-align: right;\">\n",
       "      <th></th>\n",
       "      <th>log_corrs_mtb_miRNAs</th>\n",
       "      <th>log_corrs_all_miRNAs</th>\n",
       "      <th>log_corrs_mtb</th>\n",
       "      <th>log_corrs_mtb_log2OE</th>\n",
       "      <th>spearman_corrs_mtb_miRNAs</th>\n",
       "      <th>spearman_corrs_all_miRNAs</th>\n",
       "      <th>spearman_corrs_mtb</th>\n",
       "      <th>spearman_corrs_mtb_log2OE</th>\n",
       "    </tr>\n",
       "    <tr>\n",
       "      <th>cancer_type</th>\n",
       "      <th></th>\n",
       "      <th></th>\n",
       "      <th></th>\n",
       "      <th></th>\n",
       "      <th></th>\n",
       "      <th></th>\n",
       "      <th></th>\n",
       "      <th></th>\n",
       "    </tr>\n",
       "  </thead>\n",
       "  <tbody>\n",
       "    <tr>\n",
       "      <th>CHOL</th>\n",
       "      <td>0</td>\n",
       "      <td>158</td>\n",
       "      <td>0</td>\n",
       "      <td>NaN</td>\n",
       "      <td>5</td>\n",
       "      <td>315</td>\n",
       "      <td>5</td>\n",
       "      <td>inf</td>\n",
       "    </tr>\n",
       "    <tr>\n",
       "      <th>DLBC</th>\n",
       "      <td>0</td>\n",
       "      <td>129</td>\n",
       "      <td>0</td>\n",
       "      <td>NaN</td>\n",
       "      <td>0</td>\n",
       "      <td>109</td>\n",
       "      <td>0</td>\n",
       "      <td>NaN</td>\n",
       "    </tr>\n",
       "    <tr>\n",
       "      <th>UCS</th>\n",
       "      <td>3</td>\n",
       "      <td>112</td>\n",
       "      <td>3</td>\n",
       "      <td>inf</td>\n",
       "      <td>6</td>\n",
       "      <td>152</td>\n",
       "      <td>6</td>\n",
       "      <td>inf</td>\n",
       "    </tr>\n",
       "    <tr>\n",
       "      <th>KICH</th>\n",
       "      <td>0</td>\n",
       "      <td>129</td>\n",
       "      <td>0</td>\n",
       "      <td>NaN</td>\n",
       "      <td>2</td>\n",
       "      <td>181</td>\n",
       "      <td>3</td>\n",
       "      <td>inf</td>\n",
       "    </tr>\n",
       "    <tr>\n",
       "      <th>ACC</th>\n",
       "      <td>1</td>\n",
       "      <td>152</td>\n",
       "      <td>1</td>\n",
       "      <td>inf</td>\n",
       "      <td>1</td>\n",
       "      <td>94</td>\n",
       "      <td>1</td>\n",
       "      <td>inf</td>\n",
       "    </tr>\n",
       "    <tr>\n",
       "      <th>UVM</th>\n",
       "      <td>0</td>\n",
       "      <td>69</td>\n",
       "      <td>0</td>\n",
       "      <td>NaN</td>\n",
       "      <td>0</td>\n",
       "      <td>57</td>\n",
       "      <td>0</td>\n",
       "      <td>NaN</td>\n",
       "    </tr>\n",
       "    <tr>\n",
       "      <th>MESO</th>\n",
       "      <td>5</td>\n",
       "      <td>109</td>\n",
       "      <td>10</td>\n",
       "      <td>inf</td>\n",
       "      <td>5</td>\n",
       "      <td>87</td>\n",
       "      <td>9</td>\n",
       "      <td>inf</td>\n",
       "    </tr>\n",
       "    <tr>\n",
       "      <th>SKCM</th>\n",
       "      <td>3</td>\n",
       "      <td>183</td>\n",
       "      <td>4</td>\n",
       "      <td>inf</td>\n",
       "      <td>3</td>\n",
       "      <td>171</td>\n",
       "      <td>4</td>\n",
       "      <td>inf</td>\n",
       "    </tr>\n",
       "    <tr>\n",
       "      <th>THYM</th>\n",
       "      <td>1</td>\n",
       "      <td>102</td>\n",
       "      <td>1</td>\n",
       "      <td>inf</td>\n",
       "      <td>3</td>\n",
       "      <td>61</td>\n",
       "      <td>3</td>\n",
       "      <td>inf</td>\n",
       "    </tr>\n",
       "    <tr>\n",
       "      <th>TGCT</th>\n",
       "      <td>1</td>\n",
       "      <td>84</td>\n",
       "      <td>1</td>\n",
       "      <td>inf</td>\n",
       "      <td>1</td>\n",
       "      <td>79</td>\n",
       "      <td>1</td>\n",
       "      <td>inf</td>\n",
       "    </tr>\n",
       "    <tr>\n",
       "      <th>READ</th>\n",
       "      <td>1</td>\n",
       "      <td>50</td>\n",
       "      <td>1</td>\n",
       "      <td>1.429591</td>\n",
       "      <td>0</td>\n",
       "      <td>57</td>\n",
       "      <td>0</td>\n",
       "      <td>0.000000</td>\n",
       "    </tr>\n",
       "    <tr>\n",
       "      <th>PAAD</th>\n",
       "      <td>0</td>\n",
       "      <td>52</td>\n",
       "      <td>0</td>\n",
       "      <td>NaN</td>\n",
       "      <td>9</td>\n",
       "      <td>32</td>\n",
       "      <td>13</td>\n",
       "      <td>inf</td>\n",
       "    </tr>\n",
       "    <tr>\n",
       "      <th>PCPG</th>\n",
       "      <td>3</td>\n",
       "      <td>130</td>\n",
       "      <td>3</td>\n",
       "      <td>inf</td>\n",
       "      <td>4</td>\n",
       "      <td>72</td>\n",
       "      <td>4</td>\n",
       "      <td>inf</td>\n",
       "    </tr>\n",
       "    <tr>\n",
       "      <th>ESCA</th>\n",
       "      <td>1</td>\n",
       "      <td>12</td>\n",
       "      <td>1</td>\n",
       "      <td>1.504658</td>\n",
       "      <td>2</td>\n",
       "      <td>16</td>\n",
       "      <td>2</td>\n",
       "      <td>2.225012</td>\n",
       "    </tr>\n",
       "    <tr>\n",
       "      <th>SARC</th>\n",
       "      <td>4</td>\n",
       "      <td>91</td>\n",
       "      <td>6</td>\n",
       "      <td>inf</td>\n",
       "      <td>4</td>\n",
       "      <td>118</td>\n",
       "      <td>5</td>\n",
       "      <td>inf</td>\n",
       "    </tr>\n",
       "    <tr>\n",
       "      <th>KIRP</th>\n",
       "      <td>2</td>\n",
       "      <td>114</td>\n",
       "      <td>2</td>\n",
       "      <td>inf</td>\n",
       "      <td>2</td>\n",
       "      <td>64</td>\n",
       "      <td>2</td>\n",
       "      <td>inf</td>\n",
       "    </tr>\n",
       "    <tr>\n",
       "      <th>OV</th>\n",
       "      <td>5</td>\n",
       "      <td>114</td>\n",
       "      <td>6</td>\n",
       "      <td>3.586025</td>\n",
       "      <td>5</td>\n",
       "      <td>60</td>\n",
       "      <td>5</td>\n",
       "      <td>3.346820</td>\n",
       "    </tr>\n",
       "    <tr>\n",
       "      <th>CESC</th>\n",
       "      <td>1</td>\n",
       "      <td>30</td>\n",
       "      <td>1</td>\n",
       "      <td>inf</td>\n",
       "      <td>2</td>\n",
       "      <td>43</td>\n",
       "      <td>2</td>\n",
       "      <td>inf</td>\n",
       "    </tr>\n",
       "    <tr>\n",
       "      <th>LIHC</th>\n",
       "      <td>5</td>\n",
       "      <td>51</td>\n",
       "      <td>10</td>\n",
       "      <td>inf</td>\n",
       "      <td>5</td>\n",
       "      <td>52</td>\n",
       "      <td>9</td>\n",
       "      <td>inf</td>\n",
       "    </tr>\n",
       "    <tr>\n",
       "      <th>BLCA</th>\n",
       "      <td>5</td>\n",
       "      <td>36</td>\n",
       "      <td>9</td>\n",
       "      <td>inf</td>\n",
       "      <td>4</td>\n",
       "      <td>20</td>\n",
       "      <td>17</td>\n",
       "      <td>inf</td>\n",
       "    </tr>\n",
       "    <tr>\n",
       "      <th>STAD</th>\n",
       "      <td>8</td>\n",
       "      <td>35</td>\n",
       "      <td>12</td>\n",
       "      <td>4.415096</td>\n",
       "      <td>5</td>\n",
       "      <td>37</td>\n",
       "      <td>13</td>\n",
       "      <td>4.525362</td>\n",
       "    </tr>\n",
       "    <tr>\n",
       "      <th>COAD</th>\n",
       "      <td>4</td>\n",
       "      <td>57</td>\n",
       "      <td>7</td>\n",
       "      <td>3.696075</td>\n",
       "      <td>3</td>\n",
       "      <td>86</td>\n",
       "      <td>3</td>\n",
       "      <td>2.614952</td>\n",
       "    </tr>\n",
       "    <tr>\n",
       "      <th>LUSC</th>\n",
       "      <td>7</td>\n",
       "      <td>64</td>\n",
       "      <td>9</td>\n",
       "      <td>inf</td>\n",
       "      <td>7</td>\n",
       "      <td>54</td>\n",
       "      <td>9</td>\n",
       "      <td>inf</td>\n",
       "    </tr>\n",
       "    <tr>\n",
       "      <th>PRAD</th>\n",
       "      <td>3</td>\n",
       "      <td>27</td>\n",
       "      <td>10</td>\n",
       "      <td>4.270974</td>\n",
       "      <td>3</td>\n",
       "      <td>23</td>\n",
       "      <td>9</td>\n",
       "      <td>4.127250</td>\n",
       "    </tr>\n",
       "    <tr>\n",
       "      <th>KIRC</th>\n",
       "      <td>1</td>\n",
       "      <td>52</td>\n",
       "      <td>1</td>\n",
       "      <td>inf</td>\n",
       "      <td>1</td>\n",
       "      <td>42</td>\n",
       "      <td>3</td>\n",
       "      <td>inf</td>\n",
       "    </tr>\n",
       "    <tr>\n",
       "      <th>THCA</th>\n",
       "      <td>3</td>\n",
       "      <td>28</td>\n",
       "      <td>7</td>\n",
       "      <td>inf</td>\n",
       "      <td>5</td>\n",
       "      <td>35</td>\n",
       "      <td>9</td>\n",
       "      <td>inf</td>\n",
       "    </tr>\n",
       "    <tr>\n",
       "      <th>LUAD</th>\n",
       "      <td>3</td>\n",
       "      <td>70</td>\n",
       "      <td>3</td>\n",
       "      <td>inf</td>\n",
       "      <td>5</td>\n",
       "      <td>68</td>\n",
       "      <td>6</td>\n",
       "      <td>inf</td>\n",
       "    </tr>\n",
       "    <tr>\n",
       "      <th>LGG</th>\n",
       "      <td>5</td>\n",
       "      <td>110</td>\n",
       "      <td>6</td>\n",
       "      <td>inf</td>\n",
       "      <td>4</td>\n",
       "      <td>73</td>\n",
       "      <td>4</td>\n",
       "      <td>inf</td>\n",
       "    </tr>\n",
       "    <tr>\n",
       "      <th>HNSC</th>\n",
       "      <td>8</td>\n",
       "      <td>64</td>\n",
       "      <td>9</td>\n",
       "      <td>inf</td>\n",
       "      <td>7</td>\n",
       "      <td>52</td>\n",
       "      <td>8</td>\n",
       "      <td>inf</td>\n",
       "    </tr>\n",
       "    <tr>\n",
       "      <th>UCEC</th>\n",
       "      <td>10</td>\n",
       "      <td>115</td>\n",
       "      <td>13</td>\n",
       "      <td>4.542070</td>\n",
       "      <td>11</td>\n",
       "      <td>100</td>\n",
       "      <td>13</td>\n",
       "      <td>4.542070</td>\n",
       "    </tr>\n",
       "    <tr>\n",
       "      <th>BRCA</th>\n",
       "      <td>1</td>\n",
       "      <td>42</td>\n",
       "      <td>1</td>\n",
       "      <td>inf</td>\n",
       "      <td>5</td>\n",
       "      <td>73</td>\n",
       "      <td>5</td>\n",
       "      <td>inf</td>\n",
       "    </tr>\n",
       "    <tr>\n",
       "      <th>PAN</th>\n",
       "      <td>5</td>\n",
       "      <td>64</td>\n",
       "      <td>3</td>\n",
       "      <td>2.783574</td>\n",
       "      <td>5</td>\n",
       "      <td>65</td>\n",
       "      <td>8</td>\n",
       "      <td>0.917538</td>\n",
       "    </tr>\n",
       "  </tbody>\n",
       "</table>\n",
       "</div>"
      ],
      "text/plain": [
       "             log_corrs_mtb_miRNAs  log_corrs_all_miRNAs  log_corrs_mtb  \\\n",
       "cancer_type                                                              \n",
       "CHOL                            0                   158              0   \n",
       "DLBC                            0                   129              0   \n",
       "UCS                             3                   112              3   \n",
       "KICH                            0                   129              0   \n",
       "ACC                             1                   152              1   \n",
       "UVM                             0                    69              0   \n",
       "MESO                            5                   109             10   \n",
       "SKCM                            3                   183              4   \n",
       "THYM                            1                   102              1   \n",
       "TGCT                            1                    84              1   \n",
       "READ                            1                    50              1   \n",
       "PAAD                            0                    52              0   \n",
       "PCPG                            3                   130              3   \n",
       "ESCA                            1                    12              1   \n",
       "SARC                            4                    91              6   \n",
       "KIRP                            2                   114              2   \n",
       "OV                              5                   114              6   \n",
       "CESC                            1                    30              1   \n",
       "LIHC                            5                    51             10   \n",
       "BLCA                            5                    36              9   \n",
       "STAD                            8                    35             12   \n",
       "COAD                            4                    57              7   \n",
       "LUSC                            7                    64              9   \n",
       "PRAD                            3                    27             10   \n",
       "KIRC                            1                    52              1   \n",
       "THCA                            3                    28              7   \n",
       "LUAD                            3                    70              3   \n",
       "LGG                             5                   110              6   \n",
       "HNSC                            8                    64              9   \n",
       "UCEC                           10                   115             13   \n",
       "BRCA                            1                    42              1   \n",
       "PAN                             5                    64              3   \n",
       "\n",
       "             log_corrs_mtb_log2OE  spearman_corrs_mtb_miRNAs  \\\n",
       "cancer_type                                                    \n",
       "CHOL                          NaN                          5   \n",
       "DLBC                          NaN                          0   \n",
       "UCS                           inf                          6   \n",
       "KICH                          NaN                          2   \n",
       "ACC                           inf                          1   \n",
       "UVM                           NaN                          0   \n",
       "MESO                          inf                          5   \n",
       "SKCM                          inf                          3   \n",
       "THYM                          inf                          3   \n",
       "TGCT                          inf                          1   \n",
       "READ                     1.429591                          0   \n",
       "PAAD                          NaN                          9   \n",
       "PCPG                          inf                          4   \n",
       "ESCA                     1.504658                          2   \n",
       "SARC                          inf                          4   \n",
       "KIRP                          inf                          2   \n",
       "OV                       3.586025                          5   \n",
       "CESC                          inf                          2   \n",
       "LIHC                          inf                          5   \n",
       "BLCA                          inf                          4   \n",
       "STAD                     4.415096                          5   \n",
       "COAD                     3.696075                          3   \n",
       "LUSC                          inf                          7   \n",
       "PRAD                     4.270974                          3   \n",
       "KIRC                          inf                          1   \n",
       "THCA                          inf                          5   \n",
       "LUAD                          inf                          5   \n",
       "LGG                           inf                          4   \n",
       "HNSC                          inf                          7   \n",
       "UCEC                     4.542070                         11   \n",
       "BRCA                          inf                          5   \n",
       "PAN                      2.783574                          5   \n",
       "\n",
       "             spearman_corrs_all_miRNAs  spearman_corrs_mtb  \\\n",
       "cancer_type                                                  \n",
       "CHOL                               315                   5   \n",
       "DLBC                               109                   0   \n",
       "UCS                                152                   6   \n",
       "KICH                               181                   3   \n",
       "ACC                                 94                   1   \n",
       "UVM                                 57                   0   \n",
       "MESO                                87                   9   \n",
       "SKCM                               171                   4   \n",
       "THYM                                61                   3   \n",
       "TGCT                                79                   1   \n",
       "READ                                57                   0   \n",
       "PAAD                                32                  13   \n",
       "PCPG                                72                   4   \n",
       "ESCA                                16                   2   \n",
       "SARC                               118                   5   \n",
       "KIRP                                64                   2   \n",
       "OV                                  60                   5   \n",
       "CESC                                43                   2   \n",
       "LIHC                                52                   9   \n",
       "BLCA                                20                  17   \n",
       "STAD                                37                  13   \n",
       "COAD                                86                   3   \n",
       "LUSC                                54                   9   \n",
       "PRAD                                23                   9   \n",
       "KIRC                                42                   3   \n",
       "THCA                                35                   9   \n",
       "LUAD                                68                   6   \n",
       "LGG                                 73                   4   \n",
       "HNSC                                52                   8   \n",
       "UCEC                               100                  13   \n",
       "BRCA                                73                   5   \n",
       "PAN                                 65                   8   \n",
       "\n",
       "             spearman_corrs_mtb_log2OE  \n",
       "cancer_type                             \n",
       "CHOL                               inf  \n",
       "DLBC                               NaN  \n",
       "UCS                                inf  \n",
       "KICH                               inf  \n",
       "ACC                                inf  \n",
       "UVM                                NaN  \n",
       "MESO                               inf  \n",
       "SKCM                               inf  \n",
       "THYM                               inf  \n",
       "TGCT                               inf  \n",
       "READ                          0.000000  \n",
       "PAAD                               inf  \n",
       "PCPG                               inf  \n",
       "ESCA                          2.225012  \n",
       "SARC                               inf  \n",
       "KIRP                               inf  \n",
       "OV                            3.346820  \n",
       "CESC                               inf  \n",
       "LIHC                               inf  \n",
       "BLCA                               inf  \n",
       "STAD                          4.525362  \n",
       "COAD                          2.614952  \n",
       "LUSC                               inf  \n",
       "PRAD                          4.127250  \n",
       "KIRC                               inf  \n",
       "THCA                               inf  \n",
       "LUAD                               inf  \n",
       "LGG                                inf  \n",
       "HNSC                               inf  \n",
       "UCEC                          4.542070  \n",
       "BRCA                               inf  \n",
       "PAN                           0.917538  "
      ]
     },
     "execution_count": 96,
     "metadata": {},
     "output_type": "execute_result"
    }
   ],
   "source": [
    "cancer_type_top1000_mtb_strong_stats"
   ]
  },
  {
   "cell_type": "code",
   "execution_count": 94,
   "metadata": {},
   "outputs": [],
   "source": [
    "cancer_type_top1000_stats = read_file(bucket, 'analysis/enrichment/cancertype_top1000-mtb_stats.csv')\n",
    "cancer_type_top1000_stats.set_index('cancer_type', inplace=True)"
   ]
  },
  {
   "cell_type": "markdown",
   "metadata": {},
   "source": [
    "#### Possible reasons for relatively weak relationship between miRTarBase support and (unadjusted/uncontrolled) miRNA-mRNA anticorrelation strength"
   ]
  },
  {
   "cell_type": "markdown",
   "metadata": {},
   "source": [
    "- Unaccounted-for genomic & epigenetic factors, e.g. copy-number variation and gene methylation, affecting mRNA expression\n",
    "  - Could obscure downregulation in genuine miRNA-target pairs\n",
    "  - Could cause anticorrelation between miRNA and non-target mRNA expression\n",
    "- Changes in cancer cell transcriptome, e.g. shortening of 3'-UTR region (thus reducing miRNA-target binding potential)\n",
    "  - Weakens downregulation, i.e. reduces anticorrelation, between miRNA and affected targets\n",
    "- ceRNA effects, e.g.\n",
    "  - All else being equal, miRNAs might be expected to bind preferentially to higher-affinity targets\n",
    "  - Sufficiently high expression of high-affinity targets could reduce amount of miRNA available to downregulate lower-affinity targets\n",
    "  - Outside conditions of exceptional transcriptome changes, there may be insufficient miRNA available to appreciably downregulate all or even many targets\n",
    "- Other gene network interactions, e.g. causal relationships between expressions of various genes. Their aggregate effects could:\n",
    "  - Strengthen or weaken anticorrelation resulting from miRNA-target downregulation\n",
    "  - Cause anticorrelation between miRNA and non-target mRNA expressions\n",
    "- Other factors present in cell type or microenvironment affecting miRNA or target expression\n",
    "- Last but not least: incompleteness or inaccuracy of miRTarBase entries\n",
    "  - Many genuine miRNA-target interactions haven't yet been discovered or recorded in miRTarBase, likely including pairs with strong anticorrelations\n",
    "  - Some interactions reported in miRTarBase may be false positives, possibly accounting for some spurious weak anticorrelations"
   ]
  },
  {
   "cell_type": "markdown",
   "metadata": {},
   "source": [
    "- Comparison with normal tissue could help identify causal miRNA-target relationships and distinguish them from spurious correlations"
   ]
  },
  {
   "cell_type": "markdown",
   "metadata": {},
   "source": [
    "- Stacked histogram of miRTarBase and non-miRTarBase pair correlation distributions"
   ]
  },
  {
   "cell_type": "code",
   "execution_count": 82,
   "metadata": {},
   "outputs": [],
   "source": [
    "cancer_type_top1000_log_corrs_mtb_strong_miRNAs = read_file(bucket, 'analysis/enrichment/cancer-type_top-1000-log-corrs-mtbase-strong_miRNAs.csv')\n",
    "cancer_type_top1000_log_corrs_mtb_strong_miRNAs.set_index('cancer_type', inplace=True)"
   ]
  },
  {
   "cell_type": "code",
   "execution_count": 83,
   "metadata": {},
   "outputs": [],
   "source": [
    "cancer_type_top1000_spearman_corrs_mtb_strong_miRNAs = read_file(bucket, 'analysis/enrichment/cancer-type_top-1000-spearman-corrs-mtbase-strong_miRNAs.csv')\n",
    "cancer_type_top1000_spearman_corrs_mtb_strong_miRNAs.set_index('cancer_type', inplace=True)"
   ]
  },
  {
   "cell_type": "code",
   "execution_count": 84,
   "metadata": {},
   "outputs": [],
   "source": [
    "cancertype_top500_log_corrs_mtbase_sig_miRNAs_mask = read_file(bucket, 'analysis/enrichment/cancer-type_top500-spearman-corrs-mtbase_sig-bh-adj-pval_miRNAs_mask.csv')\n",
    "cancertype_top500_log_corrs_mtbase_sig_miRNAs_mask.set_index('cancer_type', inplace=True)"
   ]
  },
  {
   "cell_type": "code",
   "execution_count": 85,
   "metadata": {},
   "outputs": [],
   "source": [
    "cancertype_top500_spearman_corrs_mtbase_sig_miRNAs_mask = read_file(bucket, 'analysis/enrichment/cancer-type_top500-log-corrs-mtbase_sig-bh-adj-pval_miRNAs_mask.csv')\n",
    "cancertype_top500_spearman_corrs_mtbase_sig_miRNAs_mask.set_index('cancer_type', inplace=True)"
   ]
  },
  {
   "cell_type": "code",
   "execution_count": 86,
   "metadata": {},
   "outputs": [],
   "source": [
    "cancertype_top500_log_corrs_mtb_strong_sig_miRNAs_mask = read_file(bucket, 'analysis/enrichment/cancer-type_top500-log-corrs-mtb-strong_sig-bh-adj-pval_miRNAs_mask.csv')\n",
    "cancertype_top500_log_corrs_mtb_strong_sig_miRNAs_mask.set_index('cancer_type', inplace=True)"
   ]
  },
  {
   "cell_type": "code",
   "execution_count": 87,
   "metadata": {},
   "outputs": [],
   "source": [
    "cancertype_top500_spearman_corrs_mtb_strong_sig_miRNAs_mask = read_file(bucket, 'analysis/enrichment/cancer-type_top500-spearman-corrs-mtb-strong-mtbase_sig-bh-adj-pval_miRNAs_mask.csv')\n",
    "cancertype_top500_spearman_corrs_mtb_strong_sig_miRNAs_mask.set_index('cancer_type', inplace=True)"
   ]
  },
  {
   "cell_type": "markdown",
   "metadata": {},
   "source": [
    "### Test"
   ]
  },
  {
   "cell_type": "code",
   "execution_count": 27,
   "metadata": {},
   "outputs": [
    {
     "data": {
      "text/plain": [
       "Index([u'100133144', u'100134869', u'10357', u'10431', u'155060', u'388795',\n",
       "       u'390284', u'57714', u'645851', u'653553',\n",
       "       ...\n",
       "       u'55055', u'11130', u'7789', u'158586', u'79364', u'440590', u'79699',\n",
       "       u'7791', u'23140', u'26009'],\n",
       "      dtype='object', length=16335)"
      ]
     },
     "execution_count": 27,
     "metadata": {},
     "output_type": "execute_result"
    }
   ],
   "source": [
    "miRNAmRNA_log_corrs.columns"
   ]
  },
  {
   "cell_type": "code",
   "execution_count": 28,
   "metadata": {},
   "outputs": [
    {
     "data": {
      "text/plain": [
       "Index([u'hsa-let-7a-2-3p', u'hsa-let-7a-3p', u'hsa-let-7a-5p',\n",
       "       u'hsa-let-7b-3p', u'hsa-let-7b-5p', u'hsa-let-7c-3p', u'hsa-let-7c-5p',\n",
       "       u'hsa-let-7d-3p', u'hsa-let-7d-5p', u'hsa-let-7e-3p',\n",
       "       ...\n",
       "       u'hsa-miR-527', u'hsa-miR-548x-3p', u'hsa-miR-5584-5p',\n",
       "       u'hsa-miR-670-3p', u'hsa-miR-885-3p', u'hsa-miR-888-5p', u'hsa-miR-890',\n",
       "       u'hsa-miR-891b', u'hsa-miR-892b', u'hsa-miR-892c-3p'],\n",
       "      dtype='object', name=u'miRNA', length=743)"
      ]
     },
     "execution_count": 28,
     "metadata": {},
     "output_type": "execute_result"
    }
   ],
   "source": [
    "miRNAmRNA_log_corrs.index"
   ]
  },
  {
   "cell_type": "code",
   "execution_count": 37,
   "metadata": {},
   "outputs": [
    {
     "data": {
      "text/plain": [
       "-0.052223221148815856"
      ]
     },
     "execution_count": 37,
     "metadata": {},
     "output_type": "execute_result"
    }
   ],
   "source": [
    "miRNAmRNA_log_corrs.loc['hsa-let-7a-2-3p', '100133144']"
   ]
  },
  {
   "cell_type": "code",
   "execution_count": 40,
   "metadata": {},
   "outputs": [
    {
     "data": {
      "text/plain": [
       "a    3\n",
       "b    1\n",
       "c    0\n",
       "d    2\n",
       "dtype: int64"
      ]
     },
     "execution_count": 40,
     "metadata": {},
     "output_type": "execute_result"
    }
   ],
   "source": [
    "pd.Series([3,2,4,1], index=['a', 'b', 'c', 'd']).argsort()"
   ]
  },
  {
   "cell_type": "code",
   "execution_count": 51,
   "metadata": {},
   "outputs": [
    {
     "data": {
      "text/plain": [
       "100133144    False\n",
       "100134869    False\n",
       "10357        False\n",
       "10431        False\n",
       "155060       False\n",
       "388795       False\n",
       "390284       False\n",
       "57714        False\n",
       "645851       False\n",
       "653553       False\n",
       "8225         False\n",
       "90288        False\n",
       "1            False\n",
       "87769        False\n",
       "2            False\n",
       "144568       False\n",
       "53947        False\n",
       "8086         False\n",
       "65985        False\n",
       "51166        False\n",
       "79719        False\n",
       "22848        False\n",
       "14           False\n",
       "15           False\n",
       "16           False\n",
       "57505        False\n",
       "80755        False\n",
       "132949       False\n",
       "60496        False\n",
       "10157        False\n",
       "             ...  \n",
       "9753         False\n",
       "221584       False\n",
       "80345        False\n",
       "65982        False\n",
       "7579         False\n",
       "7589         False\n",
       "342945       False\n",
       "222696       False\n",
       "54993        False\n",
       "146050       False\n",
       "79149        False\n",
       "342933       False\n",
       "90204        False\n",
       "140831       False\n",
       "65249        False\n",
       "57643        False\n",
       "57688        False\n",
       "125150       False\n",
       "221302       False\n",
       "9183         False\n",
       "55055        False\n",
       "11130        False\n",
       "7789         False\n",
       "158586       False\n",
       "79364        False\n",
       "440590       False\n",
       "79699        False\n",
       "7791         False\n",
       "23140        False\n",
       "26009        False\n",
       "Name: hsa-let-7a-2-3p, Length: 16335, dtype: bool"
      ]
     },
     "execution_count": 51,
     "metadata": {},
     "output_type": "execute_result"
    }
   ],
   "source": [
    "(miRNAmRNA_log_corrs.loc['hsa-let-7a-2-3p'].argsort() < 500)"
   ]
  },
  {
   "cell_type": "markdown",
   "metadata": {},
   "source": [
    "### Questions"
   ]
  },
  {
   "cell_type": "markdown",
   "metadata": {},
   "source": [
    "- What are the overlaps (in top n anticorrelations) across correlation types and miRTarBase support types?\n",
    "- What are the overlaps across cancer types (within each correlation and miRTarBase support type)?\n",
    "- What's the overlap between pairs in the top n anticorrelations across many/all cancer types, and those in top n pan-cancer anticorrelations? (Also addresses aux. question)\n",
    "- What's the distribution of (miRNA) expression and correlations across cancers?"
   ]
  },
  {
   "cell_type": "markdown",
   "metadata": {},
   "source": [
    "### Scratch"
   ]
  },
  {
   "cell_type": "code",
   "execution_count": 52,
   "metadata": {},
   "outputs": [],
   "source": [
    "df1 = pd.DataFrame({\n",
    "    'A': [1,2,3,4,5],\n",
    "    'B': [1,2,3,4,5]\n",
    "})\n",
    "df2 = pd.DataFrame({\n",
    "    'C': [1,2,3,4,5],\n",
    "    'D': [1,2,3,4,5]\n",
    "})"
   ]
  },
  {
   "cell_type": "code",
   "execution_count": 53,
   "metadata": {},
   "outputs": [],
   "source": [
    "df_concat = pd.concat([df1, df2], axis=1)"
   ]
  },
  {
   "cell_type": "code",
   "execution_count": 54,
   "metadata": {},
   "outputs": [
    {
     "data": {
      "text/html": [
       "<div>\n",
       "<style scoped>\n",
       "    .dataframe tbody tr th:only-of-type {\n",
       "        vertical-align: middle;\n",
       "    }\n",
       "\n",
       "    .dataframe tbody tr th {\n",
       "        vertical-align: top;\n",
       "    }\n",
       "\n",
       "    .dataframe thead th {\n",
       "        text-align: right;\n",
       "    }\n",
       "</style>\n",
       "<table border=\"1\" class=\"dataframe\">\n",
       "  <thead>\n",
       "    <tr style=\"text-align: right;\">\n",
       "      <th></th>\n",
       "      <th>A</th>\n",
       "      <th>B</th>\n",
       "      <th>C</th>\n",
       "      <th>D</th>\n",
       "    </tr>\n",
       "  </thead>\n",
       "  <tbody>\n",
       "    <tr>\n",
       "      <th>0</th>\n",
       "      <td>1</td>\n",
       "      <td>1</td>\n",
       "      <td>1</td>\n",
       "      <td>1</td>\n",
       "    </tr>\n",
       "    <tr>\n",
       "      <th>1</th>\n",
       "      <td>2</td>\n",
       "      <td>2</td>\n",
       "      <td>2</td>\n",
       "      <td>2</td>\n",
       "    </tr>\n",
       "    <tr>\n",
       "      <th>2</th>\n",
       "      <td>3</td>\n",
       "      <td>3</td>\n",
       "      <td>3</td>\n",
       "      <td>3</td>\n",
       "    </tr>\n",
       "    <tr>\n",
       "      <th>3</th>\n",
       "      <td>4</td>\n",
       "      <td>4</td>\n",
       "      <td>4</td>\n",
       "      <td>4</td>\n",
       "    </tr>\n",
       "    <tr>\n",
       "      <th>4</th>\n",
       "      <td>5</td>\n",
       "      <td>5</td>\n",
       "      <td>5</td>\n",
       "      <td>5</td>\n",
       "    </tr>\n",
       "  </tbody>\n",
       "</table>\n",
       "</div>"
      ],
      "text/plain": [
       "   A  B  C  D\n",
       "0  1  1  1  1\n",
       "1  2  2  2  2\n",
       "2  3  3  3  3\n",
       "3  4  4  4  4\n",
       "4  5  5  5  5"
      ]
     },
     "execution_count": 54,
     "metadata": {},
     "output_type": "execute_result"
    }
   ],
   "source": [
    "df_concat"
   ]
  },
  {
   "cell_type": "markdown",
   "metadata": {},
   "source": [
    "### TODO / Bonus: Rename the following\n",
    "- cancer_type_top1000_log_corrs_mtb_miRNAs -> cancer_type_top1000_log_corrs_mtb_miRNAs_mask\n",
    "- cancer_type_top1000_log_corrs_miRNAs -> cancer_type_top1000_log_corrs_miRNAs_mask\n",
    "- cancer_type_top1000_spearman_corrs_mtb_miRNAs -> cancer_type_top1000_spearman_corrs_mtb_miRNAs_mask\n",
    "- cancer_type_top1000_spearman_corrs_miRNAs -> cancer_type_top1000_spearman_corrs_miRNAs_mask\n",
    "- cancer_type_top1000_log_corrs_mtb_strong_miRNAs -> cancer_type_top1000_log_corrs_mtb_strong_miRNAs_mask\n",
    "- cancer_type_top1000_spearman_corrs_mtb_strong_miRNAs -> cancer_type_top1000_spearman_corrs_mtb_strong_miRNAs_mask"
   ]
  },
  {
   "cell_type": "markdown",
   "metadata": {},
   "source": [
    "### Scraps: Delete after finalising notebook if not used"
   ]
  },
  {
   "cell_type": "markdown",
   "metadata": {},
   "source": [
    "#### Attempt to account for differences in enrichment test p-values across cancer types"
   ]
  },
  {
   "cell_type": "code",
   "execution_count": null,
   "metadata": {},
   "outputs": [],
   "source": [
    "heatmap(cancer_type_top_n_log_corrs_mirtarbase_counts_log2OE.T.reindex(cancer_types_list).T,\n",
    "        'log2(O/E) for enrichment of miRTarBase relationships in top n Spearman anticorrelation pairs, cancer types sorted by sample size', 'cancer type', 'n',\n",
    "        np.arange(cancer_types_list.size) + 0.5, np.arange(len(hypergeom_test_ns)) + 0.5, cancer_types_list,\n",
    "        hypergeom_test_ns, 30, 12, 'cubehelix_r', ha='center', va='center', label_fontsize=16).savefig('temp.png')\n",
    "#save_as('temp.png', 'gs://yfl-mirna/analysis/enrichment/plots/cancer-types_top-n-spearman-corrs-mtbase-log2OE_heatmap.png')"
   ]
  },
  {
   "cell_type": "code",
   "execution_count": null,
   "metadata": {},
   "outputs": [],
   "source": [
    "heatmap(cancer_type_top_n_spearman_corrs_mirtarbase_pvals.T.reindex(cancer_types_list).T,\n",
    "        'p-values for enrichment of miRTarBase relationships in top n Spearman anticorrelation pairs, cancer types sorted by sample size', 'cancer type', 'n',\n",
    "        np.arange(cancer_types_list.size) + 0.5, np.arange(len(hypergeom_test_ns)) + 0.5, cancer_types_list,\n",
    "        hypergeom_test_ns, 30, 12, 'cubehelix_r', ha='center', va='center', label_fontsize=16).savefig('temp.png')\n",
    "#save_as('temp.png', 'gs://yfl-mirna/analysis/enrichment/plots/cancer-types_top-n-spearman-corrs-mtbase-pvals_heatmap.png')"
   ]
  },
  {
   "cell_type": "markdown",
   "metadata": {},
   "source": [
    "#### Scrap of scraps"
   ]
  },
  {
   "cell_type": "code",
   "execution_count": null,
   "metadata": {},
   "outputs": [],
   "source": [
    "pd.melt(cancer_type_top_n_spearman_corrs_mirtarbase_counts_log2OE.T.reset_index(), id_vars=['index'], value_vars=map(lambda x: int(x), hypergeom_test_n_strs),\n",
    "        var_name='n', value_name='log2(O/E)')"
   ]
  },
  {
   "cell_type": "markdown",
   "metadata": {},
   "source": [
    "### FMI: For reference purposes. Delete/Move after report is done."
   ]
  },
  {
   "cell_type": "markdown",
   "metadata": {},
   "source": [
    "#### Analysis plan\n",
    "- Use hypergeometric test to test for enrichment of miRTarBase relationships in miRNA-mRNA pairs with top n (most negative) correlations: n = 10, 50, 100, 500, 1000\n",
    "  - Bonus: and vice versa—enrichment of top n correlations in miRTarBase relationships (I haven't been able to convince myself the test is symmetric)\n",
    "  - If a pattern is visible: Any way to demonstrate formally?\n",
    "- If the preceding item is encouraging enough:\n",
    "  - Get summary statistics for distributions of # of miRTarBase entries and proportion of entries with “strong” support type (or any support type) for each miRTar pair\n",
    "    - Tabulate (intersections of categories of the two) and visualise in heatmap\n",
    "  - Use the Chi-squared test to test for enrichment of relationships (considering only those in miRTarBase) in top n with at least a certain # of miRTarBase entries and a certain % of entries with strong support type\n",
    "    - How many degrees of freedom???"
   ]
  },
  {
   "cell_type": "markdown",
   "metadata": {},
   "source": [
    "### Observations"
   ]
  },
  {
   "cell_type": "markdown",
   "metadata": {},
   "source": [
    "- After Bonferroni correction for multiple testing, cancer types with larger sample sizes are much more consistently enriched (across all miRTarBase interactions or strong ones only, and Pearson as well as Spearman correlations), and to a greater degree, than cancer types with smaller sample sizes\n",
    "- Across cancer types, there is greater enrichment at higher values of n\n",
    "- At the lowest values of n (e.g. <= 100), enrichment is generally not or borderline significant, with a few exceptions\n",
    "- At the pan-cancer level, Spearman correlation-based rankings are enriched starting at lower values of n than Pearson correlation-based rankings\n",
    "- Spearman correlations: There is significant enrichment starting at lower values of n for strong miRTarBase interactions\n",
    "- Some cancer types are highly enriched across all correlation types. In roughly decreasing order:\n",
    "  - LUSC, STAD, THCA, LIHC, UCEC, MESO, BLCA, HNSC, PRAD\n",
    "- Other cancer types showing consistent enrichment, again in roughly decreasing order:\n",
    "  - SKCM, UCSM SARC, OV, CHOL (Spearman), BRCA, KIRC (Spearman), ESCA (regular miRTarBase interactions), LGG, THYM, PAAD (Spearman), COAD (strong miRTarBase support type interactions), PCPG (Spearman), DLBC (regular miRTarBase interactions)\n",
    "- Cancer types showing little enrichment:\n",
    "  - KICH (only strong enrichment for regular miRTarBase interactions in Spearman correlations)\n",
    "  - DLBC (only some enrichment for regular miRTarBase interactions)\n",
    "  - KIRP (weak enrichment for strong miRTarBase interactions)\n",
    "  - TGCT, ACC\n",
    "- Cancer types showing no enrichment, in increasing order of sample size:\n",
    "  - UVM, READ, CESC"
   ]
  }
 ],
 "metadata": {
  "kernelspec": {
   "display_name": "Python 2",
   "language": "python",
   "name": "python2"
  },
  "language_info": {
   "codemirror_mode": {
    "name": "ipython",
    "version": 2
   },
   "file_extension": ".py",
   "mimetype": "text/x-python",
   "name": "python",
   "nbconvert_exporter": "python",
   "pygments_lexer": "ipython2",
   "version": "2.7.15"
  }
 },
 "nbformat": 4,
 "nbformat_minor": 2
}
