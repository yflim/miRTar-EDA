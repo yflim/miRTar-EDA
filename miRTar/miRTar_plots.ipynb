{
 "cells": [
  {
   "cell_type": "code",
   "execution_count": 3,
   "metadata": {},
   "outputs": [],
   "source": [
    "import csv\n",
    "import datetime\n",
    "import datalab.bigquery as bq\n",
    "import google.datalab.storage as storage\n",
    "import io\n",
    "import logging\n",
    "import math as m\n",
    "import matplotlib\n",
    "import matplotlib.pyplot as plt\n",
    "import numpy as np\n",
    "import pandas as pd\n",
    "import re\n",
    "import scipy.stats as stats\n",
    "import seaborn as sns\n",
    "import statsmodels.sandbox.stats.multicomp as multicomp\n",
    "import time"
   ]
  },
  {
   "cell_type": "markdown",
   "metadata": {},
   "source": [
    "#### Set up logging"
   ]
  },
  {
   "cell_type": "code",
   "execution_count": 4,
   "metadata": {},
   "outputs": [],
   "source": [
    "logger = logging.getLogger()"
   ]
  },
  {
   "cell_type": "code",
   "execution_count": 5,
   "metadata": {},
   "outputs": [],
   "source": [
    "def setup_file_logger(log_file):\n",
    "    for handler in logger.handlers[:]:\n",
    "        logger.removeHandler(handler)\n",
    "    hdlr = logging.FileHandler(log_file)\n",
    "    formatter = logging.Formatter('%(asctime)s %(levelname)s %(message)s')\n",
    "    hdlr.setFormatter(formatter)\n",
    "    logger.addHandler(hdlr) \n",
    "    logger.setLevel(logging.INFO)\n",
    "    \n",
    "def log(message):\n",
    "  print(message)\n",
    "  logger.info(message)\n",
    "\n",
    "setup_file_logger('mirtar.log')"
   ]
  },
  {
   "cell_type": "markdown",
   "metadata": {},
   "source": [
    "## Function definitions"
   ]
  },
  {
   "cell_type": "markdown",
   "metadata": {},
   "source": [
    "#### Utils"
   ]
  },
  {
   "cell_type": "code",
   "execution_count": 6,
   "metadata": {},
   "outputs": [],
   "source": [
    "def read_file(bucket, filepath, **kwargs):\n",
    "  uri = bucket.object(filepath).uri\n",
    "  get_ipython().run_line_magic('gcs', 'read --object ' + uri + ' --variable csv_data')\n",
    "  return pd.read_csv(io.BytesIO(csv_data), **kwargs)"
   ]
  },
  {
   "cell_type": "code",
   "execution_count": 7,
   "metadata": {},
   "outputs": [],
   "source": [
    "def write_df_to_csv(df, index_label, csv_filepath):\n",
    "  df.to_csv('temp.csv', index_label = index_label)\n",
    "  !gsutil cp 'temp.csv' $csv_filepath"
   ]
  },
  {
   "cell_type": "code",
   "execution_count": 8,
   "metadata": {},
   "outputs": [],
   "source": [
    "def save_as(temp_filename, filepath):\n",
    "  !gsutil cp $temp_filename $filepath"
   ]
  },
  {
   "cell_type": "code",
   "execution_count": 9,
   "metadata": {},
   "outputs": [],
   "source": [
    "def get_corrs_df(bucket, filepath, index_col):\n",
    "  df = read_file(bucket, filepath)\n",
    "  df.set_index(index_col, inplace=True)\n",
    "  return df"
   ]
  },
  {
   "cell_type": "markdown",
   "metadata": {},
   "source": [
    "#### Analysis"
   ]
  },
  {
   "cell_type": "code",
   "execution_count": 10,
   "metadata": {},
   "outputs": [],
   "source": [
    "def get_rank_indices(df, ranks):\n",
    "  df_flattened = df.values.flatten()\n",
    "  df_flattened_argsorted = np.argsort(df_flattened)\n",
    "  df_flattened_sorted_nan_idxs = np.where(np.isnan(np.sort(df_flattened)))[0]\n",
    "  if df_flattened_sorted_nan_idxs.size > 0:\n",
    "    df_flattened_argsorted = df_flattened_argsorted[:df_flattened_sorted_nan_idxs[0]]\n",
    "  return zip(map(lambda i: df.index[df_flattened_argsorted[i] / df.shape[1]], ranks), map(lambda i: df.columns[df_flattened_argsorted[i] % df.shape[1]], ranks))"
   ]
  },
  {
   "cell_type": "markdown",
   "metadata": {},
   "source": [
    "#### Plotting"
   ]
  },
  {
   "cell_type": "code",
   "execution_count": 11,
   "metadata": {},
   "outputs": [],
   "source": [
    "def heatmap(data, title, xlab, ylab, xticks, yticks, xticklabels, yticklabels, xsz, ysz, cmap, **kwargs):\n",
    "    fig, ax = plt.subplots()\n",
    "    if 'label_fontsize' in kwargs:\n",
    "        ax.set_title(title, fontsize=kwargs['label_fontsize'])\n",
    "        ax.set_xlabel(xlab, fontsize=kwargs['label_fontsize'])\n",
    "        ax.set_ylabel(ylab, fontsize=kwargs['label_fontsize'])\n",
    "    else:\n",
    "        ax.set_title(title)\n",
    "        ax.set_xlabel(xlab)\n",
    "        ax.set_ylabel(ylab)\n",
    "    ax.set_xticks(xticks)\n",
    "    ax.set_yticks(yticks)\n",
    "    xticklab_dict = dict()\n",
    "    if ('xticklabels_rotation' in kwargs):\n",
    "        xticklab_dict['rotation'] = kwargs['xticklabels_rotation']\n",
    "    if ('ha' in kwargs):\n",
    "        xticklab_dict['ha'] = kwargs['ha']\n",
    "    ax.set_xticklabels(xticklabels, xticklab_dict)\n",
    "    if 'va' in kwargs:\n",
    "        ax.set_yticklabels(yticklabels, va=kwargs['va'])\n",
    "    else:\n",
    "        ax.set_yticklabels(yticklabels)\n",
    "    fig.set_size_inches(xsz, ysz)\n",
    "    heatmap = ax.pcolormesh(data, cmap=cmap)\n",
    "    fig.colorbar(heatmap, ax=ax)\n",
    "    return fig"
   ]
  },
  {
   "cell_type": "code",
   "execution_count": 12,
   "metadata": {},
   "outputs": [],
   "source": [
    "# I'd use sns.scatterplot but it's not in version 0.7.0, and I didn't have time to upgrade...\n",
    "def scatterplot(data, title, x, y, alpha):\n",
    "    fgrid = sns.lmplot(x, y, data=data, hue='Disease', fit_reg=False, scatter_kws=dict(alpha=alpha))\n",
    "    fgrid.fig.suptitle(title)\n",
    "    fgrid.fig.set_size_inches(15, 12)\n",
    "    return fgrid.fig"
   ]
  },
  {
   "cell_type": "code",
   "execution_count": 13,
   "metadata": {},
   "outputs": [],
   "source": [
    "def histogram(data, xsz, ysz, title, xlab):\n",
    "    fig, ax = plt.subplots()\n",
    "    sns.distplot(data, ax=ax)\n",
    "    fig = ax.get_figure()\n",
    "    fig.set_size_inches(xsz, ysz)\n",
    "    ax.set_title(title)\n",
    "    ax.set_xlabel(xlab)\n",
    "    return fig"
   ]
  },
  {
   "cell_type": "code",
   "execution_count": 14,
   "metadata": {},
   "outputs": [],
   "source": [
    "# this is put through some abuse below (ranks requested not adjusting size/indices for null values), which I haven't been compelled to rectify\n",
    "def corr_scatterplots(corrs_df, corr_ranks, data, alpha, ranks_for_title, corrtype, filepath, cancer_type=''):\n",
    "  indices = get_rank_indices(corrs_df, corr_ranks)\n",
    "  for i in range(len(corr_ranks)):\n",
    "    x, y = indices[i]\n",
    "    title = ranks_for_title[i] + ' MiRTar ' + corrtype + ' correlation (' + str(corrs_df.loc[x, y]) + ')'\n",
    "    prefix = filepath + str(ranks[i]) + '_' + y + '-vs-' + x + '-' + corrtype + '-corrs'\n",
    "    if cancer_type:\n",
    "      title += 'in ' + cancer_type\n",
    "      prefix += '_' + cancer_type\n",
    "    title += ': log-transformed ' + y + ' expression vs ' + x + ' expression'\n",
    "    prefix += '_scatter.png'\n",
    "    scatterplot(data, title, x, y, alpha).savefig('temp.png')\n",
    "    save_as('temp.png', prefix)"
   ]
  },
  {
   "cell_type": "code",
   "execution_count": 15,
   "metadata": {},
   "outputs": [],
   "source": [
    "def per_cancer_type_histograms(cancer_type, mirtar_corrs, mirtar_log_corrs, mirtar_spearman_corrs, mirtar_spearman_corrs_5pct, xsz, ysz, mrna_or_target, prefix, title_suffix=''):\n",
    "    title = 'Histogram: miRNA-' + mrna_or_target + ' expression Pearson correlations in ' + cancer_type + ' samples' + title_suffix\n",
    "    histogram(mirtar_corrs, xsz, ysz, title, 'Correlation').savefig('temp.png')\n",
    "    save_as('temp.png', 'gs://yfl-mirna/explore/miRTar/pearson-corrs/plots/histograms/' + prefix + '-corrs_' + cancer_type + '_histogram.png')\n",
    "    title = 'Histogram: Pearson correlations of log-transformed miRNA & ' + mrna_or_target + ' expression in ' + cancer_type + ' samples' + title_suffix\n",
    "    histogram(mirtar_log_corrs, xsz, ysz, title, 'Correlation').savefig('temp.png')\n",
    "    save_as('temp.png', 'gs://yfl-mirna/explore/miRTar/pearson-corrs/plots/histograms/' + prefix + '-log-corrs_' + cancer_type + '_histogram.png')\n",
    "    title = 'Histogram: miRNA-' + mrna_or_target + ' expression Spearman correlations in ' + cancer_type + ' samples' + title_suffix\n",
    "    histogram(mirtar_spearman_corrs, xsz, ysz, title, 'Correlation').savefig('temp.png')\n",
    "    save_as('temp.png', 'gs://yfl-mirna/explore/miRTar/spearman-corrs/plots/histograms/' + prefix + '-spearman-corrs_' + cancer_type + '_histogram.png')\n",
    "    title = 'Histogram: miRNA-' + mrna_or_target + ' expression Spearman correlations in ' + cancer_type + ' samples, 5% significance' + title_suffix\n",
    "    histogram(mirtar_spearman_corrs_5pct, xsz, ysz, title, 'Correlation').savefig('temp.png')\n",
    "    save_as('temp.png', 'gs://yfl-mirna/explore/miRTar/spearman-corrs/plots/histograms/' + prefix + '-spearman-corrs-5pct_' + cancer_type + '_histogram.png')"
   ]
  },
  {
   "cell_type": "code",
   "execution_count": 16,
   "metadata": {},
   "outputs": [],
   "source": [
    "def per_cancer_type_heatmaps(cancer_type, mirtar_corrs, mirtar_log_corrs, mirtar_spearman_corrs, xsz, ysz, label_fontsize):\n",
    "    mirtar_corrs['corr_10th-pctl'] = mirtar_corrs.quantile(0.1, axis=1)\n",
    "    title = 'miRNA-mRNA expression correlations in ' + cancer_type + ', missing values in white: miRNAs sorted by 10th percentile of correlations (values restricted to [-0.2, 0.2])'\n",
    "    heatmap(mirtar_corrs.sort_values('corr_10th-pctl').applymap(lambda x: 0.2 if x > 0.2 else -0.2 if x < -0.2 else x), title, 'mRNA', 'miRNA',\n",
    "            np.arange(mirtar_corrs.shape[1]), np.arange(mirtar_corrs.shape[0]), [], [], xsz, ysz, 'cubehelix', label_fontsize=label_fontsize).savefig('temp.png')\n",
    "    save_as('temp.png', 'gs://yfl-mirna/explore/miRTar/pearson-corrs/plots/heatmaps/miRNAmRNA-corrs_' + cancer_type + '_heatmap.png')\n",
    "    del mirtar_corrs['corr_10th-pctl']\n",
    "    mirtar_log_corrs['corr_10th-pctl'] = mirtar_log_corrs.quantile(0.1, axis=1)\n",
    "    title = 'log-transformed miRNA-mRNA expression correlations in ' + cancer_type + ', missing values in white: miRNAs sorted by 10th percentile of correlations (values restricted to [-0.2, 0.2])'\n",
    "    heatmap(mirtar_log_corrs.sort_values('corr_10th-pctl').applymap(lambda x: 0.2 if x > 0.2 else -0.2 if x < -0.2 else x), title, 'mRNA', 'miRNA',\n",
    "            np.arange(mirtar_log_corrs.shape[1]), np.arange(mirtar_log_corrs.shape[0]), [], [], xsz, ysz, 'cubehelix', label_fontsize=label_fontsize).savefig('temp.png')\n",
    "    save_as('temp.png', 'gs://yfl-mirna/explore/miRTar/pearson-corrs/plots/heatmaps/miRNAmRNA-log-corrs_' + cancer_type + '_heatmap.png')\n",
    "    del mirtar_log_corrs['corr_10th-pctl']\n",
    "    # Spearman corrs\n",
    "    mirtar_spearman_corrs['corr_10th-pctl'] = mirtar_spearman_corrs.quantile(0.1, axis=1)\n",
    "    title = 'miRNA-target (mRNA) expression Spearman correlations in ' + cancer_type + ', missing values in white: miRNAs sorted by 10th percentile of correlations'\n",
    "    heatmap(mirtar_spearman_corrs.sort_values('corr_10th-pctl').applymap(lambda x: 0.4 if x > 0.4 else -0.4 if x < -0.4 else x), title, 'mRNA', 'miRNA',\n",
    "        np.arange(mirtar_spearman_corrs.shape[1]), np.arange(mirtar_spearman_corrs.shape[0]), [], [], 20, 8, 'cubehelix', label_fontsize=16).savefig('temp.png')\n",
    "    save_as('temp.png', 'gs://yfl-mirna/explore/miRTar/spearman-corrs/plots/heatmaps/miRNAmRNA-spearman-corrs_' + cancer_type + '_heatmap.png')\n",
    "    del mirtar_spearman_corrs['corr_10th-pctl']"
   ]
  },
  {
   "cell_type": "code",
   "execution_count": 17,
   "metadata": {},
   "outputs": [],
   "source": [
    "def per_cancer_type_corr_scatterplots(cancer_type, mirtar_corrs, mirtar_log_corrs, mirtar_spearman_corrs, samples):\n",
    "    corr_scatterplots(mirtar_corrs, [0, (mirtar_corrs.shape[0] * mirtar_corrs.shape[1]) / 2, -1], samples, 0.2, ['Smallest', 'Median', 'Largest'], '',\n",
    "                      'gs://yfl-mirna/explore/miRTar/pearson-corrs/plots/scatter/miRNAmRNA-corr', cancer_type)\n",
    "    corr_scatterplots(mirtar_log_corrs, [0, (mirtar_log_corrs.shape[0] * mirtar_log_corrs.shape[1]) / 2, -1], samples, 0.2, ['Smallest', 'Median', 'Largest'], '',\n",
    "                      'gs://yfl-mirna/explore/miRTar/pearson-corrs/plots/scatter/miRNAmRNA-log-corr', cancer_type)\n",
    "    corr_scatterplots(mirtar_spearman_corrs, [0, (mirtar_spearman_corrs.shape[0] * mirtar_spearman_corrs.shape[1]) / 2, -1], samples, 0.2, ['Smallest', 'Median', 'Largest'],\n",
    "                      'Spearman', 'gs://yfl-mirna/explore/miRTar/spearman-corrs/plots/scatter/miRNAmRNA-spearman-corr', cancer_type)"
   ]
  },
  {
   "cell_type": "markdown",
   "metadata": {},
   "source": [
    "## Data: Preliminaries"
   ]
  },
  {
   "cell_type": "code",
   "execution_count": 18,
   "metadata": {},
   "outputs": [],
   "source": [
    "bucket = storage.Bucket('yfl-mirna')"
   ]
  },
  {
   "cell_type": "markdown",
   "metadata": {},
   "source": [
    "### Correlation data"
   ]
  },
  {
   "cell_type": "markdown",
   "metadata": {},
   "source": [
    "#### Across all samples"
   ]
  },
  {
   "cell_type": "code",
   "execution_count": 19,
   "metadata": {},
   "outputs": [],
   "source": [
    "mirtar_corrs = read_file(bucket, 'explore/miRTar/pearson-corrs/data/mirtar-corrs.csv')\n",
    "mirtar_corrs.set_index('miRNA', inplace=True)\n",
    "mirtar_corrs_np = mirtar_corrs.values"
   ]
  },
  {
   "cell_type": "code",
   "execution_count": 20,
   "metadata": {},
   "outputs": [
    {
     "data": {
      "text/plain": [
       "(743, 16335)"
      ]
     },
     "execution_count": 20,
     "metadata": {},
     "output_type": "execute_result"
    }
   ],
   "source": [
    "mirtar_corrs.shape"
   ]
  },
  {
   "cell_type": "code",
   "execution_count": 21,
   "metadata": {},
   "outputs": [],
   "source": [
    "mirtar_log_corrs = read_file(bucket, 'explore/miRTar/pearson-corrs/data/mirtar-log-corrs.csv')\n",
    "mirtar_log_corrs.set_index('miRNA', inplace=True)\n",
    "mirtar_log_corrs_np = mirtar_log_corrs.values"
   ]
  },
  {
   "cell_type": "code",
   "execution_count": 22,
   "metadata": {},
   "outputs": [],
   "source": [
    "mirtar_spearman_corrs = read_file(bucket, 'explore/miRTar/spearman-corrs/data/mirtar-spearman-corrs.csv')\n",
    "mirtar_spearman_corrs.set_index('miRNA', inplace=True)\n",
    "mirtar_spearman_corrs_np = mirtar_spearman_corrs.values"
   ]
  },
  {
   "cell_type": "code",
   "execution_count": 23,
   "metadata": {},
   "outputs": [],
   "source": [
    "mirtar_spearman_corr_pvals = read_file(bucket, 'explore/miRTar/spearman-corrs/data/mirtar-spearman-corr-pvals.csv')\n",
    "mirtar_spearman_corr_pvals.set_index('miRNA', inplace=True)"
   ]
  },
  {
   "cell_type": "code",
   "execution_count": 24,
   "metadata": {},
   "outputs": [],
   "source": [
    "mirtar_spearman_corrs_5pct = mirtar_spearman_corrs.mask(mirtar_spearman_corr_pvals > 0.05, np.nan)\n",
    "mirtar_spearman_corrs_5pct_np = mirtar_spearman_corrs_5pct.values"
   ]
  },
  {
   "cell_type": "markdown",
   "metadata": {},
   "source": [
    "### miRNA data"
   ]
  },
  {
   "cell_type": "markdown",
   "metadata": {},
   "source": [
    "#### Read sample miRNA expression data"
   ]
  },
  {
   "cell_type": "code",
   "execution_count": 25,
   "metadata": {},
   "outputs": [],
   "source": [
    "miRNA_data = read_file(bucket, 'data/miRNA/pancanMiRs_EBadjOnProtocolPlatformWithoutRepsWithUnCorrectMiRs_08_04_16.csv')"
   ]
  },
  {
   "cell_type": "code",
   "execution_count": 26,
   "metadata": {},
   "outputs": [],
   "source": [
    "miRNA_data.rename(index=str, columns={'Genes': 'miRNA'}, inplace=True)\n",
    "miRNA_data.set_index('miRNA', inplace=True)\n",
    "miRNA_data['Corrected'] = (miRNA_data['Correction'] == 'Corrected')\n",
    "del miRNA_data['Correction']"
   ]
  },
  {
   "cell_type": "code",
   "execution_count": 27,
   "metadata": {},
   "outputs": [],
   "source": [
    "miRNA_corrections = pd.DataFrame(miRNA_data[['Corrected']])\n",
    "del miRNA_data['Corrected']"
   ]
  },
  {
   "cell_type": "code",
   "execution_count": 28,
   "metadata": {},
   "outputs": [
    {
     "data": {
      "text/plain": [
       "True"
      ]
     },
     "execution_count": 28,
     "metadata": {},
     "output_type": "execute_result"
    }
   ],
   "source": [
    "miRNA_data.index.unique().size == miRNA_data.shape[0]"
   ]
  },
  {
   "cell_type": "markdown",
   "metadata": {},
   "source": [
    "#### Transpose miRNA_data to get samples as rows"
   ]
  },
  {
   "cell_type": "code",
   "execution_count": 29,
   "metadata": {},
   "outputs": [],
   "source": [
    "sample_miRNAs = miRNA_data.T\n",
    "sample_miRNAs.index = sample_miRNAs.index.map(lambda x: '-'.join(x.split('-')[0:4]))\n",
    "sample_miRNAs.reset_index(inplace=True)\n",
    "sample_miRNAs.drop_duplicates(subset='index', keep='first', inplace=True)\n",
    "sample_miRNAs.set_index('index', inplace=True)"
   ]
  },
  {
   "cell_type": "code",
   "execution_count": 30,
   "metadata": {},
   "outputs": [],
   "source": [
    "miRNAs_num = len(sample_miRNAs.columns)"
   ]
  },
  {
   "cell_type": "markdown",
   "metadata": {},
   "source": [
    "### mRNA data"
   ]
  },
  {
   "cell_type": "markdown",
   "metadata": {},
   "source": [
    "#### Read sample mRNA expression data"
   ]
  },
  {
   "cell_type": "code",
   "execution_count": 29,
   "metadata": {},
   "outputs": [],
   "source": [
    "mRNA_data = read_file(bucket, 'data/mRNA/EBPlusPlusAdjustPANCAN_IlluminaHiSeq_RNASeqV2.geneExp.tsv', delimiter='\\t')"
   ]
  },
  {
   "cell_type": "code",
   "execution_count": 30,
   "metadata": {},
   "outputs": [],
   "source": [
    "mRNA_data.rename(index=str, columns={'gene_id': 'mRNA'}, inplace=True)\n",
    "mRNA_data.set_index('mRNA', inplace=True)"
   ]
  },
  {
   "cell_type": "code",
   "execution_count": 31,
   "metadata": {},
   "outputs": [],
   "source": [
    "mRNA_data['entrezID'] = mRNA_data.index.map(lambda x: x.split('|')[1])\n",
    "mRNA_data.set_index('entrezID', inplace=True)"
   ]
  },
  {
   "cell_type": "markdown",
   "metadata": {},
   "source": [
    "#### Transpose mRNA_data to get samples as rows"
   ]
  },
  {
   "cell_type": "code",
   "execution_count": 32,
   "metadata": {},
   "outputs": [],
   "source": [
    "sample_mRNAs = mRNA_data.T\n",
    "sample_mRNAs.index = sample_mRNAs.index.map(lambda x: '-'.join(x.split('-')[0:4]))\n",
    "sample_mRNAs.reset_index(inplace=True)\n",
    "sample_mRNAs.drop_duplicates(subset='index', keep='first', inplace=True)\n",
    "sample_mRNAs.set_index('index', inplace=True)"
   ]
  },
  {
   "cell_type": "markdown",
   "metadata": {},
   "source": [
    "### miRTarBase data"
   ]
  },
  {
   "cell_type": "code",
   "execution_count": 31,
   "metadata": {},
   "outputs": [],
   "source": [
    "mirtar_data = read_file(bucket, 'data/miRTar/miRTarBase_MTI.csv', encoding='ISO-8859-1')"
   ]
  },
  {
   "cell_type": "code",
   "execution_count": 32,
   "metadata": {},
   "outputs": [],
   "source": [
    "colnames_from_to = { 'miRTarBase ID': 'mirtarbaseID', 'Species (miRNA)': 'miRNA_species', 'Target Gene': 'targetID',\n",
    "                     'Target Gene (Entrez ID)': 'target_entrezID', 'Species (Target Gene)': 'target_species',\n",
    "                     'Support Type': 'support_type', 'References (PMID)': 'PMID_references' }\n",
    "mirtar_data.rename(columns=colnames_from_to, inplace=True)\n",
    "mirtar_data = mirtar_data[mirtar_data.target_species == 'Homo sapiens']"
   ]
  },
  {
   "cell_type": "markdown",
   "metadata": {},
   "source": [
    "#### Compute fraction of entries for each miRTar pair reporting not-weak evidence of targeting"
   ]
  },
  {
   "cell_type": "code",
   "execution_count": 33,
   "metadata": {},
   "outputs": [],
   "source": [
    "mirtar_data['support_type_strong'] = mirtar_data.support_type.apply(lambda x: 0 if re.search(r'Weak', x) else 1)"
   ]
  },
  {
   "cell_type": "code",
   "execution_count": 34,
   "metadata": {},
   "outputs": [],
   "source": [
    "mirtar_support_type_strong_counts = mirtar_data.groupby(['miRNA', 'target_entrezID'])['support_type_strong'].sum()\n",
    "mirtar_entry_counts = mirtar_data.groupby(['miRNA', 'target_entrezID']).size()\n",
    "mirtar_support_type_strong_fractions = (mirtar_support_type_strong_counts / mirtar_entry_counts).unstack()\n",
    "mirtar_support_type_strong_fractions.columns = mirtar_support_type_strong_fractions.columns.map(lambda col: str(col))"
   ]
  },
  {
   "cell_type": "code",
   "execution_count": 35,
   "metadata": {},
   "outputs": [],
   "source": [
    "del mirtar_data['support_type_strong']\n",
    "mirtar_data.set_index('miRNA', inplace=True)"
   ]
  },
  {
   "cell_type": "markdown",
   "metadata": {},
   "source": [
    "### Definitions"
   ]
  },
  {
   "cell_type": "code",
   "execution_count": null,
   "metadata": {},
   "outputs": [],
   "source": [
    "type1_sample_disease_mirtars = read_file(bucket, 'data/miRTar/type1-sample_disease_miRNAmRNA-exprs.csv')"
   ]
  },
  {
   "cell_type": "code",
   "execution_count": null,
   "metadata": {},
   "outputs": [],
   "source": [
    "type1_sample_disease_mirtars.set_index('sample', inplace=True)"
   ]
  },
  {
   "cell_type": "code",
   "execution_count": null,
   "metadata": {},
   "outputs": [],
   "source": [
    "type1_sample_disease_mirtars_log = type1_sample_disease_mirtars.drop(columns=['Disease']).applymap(lambda x: m.log(x + 2, 2))\n",
    "type1_sample_disease_mirtars_log['Disease'] = type1_sample_disease_mirtars.Disease"
   ]
  },
  {
   "cell_type": "code",
   "execution_count": null,
   "metadata": {},
   "outputs": [],
   "source": [
    "sample_mirtars_log_groupedby_tumor_type = type1_sample_disease_mirtars_log.groupby('Disease')"
   ]
  },
  {
   "cell_type": "code",
   "execution_count": null,
   "metadata": {},
   "outputs": [],
   "source": [
    "type1_mRNA_count = mRNA_data.index.size"
   ]
  },
  {
   "cell_type": "code",
   "execution_count": null,
   "metadata": {},
   "outputs": [],
   "source": [
    "cancer_types_and_counts = type1_sample_disease_mirtars['Disease'].value_counts().sort_index()\n",
    "cancer_types = cancer_types_and_counts.index"
   ]
  },
  {
   "cell_type": "markdown",
   "metadata": {},
   "source": [
    "## Plots: All miRNA-mRNA correlations"
   ]
  },
  {
   "cell_type": "markdown",
   "metadata": {},
   "source": [
    "### All type-1 samples"
   ]
  },
  {
   "cell_type": "markdown",
   "metadata": {},
   "source": [
    "#### Histograms"
   ]
  },
  {
   "cell_type": "code",
   "execution_count": null,
   "metadata": {},
   "outputs": [],
   "source": [
    "histogram(mirtar_corrs_np[~np.isnan(mirtar_corrs_np)], 10, 10,\n",
    "          'Histogram: miRNA-mRNA expression Pearson correlations across all samples', 'Correlation').savefig('temp.png')\n",
    "save_as('temp.png', 'gs://yfl-mirna/explore/miRTar/pearson-corrs/plots/histograms/miRNAmRNA-corrs_histogram.png')"
   ]
  },
  {
   "cell_type": "code",
   "execution_count": null,
   "metadata": {},
   "outputs": [],
   "source": [
    "histogram(mirtar_log_corrs_np[~np.isnan(mirtar_log_corrs_np)], 10, 10,\n",
    "          'Histogram: Pearson correlations for log-transformed miRNA-mRNA expression across all samples', 'Correlation').savefig('temp.png')\n",
    "save_as('temp.png', 'gs://yfl-mirna/explore/miRTar/pearson-corrs/plots/histograms/miRNAmRNA-log-corrs_histogram.png')"
   ]
  },
  {
   "cell_type": "code",
   "execution_count": null,
   "metadata": {},
   "outputs": [],
   "source": [
    "title = 'Histogram: all miRNA-mRNA expression Spearman correlations across all samples'\n",
    "histogram(mirtar_spearman_corrs_np[~np.isnan(mirtar_spearman_corrs_np)], 10, 10, title, 'Correlation').savefig('temp.png')\n",
    "save_as('temp.png', 'gs://yfl-mirna/explore/miRTar/spearman-corrs/plots/histograms/miRNAmRNA-spearman-corrs_histogram.png')"
   ]
  },
  {
   "cell_type": "code",
   "execution_count": null,
   "metadata": {},
   "outputs": [],
   "source": [
    "title = 'Histogram: miRNA-mRNA expression Spearman correlations across all samples, 5% significance'\n",
    "histogram(mirtar_spearman_corrs_5pct_np[~np.isnan(mirtar_spearman_corrs_5pct_np)], 10, 10, title, 'Correlation').savefig('temp.png')\n",
    "save_as('temp.png', 'gs://yfl-mirna/explore/miRTar/spearman-corrs/plots/histograms/miRNAmRNA-spearman-corrs-5pct_histogram.png')"
   ]
  },
  {
   "cell_type": "markdown",
   "metadata": {},
   "source": [
    "#### Heatmaps"
   ]
  },
  {
   "cell_type": "markdown",
   "metadata": {},
   "source": [
    "#### Correlations"
   ]
  },
  {
   "cell_type": "code",
   "execution_count": 119,
   "metadata": {},
   "outputs": [],
   "source": [
    "mirtar_corrs['corr_10th-pctl'] = mirtar_corrs.quantile(0.1, axis=1)\n",
    "mirtar_corrs_sortedby_10thpctl = mirtar_corrs.sort_values('corr_10th-pctl')"
   ]
  },
  {
   "cell_type": "code",
   "execution_count": null,
   "metadata": {},
   "outputs": [],
   "source": [
    "title = 'miRNA-mRNA expression correlations (values restricted to [-0.2, 0.2]) across all samples, miRNAs sorted by 10th percentile of correlations'\n",
    "heatmap(mirtar_corrs_sortedby_10thpctl.applymap(lambda x: 0.2 if x > 0.2 else -0.2 if x < -0.2 else x), title, 'mRNA', 'miRNA',\n",
    "        np.arange(mirtar_corrs.shape[1]), np.arange(mirtar_corrs.shape[0]), [], [], 20, 8, 'cubehelix', label_fontsize=16).savefig('temp.png')\n",
    "save_as('temp.png', 'gs://yfl-mirna/explore/miRTar/pearson-corrs/plots/heatmaps/miRNAmRNA-corrs_heatmap.png')"
   ]
  },
  {
   "cell_type": "code",
   "execution_count": null,
   "metadata": {},
   "outputs": [],
   "source": [
    "title = 'miRNA-mRNA expression correlations (values restricted to <= 0) across all samples, miRNAs sorted by 10th percentile of correlations'\n",
    "heatmap(mirtar_corrs_sortedby_10thpctl.applymap(lambda x: 0 if x > 0 else x), title, 'mRNA', 'miRNA',\n",
    "        np.arange(mirtar_corrs.shape[1]), np.arange(mirtar_corrs.shape[0]), [], [], 20, 8, 'cubehelix', label_fontsize=16).savefig('temp.png')\n",
    "save_as('temp.png', 'gs://yfl-mirna/explore/miRTar/pearson-corrs/plots/heatmaps/miRNAmRNA-corrs-lte0_heatmap.png')"
   ]
  },
  {
   "cell_type": "code",
   "execution_count": 120,
   "metadata": {},
   "outputs": [],
   "source": [
    "del mirtar_corrs['corr_10th-pctl']\n",
    "del mirtar_corrs_sortedby_10thpctl"
   ]
  },
  {
   "cell_type": "markdown",
   "metadata": {},
   "source": [
    "#### Correlations in log-transformed expression"
   ]
  },
  {
   "cell_type": "code",
   "execution_count": 122,
   "metadata": {},
   "outputs": [],
   "source": [
    "mirtar_log_corrs['corr_10th-pctl'] = mirtar_log_corrs.quantile(0.1, axis=1)\n",
    "mirtar_log_corrs_sortedby_10thpctl = mirtar_log_corrs.sort_values('corr_10th-pctl')"
   ]
  },
  {
   "cell_type": "code",
   "execution_count": null,
   "metadata": {},
   "outputs": [],
   "source": [
    "title = 'Correlations of log-transformed miRNA & mRNA expression across all samples, miRNAs sorted by 10th percentile of correlations (values restricted to [-0.2, 0.2])'\n",
    "heatmap(mirtar_log_corrs_sortedby_10thpctl.applymap(lambda x: 0.2 if x > 0.2 else -0.2 if x < -0.2 else x), title, 'mRNA', 'miRNA',\n",
    "        np.arange(mirtar_log_corrs.shape[1]), np.arange(mirtar_log_corrs.shape[0]), [], [], 24, 10, 'cubehelix', label_fontsize=16).savefig('temp.png')\n",
    "save_as('temp.png', 'gs://yfl-mirna/explore/miRTar/pearson-corrs/plots/heatmaps/miRNAmRNA-log-corrs_heatmap.png')"
   ]
  },
  {
   "cell_type": "code",
   "execution_count": 123,
   "metadata": {},
   "outputs": [],
   "source": [
    "del mirtar_log_corrs['corr_10th-pctl']\n",
    "del mirtar_log_corrs_sortedby_10thpctl"
   ]
  },
  {
   "cell_type": "markdown",
   "metadata": {},
   "source": [
    "#### Spearman correlations"
   ]
  },
  {
   "cell_type": "code",
   "execution_count": 124,
   "metadata": {},
   "outputs": [],
   "source": [
    "mirtar_spearman_corrs['corr_10th-pctl'] = mirtar_spearman_corrs.quantile(0.1, axis=1)\n",
    "mirtar_spearman_corrs_sortedby_10thpctl = mirtar_spearman_corrs.sort_values('corr_10th-pctl')"
   ]
  },
  {
   "cell_type": "code",
   "execution_count": null,
   "metadata": {},
   "outputs": [],
   "source": [
    "title = 'miRNA-mRNA expression Spearman correlations across all samples, miRNAs sorted by 10th percentile of correlations'\n",
    "heatmap(mirtar_spearman_corrs_sortedby_10thpctl.applymap(lambda x: 0.4 if x > 0.4 else -0.4 if x < -0.4 else x), title, 'mRNA', 'miRNA', np.arange(mirtar_spearman_corrs.shape[1]),\n",
    "        np.arange(mirtar_spearman_corrs.shape[0]), [], [], 20, 8, 'cubehelix', label_fontsize=16).savefig('temp.png')\n",
    "save_as('temp.png', 'gs://yfl-mirna/explore/miRTar/spearman-corrs/plots/miRNAmRNA-spearman-corrs_heatmap.png')"
   ]
  },
  {
   "cell_type": "code",
   "execution_count": 125,
   "metadata": {},
   "outputs": [],
   "source": [
    "del mirtar_spearman_corrs['corr_10th-pctl']\n",
    "del mirtar_spearman_corrs_sortedby_10thpctl"
   ]
  },
  {
   "cell_type": "markdown",
   "metadata": {},
   "source": [
    "#### Spearman correlations, at 5% significance"
   ]
  },
  {
   "cell_type": "code",
   "execution_count": 126,
   "metadata": {},
   "outputs": [],
   "source": [
    "mirtar_spearman_corrs_5pct['corr_10th_pctl'] = mirtar_spearman_corrs_5pct.quantile(0.1, axis=1)\n",
    "mirtar_spearman_corrs_5pct_sortedby_10thpctl = mirtar_spearman_corrs_5pct.sort_values('corr_10th_pctl')"
   ]
  },
  {
   "cell_type": "code",
   "execution_count": null,
   "metadata": {},
   "outputs": [],
   "source": [
    "title = 'miRNA-mRNA expression Spearman correlations across all samples, 5% (white) vs. lower significance (black)'\n",
    "heatmap(mirtar_spearman_corrs_5pct.isnull().astype(int), title, 'mRNA', 'miRNA', np.arange(mirtar_spearman_corrs_5pct.shape[1]),\n",
    "        np.arange(mirtar_spearman_corrs_5pct.shape[0]), [], [], 20, 8, 'binary', label_fontsize=16).savefig('temp.png')\n",
    "save_as('temp.png', 'gs://yfl-mirna/explore/miRTar/spearman-corrs/plots/heatmaps/miRNAmRNA-spearman-corrs-5pct_nulls_heatmap.png')"
   ]
  },
  {
   "cell_type": "code",
   "execution_count": null,
   "metadata": {},
   "outputs": [],
   "source": [
    "title = 'miRNA-mRNA expression Spearman correlations across all samples, 5% (values restricted to <= 0) vs. lower significance (green)'\n",
    "heatmap(mirtar_spearman_corrs_5pct_sortedby_10thpctl.applymap(lambda x: 1 if np.isnan(x) else 0 if x > 0 else x), title, 'mRNA', 'miRNA',\n",
    "        np.arange(mirtar_spearman_corrs_5pct.shape[1]), np.arange(mirtar_spearman_corrs_5pct.shape[0]), [], [], 20, 8, 'PiYG', label_fontsize=16).savefig('temp.png')\n",
    "save_as('temp.png', 'gs://yfl-mirna/explore/miRTar/spearman-corrs/plots/heatmaps/miRNAmRNA-spearman-corrs-5pct_lte0-and-nulls_heatmap.png')"
   ]
  },
  {
   "cell_type": "code",
   "execution_count": null,
   "metadata": {},
   "outputs": [],
   "source": [
    "title = 'miRNA-mRNA expression Spearman correlations across all samples, 5% significance; miRNAs sorted by 10th percentile of defined correlations'\n",
    "heatmap(mirtar_spearman_corrs_5pct_sortedby_10thpctl.applymap(lambda x: 0.4 if x > 0.4 else -0.4 if x < -0.4 else x), title, 'mRNA', 'miRNA',\n",
    "        np.arange(mirtar_spearman_corrs_5pct.shape[1]), np.arange(mirtar_spearman_corrs_5pct.shape[0]), [], [], 20, 8, 'cubehelix', label_fontsize=16).savefig('temp.png')\n",
    "save_as('temp.png', 'gs://yfl-mirna/explore/miRTar/spearman-corrs/plots/heatmaps/miRNAmRNA-spearman-corrs-5pct_heatmap.png')"
   ]
  },
  {
   "cell_type": "code",
   "execution_count": 127,
   "metadata": {},
   "outputs": [],
   "source": [
    "del mirtar_spearman_corrs_5pct['corr_10th_pctl']\n",
    "del mirtar_spearman_corrs_5pct_sortedby_10thpctl"
   ]
  },
  {
   "cell_type": "markdown",
   "metadata": {},
   "source": [
    "#### Scatterplots: Selected miRNA-mRNA pairs"
   ]
  },
  {
   "cell_type": "markdown",
   "metadata": {},
   "source": [
    "#### Pearson correlations"
   ]
  },
  {
   "cell_type": "code",
   "execution_count": null,
   "metadata": {},
   "outputs": [],
   "source": [
    "corr_scatterplots(mirtar_corrs, [0, 1, 2], type1_sample_disease_mirtars_log, 0.2, ['Smallest', '2nd smallest', '3rd smallest'], '',\n",
    "                  'gs://yfl-mirna/explore/miRTar/pearson-corrs/plots/scatter/miRNAmRNA-corr')"
   ]
  },
  {
   "cell_type": "code",
   "execution_count": null,
   "metadata": {},
   "outputs": [],
   "source": [
    "quartile_idx = (mirtar_corrs.shape[0] * mirtar_corrs.shape[1]) / 4\n",
    "corr_scatterplots(mirtar_corrs, [quartile_idx, quartile_idx * 2, quartile_idx * 3], type1_sample_disease_mirtars_log, 0.2, ['25th percentile', 'Median', '75th percentile'],\n",
    "                  '', 'gs://yfl-mirna/explore/miRTar/pearson-corrs/plots/scatter/miRNAmRNA-corr')"
   ]
  },
  {
   "cell_type": "code",
   "execution_count": null,
   "metadata": {},
   "outputs": [],
   "source": [
    "corr_scatterplots(mirtar_corrs, [-1, -2, -3], type1_sample_disease_mirtars_log, 0.2, ['Largest', '2nd largest', '3rd largest'],\n",
    "                  '', 'gs://yfl-mirna/explore/miRTar/pearson-corrs/plots/scatter/miRNAmRNA-corr')"
   ]
  },
  {
   "cell_type": "markdown",
   "metadata": {},
   "source": [
    "#### Pearson correlations for log-transformed expressions"
   ]
  },
  {
   "cell_type": "code",
   "execution_count": null,
   "metadata": {},
   "outputs": [],
   "source": [
    "corr_scatterplots(mirtar_log_corrs, [0, 1, 2], type1_sample_disease_mirtars_log, 0.2, ['Smallest', '2nd smallest', '3rd smallest'],\n",
    "                  '', 'gs://yfl-mirna/explore/miRTar/pearson-corrs/plots/scatter/miRNAmRNA-log-corr')"
   ]
  },
  {
   "cell_type": "code",
   "execution_count": null,
   "metadata": {},
   "outputs": [],
   "source": [
    "quartile_idx = (mirtar_log_corrs.shape[0] * mirtar_log_corrs.shape[1]) / 4\n",
    "corr_scatterplots(mirtar_log_corrs, [quartile_idx, quartile_idx * 2, quartile_idx * 3], type1_sample_disease_mirtars_log, 0.2, ['25th percentile', 'Median', '75th percentile'],\n",
    "                  '', 'gs://yfl-mirna/explore/miRTar/pearson-corrs/plots/scatter/miRNAmRNA-log-corr')"
   ]
  },
  {
   "cell_type": "code",
   "execution_count": null,
   "metadata": {},
   "outputs": [],
   "source": [
    "corr_scatterplots(mirtar_log_corrs, [-1, -2, -3], type1_sample_disease_mirtars_log, 0.2, ['Largest', '2nd largest', '3rd largest'],\n",
    "                  '', 'gs://yfl-mirna/explore/miRTar/pearson-corrs/plots/scatter/miRNAmRNA-log-corr')"
   ]
  },
  {
   "cell_type": "markdown",
   "metadata": {},
   "source": [
    "#### Spearman correlations"
   ]
  },
  {
   "cell_type": "code",
   "execution_count": 57,
   "metadata": {},
   "outputs": [],
   "source": [
    "quartile_idx = (mirtar_spearman_corrs.shape[0] * mirtar_spearman_corrs.shape[1]) / 4"
   ]
  },
  {
   "cell_type": "code",
   "execution_count": null,
   "metadata": {},
   "outputs": [],
   "source": [
    "corr_scatterplots(mirtar_spearman_corrs, [0, 1, 2], type1_sample_disease_mirtars_log, 0.2, ['Smallest', '2nd smallest', '3rd smallest'], 'Spearman',\n",
    "                 'gs://yfl-mirna/explore/miRTar/spearman-corrs/plots/scatter/miRNAmRNA-spearman-corr')"
   ]
  },
  {
   "cell_type": "code",
   "execution_count": null,
   "metadata": {},
   "outputs": [],
   "source": [
    "corr_scatterplots(mirtar_spearman_corrs, [quartile_idx, quartile_idx * 2, quartile_idx * 3], type1_sample_disease_mirtars_log, 0.2, ['25th percentile', 'Median', '75th percentile'],\n",
    "                  'Spearman', 'gs://yfl-mirna/explore/miRTar/spearman-corrs/plots/scatter/miRNAmRNA-spearman-corr')"
   ]
  },
  {
   "cell_type": "code",
   "execution_count": null,
   "metadata": {},
   "outputs": [],
   "source": [
    "corr_scatterplots(mirtar_spearman_corrs, [-1, -2, -3], type1_sample_disease_mirtars_log, 0.2, ['Largest', '2nd largest', '3rd largest'], 'Spearman',\n",
    "                 'gs://yfl-mirna/explore/miRTar/spearman-corrs/plots/scatter/miRNAmRNA-spearman-corr')"
   ]
  },
  {
   "cell_type": "markdown",
   "metadata": {},
   "source": [
    "### Within cancer types"
   ]
  },
  {
   "cell_type": "code",
   "execution_count": 22,
   "metadata": {},
   "outputs": [],
   "source": [
    "type_mirtar_corrs = get_corrs_df(bucket, 'explore/miRTar/pearson-corrs/data/mirtar-corrs_' + 'BLCA' + '.csv', 'miRNA')"
   ]
  },
  {
   "cell_type": "code",
   "execution_count": 23,
   "metadata": {},
   "outputs": [
    {
     "data": {
      "text/plain": [
       "(743, 20531)"
      ]
     },
     "execution_count": 23,
     "metadata": {},
     "output_type": "execute_result"
    }
   ],
   "source": [
    "type_mirtar_corrs.shape"
   ]
  },
  {
   "cell_type": "code",
   "execution_count": null,
   "metadata": {},
   "outputs": [],
   "source": [
    "for cancer_type, type_samples in sample_mirtars_log_groupedby_tumor_type:\n",
    "  type_mirtar_corrs = get_corrs_df(bucket, 'explore/miRTar/pearson-corrs/data/mirtar-corrs_' + cancer_type + '.csv', 'miRNA')\n",
    "  mirtar_corrs_np = type_mirtar_corrs.values\n",
    "  type_mirtar_log_corrs = get_corrs_df(bucket, 'explore/miRTar/pearson-corrs/data/mirtar-log-corrs_' + cancer_type + '.csv', 'miRNA')\n",
    "  mirtar_log_corrs_np = type_mirtar_log_corrs.values\n",
    "  type_mirtar_spearman_corrs = get_corrs_df(bucket, 'explore/miRTar/spearman-corrs/data/mirtar-spearman-corrs_' + cancer_type + '.csv', 'miRNA')\n",
    "  mirtar_spearman_corrs_np = type_mirtar_spearman_corrs.values\n",
    "  type_mirtar_spearman_corr_pvals = get_corrs_df(bucket, 'explore/miRTar/spearman-corrs/data/mirtar-spearman-corr-pvals_' + cancer_type + '.csv', 'miRNA')\n",
    "  mirtar_spearman_corrs_5pct_np = type_mirtar_spearman_corrs.mask(type_mirtar_spearman_corr_pvals > 0.05, np.nan).values\n",
    "  per_cancer_type_histograms(cancer_type, mirtar_corrs_np[~np.isnan(mirtar_corrs_np)], mirtar_log_corrs_np[~np.isnan(mirtar_log_corrs_np)],\n",
    "                             mirtar_spearman_corrs_np[~np.isnan(mirtar_spearman_corrs_np)],\n",
    "                             mirtar_spearman_corrs_5pct_np[~np.isnan(mirtar_spearman_corrs_5pct_np)], 20, 8, 'mRNA', 'miRNAmRNA')\n",
    "  per_cancer_type_corr_scatterplots(cancer_type, type_mirtar_corrs, type_mirtar_log_corrs, type_mirtar_spearman_corrs, type_samples)\n",
    "  if cancer_type in cancer_types_more_samples:\n",
    "    per_cancer_type_heatmaps(cancer_type, type_mirtar_corrs, type_mirtar_log_corrs, type_mirtar_spearman_corrs, 20, 8, 14)"
   ]
  },
  {
   "cell_type": "markdown",
   "metadata": {},
   "source": [
    "## Plots: Only miRTarBase-documented relationships"
   ]
  },
  {
   "cell_type": "code",
   "execution_count": null,
   "metadata": {},
   "outputs": [],
   "source": [
    "def get_masked_df_vals(df, mask):\n",
    "  mask_diffed = mask.drop(mask.index.difference(df.index)).drop(mask.columns.difference(df.columns), axis=1)\n",
    "  df_diffed = df.drop(df.index.difference(mask_diffed.index)).drop(df.columns.difference(mask_diffed.columns), axis=1)\n",
    "  return df_diffed.values[mask_diffed.values]"
   ]
  },
  {
   "cell_type": "code",
   "execution_count": null,
   "metadata": {},
   "outputs": [],
   "source": [
    "def is_in_mirtarbase(val, row, col):\n",
    "  if col in mirtar_support_type_strong_fractions.columns:\n",
    "    return (~np.isnan(mirtar_support_type_strong_fractions.loc[row, col]))\n",
    "  return False"
   ]
  },
  {
   "cell_type": "code",
   "execution_count": null,
   "metadata": {},
   "outputs": [],
   "source": [
    "def concat_row_col(val, row, col):\n",
    "  return row + col"
   ]
  },
  {
   "cell_type": "code",
   "execution_count": null,
   "metadata": {},
   "outputs": [],
   "source": [
    "(~(miRNA_data.index == mirtar_corrs.index)).sum()"
   ]
  },
  {
   "cell_type": "code",
   "execution_count": 50,
   "metadata": {},
   "outputs": [],
   "source": [
    "miRNAs_in_mirtarbase_mask = miRNA_data.index.to_series().map(lambda mir: mir in mirtar_support_type_strong_fractions.index)\n",
    "miRNA_idxs = list(range(miRNAs_in_mirtarbase_mask.size))"
   ]
  },
  {
   "cell_type": "code",
   "execution_count": 51,
   "metadata": {},
   "outputs": [],
   "source": [
    "mirtar_corrs_in_mirtarbase_mask = mirtar_corrs.apply(lambda mRNA: map(lambda i: ((mRNA.name in mirtar_support_type_strong_fractions.columns) and miRNAs_in_mirtarbase_mask[i] and\n",
    "                                                                                 ~np.isnan(mirtar_support_type_strong_fractions.loc[miRNA_data.index[i], mRNA.name])), miRNA_idxs))"
   ]
  },
  {
   "cell_type": "code",
   "execution_count": 52,
   "metadata": {},
   "outputs": [],
   "source": [
    "mirtar_corrs_mirtarbase_strong_mask = mirtar_corrs_in_mirtarbase_mask.apply(lambda mRNA: miRNA_data.index.map(lambda miRNA: mirtar_corrs_in_mirtarbase_mask.loc[miRNA, mRNA.name] and\n",
    "                                                                                                              mirtar_support_type_strong_fractions.loc[miRNA, mRNA.name] != 0))"
   ]
  },
  {
   "cell_type": "code",
   "execution_count": 53,
   "metadata": {},
   "outputs": [
    {
     "data": {
      "text/plain": [
       "0"
      ]
     },
     "execution_count": 53,
     "metadata": {},
     "output_type": "execute_result"
    }
   ],
   "source": [
    "# Sanity check\n",
    "(mirtar_corrs_mirtarbase_strong_mask.sum(axis=1) > mirtar_corrs_in_mirtarbase_mask.sum(axis=1)).sum()"
   ]
  },
  {
   "cell_type": "code",
   "execution_count": null,
   "metadata": {},
   "outputs": [],
   "source": [
    "write_df_to_csv(mirtar_corrs_in_mirtarbase_mask, 'miRNA', 'gs://yfl-mirna/data/miRTar/miRNAmRNA-corrs-pancan_miRTarBase_mask.csv')\n",
    "write_df_to_csv(mirtar_corrs_mirtarbase_strong_mask, 'miRNA', 'gs://yfl-mirna/data/miRTar/miRNAmRNA-corrs-pancan_miRTarBase-strong_mask.csv')"
   ]
  },
  {
   "cell_type": "code",
   "execution_count": 54,
   "metadata": {},
   "outputs": [],
   "source": [
    "mirtar_support_type_strong_fractions_np = mirtar_support_type_strong_fractions.values\n",
    "mirtar_support_type_strong_fractions_98th_pctl = np.percentile(mirtar_support_type_strong_fractions_np[~np.isnan(mirtar_support_type_strong_fractions_np)], 98)`\n",
    "strong_corrs_fraction_98th_pctl_mask = (mirtar_support_type_strong_fractions >= mirtar_support_type_strong_fractions_98th_pctl)"
   ]
  },
  {
   "cell_type": "markdown",
   "metadata": {},
   "source": [
    "#### More general: mirtar_corrs is missing some mRNAs found in the full dataset"
   ]
  },
  {
   "cell_type": "code",
   "execution_count": 57,
   "metadata": {},
   "outputs": [],
   "source": [
    "miRNAmRNA_full_dummy = pd.DataFrame(None, miRNA_data.index, mRNA_data.index)"
   ]
  },
  {
   "cell_type": "code",
   "execution_count": null,
   "metadata": {},
   "outputs": [],
   "source": [
    "mirtars_in_mirtarbase_mask = miRNAmRNA_full_dummy.apply(lambda mRNA: map(lambda i: ((mRNA.name in mirtar_support_type_strong_fractions.columns) and miRNAs_in_mirtarbase_mask[i] and\n",
    "                                                                                    ~np.isnan(mirtar_support_type_strong_fractions.loc[miRNA_data.index[i], mRNA.name])), miRNA_idxs))"
   ]
  },
  {
   "cell_type": "code",
   "execution_count": 59,
   "metadata": {},
   "outputs": [],
   "source": [
    "mirtars_mirtarbase_strong_mask = mirtars_in_mirtarbase_mask.apply(lambda mRNA: miRNA_data.index.map(lambda miRNA: mirtars_in_mirtarbase_mask.loc[miRNA, mRNA.name] and\n",
    "                                                                                                    mirtar_support_type_strong_fractions.loc[miRNA, mRNA.name] != 0))"
   ]
  },
  {
   "cell_type": "code",
   "execution_count": 60,
   "metadata": {},
   "outputs": [
    {
     "data": {
      "text/plain": [
       "0"
      ]
     },
     "execution_count": 60,
     "metadata": {},
     "output_type": "execute_result"
    }
   ],
   "source": [
    "# Sanity check\n",
    "(mirtars_mirtarbase_strong_mask.sum(axis=1) > mirtars_in_mirtarbase_mask.sum(axis=1)).sum()"
   ]
  },
  {
   "cell_type": "code",
   "execution_count": null,
   "metadata": {},
   "outputs": [],
   "source": [
    "write_df_to_csv(mirtars_in_mirtarbase_mask, 'miRNA', 'gs://yfl-mirna/data/miRTar/miRNAmRNA-corrs-full_miRTarBase_mask.csv')\n",
    "write_df_to_csv(mirtars_mirtarbase_strong_mask, 'miRNA', 'gs://yfl-mirna/data/miRTar/miRNAmRNA-corrs-full_miRTarBase-strong_mask.csv')"
   ]
  },
  {
   "cell_type": "markdown",
   "metadata": {},
   "source": [
    "### All miRTarBase-documented relationships"
   ]
  },
  {
   "cell_type": "markdown",
   "metadata": {},
   "source": [
    "#### All type-1 samples"
   ]
  },
  {
   "cell_type": "markdown",
   "metadata": {},
   "source": [
    "##### Histograms"
   ]
  },
  {
   "cell_type": "code",
   "execution_count": 70,
   "metadata": {},
   "outputs": [
    {
     "data": {
      "text/plain": [
       "True"
      ]
     },
     "execution_count": 70,
     "metadata": {},
     "output_type": "execute_result"
    }
   ],
   "source": [
    "histogram(mirtar_corrs_np[mirtar_corrs_in_mirtarbase_mask.values], 10, 10, 'Histogram: miRNA-target expression Pearson correlations across all samples',\n",
    "          'Correlation').savefig('temp.png')\n",
    "save_as('temp.png', 'gs://yfl-mirna/explore/miRTar/pearson-corrs/plots/histograms/miRTar-corrs_histogram.png')"
   ]
  },
  {
   "cell_type": "code",
   "execution_count": null,
   "metadata": {},
   "outputs": [],
   "source": [
    "histogram(mirtar_log_corrs_np[mirtar_corrs_in_mirtarbase_mask.values], 10, 10, 'Histogram: Pearson correlations for log-transformed miRNA-target expression across all samples',\n",
    "          'Correlation').savefig('temp.png')\n",
    "save_as('temp.png', 'gs://yfl-mirna/explore/miRTar/pearson-corrs/plots/histograms/miRTar-log-corrs_histogram.png')"
   ]
  },
  {
   "cell_type": "code",
   "execution_count": null,
   "metadata": {},
   "outputs": [],
   "source": [
    "title = 'Histogram: all miRNA-target expression Spearman correlations across all samples'\n",
    "histogram(mirtar_spearman_corrs_np[mirtar_corrs_in_mirtarbase_mask.values], 10, 10, title, 'Correlation').savefig('temp.png')\n",
    "save_as('temp.png', 'gs://yfl-mirna/explore/miRTar/spearman-corrs/plots/histograms/miRTar-spearman-corrs_histogram.png')"
   ]
  },
  {
   "cell_type": "code",
   "execution_count": null,
   "metadata": {},
   "outputs": [],
   "source": [
    "title = 'Histogram: miRNA-target expression Spearman correlations across all samples, 5% significance'\n",
    "histogram(mirtar_spearman_corrs_5pct_np[mirtar_corrs_in_mirtarbase_mask.values], 10, 10, title, 'Correlation').savefig('temp.png')\n",
    "save_as('temp.png', 'gs://yfl-mirna/explore/miRTar/spearman-corrs/plots/histograms/miRTar-spearman-corrs-5pct_histogram.png')"
   ]
  },
  {
   "cell_type": "markdown",
   "metadata": {},
   "source": [
    "#### Within cancer types (histograms only)"
   ]
  },
  {
   "cell_type": "code",
   "execution_count": null,
   "metadata": {},
   "outputs": [],
   "source": [
    "for cancer_type, type_samples in sample_mirtars_log_groupedby_tumor_type:\n",
    "    mirtarbase_corr_vals = get_masked_df_vals(get_corrs_df(bucket, 'explore/miRTar/pearson-corrs/data/mirtar-corrs_' + cancer_type + '.csv', 'miRNA'),\n",
    "                                              mirtar_corrs_in_mirtarbase_mask)\n",
    "    mirtarbase_log_corr_vals = get_masked_df_vals(get_corrs_df(bucket, 'explore/miRTar/pearson-corrs/data/mirtar-log-corrs_' + cancer_type + '.csv', 'miRNA'),\n",
    "                                                  mirtar_corrs_in_mirtarbase_mask)\n",
    "    mirtar_spearman_corrs = get_corrs_df(bucket, 'explore/miRTar/spearman-corrs/data/mirtar-spearman-corrs_' + cancer_type + '.csv', 'miRNA')\n",
    "    mirtarbase_spearman_corr_vals = get_masked_df_vals(mirtar_spearman_corrs, mirtar_corrs_in_mirtarbase_mask)\n",
    "    mirtar_spearman_corr_pvals = get_corrs_df(bucket, 'explore/miRTar/spearman-corrs/data/mirtar-spearman-corr-pvals_' + cancer_type + '.csv', 'miRNA')\n",
    "    mirtarbase_spearman_corrs_5pct_vals = get_masked_df_vals(mirtar_spearman_corrs.where(mirtar_spearman_corr_pvals <= 0.05), mirtar_corrs_in_mirtarbase_mask)\n",
    "    per_cancer_type_histograms(cancer_type, mirtarbase_corr_vals[~np.isnan(mirtarbase_corr_vals)], mirtarbase_log_corr_vals[~np.isnan(mirtarbase_log_corr_vals)],\n",
    "                               mirtarbase_spearman_corr_vals[~np.isnan(mirtarbase_spearman_corr_vals)],\n",
    "                               mirtarbase_spearman_corrs_5pct_vals[~np.isnan(mirtarbase_spearman_corrs_5pct_vals)], 20, 8, 'target', 'miRTar')"
   ]
  },
  {
   "cell_type": "markdown",
   "metadata": {},
   "source": [
    "### Only miRTarBase relationships with support not described as weak"
   ]
  },
  {
   "cell_type": "markdown",
   "metadata": {},
   "source": [
    "##### Histograms"
   ]
  },
  {
   "cell_type": "code",
   "execution_count": null,
   "metadata": {},
   "outputs": [],
   "source": [
    "histogram(mirtar_corrs_np[mirtar_corrs_mirtarbase_strong_mask.values], 10, 10, 'Histogram: expression correlations across all samples; only miRNA-target pairs with strong support',\n",
    "          'Correlation').savefig('temp.png')\n",
    "save_as('temp.png', 'gs://yfl-mirna/explore/miRTar/pearson-corrs/plots/histograms/miRTar-strong-corrs_histogram.png')"
   ]
  },
  {
   "cell_type": "code",
   "execution_count": null,
   "metadata": {},
   "outputs": [],
   "source": [
    "histogram(mirtar_log_corrs_np[mirtar_corrs_mirtarbase_strong_mask.values], 10, 10,\n",
    "          'Histogram: correlations for log-transformed expression across all samples; only miRNA-target pairs with strong support', 'Correlation').savefig('temp.png')\n",
    "save_as('temp.png', 'gs://yfl-mirna/explore/miRTar/pearson-corrs/plots/histograms/miRTar-strong-log-corrs_histogram.png')"
   ]
  },
  {
   "cell_type": "code",
   "execution_count": null,
   "metadata": {},
   "outputs": [],
   "source": [
    "title = 'Histogram: expression Spearman correlations across all samples; only miRNA-target pairs with strong support'\n",
    "histogram(mirtar_spearman_corrs_np[mirtar_corrs_mirtarbase_strong_mask.values], 10, 10, title, 'Correlation').savefig('temp.png')\n",
    "save_as('temp.png', 'gs://yfl-mirna/explore/miRTar/spearman-corrs/plots/histograms/miRTar-strong-spearman-corrs_histogram.png')"
   ]
  },
  {
   "cell_type": "code",
   "execution_count": null,
   "metadata": {},
   "outputs": [],
   "source": [
    "title = 'Histogram: expression Spearman correlations across all samples, 5% significance; only miRNA-target pairs with strong support'\n",
    "histogram(mirtar_spearman_corrs_5pct_np[mirtar_corrs_mirtarbase_strong_mask.values], 10, 10, title, 'Correlation').savefig('temp.png')\n",
    "save_as('temp.png', 'gs://yfl-mirna/explore/miRTar/spearman-corrs/plots/histograms/miRTar-strong-spearman-corrs-5pct_histogram.png')"
   ]
  },
  {
   "cell_type": "markdown",
   "metadata": {},
   "source": [
    "##### Heatmaps"
   ]
  },
  {
   "cell_type": "markdown",
   "metadata": {},
   "source": [
    "#### Correlations"
   ]
  },
  {
   "cell_type": "code",
   "execution_count": 51,
   "metadata": {},
   "outputs": [],
   "source": [
    "mirtar_corrs['miRNA_mean'] = sample_miRNAs.mean()\n",
    "mirtar_corrs_sortedby_mean = mirtar_corrs.sort_values('miRNA_mean')\n",
    "del mirtar_corrs['miRNA_mean']\n",
    "del mirtar_corrs_sortedby_mean['miRNA_mean']"
   ]
  },
  {
   "cell_type": "code",
   "execution_count": 52,
   "metadata": {},
   "outputs": [],
   "source": [
    "mirtar_strong_corrs_sortedby_mean = mirtar_corrs_sortedby_mean.where(mirtar_corrs_mirtarbase_strong_mask)"
   ]
  },
  {
   "cell_type": "code",
   "execution_count": null,
   "metadata": {},
   "outputs": [],
   "source": [
    "title = 'Expression correlations (values restricted to [-0.2, 0.2]) across all samples only for miRNA-target pairs with strong support, miRNAs sorted by mean'\n",
    "heatmap(mirtar_strong_corrs_sortedby_mean.applymap(lambda x: 0.2 if x > 0.2 else -0.2 if x < -0.2 else x), title, 'mRNA', 'miRNA',\n",
    "        np.arange(mirtar_corrs.shape[1]), np.arange(mirtar_corrs.shape[0]), [], [], 20, 8, 'cubehelix', label_fontsize=16).savefig('temp.png')\n",
    "save_as('temp.png', 'gs://yfl-mirna/explore/miRTar/pearson-corrs/plots/heatmaps/miRTar-strong-corrs_heatmap.png')"
   ]
  },
  {
   "cell_type": "code",
   "execution_count": null,
   "metadata": {},
   "outputs": [],
   "source": [
    "title = 'Expression correlations (values restricted to <= 0) across all samples only for miRNA-target pairs with strong support, miRNAs sorted by mean'\n",
    "heatmap(mirtar_strong_corrs_sortedby_mean.applymap(lambda x: 0 if x > 0 else x), title, 'mRNA', 'miRNA',\n",
    "        np.arange(mirtar_corrs.shape[1]), np.arange(mirtar_corrs.shape[0]), [], [], 20, 8, 'cubehelix', label_fontsize=16).savefig('temp.png')\n",
    "save_as('temp.png', 'gs://yfl-mirna/explore/miRTar/pearson-corrs/plots/heatmaps/miRTar-strong-corrs-lte0_heatmap.png')"
   ]
  },
  {
   "cell_type": "code",
   "execution_count": 55,
   "metadata": {},
   "outputs": [],
   "source": [
    "del mirtar_corrs_sortedby_mean\n",
    "del mirtar_strong_corrs_sortedby_mean"
   ]
  },
  {
   "cell_type": "markdown",
   "metadata": {},
   "source": [
    "#### Correlations in log-transformed expression"
   ]
  },
  {
   "cell_type": "code",
   "execution_count": 56,
   "metadata": {},
   "outputs": [],
   "source": [
    "mirtar_log_corrs['miRNA_mean'] = sample_miRNAs.mean()\n",
    "mirtar_log_corrs_sortedby_mean = mirtar_log_corrs.sort_values('miRNA_mean')\n",
    "del mirtar_log_corrs['miRNA_mean']\n",
    "del mirtar_log_corrs_sortedby_mean['miRNA_mean']"
   ]
  },
  {
   "cell_type": "code",
   "execution_count": null,
   "metadata": {},
   "outputs": [],
   "source": [
    "title = 'Correlations of log-transformed miRNA & target expression (only pairs with strong support in miRTarBase) across all samples, miRNAs sorted by mean'\n",
    "heatmap(mirtar_log_corrs_sortedby_mean.where(mirtar_corrs_mirtarbase_strong_mask).applymap(lambda x: 0.2 if x > 0.2 else -0.2 if x < -0.2 else x),\n",
    "        title, 'mRNA', 'miRNA', np.arange(mirtar_log_corrs.shape[1]), np.arange(mirtar_log_corrs.shape[0]), [], [], 20, 8, 'cubehelix', label_fontsize=16).savefig('temp.png')\n",
    "save_as('temp.png', 'gs://yfl-mirna/explore/miRTar/pearson-corrs/plots/heatmaps/miRTar-strong-log-corrs_heatmap.png')"
   ]
  },
  {
   "cell_type": "code",
   "execution_count": 59,
   "metadata": {},
   "outputs": [],
   "source": [
    "del mirtar_log_corrs_sortedby_mean"
   ]
  },
  {
   "cell_type": "markdown",
   "metadata": {},
   "source": [
    "#### Spearman correlations"
   ]
  },
  {
   "cell_type": "code",
   "execution_count": 60,
   "metadata": {},
   "outputs": [],
   "source": [
    "mirtar_spearman_corrs['miRNA_mean'] = sample_miRNAs.mean()\n",
    "mirtar_spearman_corrs_sortedby_mean = mirtar_spearman_corrs.sort_values('miRNA_mean')\n",
    "del mirtar_spearman_corrs['miRNA_mean']\n",
    "del mirtar_spearman_corrs_sortedby_mean['miRNA_mean']"
   ]
  },
  {
   "cell_type": "code",
   "execution_count": null,
   "metadata": {},
   "outputs": [],
   "source": [
    "title = 'Expression Spearman correlations (values restricted to [-0.4, 0.4]) across all samples only for miRNA-target pairs with strong support, miRNAs sorted by mean'\n",
    "heatmap(mirtar_spearman_corrs_sortedby_mean.where(mirtar_corrs_mirtarbase_strong_mask).applymap(lambda x: 0.4 if x > 0.4 else -0.4 if x < -0.4 else x),\n",
    "        title, 'mRNA', 'miRNA', np.arange(mirtar_spearman_corrs.shape[1]), np.arange(mirtar_spearman_corrs.shape[0]), [], [], 20, 8, 'cubehelix', label_fontsize=16).savefig('temp.png')\n",
    "save_as('temp.png', 'gs://yfl-mirna/explore/miRTar/spearman-corrs/plots/heatmaps/miRTar-strong-spearman-corrs_heatmap.png')"
   ]
  },
  {
   "cell_type": "code",
   "execution_count": 62,
   "metadata": {},
   "outputs": [],
   "source": [
    "del mirtar_spearman_corrs_sortedby_mean"
   ]
  },
  {
   "cell_type": "markdown",
   "metadata": {},
   "source": [
    "#### Spearman correlations, at 5% significance"
   ]
  },
  {
   "cell_type": "code",
   "execution_count": 47,
   "metadata": {},
   "outputs": [],
   "source": [
    "mirtar_spearman_corrs_5pct['miRNA_mean'] = sample_miRNAs.mean()\n",
    "mirtar_spearman_corrs_5pct_sortedby_mean = mirtar_spearman_corrs_5pct.sort_values('miRNA_mean')\n",
    "del mirtar_spearman_corrs_5pct['miRNA_mean']\n",
    "del mirtar_spearman_corrs_5pct_sortedby_mean['miRNA_mean']"
   ]
  },
  {
   "cell_type": "code",
   "execution_count": 48,
   "metadata": {},
   "outputs": [],
   "source": [
    "mirtar_strong_spearman_corrs_5pct_sortedby_mean = mirtar_spearman_corrs_5pct_sortedby_mean.where(mirtar_corrs_mirtarbase_strong_mask)"
   ]
  },
  {
   "cell_type": "code",
   "execution_count": null,
   "metadata": {},
   "outputs": [],
   "source": [
    "title = 'Expression Spearman correlations across all samples only for miRNA-target pairs with strong support, miRNAs sorted by mean: 5% (white) vs. lower significance (black)'\n",
    "heatmap(mirtar_strong_spearman_corrs_5pct_sortedby_mean.isnull().astype(int), title, 'mRNA', 'miRNA',\n",
    "        np.arange(mirtar_spearman_corrs.shape[1]), np.arange(mirtar_spearman_corrs.shape[0]), [], [], 20, 8, 'cubehelix', label_fontsize=16).savefig('temp.png')\n",
    "save_as('temp.png', 'gs://yfl-mirna/explore/miRTar/spearman-corrs/plots/heatmaps/miRTar-strong-spearman-corrs-5pct_nulls_heatmap.png')"
   ]
  },
  {
   "cell_type": "code",
   "execution_count": null,
   "metadata": {},
   "outputs": [],
   "source": [
    "title = 'Expression Spearman correlations across all samples, 5% significance, only for miRNA-target pairs with strong support; miRNAs sorted by mean'\n",
    "heatmap(mirtar_strong_spearman_corrs_5pct_sortedby_mean.applymap(lambda x: 0.4 if x > 0.4 else -0.4 if x < -0.4 else x),\n",
    "        title, 'mRNA', 'miRNA', np.arange(mirtar_spearman_corrs_5pct.shape[1]), np.arange(mirtar_spearman_corrs_5pct.shape[0]), [], [], 20, 8, 'cubehelix', label_fontsize=16).savefig('temp.png')\n",
    "save_as('temp.png', 'gs://yfl-mirna/explore/miRTar/spearman-corrs/plots/heatmaps/miRTar-strong-spearman-corrs-5pct_heatmap.png')"
   ]
  },
  {
   "cell_type": "code",
   "execution_count": null,
   "metadata": {},
   "outputs": [],
   "source": [
    "title = 'Expression Spearman correlations across all samples, 5% (values restricted to <= 0) vs. lower significance (green), '\n",
    "title += 'only for miRNA-target pairs with strong support; miRNAs sorted by mean'\n",
    "heatmap(mirtar_strong_spearman_corrs_5pct_sortedby_mean.applymap(lambda x: 1 if np.isnan(x) else 0 if x > 0 else x),\n",
    "        title, 'mRNA', 'miRNA', np.arange(mirtar_spearman_corrs_5pct.shape[1]), np.arange(mirtar_spearman_corrs_5pct.shape[0]), [], [], 20, 8, 'PiYG', label_fontsize=16).savefig('temp.png')\n",
    "save_as('temp.png', 'gs://yfl-mirna/explore/miRTar/spearman-corrs/plots/heatmaps/miRTar-strong-spearman-corrs-5pct_lte0-and-nulls_heatmap.png')"
   ]
  },
  {
   "cell_type": "code",
   "execution_count": 52,
   "metadata": {},
   "outputs": [],
   "source": [
    "del mirtar_spearman_corrs_5pct_sortedby_mean\n",
    "del mirtar_strong_spearman_corrs_5pct_sortedby_mean"
   ]
  },
  {
   "cell_type": "markdown",
   "metadata": {},
   "source": [
    "### Only miRTar relationships at/above 98th percentile in proportion of \"strong\" support type miRTarBase entries"
   ]
  },
  {
   "cell_type": "markdown",
   "metadata": {},
   "source": [
    "#### All type-1 samples"
   ]
  },
  {
   "cell_type": "markdown",
   "metadata": {},
   "source": [
    "##### Histograms"
   ]
  },
  {
   "cell_type": "code",
   "execution_count": null,
   "metadata": {},
   "outputs": [],
   "source": [
    "mirtar_98th_pctl_strong_corrs_np = mirtar_corrs.where(strong_corrs_fraction_98th_pctl_mask).values\n",
    "histogram(mirtar_98th_pctl_strong_corrs_np[~np.isnan(mirtar_98th_pctl_strong_corrs_np)], 10, 10,\n",
    "          'Histogram: expression correlations across all samples; only miRNA-target pairs >= 98th percentile in proportion of entries with strong support',\n",
    "          'Correlation').savefig('temp.png')\n",
    "save_as('temp.png', 'gs://yfl-mirna/explore/miRTar/pearson-corrs/plots/histograms/miRTar-98thpctl-strong-corrs_histogram.png')"
   ]
  },
  {
   "cell_type": "code",
   "execution_count": null,
   "metadata": {},
   "outputs": [],
   "source": [
    "mirtar_98th_pctl_strong_log_corrs_np = mirtar_log_corrs.where(strong_corrs_fraction_98th_pctl_mask).values\n",
    "histogram(mirtar_98th_pctl_strong_log_corrs_np[~np.isnan(mirtar_98th_pctl_strong_log_corrs_np)], 10, 10,\n",
    "          'Histogram: correlations for log-transformed expression across all samples; only miRNA-target pairs >= 98th percentile in proportion of entries with strong support',\n",
    "          'Correlation').savefig('temp.png')\n",
    "save_as('temp.png', 'gs://yfl-mirna/explore/miRTar/pearson-corrs/plots/histograms/miRTar-98thpctl-strong-log-corrs_histogram.png')"
   ]
  },
  {
   "cell_type": "code",
   "execution_count": null,
   "metadata": {},
   "outputs": [],
   "source": [
    "mirtar_98th_pctl_strong_spearman_corrs_np = mirtar_spearman_corrs.where(strong_corrs_fraction_98th_pctl_mask).values\n",
    "title = 'Histogram: expression Spearman correlations across all samples; only miRNA-target pairs >= 98th percentile in proportion of entries with strong support'\n",
    "histogram(mirtar_98th_pctl_strong_spearman_corrs_np[~np.isnan(mirtar_98th_pctl_strong_spearman_corrs_np)], 10, 10, title, 'Correlation').savefig('temp.png')\n",
    "save_as('temp.png', 'gs://yfl-mirna/explore/miRTar/spearman-corrs/plots/histograms/miRTar-98thpctl-strong-spearman-corrs_histogram.png')"
   ]
  },
  {
   "cell_type": "code",
   "execution_count": null,
   "metadata": {},
   "outputs": [],
   "source": [
    "mirtar_98th_pctl_strong_spearman_corrs_5pct_np = mirtar_spearman_corrs_5pct.where(strong_corrs_fraction_98th_pctl_mask).values\n",
    "title = 'Histogram: expression Spearman correlations across all samples, 5% significance; only miRNA-target pairs >= 98th percentile in proportion of entries with strong support'\n",
    "histogram(mirtar_98th_pctl_strong_spearman_corrs_5pct_np[~np.isnan(mirtar_98th_pctl_strong_spearman_corrs_5pct_np)], 10, 10, title, 'Correlation').savefig('temp.png')\n",
    "save_as('temp.png', 'gs://yfl-mirna/explore/miRTar/spearman-corrs/plots/histograms/miRTar-98thpctl-strong-spearman-corrs-5pct_histogram.png')"
   ]
  },
  {
   "cell_type": "markdown",
   "metadata": {},
   "source": [
    "#### Within cancer types (histograms only)"
   ]
  },
  {
   "cell_type": "code",
   "execution_count": null,
   "metadata": {},
   "outputs": [],
   "source": [
    "for cancer_type, type_samples in sample_mirtars_log_groupedby_tumor_type:\n",
    "    mirtarbase_corr_vals = get_masked_df_vals(get_corrs_df(bucket, 'explore/miRTar/pearson-corrs/data/mirtar-corrs_' + cancer_type + '.csv', 'miRNA'),\n",
    "                                            strong_corrs_fraction_98th_pctl_mask)\n",
    "    mirtarbase_log_corr_vals = get_masked_df_vals(get_corrs_df(bucket, 'explore/miRTar/pearson-corrs/data/mirtar-log-corrs_' + cancer_type + '.csv', 'miRNA'),\n",
    "                                                strong_corrs_fraction_98th_pctl_mask)\n",
    "    mirtar_spearman_corrs = get_corrs_df(bucket, 'explore/miRTar/spearman-corrs/data/mirtar-spearman-corrs_' + cancer_type + '.csv', 'miRNA')\n",
    "    mirtarbase_spearman_corr_vals = get_masked_df_vals(mirtar_spearman_corrs, strong_corrs_fraction_98th_pctl_mask)\n",
    "    mirtar_spearman_corr_pvals = get_corrs_df(bucket, 'explore/miRTar/spearman-corrs/data/mirtar-spearman-corr-pvals_' + cancer_type + '.csv', 'miRNA')\n",
    "    mirtarbase_spearman_corrs_5pct_vals = get_masked_df_vals(mirtar_spearman_corrs.where(mirtar_spearman_corr_pvals <= 0.05), strong_corrs_fraction_98th_pctl_mask)\n",
    "    per_cancer_type_histograms(cancer_type, mirtarbase_corr_vals[~np.isnan(mirtarbase_corr_vals)], mirtarbase_log_corr_vals[~np.isnan(mirtarbase_log_corr_vals)],\n",
    "                             mirtarbase_spearman_corr_vals[~np.isnan(mirtarbase_spearman_corr_vals)],\n",
    "                             mirtarbase_spearman_corrs_5pct_vals[~np.isnan(mirtarbase_spearman_corrs_5pct_vals)], 20, 8, 'target', 'miRTar-98thpctl-strong',\n",
    "                            ': only >= 98th percentile strong-support pairs')"
   ]
  },
  {
   "cell_type": "markdown",
   "metadata": {},
   "source": [
    "## Goals for Analysis"
   ]
  },
  {
   "cell_type": "markdown",
   "metadata": {},
   "source": [
    "### TODO / Wish list"
   ]
  },
  {
   "cell_type": "markdown",
   "metadata": {},
   "source": [
    "- #1: Compute miRTarBase enrichment in n strongest anticorrelations per miRNA\n",
    "- #2, aux.: miRNA, mRNA, and correlation distributions for READ, COAD, UVM, KIRP, OV, LGG, CESC\n",
    "- aux.: Spearman correlations between cancer type and pan-cancer correlations (e.g. between BRCA and PAN)\n",
    "- #2: Within- and pan-cancer correlations between correlation quantiles and miRNA expression\n",
    "  - Heatmap: correlation quantile, miRNA expression vs. cancer type\n",
    "- aux.: Relationship between miRNA expression level and within- vs. pan-cancer miRNA-mRNA correlations?\n",
    "- #0: repeat current exercise for (strong) miRTars only?\n",
    "- #2: Plot >=500th strongest anticorrelation against mean miRNA expression"
   ]
  },
  {
   "cell_type": "markdown",
   "metadata": {},
   "source": [
    "### Shelve: Likely lower value"
   ]
  },
  {
   "cell_type": "markdown",
   "metadata": {},
   "source": [
    "- #1: plot proportion of top n % (per-miRNA) anticorrelations in miRTarBase against miRNA expression\n",
    "- #1: Compare with miRNA expression heatmaps (what??)"
   ]
  },
  {
   "cell_type": "markdown",
   "metadata": {},
   "source": [
    "### 3. What's the relationship between the expression level of a miRNA (e.g. as measured by mean) and the # or % of top-n negative correlations that are its (miRTarBase) targets?"
   ]
  },
  {
   "cell_type": "markdown",
   "metadata": {},
   "source": [
    "#### Preamble: miRNA expression level could be related to... hypothetically, any of the following:\n",
    "- number of miRTarBase entries\n",
    "- % strong miRTarBase entries\n",
    "- mRNA/target expression correlation distribution\n",
    "- % significant negative mRNA expression correlations\n",
    "- %/# of mRNA/target relationships in top-n correlations\n",
    "- %/# top-n correlations involving it, or its targets\n",
    "- (maybe a stretch or not meaningful?) %/# of within-miRNA top-n mRNA relationships (of strong support type) in miRTarBase\n",
    "\n",
    "Of these, the 5th (%/# of mRNA/target relationships in top-n correlations) was first suggested—maybe it's the most meaningful and informative?\n",
    "- Can also be represented by #/% top-n correlations involving miRNAs with expression at or above some level"
   ]
  },
  {
   "cell_type": "markdown",
   "metadata": {},
   "source": [
    "#### Analysis plan (try some or all of the following)\n",
    "- Plot distributions of # and % (miRTarBase) targets in top n negative correlations vs. miRNA expression (measured by mean)\n",
    "  - Hypergeometric test for enrichment of top-n correlations among miRNAs with, say, log2 >= 10\n",
    "\n",
    "\n",
    "- Plot quantile (25th, 50th, 90th percentiles) vs. miRNA expression (mean, median)\n",
    "- Kolmogorov-Smirnov test quantile distributions for miRNA expression ranges?\n",
    "  - e.g. log2 of 8 to 12 vs. 4 to 8\n",
    "  \n",
    "\n",
    "- Plot distributions of % of miRNA miRTarBase targets in top n negative correlations vs. miRNA expression (measured by mean)\n",
    "\n",
    "\n",
    "- Vary n!"
   ]
  },
  {
   "cell_type": "markdown",
   "metadata": {},
   "source": [
    "#### Distributions of # and % (miRTarBase) targets in top n negative correlations vs. miRNA expression (measured by mean)"
   ]
  },
  {
   "cell_type": "code",
   "execution_count": 63,
   "metadata": {},
   "outputs": [],
   "source": [
    "miRNA_relationships_in_top500_counts = pd.Series()\n",
    "top500_corr_miRNAmRNAs = get_rank_indices(mirtar_corrs, list(range(500)))\n",
    "top500_corr_miRNAmRNAs_long = pd.DataFrame(top500_corr_miRNAmRNAs, columns=['miRNA', 'mRNA'])\n",
    "top500_corr_miRNAmRNAs_long['dummy'] = True"
   ]
  },
  {
   "cell_type": "code",
   "execution_count": 64,
   "metadata": {},
   "outputs": [],
   "source": [
    "miRNA_means_log = miRNA_data.mean(axis=1).apply(lambda x: m.log(x), 2)"
   ]
  },
  {
   "cell_type": "code",
   "execution_count": 65,
   "metadata": {},
   "outputs": [],
   "source": [
    "miRNA_means_sorted_log = miRNA_means_log.sort_values()"
   ]
  },
  {
   "cell_type": "code",
   "execution_count": 66,
   "metadata": {},
   "outputs": [],
   "source": [
    "miRNA_top500_targets_mask = top500_corr_miRNAmRNAs_long.pivot(index='miRNA', columns='mRNA', values='dummy').reindex(miRNA_means_sorted_log.index)\n",
    "miRNA_top500corrs_counts = miRNA_top500_targets_mask.sum(axis=1).apply(lambda x: int(x))"
   ]
  },
  {
   "cell_type": "markdown",
   "metadata": {},
   "source": [
    "##### Plot log2[(mRNA relationships in top 500 correlations) + 1] vs. log2(mean miRNA expression)"
   ]
  },
  {
   "cell_type": "code",
   "execution_count": 303,
   "metadata": {},
   "outputs": [
    {
     "name": "stdout",
     "output_type": "stream",
     "text": [
      "Copying file://temp.png [Content-Type=image/png]...\n",
      "/ [1 files][ 20.2 KiB/ 20.2 KiB]                                                \n",
      "Operation completed over 1 objects/20.2 KiB.                                     \n"
     ]
    },
    {
     "data": {
      "image/png": "[encoded data removed]",
      "text/plain": [
       "<matplotlib.figure.Figure at 0x7f9abfc4bdd0>"
      ]
     },
     "metadata": {},
     "output_type": "display_data"
    }
   ],
   "source": [
    "lines = plt.plot(miRNA_means_sorted_log, miRNA_top500corrs_counts.apply(lambda x: m.log(x+1), 2), 'bo', alpha=0.3)\n",
    "fig = lines[0].figure\n",
    "fig.set_size_inches(12, 10)\n",
    "fig.axes[0].set_title('log2[(mRNA relationships in top 500 correlations) + 1] vs. log2(mean miRNA expression)')\n",
    "fig.savefig('temp.png')\n",
    "save_as('temp.png', 'gs://yfl-mirna/analysis/Q2/log-num-top-500-mRNA-count_vs_log-miRNA-mean.png')"
   ]
  },
  {
   "cell_type": "markdown",
   "metadata": {},
   "source": [
    "##### Hypergeometric test for enrichment of miRNAs with top-10% mean expression values among top 500 miRNA-mRNA correlation pairs"
   ]
  },
  {
   "cell_type": "code",
   "execution_count": 71,
   "metadata": {},
   "outputs": [],
   "source": [
    "top10_pctl_start = int(round(miRNA_top500_targets_mask.shape[0] * 0.9))"
   ]
  },
  {
   "cell_type": "code",
   "execution_count": 72,
   "metadata": {},
   "outputs": [],
   "source": [
    "tenpct_size = miRNA_top500_targets_mask.shape[0] - top10_pctl_start"
   ]
  },
  {
   "cell_type": "code",
   "execution_count": 73,
   "metadata": {},
   "outputs": [],
   "source": [
    "hypergeom_test_rv = stats.hypergeom(mirtar_corrs.size, tenpct_size * mirtar_corrs.shape[1], 500)"
   ]
  },
  {
   "cell_type": "code",
   "execution_count": 74,
   "metadata": {},
   "outputs": [],
   "source": [
    "top500corrs_top10pctlmiRNAs_count = miRNA_top500corrs_counts[top10_pctl_start:].sum()\n",
    "top500corrs_top10pctlmiRNAs_pval = 1 - hypergeom_test_rv.cdf(top500corrs_top10pctlmiRNAs_count)"
   ]
  },
  {
   "cell_type": "code",
   "execution_count": 75,
   "metadata": {},
   "outputs": [
    {
     "data": {
      "text/plain": [
       "436"
      ]
     },
     "execution_count": 75,
     "metadata": {},
     "output_type": "execute_result"
    }
   ],
   "source": [
    "top500corrs_top10pctlmiRNAs_count"
   ]
  },
  {
   "cell_type": "code",
   "execution_count": 76,
   "metadata": {},
   "outputs": [
    {
     "data": {
      "text/plain": [
       "1.9113894800248943e-08"
      ]
     },
     "execution_count": 76,
     "metadata": {},
     "output_type": "execute_result"
    }
   ],
   "source": [
    "top500corrs_top10pctlmiRNAs_pval"
   ]
  },
  {
   "cell_type": "code",
   "execution_count": 77,
   "metadata": {},
   "outputs": [],
   "source": [
    "mid10_pctl_start = int(round(miRNA_means_sorted_log.size * 0.45))"
   ]
  },
  {
   "cell_type": "code",
   "execution_count": 78,
   "metadata": {},
   "outputs": [],
   "source": [
    "top500corrs_mid10pctlmiRNAs_count = miRNA_top500corrs_counts[mid10_pctl_start:(mid10_pctl_start+tenpct_size)].sum()\n",
    "top500corrs_mid10pctlmiRNAs_pval = 1 - hypergeom_test_rv.cdf(top500corrs_mid10pctlmiRNAs_count)"
   ]
  },
  {
   "cell_type": "code",
   "execution_count": 94,
   "metadata": {},
   "outputs": [
    {
     "data": {
      "text/plain": [
       "13"
      ]
     },
     "execution_count": 94,
     "metadata": {},
     "output_type": "execute_result"
    }
   ],
   "source": [
    "top500corrs_mid10pctlmiRNAs_count"
   ]
  },
  {
   "cell_type": "code",
   "execution_count": 95,
   "metadata": {},
   "outputs": [
    {
     "data": {
      "text/plain": [
       "0.9999999998656308"
      ]
     },
     "execution_count": 95,
     "metadata": {},
     "output_type": "execute_result"
    }
   ],
   "source": [
    "top500corrs_mid10pctlmiRNAs_pval"
   ]
  },
  {
   "cell_type": "markdown",
   "metadata": {},
   "source": [
    "##### Takeaway from above\n",
    "- This makes clear that most miRNA-mRNA relationships in the top 500 anticorrelations involve miRNAs near the top of the expression distribution\n",
    "- Thus, plotting CDF of top n negative correlations vs. miRNA expression (measured by mean) is now much less informative"
   ]
  },
  {
   "cell_type": "markdown",
   "metadata": {},
   "source": [
    "##### miRNA expression and miRNA-target relationships in top 500 correlations (strong miRTarBase relationships and n=1000 [separately] are qualitatively the same thing all over again)"
   ]
  },
  {
   "cell_type": "code",
   "execution_count": 80,
   "metadata": {},
   "outputs": [],
   "source": [
    "mirtars_in_mirtarbase_mask_sortedby_miRNA_means = mirtars_in_mirtarbase_mask.reindex(miRNA_means_sorted_log.index)"
   ]
  },
  {
   "cell_type": "code",
   "execution_count": 81,
   "metadata": {},
   "outputs": [],
   "source": [
    "mirtars_in_mirtarbase_and_top500_corrs_mask = mirtars_in_mirtarbase_mask_sortedby_miRNA_means & miRNA_top500_targets_mask"
   ]
  },
  {
   "cell_type": "code",
   "execution_count": 82,
   "metadata": {},
   "outputs": [],
   "source": [
    "miRNA_top500corr_targets_counts = mirtars_in_mirtarbase_and_top500_corrs_mask.sum(axis=1).apply(lambda x: int(x))"
   ]
  },
  {
   "cell_type": "markdown",
   "metadata": {},
   "source": [
    "##### Plot log2[(targets in top 500 correlations) + 1] vs. log2(mean miRNA expression)"
   ]
  },
  {
   "cell_type": "code",
   "execution_count": null,
   "metadata": {},
   "outputs": [],
   "source": [
    "lines = plt.plot(miRNA_means_sorted, miRNA_top500corr_targets_counts.apply(lambda x: m.log(x+1), 2), 'bo', alpha=0.3)\n",
    "fig = lines[0].figure\n",
    "fig.set_size_inches(12, 10)\n",
    "fig.axes[0].set_title('log2[(target relationships in top 500 correlations) + 1] vs. log2(mean miRNA expression)')\n",
    "fig.savefig('temp.png')\n",
    "save_as('temp.png', 'gs://yfl-mirna/analysis/Q2/log-num-top500-target-count_vs_log-miRNA-mean.png')"
   ]
  },
  {
   "cell_type": "markdown",
   "metadata": {},
   "source": [
    "##### Hypergeometric test for enrichment of miRNA-target pairs with top-10% mean expression values among top 500 miRNA-mRNA correlation pairs"
   ]
  },
  {
   "cell_type": "code",
   "execution_count": 83,
   "metadata": {},
   "outputs": [],
   "source": [
    "hypergeom_test_rv = stats.hypergeom(mirtar_corrs.size, mirtars_in_mirtarbase_mask_sortedby_miRNA_means.iloc[top10_pctl_start:].sum().sum(), 500)"
   ]
  },
  {
   "cell_type": "code",
   "execution_count": 99,
   "metadata": {},
   "outputs": [
    {
     "data": {
      "text/plain": [
       "27698"
      ]
     },
     "execution_count": 99,
     "metadata": {},
     "output_type": "execute_result"
    }
   ],
   "source": [
    "mirtars_in_mirtarbase_mask_sortedby_miRNA_means.iloc[top10_pctl_start:].sum().sum()"
   ]
  },
  {
   "cell_type": "code",
   "execution_count": 84,
   "metadata": {},
   "outputs": [],
   "source": [
    "top500corrs_top10pctlmiRNA_targets_count = mirtars_in_mirtarbase_and_top500_corrs_mask.iloc[top10_pctl_start:].sum(axis=1).sum()\n",
    "top500corrs_top10pctlmiRNA_targets_pval = 1 - hypergeom_test_rv.cdf(top500corrs_top10pctlmiRNA_targets_count)"
   ]
  },
  {
   "cell_type": "code",
   "execution_count": 90,
   "metadata": {},
   "outputs": [
    {
     "data": {
      "text/plain": [
       "21.0"
      ]
     },
     "execution_count": 90,
     "metadata": {},
     "output_type": "execute_result"
    }
   ],
   "source": [
    "top500corrs_top10pctlmiRNA_targets_count"
   ]
  },
  {
   "cell_type": "code",
   "execution_count": 86,
   "metadata": {},
   "outputs": [
    {
     "data": {
      "text/plain": [
       "0.0"
      ]
     },
     "execution_count": 86,
     "metadata": {},
     "output_type": "execute_result"
    }
   ],
   "source": [
    "top500corrs_top10pctlmiRNA_targets_pval"
   ]
  },
  {
   "cell_type": "code",
   "execution_count": 91,
   "metadata": {},
   "outputs": [],
   "source": [
    "top500corrs_mid10pctlmiRNA_targets_count = mirtars_in_mirtarbase_and_top500_corrs_mask.iloc[mid10_pctl_start:(mid10_pctl_start+tenpct_size)].sum(axis=1).sum()\n",
    "top500corrs_mid10pctlmiRNA_targets_pval = 1 - hypergeom_test_rv.cdf(top500corrs_mid10pctlmiRNA_targets_count)"
   ]
  },
  {
   "cell_type": "code",
   "execution_count": 96,
   "metadata": {},
   "outputs": [
    {
     "data": {
      "text/plain": [
       "0.0"
      ]
     },
     "execution_count": 96,
     "metadata": {},
     "output_type": "execute_result"
    }
   ],
   "source": [
    "top500corrs_mid10pctlmiRNA_targets_count"
   ]
  },
  {
   "cell_type": "code",
   "execution_count": 93,
   "metadata": {},
   "outputs": [
    {
     "data": {
      "text/plain": [
       "0.6809452918951078"
      ]
     },
     "execution_count": 93,
     "metadata": {},
     "output_type": "execute_result"
    }
   ],
   "source": [
    "top500corrs_mid10pctlmiRNA_targets_pval"
   ]
  },
  {
   "cell_type": "markdown",
   "metadata": {},
   "source": [
    "##### miRNA expression and (per-miRNA) fraction of targets in top 500 correlations"
   ]
  },
  {
   "cell_type": "code",
   "execution_count": 97,
   "metadata": {},
   "outputs": [],
   "source": [
    "top500_targets_fraction = miRNA_top500corr_targets_counts / mirtars_in_mirtarbase_mask_sortedby_miRNA_means.sum(axis=1)"
   ]
  },
  {
   "cell_type": "markdown",
   "metadata": {},
   "source": [
    "##### Plot fraction of targets in top 500 correlations vs. log2(mean miRNA expression)"
   ]
  },
  {
   "cell_type": "code",
   "execution_count": null,
   "metadata": {},
   "outputs": [],
   "source": [
    "lines = plt.plot(miRNA_means_sorted, top500_targets_fraction, 'bo', alpha=0.3)\n",
    "fig = lines[0].figure\n",
    "fig.set_size_inches(12, 10)\n",
    "fig.axes[0].set_title('fraction of target relationships in top 500 anti-correlation pairs vs. log2(mean miRNA expression)')\n",
    "fig.savefig('temp.png')\n",
    "save_as('temp.png', 'gs://yfl-mirna/analysis/Q2/targets-fraction-in-top500pairs_vs_log-miRNA-mean.png')"
   ]
  },
  {
   "cell_type": "markdown",
   "metadata": {},
   "source": [
    "##### Takeaway from above\n",
    "- Results for strong miRTarBase relationships and n = 1000 (separately) are qualitatively the same damn thing\n",
    "- I.e. miRTarBase relationships are enriched for highly expressed miRNAs, but fails to capture target (mRNA) relationships more specifically\n",
    "- Thus we're freed from plotting distributions of % of miRNA miRTarBase targets in top n negative correlations vs. miRNA expression at or above x (measured by mean)"
   ]
  },
  {
   "cell_type": "markdown",
   "metadata": {},
   "source": [
    "### TODO: Kolmogorov-Smirnov"
   ]
  },
  {
   "cell_type": "markdown",
   "metadata": {},
   "source": [
    "#### Quantiles (10th, 50th percentiles, mean) vs. miRNA expression (mean, median)\n",
    "- Kolmogorov-Smirnov test quantile distributions for miRNA expression ranges?\n",
    "  - e.g. log2 of 8 to 12 vs. 4 to 8"
   ]
  },
  {
   "cell_type": "code",
   "execution_count": 100,
   "metadata": {},
   "outputs": [
    {
     "name": "stderr",
     "output_type": "stream",
     "text": [
      "/usr/local/envs/py2env/lib/python2.7/site-packages/matplotlib/font_manager.py:1320: UserWarning: findfont: Font family [u'sans-serif'] not found. Falling back to DejaVu Sans\n",
      "  (prop.get_family(), self.defaultFamily[fontext]))\n"
     ]
    },
    {
     "name": "stdout",
     "output_type": "stream",
     "text": [
      "Copying file://temp.png [Content-Type=image/png]...\n",
      "/ [1 files][ 44.4 KiB/ 44.4 KiB]                                                \n",
      "Operation completed over 1 objects/44.4 KiB.                                     \n"
     ]
    },
    {
     "data": {
      "image/png": "[encoded data removed]",
      "text/plain": [
       "<matplotlib.figure.Figure at 0x7f8aa6c60c90>"
      ]
     },
     "metadata": {},
     "output_type": "display_data"
    }
   ],
   "source": [
    "lines = plt.plot(miRNA_means_log, mirtar_corrs.quantile(q=0.1, axis=1), 'bo', alpha=0.3)\n",
    "fig = lines[0].figure\n",
    "fig.set_size_inches(12, 10)\n",
    "fig.axes[0].set_title('miRNA-mRNA correlations 10th percentile vs. log2(miRNA mean expression)')\n",
    "fig.savefig('temp.png')\n",
    "save_as('temp.png', 'gs://yfl-mirna/analysis/Q3/miRNAmRNA-corrs-10thpctl_vs_log-miRNA-mean.png')"
   ]
  },
  {
   "cell_type": "code",
   "execution_count": 101,
   "metadata": {},
   "outputs": [
    {
     "name": "stdout",
     "output_type": "stream",
     "text": [
      "Copying file://temp.png [Content-Type=image/png]...\n",
      "/ [1 files][ 45.6 KiB/ 45.6 KiB]                                                \n",
      "Operation completed over 1 objects/45.6 KiB.                                     \n"
     ]
    },
    {
     "data": {
      "image/png": "[encoded data removed]",
      "text/plain": [
       "<matplotlib.figure.Figure at 0x7f8aba05a810>"
      ]
     },
     "metadata": {},
     "output_type": "display_data"
    }
   ],
   "source": [
    "lines = plt.plot(miRNA_data.mean(axis=1).apply(lambda x: m.log(x), 2), mirtar_corrs.where(mirtar_corrs_in_mirtarbase_mask).quantile(q=0.1, axis=1), 'bo', alpha=0.3)\n",
    "fig = lines[0].figure\n",
    "fig.set_size_inches(12, 10)\n",
    "fig.axes[0].set_title('miRNA-target correlations 10th percentile vs. log2(miRNA mean expression)')\n",
    "fig.savefig('temp.png')\n",
    "save_as('temp.png', 'gs://yfl-mirna/analysis/Q3/miRTar-corrs-10thpctl_vs_log-miRNA-mean.png')"
   ]
  },
  {
   "cell_type": "code",
   "execution_count": 102,
   "metadata": {},
   "outputs": [
    {
     "name": "stdout",
     "output_type": "stream",
     "text": [
      "Copying file://temp.png [Content-Type=image/png]...\n",
      "/ [1 files][ 42.0 KiB/ 42.0 KiB]                                                \n",
      "Operation completed over 1 objects/42.0 KiB.                                     \n"
     ]
    },
    {
     "data": {
      "image/png": "[encoded data removed]",
      "text/plain": [
       "<matplotlib.figure.Figure at 0x7f8aa6bc9e50>"
      ]
     },
     "metadata": {},
     "output_type": "display_data"
    }
   ],
   "source": [
    "lines = plt.plot(miRNA_data.mean(axis=1).apply(lambda x: m.log(x), 2), mirtar_corrs.where(mirtar_corrs_mirtarbase_strong_mask).quantile(q=0.1, axis=1), 'bo', alpha=0.3)\n",
    "fig = lines[0].figure\n",
    "fig.set_size_inches(12, 10)\n",
    "fig.axes[0].set_title('10th percentile of correlations from strong miRTarBase (miRNA-target) relationships vs. log2(miRNA mean expression)')\n",
    "fig.savefig('temp.png')\n",
    "save_as('temp.png', 'gs://yfl-mirna/analysis/Q3/miRTar-strong-corrs-10thpctl_vs_log-miRNA-mean.png')"
   ]
  },
  {
   "cell_type": "code",
   "execution_count": 73,
   "metadata": {},
   "outputs": [
    {
     "data": {
      "image/png": "[encoded data removed]",
      "text/plain": [
       "<matplotlib.figure.Figure at 0x7f2239952250>"
      ]
     },
     "metadata": {},
     "output_type": "display_data"
    }
   ],
   "source": [
    "lines = plt.plot(miRNA_data.mean(axis=1).apply(lambda x: m.log(x), 2), mirtar_corrs.quantile(q=0.5, axis=1), 'bo', alpha=0.3)\n",
    "fig = lines[0].figure\n",
    "fig.set_size_inches(12, 10)\n",
    "fig.axes[0].set_title('10th percentile of correlations from strong miRTarBase (miRNA-target) relationships vs. log2(miRNA mean expression)')\n",
    "fig.savefig('temp.png')\n",
    "save_as('temp.png', 'gs://yfl-mirna/analysis/Q3/miRTar-strong-corrs-10thpctl_vs_log-miRNA-mean.png')"
   ]
  },
  {
   "cell_type": "code",
   "execution_count": 103,
   "metadata": {},
   "outputs": [
    {
     "name": "stdout",
     "output_type": "stream",
     "text": [
      "Copying file://temp.png [Content-Type=image/png]...\n",
      "/ [1 files][ 45.5 KiB/ 45.5 KiB]                                                \n",
      "Operation completed over 1 objects/45.5 KiB.                                     \n"
     ]
    },
    {
     "data": {
      "image/png": "[encoded data removed]",
      "text/plain": [
       "<matplotlib.figure.Figure at 0x7f8a9464ee90>"
      ]
     },
     "metadata": {},
     "output_type": "display_data"
    }
   ],
   "source": [
    "lines = plt.plot(miRNA_data.mean(axis=1).apply(lambda x: m.log(x), 2), mirtar_corrs.mean(axis=1), 'bo', alpha=0.3)\n",
    "fig = lines[0].figure\n",
    "fig.set_size_inches(12, 10)\n",
    "fig.axes[0].set_title('miRNA-mRNA correlation means vs. log2(miRNA mean expression)')\n",
    "fig.savefig('temp.png')\n",
    "save_as('temp.png', 'gs://yfl-mirna/analysis/Q3/miRNAmRNA-corrs-mean_vs_log-miRNA-mean.png')"
   ]
  },
  {
   "cell_type": "code",
   "execution_count": 104,
   "metadata": {},
   "outputs": [
    {
     "name": "stdout",
     "output_type": "stream",
     "text": [
      "Copying file://temp.png [Content-Type=image/png]...\n",
      "/ [1 files][ 45.4 KiB/ 45.4 KiB]                                                \n",
      "Operation completed over 1 objects/45.4 KiB.                                     \n"
     ]
    },
    {
     "data": {
      "image/png": "[encoded data removed]",
      "text/plain": [
       "<matplotlib.figure.Figure at 0x7f8a942dad90>"
      ]
     },
     "metadata": {},
     "output_type": "display_data"
    }
   ],
   "source": [
    "lines = plt.plot(miRNA_data.mean(axis=1).apply(lambda x: m.log(x), 2), mirtar_corrs.where(mirtar_corrs_in_mirtarbase_mask).mean(axis=1), 'bo', alpha=0.3)\n",
    "fig = lines[0].figure\n",
    "fig.set_size_inches(12, 10)\n",
    "fig.axes[0].set_title('miRNA-target correlation means vs. log2(miRNA mean expression)')\n",
    "fig.savefig('temp.png')\n",
    "save_as('temp.png', 'gs://yfl-mirna/analysis/Q3/miRTar-corrs-mean_vs_log-miRNA-mean.png')"
   ]
  },
  {
   "cell_type": "code",
   "execution_count": 97,
   "metadata": {},
   "outputs": [
    {
     "data": {
      "image/png": "[encoded data removed]",
      "text/plain": [
       "<matplotlib.figure.Figure at 0x7f2239a6bad0>"
      ]
     },
     "metadata": {},
     "output_type": "display_data"
    }
   ],
   "source": [
    "lines = plt.plot(miRNA_data.mean(axis=1).apply(lambda x: m.log(x), 2), mirtar_corrs.where(mirtar_corrs_mirtarbase_strong_mask).mean(axis=1), 'bo', alpha=0.3)\n",
    "fig = lines[0].figure\n",
    "fig.set_size_inches(12, 10)\n",
    "#fig.axes[0].set_title('distribution per miRNA: log2[(mRNA relationships in top 500) + 1] vs. log2(mean expression)')"
   ]
  },
  {
   "cell_type": "code",
   "execution_count": 74,
   "metadata": {},
   "outputs": [
    {
     "data": {
      "image/png": "[encoded data removed]",
      "text/plain": [
       "<matplotlib.figure.Figure at 0x7f22398ed1d0>"
      ]
     },
     "metadata": {},
     "output_type": "display_data"
    }
   ],
   "source": [
    "lines = plt.plot(miRNA_data.mean(axis=1).apply(lambda x: m.log(x), 2), mirtar_corrs.min(axis=1), 'bo', alpha=0.3)\n",
    "fig = lines[0].figure\n",
    "fig.set_size_inches(12, 10)\n",
    "#fig.axes[0].set_title('distribution per miRNA: log2[(mRNA relationships in top 500) + 1] vs. log2(mean expression)')"
   ]
  },
  {
   "cell_type": "code",
   "execution_count": 98,
   "metadata": {},
   "outputs": [
    {
     "data": {
      "image/png": "[encoded data removed]",
      "text/plain": [
       "<matplotlib.figure.Figure at 0x7f2242504390>"
      ]
     },
     "metadata": {},
     "output_type": "display_data"
    }
   ],
   "source": [
    "lines = plt.plot(miRNA_data.mean(axis=1).apply(lambda x: m.log(x), 2), mirtar_corrs.where(mirtar_corrs_in_mirtarbase_mask).min(axis=1), 'bo', alpha=0.3)\n",
    "fig = lines[0].figure\n",
    "fig.set_size_inches(12, 10)\n",
    "#fig.axes[0].set_title('distribution per miRNA: log2[(mRNA relationships in top 500) + 1] vs. log2(mean expression)')"
   ]
  },
  {
   "cell_type": "code",
   "execution_count": 99,
   "metadata": {},
   "outputs": [
    {
     "data": {
      "image/png": "[encoded data removed]",
      "text/plain": [
       "<matplotlib.figure.Figure at 0x7f2239e27150>"
      ]
     },
     "metadata": {},
     "output_type": "display_data"
    }
   ],
   "source": [
    "lines = plt.plot(miRNA_data.mean(axis=1).apply(lambda x: m.log(x), 2), mirtar_corrs.where(mirtar_corrs_mirtarbase_strong_mask).min(axis=1), 'bo')\n",
    "fig = lines[0].figure\n",
    "fig.set_size_inches(12, 10)\n",
    "#fig.axes[0].set_title('distribution per miRNA: log2[(mRNA relationships in top 500) + 1] vs. log2(mean expression)')"
   ]
  },
  {
   "cell_type": "markdown",
   "metadata": {},
   "source": [
    "- Plot distributions of % of miRNA miRTarBase targets in top n negative correlations vs. miRNA expression (measured by mean)\n",
    "- Plot CDF of top n negative correlations vs. miRNA expression (measured by mean)\n",
    "- Plot distributions of % of miRNA miRTarBase targets in top n negative correlations vs. miRNA expression at or above x (measured by mean)"
   ]
  },
  {
   "cell_type": "markdown",
   "metadata": {},
   "source": [
    "### 1. Are pan-cancer correlations dominated/obscured by the locations of within-cancer correlation clouds relative to each other in correlation space?"
   ]
  },
  {
   "cell_type": "markdown",
   "metadata": {},
   "source": [
    "#### Analysis plan\n",
    "- Select good examples for contrasting within- vs pan-cancer correlations, by selecting from the following list:\n",
    "  - For each miRNA-mRNA pair: list, say, 3 most negative within-cancer correlations, with pan-cancer correlation\n",
    "  - Overlap/otherwise between correlation rankings considering all pairs vs. miRTarBase only"
   ]
  },
  {
   "cell_type": "markdown",
   "metadata": {},
   "source": [
    "- Largest pan-cancer correlation and within-cancer 10th-percentile correlation: 0.858314473421296, between 'hsa-miR-205-5p' and 79755"
   ]
  },
  {
   "cell_type": "code",
   "execution_count": 78,
   "metadata": {},
   "outputs": [],
   "source": [
    "miRNAmRNA_within_cancer_corrs = mirtar_spearman_corrs.reset_index().melt(id_vars='miRNA', var_name='mRNA', value_name='PAN').sort_values(['miRNA', 'mRNA'])\n",
    "miRNAmRNA_within_cancer_corrs = miRNAmRNA_within_cancer_corrs.set_index(['miRNA', 'mRNA'])"
   ]
  },
  {
   "cell_type": "code",
   "execution_count": 79,
   "metadata": {},
   "outputs": [],
   "source": [
    "for cancer_type in cancer_types:\n",
    "      mirtar_spearman_corrs = get_corrs_df(bucket, 'explore/miRTar/spearman-corrs/data/mirtar-spearman-corrs_' + cancer_type + '.csv', 'miRNA')\n",
    "      next = mirtar_spearman_corrs.reset_index().melt(id_vars='miRNA', var_name='mRNA',\n",
    "                                                      value_name=cancer_type).sort_values(['miRNA', 'mRNA']).set_index(['miRNA', 'mRNA'])\n",
    "      miRNAmRNA_within_cancer_corrs = miRNAmRNA_within_cancer_corrs.merge(next, how='outer', left_index=True, right_index=True)"
   ]
  },
  {
   "cell_type": "code",
   "execution_count": 88,
   "metadata": {},
   "outputs": [],
   "source": [
    "miRNAmRNA_within_cancer_corrs['within_cancer_10th_pctl'] = miRNAmRNA_within_cancer_corrs[cancer_types].quantile(0.1, axis=1)\n",
    "miRNAmRNA_within_cancer_corrs['pancan_within_10th_pctl_diff'] = miRNAmRNA_within_cancer_corrs.PAN - miRNAmRNA_within_cancer_corrs.within_cancer_10th_pctl"
   ]
  },
  {
   "cell_type": "code",
   "execution_count": 130,
   "metadata": {},
   "outputs": [],
   "source": [
    "miRNAmRNA_within_cancer_corrs['within_cancer_median'] = miRNAmRNA_within_cancer_corrs[cancer_types].quantile(0.5, axis=1)"
   ]
  },
  {
   "cell_type": "code",
   "execution_count": 131,
   "metadata": {},
   "outputs": [],
   "source": [
    "miRNAmRNA_within_cancer_corrs['pancan_within_median_diff'] = miRNAmRNA_within_cancer_corrs.PAN - miRNAmRNA_within_cancer_corrs.within_cancer_median\n",
    "miRNAmRNA_within_cancer_corrs['within_cancer_mean'] = miRNAmRNA_within_cancer_corrs[cancer_types].mean(axis=1)"
   ]
  },
  {
   "cell_type": "code",
   "execution_count": 133,
   "metadata": {},
   "outputs": [],
   "source": [
    "miRNAmRNA_within_cancer_corrs['pancan_within_mean_diff'] = miRNAmRNA_within_cancer_corrs.PAN - miRNAmRNA_within_cancer_corrs.within_cancer_mean\n",
    "miRNAmRNA_within_cancer_corrs.pancan_within_mean_diff.describe()"
   ]
  },
  {
   "cell_type": "code",
   "execution_count": 140,
   "metadata": {},
   "outputs": [],
   "source": [
    "miRNAmRNA_within_cancer_corrs_flattened_idx = miRNAmRNA_within_cancer_corrs.reset_index()"
   ]
  },
  {
   "cell_type": "code",
   "execution_count": null,
   "metadata": {},
   "outputs": [],
   "source": [
    "miRNAmRNA_within_cancer_corrs['within_cancer_90th_pctl'] = miRNAmRNA_within_cancer_corrs[cancer_types].quantile(0.9, axis=1)\n",
    "miRNAmRNA_within_cancer_corrs['pancan_within_90th_pctl_diff'] = miRNAmRNA_within_cancer_corrs.PAN - miRNAmRNA_within_cancer_corrs.within_cancer_90th_pctl"
   ]
  },
  {
   "cell_type": "code",
   "execution_count": 139,
   "metadata": {},
   "outputs": [
    {
     "data": {
      "text/plain": [
       "Index([u'PAN', u'ACC', u'BLCA', u'BRCA', u'CESC', u'CHOL', u'COAD', u'DLBC',\n",
       "       u'ESCA', u'HNSC', u'KICH', u'KIRC', u'KIRP', u'LGG', u'LIHC', u'LUAD',\n",
       "       u'LUSC', u'MESO', u'OV', u'PAAD', u'PCPG', u'PRAD', u'READ', u'SARC',\n",
       "       u'SKCM', u'STAD', u'TGCT', u'THCA', u'THYM', u'UCEC', u'UCS', u'UVM',\n",
       "       u'within_cancer_10th_pctl', u'pancan_within_10th_pctl_diff',\n",
       "       u'within_cancer_median', u'pancan_within_median_diff',\n",
       "       u'within_cancer_mean', u'pancan_within_mean_diff'],\n",
       "      dtype='object')"
      ]
     },
     "execution_count": 139,
     "metadata": {},
     "output_type": "execute_result"
    }
   ],
   "source": [
    "miRNAmRNA_within_cancer_corrs.columns"
   ]
  },
  {
   "cell_type": "code",
   "execution_count": 144,
   "metadata": {},
   "outputs": [
    {
     "name": "stdout",
     "output_type": "stream",
     "text": [
      "\n",
      "\n",
      "Updates are available for some Cloud SDK components.  To install them,\n",
      "please run:\n",
      "  $ gcloud components update\n",
      "\n",
      "Copying file://temp.csv [Content-Type=text/csv]...\n",
      "==> NOTE: You are uploading one or more large file(s), which would run          \n",
      "significantly faster if you enable parallel composite uploads. This\n",
      "feature can be enabled by editing the\n",
      "\"parallel_composite_upload_threshold\" value in your .boto\n",
      "configuration file. However, note that if you do this large files will\n",
      "be uploaded as `composite objects\n",
      "<https://cloud.google.com/storage/docs/composite-objects>`_,which\n",
      "means that any user who downloads such objects will need to have a\n",
      "compiled crcmod installed (see \"gsutil help crcmod\"). This is because\n",
      "without a compiled crcmod, computing checksums on composite objects is\n",
      "so slow that gsutil disables downloads of composite objects.\n",
      "\n",
      "- [1 files][ 10.8 GiB/ 10.8 GiB]   23.7 MiB/s                                   \n",
      "Operation completed over 1 objects/10.8 GiB.                                     \n"
     ]
    }
   ],
   "source": [
    "write_df_to_csv(miRNAmRNA_within_cancer_corrs_flattened_idx, 'idx', 'gs://yfl-mirna/analysis/Q1/miRNAmRNA_within-and-pan-cancer_corrs.csv')"
   ]
  },
  {
   "cell_type": "code",
   "execution_count": null,
   "metadata": {},
   "outputs": [],
   "source": [
    "pancan_withincan_10thpctl_diff = miRNAmRNA_within_cancer_corrs_10th_pctl_lt0.PAN - miRNAmRNA_within_cancer_corrs_10th_pctl_lt0.within_cancer_10th_pctl\n",
    "pancan_withincan_10thpctl_diff_sorted = pancan_withincan_10thpctl_diff.sort_values()"
   ]
  },
  {
   "cell_type": "code",
   "execution_count": null,
   "metadata": {},
   "outputs": [],
   "source": [
    "miRNAmRNA_within_cancer_corrs_10th_pctl_lt0 = miRNAmRNA_within_cancer_corrs[miRNAmRNA_within_cancer_corrs.within_cancer_10th_pctl < 0]"
   ]
  },
  {
   "cell_type": "code",
   "execution_count": 128,
   "metadata": {},
   "outputs": [
    {
     "data": {
      "text/plain": [
       "count    1.213690e+07\n",
       "mean     1.562657e-01\n",
       "std      1.053115e-01\n",
       "min     -4.228222e-01\n",
       "25%      8.585128e-02\n",
       "50%      1.508635e-01\n",
       "75%      2.211291e-01\n",
       "max      8.435325e-01\n",
       "Name: pancan_within_10th_pctl_diff, dtype: float64"
      ]
     },
     "execution_count": 128,
     "metadata": {},
     "output_type": "execute_result"
    }
   ],
   "source": [
    "miRNAmRNA_within_cancer_corrs.pancan_within_10th_pctl_diff.describe()"
   ]
  },
  {
   "cell_type": "code",
   "execution_count": 126,
   "metadata": {},
   "outputs": [
    {
     "data": {
      "text/plain": [
       "15254533"
      ]
     },
     "execution_count": 126,
     "metadata": {},
     "output_type": "execute_result"
    }
   ],
   "source": [
    "(miRNAmRNA_within_cancer_corrs.within_cancer_10th_pctl >= 0).size"
   ]
  },
  {
   "cell_type": "code",
   "execution_count": null,
   "metadata": {},
   "outputs": [],
   "source": [
    "pancan_withincan_median_diff = "
   ]
  },
  {
   "cell_type": "code",
   "execution_count": 111,
   "metadata": {},
   "outputs": [
    {
     "data": {
      "text/plain": [
       "count    1.200786e+07\n",
       "mean     1.557804e-01\n",
       "std      1.050469e-01\n",
       "min     -4.228222e-01\n",
       "25%      8.555985e-02\n",
       "50%      1.504547e-01\n",
       "75%      2.205303e-01\n",
       "max      8.435325e-01\n",
       "dtype: float64"
      ]
     },
     "execution_count": 111,
     "metadata": {},
     "output_type": "execute_result"
    }
   ],
   "source": [
    "pancan_withincan_10thpctl_diff_sorted.describe()"
   ]
  },
  {
   "cell_type": "code",
   "execution_count": 110,
   "metadata": {},
   "outputs": [
    {
     "data": {
      "text/plain": [
       "miRNA            mRNA \n",
       "hsa-miR-205-5p   229     -0.422822\n",
       "                 6519    -0.413832\n",
       "hsa-miR-204-3p   4680    -0.386522\n",
       "hsa-miR-204-5p   4680    -0.376372\n",
       "hsa-miR-204-3p   9914    -0.376307\n",
       "hsa-miR-200c-5p  443     -0.363661\n",
       "hsa-miR-204-3p   57111   -0.362628\n",
       "hsa-miR-149-5p   9075    -0.353862\n",
       "hsa-miR-204-3p   2013    -0.350713\n",
       "hsa-miR-205-5p   51084   -0.346477\n",
       "dtype: float64"
      ]
     },
     "execution_count": 110,
     "metadata": {},
     "output_type": "execute_result"
    }
   ],
   "source": [
    "pancan_withincan_10thpctl_diff_sorted[:10]"
   ]
  },
  {
   "cell_type": "code",
   "execution_count": 117,
   "metadata": {},
   "outputs": [
    {
     "data": {
      "text/plain": [
       "FrozenNDArray([216, 216, 214, 215, 214, 210, 214, 135, 214, 216], dtype='int16')"
      ]
     },
     "execution_count": 117,
     "metadata": {},
     "output_type": "execute_result"
    }
   ],
   "source": [
    "pancan_withincan_10thpctl_diff_sorted[:10].index.labels[0]"
   ]
  },
  {
   "cell_type": "code",
   "execution_count": 118,
   "metadata": {},
   "outputs": [
    {
     "data": {
      "text/plain": [
       "'hsa-miR-205-5p'"
      ]
     },
     "execution_count": 118,
     "metadata": {},
     "output_type": "execute_result"
    }
   ],
   "source": [
    "pancan_withincan_10thpctl_diff_sorted[:10].index.levels[0][pancan_withincan_10thpctl_diff_sorted[:10].index.labels[0][0]]"
   ]
  },
  {
   "cell_type": "code",
   "execution_count": 110,
   "metadata": {},
   "outputs": [
    {
     "data": {
      "text/plain": [
       "miRNA            mRNA \n",
       "hsa-miR-205-5p   229     -0.422822\n",
       "                 6519    -0.413832\n",
       "hsa-miR-204-3p   4680    -0.386522\n",
       "hsa-miR-204-5p   4680    -0.376372\n",
       "hsa-miR-204-3p   9914    -0.376307\n",
       "hsa-miR-200c-5p  443     -0.363661\n",
       "hsa-miR-204-3p   57111   -0.362628\n",
       "hsa-miR-149-5p   9075    -0.353862\n",
       "hsa-miR-204-3p   2013    -0.350713\n",
       "hsa-miR-205-5p   51084   -0.346477\n",
       "dtype: float64"
      ]
     },
     "execution_count": 110,
     "metadata": {},
     "output_type": "execute_result"
    }
   ],
   "source": [
    "pancan_withincan_10thpctl_diff_sorted[:10]"
   ]
  },
  {
   "cell_type": "code",
   "execution_count": 89,
   "metadata": {},
   "outputs": [
    {
     "data": {
      "text/plain": [
       "count    1.508877e+07\n",
       "mean    -1.417221e-01\n",
       "std      6.898646e-02\n",
       "min     -6.484587e-01\n",
       "25%     -1.821068e-01\n",
       "50%     -1.344027e-01\n",
       "75%     -9.456267e-02\n",
       "max      1.000000e+00\n",
       "Name: within_cancer_10th_pctl, dtype: float64"
      ]
     },
     "execution_count": 89,
     "metadata": {},
     "output_type": "execute_result"
    }
   ],
   "source": [
    "miRNAmRNA_within_cancer_corrs.within_cancer_10th_pctl.describe()"
   ]
  },
  {
   "cell_type": "code",
   "execution_count": 98,
   "metadata": {},
   "outputs": [
    {
     "data": {
      "text/plain": [
       "count    1.508877e+07\n",
       "mean     6.101952e-03\n",
       "std      5.391218e-02\n",
       "min     -4.103250e-01\n",
       "25%     -2.411792e-02\n",
       "50%      4.365738e-03\n",
       "75%      3.363581e-02\n",
       "max      1.000000e+00\n",
       "dtype: float64"
      ]
     },
     "execution_count": 98,
     "metadata": {},
     "output_type": "execute_result"
    }
   ],
   "source": [
    "miRNAmRNA_within_cancer_corrs[cancer_types].mean(axis=1).describe()"
   ]
  },
  {
   "cell_type": "code",
   "execution_count": 99,
   "metadata": {},
   "outputs": [
    {
     "data": {
      "text/plain": [
       "count    1.213690e+07\n",
       "mean     7.718377e-03\n",
       "std      1.202430e-01\n",
       "min     -6.320920e-01\n",
       "25%     -6.781697e-02\n",
       "50%      6.273889e-03\n",
       "75%      8.104180e-02\n",
       "max      8.674545e-01\n",
       "Name: pan-cancer, dtype: float64"
      ]
     },
     "execution_count": 99,
     "metadata": {},
     "output_type": "execute_result"
    }
   ],
   "source": [
    "miRNAmRNA_within_cancer_corrs['pan-cancer'].describe()"
   ]
  },
  {
   "cell_type": "code",
   "execution_count": 90,
   "metadata": {},
   "outputs": [
    {
     "data": {
      "text/plain": [
       "miRNA           mRNA     \n",
       "hsa-miR-767-3p  100124540    1.0\n",
       "Name: within_cancer_10th_pctl, dtype: float64"
      ]
     },
     "execution_count": 90,
     "metadata": {},
     "output_type": "execute_result"
    }
   ],
   "source": [
    "miRNAmRNA_within_cancer_corrs.within_cancer_10th_pctl[miRNAmRNA_within_cancer_corrs.within_cancer_10th_pctl == 1]"
   ]
  },
  {
   "cell_type": "code",
   "execution_count": null,
   "metadata": {},
   "outputs": [],
   "source": [
    "miRNAmRNA_within_cancer_corrs.loc['hsa-miR-767-3p'].loc['100124540']"
   ]
  },
  {
   "cell_type": "code",
   "execution_count": null,
   "metadata": {},
   "outputs": [],
   "source": [
    "pancan_withincan_10thpctl_diff_sorted[pancan_withincan_10thpctl_diff_sorted.notnull()][-1]"
   ]
  },
  {
   "cell_type": "code",
   "execution_count": null,
   "metadata": {},
   "outputs": [],
   "source": [
    "pancan_withincan_10thpctl_diff_sorted[pancan_withincan_10thpctl_diff_sorted.notnull()].index[-1]"
   ]
  },
  {
   "cell_type": "markdown",
   "metadata": {},
   "source": [
    "## To-do list, working copy"
   ]
  },
  {
   "cell_type": "markdown",
   "metadata": {},
   "source": [
    "#### Computational"
   ]
  },
  {
   "cell_type": "markdown",
   "metadata": {},
   "source": [
    "#### Presentational"
   ]
  },
  {
   "cell_type": "markdown",
   "metadata": {},
   "source": [
    "- Report: Sketch Yep, start working on the report, make an outline, make draft figure, make take-home-messages for the subsections in the Results section and for each of the figures.\n",
    "- Make links or copies of the Cloud Data Lab notebooks"
   ]
  },
  {
   "cell_type": "markdown",
   "metadata": {},
   "source": [
    "#### Optional\n",
    "- Permutation test for miRTar correlations: Compare to how distributions change when data is permuted?"
   ]
  },
  {
   "cell_type": "markdown",
   "metadata": {},
   "source": [
    "#### Remarks"
   ]
  },
  {
   "cell_type": "markdown",
   "metadata": {},
   "source": [
    "#2 and/or #3 as inconclusive evidence for #1???\n",
    "- \"#2 and #3 will provide (hopefully conclusive) evidence. #1 will be used for visualization of actual data points (this is important) to give the reader some idea what the conclusive evidence means (sort of), perhaps also where and why it will go wrong (e.g. the pancancer correlations being dominated by tumor types)\""
   ]
  },
  {
   "cell_type": "markdown",
   "metadata": {},
   "source": [
    "### Nice-to-have FINAL CLEANUP"
   ]
  },
  {
   "cell_type": "markdown",
   "metadata": {},
   "source": [
    "- rename misleading mirtar vars -> mirmrna\n",
    "- rename mirtars_in_mirtarbase_mask -> mirmrnas_in_mirtarbase_mask, etc."
   ]
  }
 ],
 "metadata": {
  "kernelspec": {
   "display_name": "Python 2",
   "language": "python",
   "name": "python2"
  },
  "language_info": {
   "codemirror_mode": {
    "name": "ipython",
    "version": 2
   },
   "file_extension": ".py",
   "mimetype": "text/x-python",
   "name": "python",
   "nbconvert_exporter": "python",
   "pygments_lexer": "ipython2",
   "version": "2.7.15"
  }
 },
 "nbformat": 4,
 "nbformat_minor": 2
}
