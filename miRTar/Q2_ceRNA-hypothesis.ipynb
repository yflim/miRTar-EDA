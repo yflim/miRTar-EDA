{
 "cells": [
  {
   "cell_type": "code",
   "execution_count": 1,
   "metadata": {},
   "outputs": [],
   "source": [
    "import csv\n",
    "import google.datalab.storage as storage\n",
    "import io\n",
    "import math as m\n",
    "import matplotlib.pyplot as plt\n",
    "import numpy as np\n",
    "#import numpy.ma as ma\n",
    "import pandas as pd\n",
    "#from statsmodels.distributions.empirical_distribution import ECDF"
   ]
  },
  {
   "cell_type": "markdown",
   "metadata": {},
   "source": [
    "## Preliminaries"
   ]
  },
  {
   "cell_type": "markdown",
   "metadata": {},
   "source": [
    "### Function definitions"
   ]
  },
  {
   "cell_type": "code",
   "execution_count": 2,
   "metadata": {},
   "outputs": [],
   "source": [
    "def read_file(bucket, filepath, **kwargs):\n",
    "  uri = bucket.object(filepath).uri\n",
    "  get_ipython().run_line_magic('gcs', 'read --object ' + uri + ' --variable csv_data')\n",
    "  return pd.read_csv(io.BytesIO(csv_data), **kwargs)"
   ]
  },
  {
   "cell_type": "code",
   "execution_count": 3,
   "metadata": {},
   "outputs": [],
   "source": [
    "def write_df_to_csv(df, index_label, csv_filepath):\n",
    "  df.to_csv('temp.csv', index_label = index_label)\n",
    "  !gsutil cp 'temp.csv' $csv_filepath"
   ]
  },
  {
   "cell_type": "code",
   "execution_count": 4,
   "metadata": {},
   "outputs": [],
   "source": [
    "def save_as(temp_filename, filepath):\n",
    "  !gsutil cp $temp_filename $filepath"
   ]
  },
  {
   "cell_type": "code",
   "execution_count": 5,
   "metadata": {},
   "outputs": [],
   "source": [
    "def heatmap(data, title, xlab, ylab, xticks, yticks, xticklabels, yticklabels, xsz, ysz, cmap, **kwargs):\n",
    "    fig, ax = plt.subplots()\n",
    "    if 'label_fontsize' in kwargs:\n",
    "        ax.set_title(title, fontsize=kwargs['title_fontsize'])\n",
    "        ax.set_xlabel(xlab, fontsize=kwargs['label_fontsize'])\n",
    "        ax.set_ylabel(ylab, fontsize=kwargs['label_fontsize'])\n",
    "    else:\n",
    "        ax.set_title(title)\n",
    "        ax.set_xlabel(xlab)\n",
    "        ax.set_ylabel(ylab)\n",
    "    ax.set_xticks(xticks)\n",
    "    ax.set_yticks(yticks)\n",
    "    xticklab_dict = dict()\n",
    "    if ('xticklabels_rotation' in kwargs):\n",
    "        xticklab_dict['rotation'] = kwargs['xticklabels_rotation']\n",
    "    if ('ha' in kwargs):\n",
    "        xticklab_dict['ha'] = kwargs['ha']\n",
    "    ax.set_xticklabels(xticklabels, xticklab_dict)\n",
    "    if 'va' in kwargs:\n",
    "        ax.set_yticklabels(yticklabels, va=kwargs['va'])\n",
    "    else:\n",
    "        ax.set_yticklabels(yticklabels)\n",
    "    fig.set_size_inches(xsz, ysz)\n",
    "    cmap.set_under()\n",
    "    heatmap = ax.pcolormesh(data, cmap=cmap)\n",
    "    fig.colorbar(heatmap, ax=ax)\n",
    "    return fig"
   ]
  },
  {
   "cell_type": "markdown",
   "metadata": {},
   "source": [
    "### Initialise bucket"
   ]
  },
  {
   "cell_type": "code",
   "execution_count": 6,
   "metadata": {},
   "outputs": [],
   "source": [
    "bucket = storage.Bucket('yfl-mirna')"
   ]
  },
  {
   "cell_type": "markdown",
   "metadata": {},
   "source": [
    "### Load data"
   ]
  },
  {
   "cell_type": "markdown",
   "metadata": {},
   "source": [
    "#### miRNA data"
   ]
  },
  {
   "cell_type": "code",
   "execution_count": 7,
   "metadata": {},
   "outputs": [],
   "source": [
    "miRNA_data = read_file(bucket, 'data/miRNA/pancanMiRs_EBadjOnProtocolPlatformWithoutRepsWithUnCorrectMiRs_08_04_16.csv')"
   ]
  },
  {
   "cell_type": "code",
   "execution_count": 8,
   "metadata": {},
   "outputs": [],
   "source": [
    "miRNA_data.rename(index=str, columns={'Genes': 'miRNA'}, inplace=True)\n",
    "miRNA_data.set_index('miRNA', inplace=True)\n",
    "miRNA_data['Corrected'] = (miRNA_data['Correction'] == 'Corrected')\n",
    "del miRNA_data['Correction']"
   ]
  },
  {
   "cell_type": "code",
   "execution_count": 9,
   "metadata": {},
   "outputs": [],
   "source": [
    "miRNA_corrections = pd.DataFrame(miRNA_data[['Corrected']])\n",
    "del miRNA_data['Corrected']"
   ]
  },
  {
   "cell_type": "code",
   "execution_count": 11,
   "metadata": {},
   "outputs": [],
   "source": [
    "sample_miRNAs = miRNA_data.T\n",
    "sample_miRNAs.index = sample_miRNAs.index.map(lambda x: '-'.join(x.split('-')[0:4]))\n",
    "sample_miRNAs.reset_index(inplace=True)\n",
    "sample_miRNAs.drop_duplicates(subset='index', keep='first', inplace=True)\n",
    "sample_miRNAs.set_index('index', inplace=True)"
   ]
  },
  {
   "cell_type": "markdown",
   "metadata": {},
   "source": [
    "#### Sample metadata"
   ]
  },
  {
   "cell_type": "code",
   "execution_count": 12,
   "metadata": {},
   "outputs": [],
   "source": [
    "sample_metadata = read_file(bucket, 'data/sample/PanCanAtlas_miRNA_sample_information_list.txt', delimiter='\\t')"
   ]
  },
  {
   "cell_type": "code",
   "execution_count": 13,
   "metadata": {},
   "outputs": [],
   "source": [
    "sample_metadata.rename(index=str, columns={'id': 'sample'}, inplace=True)\n",
    "sample_metadata.set_index('sample', inplace=True)\n",
    "sample_metadata.index = sample_metadata.index.map(lambda x: '-'.join(x.split('-')[0:4]))\n",
    "sample_metadata.reset_index(inplace=True)\n",
    "sample_metadata.drop_duplicates(subset='sample', keep='first', inplace=True)\n",
    "sample_metadata.set_index('sample', inplace=True)"
   ]
  },
  {
   "cell_type": "markdown",
   "metadata": {},
   "source": [
    "#### Pan-cancer miRNA-mRNA expression Spearman correlations"
   ]
  },
  {
   "cell_type": "code",
   "execution_count": 14,
   "metadata": {},
   "outputs": [],
   "source": [
    "mirtar_spearman_corrs = read_file(bucket, 'explore/miRTar/spearman-corrs/data/mirtar-spearman-corrs.csv')\n",
    "mirtar_spearman_corrs.set_index('miRNA', inplace=True)"
   ]
  },
  {
   "cell_type": "markdown",
   "metadata": {},
   "source": [
    "### More processing"
   ]
  },
  {
   "cell_type": "markdown",
   "metadata": {},
   "source": [
    "#### Merge sample miRNA expression and sample metadata"
   ]
  },
  {
   "cell_type": "code",
   "execution_count": 15,
   "metadata": {},
   "outputs": [],
   "source": [
    "sample_data_miRNAs = pd.merge(sample_metadata, sample_miRNAs, left_index=True, right_index=True)"
   ]
  },
  {
   "cell_type": "markdown",
   "metadata": {},
   "source": [
    "#### Considering samples of type 1 only"
   ]
  },
  {
   "cell_type": "code",
   "execution_count": 16,
   "metadata": {},
   "outputs": [],
   "source": [
    "type_1_sample_data_miRNAs = pd.DataFrame(sample_data_miRNAs[sample_data_miRNAs.Sample_Type == 1])\n",
    "type_1_sample_miRNAs = type_1_sample_data_miRNAs.drop(columns=sample_metadata.columns)"
   ]
  },
  {
   "cell_type": "markdown",
   "metadata": {},
   "source": [
    "#### Tumour types and counts"
   ]
  },
  {
   "cell_type": "code",
   "execution_count": 17,
   "metadata": {},
   "outputs": [],
   "source": [
    "cancer_types_and_counts = type_1_sample_data_miRNAs['Disease'].value_counts().sort_values()\n",
    "cancer_types_and_counts_with_pancan = cancer_types_and_counts.append(pd.Series([type_1_sample_data_miRNAs.shape[0]], ['PAN']))\n",
    "cancer_types = cancer_types_and_counts.index\n",
    "cancer_types_list = cancer_types_and_counts_with_pancan.index"
   ]
  },
  {
   "cell_type": "markdown",
   "metadata": {},
   "source": [
    "#### miRNA sample expression by tumor type"
   ]
  },
  {
   "cell_type": "code",
   "execution_count": 18,
   "metadata": {},
   "outputs": [],
   "source": [
    "sample_disease_miRNAs = type_1_sample_data_miRNAs.drop(columns=['Sample_Type', 'Protocol', 'Platform'])\n",
    "samples_by_cancer_type = sample_disease_miRNAs.groupby('Disease')\n",
    "cancer_type_miRNA_means = samples_by_cancer_type.mean()"
   ]
  },
  {
   "cell_type": "markdown",
   "metadata": {},
   "source": [
    "## Analysis"
   ]
  },
  {
   "cell_type": "code",
   "execution_count": 19,
   "metadata": {},
   "outputs": [],
   "source": [
    "quantiles_count = 20.0\n",
    "quantile_ranks = np.arange(1, 21, 1) / quantiles_count"
   ]
  },
  {
   "cell_type": "code",
   "execution_count": 20,
   "metadata": {},
   "outputs": [],
   "source": [
    "def init_dataframe(index, cols, index_name):\n",
    "  df = pd.DataFrame(index = index, columns = cols)\n",
    "  df.index.name = index_name\n",
    "  return df"
   ]
  },
  {
   "cell_type": "markdown",
   "metadata": {},
   "source": [
    "### Compute expression quantile miRNAs"
   ]
  },
  {
   "cell_type": "markdown",
   "metadata": {},
   "source": [
    "#### Define quantile ranks and the corresponding indices for miRNAs"
   ]
  },
  {
   "cell_type": "code",
   "execution_count": 22,
   "metadata": {},
   "outputs": [],
   "source": [
    "miRNA_quantile_indices = np.array([int(m.ceil(x) - 1) for x in (miRNA_data.shape[0] * quantile_ranks)])"
   ]
  },
  {
   "cell_type": "markdown",
   "metadata": {},
   "source": [
    "#### miRNA mean expression quantile miRNAs per cancer type"
   ]
  },
  {
   "cell_type": "code",
   "execution_count": 23,
   "metadata": {},
   "outputs": [],
   "source": [
    "cancer_type_mean_expr_quantile_miRNAs = pd.DataFrame(index = cancer_types_list, columns = quantile_ranks)\n",
    "for cancer_type in cancer_types:\n",
    "    miRNA_list = cancer_type_miRNA_means.loc[cancer_type].sort_values()[miRNA_quantile_indices].index\n",
    "    cancer_type_mean_expr_quantile_miRNAs.loc[cancer_type] = miRNA_list\n",
    "cancer_type_mean_expr_quantile_miRNAs.loc['PAN'] = type_1_sample_miRNAs.mean().sort_values()[miRNA_quantile_indices].index"
   ]
  },
  {
   "cell_type": "code",
   "execution_count": 64,
   "metadata": {},
   "outputs": [
    {
     "name": "stdout",
     "output_type": "stream",
     "text": [
      "Copying file://temp.csv [Content-Type=text/csv]...\n",
      "/ [1 files][  9.6 KiB/  9.6 KiB]                                                \n",
      "Operation completed over 1 objects/9.6 KiB.                                      \n"
     ]
    }
   ],
   "source": [
    "write_df_to_csv(cancer_type_mean_expr_quantile_miRNAs, 'Cancer Type', 'gs://yfl-mirna/analysis/ceRNA/cancer-type_mean-expr-quantile-miRNAs.csv')"
   ]
  },
  {
   "cell_type": "markdown",
   "metadata": {},
   "source": [
    "### Compute miRNA-mRNA anticorrelation quantiles"
   ]
  },
  {
   "cell_type": "code",
   "execution_count": 24,
   "metadata": {},
   "outputs": [],
   "source": [
    "def anticorr_quantiles_for_cancertype_and_miRNAs(rank, type_mirtar_corrs, miRNA_expr_quantile_ranks, miRNAs):\n",
    "  quantiles = type_mirtar_corrs.apply(lambda r: r.quantile(rank), axis=1)[miRNAs]\n",
    "  quantiles.index = miRNA_expr_quantile_ranks\n",
    "  return quantiles"
   ]
  },
  {
   "cell_type": "markdown",
   "metadata": {},
   "source": [
    "#### mRNA expression anticorrelation quantiles for quantile miRNAs from last step"
   ]
  },
  {
   "cell_type": "code",
   "execution_count": 25,
   "metadata": {},
   "outputs": [],
   "source": [
    "cancer_type_quantile_miRNA_anticorr_50iles = init_dataframe(cancer_types_list, quantile_ranks, 'cancer_type')\n",
    "cancer_type_quantile_miRNA_anticorr_1iles = init_dataframe(cancer_types_list, quantile_ranks, 'cancer_type')"
   ]
  },
  {
   "cell_type": "code",
   "execution_count": 131,
   "metadata": {},
   "outputs": [],
   "source": [
    "for cancer_type in cancer_types:\n",
    "    type_mirtar_spearman_corrs = read_file(bucket, 'explore/miRTar/spearman-corrs/data/mirtar-spearman-corrs_' + cancer_type + '.csv')\n",
    "    type_mirtar_spearman_corrs.set_index('miRNA', inplace=True)\n",
    "    cancer_type_quantile_miRNA_anticorr_50iles.loc[cancer_type] = anticorr_quantiles_for_cancertype_and_miRNAs(0.5, type_mirtar_spearman_corrs, quantile_ranks,\n",
    "                                                                                                               cancer_type_mean_expr_quantile_miRNAs.loc[cancer_type])\n",
    "    cancer_type_quantile_miRNA_anticorr_1iles.loc[cancer_type] = anticorr_quantiles_for_cancertype_and_miRNAs(0.01, type_mirtar_spearman_corrs, quantile_ranks,\n",
    "                                                                                                              cancer_type_mean_expr_quantile_miRNAs.loc[cancer_type])\n",
    "cancer_type_quantile_miRNA_anticorr_50iles.loc['PAN'] = anticorr_quantiles_for_cancertype_and_miRNAs(0.5, mirtar_spearman_corrs, quantile_ranks,\n",
    "                                                                                                     cancer_type_mean_expr_quantile_miRNAs.loc['PAN'])\n",
    "cancer_type_quantile_miRNA_anticorr_1iles.loc['PAN'] = anticorr_quantiles_for_cancertype_and_miRNAs(0.01, mirtar_spearman_corrs, quantile_ranks,\n",
    "                                                                                                    cancer_type_mean_expr_quantile_miRNAs.loc['PAN'])\n",
    "cancer_type_quantile_miRNA_anticorr_50iles = cancer_type_quantile_miRNA_anticorr_50iles.astype('float64')\n",
    "cancer_type_quantile_miRNA_anticorr_1iles = cancer_type_quantile_miRNA_anticorr_1iles.astype('float64')"
   ]
  },
  {
   "cell_type": "code",
   "execution_count": null,
   "metadata": {},
   "outputs": [],
   "source": [
    "write_df_to_csv(cancer_type_quantile_miRNA_anticorr_50iles, 'cancer_type', 'gs://yfl-mirna/analysis/ceRNA/cancer-type_quantile-miRNA_anticorr-50iles.csv')\n",
    "write_df_to_csv(cancer_type_quantile_miRNA_anticorr_1iles, 'cancer_type', 'gs://yfl-mirna/analysis/ceRNA/cancer-type_quantile-miRNA_anticorr-1iles.csv')"
   ]
  },
  {
   "cell_type": "markdown",
   "metadata": {},
   "source": [
    "### Cancer type vs. miRNA expression: miRNA-mRNA expression anticorrelation heatmaps"
   ]
  },
  {
   "cell_type": "markdown",
   "metadata": {},
   "source": [
    "#### TODO: Delete next cell when done"
   ]
  },
  {
   "cell_type": "code",
   "execution_count": 26,
   "metadata": {},
   "outputs": [],
   "source": [
    "cancer_type_quantile_miRNA_anticorr_50iles = read_file(bucket, 'analysis/ceRNA/cancer-type_quantile-miRNA_anticorr-50iles.csv')\n",
    "cancer_type_quantile_miRNA_anticorr_50iles.set_index('cancer_type', inplace=True)\n",
    "cancer_type_quantile_miRNA_anticorr_1iles = read_file(bucket, 'analysis/ceRNA/cancer-type_quantile-miRNA_anticorr-1iles.csv')\n",
    "cancer_type_quantile_miRNA_anticorr_1iles.set_index('cancer_type', inplace=True)"
   ]
  },
  {
   "cell_type": "code",
   "execution_count": null,
   "metadata": {},
   "outputs": [],
   "source": [
    "heatmap(cancer_type_quantile_miRNA_anticorr_50iles, 'miRNA-mRNA expression anticorrelation medians', 'miRNA expression mean quantiles',\n",
    "        'Cancer type, sorted by increasing sample size', quantile_ranks * 20, range(cancer_types_list.shape[0]), quantile_ranks, cancer_types_list,\n",
    "        10, cancer_types_list.shape[0] * 0.5, plt.cm.cubehelix, title_fontsize = 24, label_fontsize = 18, va = 'bottom').savefig('temp.png')\n",
    "save_as('temp.png', 'gs://yfl-mirna/analysis/ceRNA/plots/cancer-type_miRNA-quantiles_mRNA-anticorr-medians.png')"
   ]
  },
  {
   "cell_type": "code",
   "execution_count": null,
   "metadata": {},
   "outputs": [],
   "source": [
    "heatmap(cancer_type_quantile_miRNA_anticorr_1iles, 'miRNA-mRNA expression anticorrelation 99th percentiles', 'miRNA expression mean quantiles',\n",
    "        'Cancer type, sorted by increasing sample size', quantile_ranks * 20, range(cancer_types_list.shape[0]), quantile_ranks, cancer_types_list,\n",
    "        10, cancer_types_list.shape[0] * 0.5, plt.cm.cubehelix, title_fontsize = 24, label_fontsize = 18, va = 'bottom').savefig('temp.png')\n",
    "save_as('temp.png', 'gs://yfl-mirna/analysis/ceRNA/plots/cancer-type_miRNA-quantiles_mRNA-anticorr-99iles.png')"
   ]
  },
  {
   "cell_type": "markdown",
   "metadata": {},
   "source": [
    "### Compute joint distribution of miRNA mean expression and number of targets, sort of"
   ]
  },
  {
   "cell_type": "code",
   "execution_count": null,
   "metadata": {},
   "outputs": [],
   "source": [
    "quantile_groups = range(int(quantiles_count))"
   ]
  },
  {
   "cell_type": "code",
   "execution_count": 220,
   "metadata": {},
   "outputs": [],
   "source": [
    "def get_quantiles_for_mean_expr_gp(mean_expr_gp, quantile_colname):\n",
    "  mean_expr_col = pd.Series(index = range(int(quantiles_count)))\n",
    "  for r in mean_expr_col.index:\n",
    "    mean_expr_target_count_gp = mean_expr_gp[mean_expr_gp.target_count_quantile_gp == r]\n",
    "    if mean_expr_target_count_gp.size > 0:\n",
    "      mean_expr_col[r] = mean_expr_target_count_gp.iloc[-1][quantile_colname]\n",
    "  return mean_expr_col"
   ]
  },
  {
   "cell_type": "markdown",
   "metadata": {},
   "source": [
    "#### Combine miRNA mean expression, target counts, and mRNA expression anticorrelation quantiles into a single dataframe"
   ]
  },
  {
   "cell_type": "code",
   "execution_count": 265,
   "metadata": {},
   "outputs": [],
   "source": [
    "miRNA_target_counts = read_file(bucket, 'data/miRTar/miRNA-target-counts.csv', header=None)\n",
    "miRNA_target_counts.rename(columns = { 0: 'miRNA', 1: 'target_count' }, inplace=True)\n",
    "miRNA_target_counts.sort_values(by='target_count', inplace=True)\n",
    "miRNA_target_counts.set_index('miRNA', inplace=True)\n",
    "obs_per_quantile_gp = miRNA_target_counts.index.size / quantiles_count\n",
    "miRNA_target_counts['target_count_quantile_gp'] = (miRNA_target_counts.reset_index().index / obs_per_quantile_gp).astype(int)"
   ]
  },
  {
   "cell_type": "code",
   "execution_count": 267,
   "metadata": {},
   "outputs": [],
   "source": [
    "miRNA_mean_exprs = type_1_sample_miRNAs.mean().sort_values().to_frame().rename({ 0: 'mean_expr' }, axis=1)\n",
    "obs_per_quantile_gp = miRNA_mean_exprs.index.size / quantiles_count\n",
    "miRNA_mean_exprs['mean_expr_quantile_gp'] = (miRNA_mean_exprs.reset_index().index / obs_per_quantile_gp).astype(int)"
   ]
  },
  {
   "cell_type": "code",
   "execution_count": 269,
   "metadata": {},
   "outputs": [],
   "source": [
    "miRNA_expr_targetcount_anticorrs = miRNA_target_counts.join(miRNA_mean_exprs)\n",
    "miRNA_expr_targetcount_anticorrs.sort_values(by = ['mean_expr', 'target_count'], inplace = True)\n",
    "miRNA_expr_targetcount_anticorrs['anticorr_50ile'] = mirtar_spearman_corrs.quantile(0.5, axis=1)[miRNA_expr_targetcount_anticorrs.index]\n",
    "miRNA_expr_targetcount_anticorrs['anticorr_99ile'] = mirtar_spearman_corrs.quantile(0.01, axis=1)[miRNA_expr_targetcount_anticorrs.index]"
   ]
  },
  {
   "cell_type": "markdown",
   "metadata": {},
   "source": [
    "#### Joint distribution of miRNA mean expression and number of targets"
   ]
  },
  {
   "cell_type": "code",
   "execution_count": 272,
   "metadata": {},
   "outputs": [],
   "source": [
    "miRNA_meanexpr_vs_targetcount_obs = pd.DataFrame(index = quantile_groups, columns = quantile_groups)\n",
    "miRNAmiRNA_expr_targetcount_gps = miRNA_expr_targetcount_anticorrs.groupby(['mean_expr_quantile_gp', 'target_count_quantile_gp']).size()\n",
    "for mean_expr_quantile_gp in miRNA_meanexpr_vs_targetcount_obs.columns:\n",
    "  miRNA_meanexpr_vs_targetcount_obs[mean_expr_quantile_gp][miRNAmiRNA_expr_targetcount_gps[mean_expr_quantile_gp].index] = miRNAmiRNA_expr_targetcount_gps[mean_expr_quantile_gp]"
   ]
  },
  {
   "cell_type": "code",
   "execution_count": null,
   "metadata": {},
   "outputs": [],
   "source": [
    "heatmap(miRNA_meanexpr_vs_targetcount_obs.astype('float64'), 'miRNA mean expression vs. target count quantile groups: numbers of observations', 'miRNA expression mean quantile groups',\n",
    "        'miRNA number of targets quantile groups', quantile_groups, quantile_groups, quantile_groups, quantile_groups,\n",
    "        int(quantiles_count) / 2, int(quantiles_count) / 2, plt.cm.cubehelix_r, title_fontsize = 18, label_fontsize = 12, ca = 'center', va = 'center')\n",
    "#.savefig('temp.png')"
   ]
  },
  {
   "cell_type": "markdown",
   "metadata": {},
   "source": [
    "#### Compute (for) heatmaps"
   ]
  },
  {
   "cell_type": "code",
   "execution_count": 230,
   "metadata": {},
   "outputs": [],
   "source": [
    "miRNA_targetcount_vs_expr_mRNA_anticorr_50iles = pd.DataFrame(index = quantile_groups, columns = quantile_groups)\n",
    "miRNA_targetcount_vs_expr_mRNA_anticorr_99iles = pd.DataFrame(index = quantile_groups, columns = quantile_groups)"
   ]
  },
  {
   "cell_type": "code",
   "execution_count": 231,
   "metadata": {},
   "outputs": [],
   "source": [
    "for c in miRNA_targetcount_vs_expr_mRNA_anticorr_50iles.columns:\n",
    "  mean_expr_gp = miRNA_expr_targetcount_anticorrs[miRNA_expr_targetcount_anticorrs.mean_expr_quantile_gp == c]\n",
    "  miRNA_targetcount_vs_expr_mRNA_anticorr_50iles[c] = get_quantiles_for_mean_expr_gp(mean_expr_gp, 'anticorr_50ile')\n",
    "  miRNA_targetcount_vs_expr_mRNA_anticorr_99iles[c] = get_quantiles_for_mean_expr_gp(mean_expr_gp, 'anticorr_99ile')"
   ]
  },
  {
   "cell_type": "code",
   "execution_count": null,
   "metadata": {},
   "outputs": [],
   "source": [
    "miRNA_targetcount_vs_expr_mRNA_anticorr_99iles"
   ]
  },
  {
   "cell_type": "code",
   "execution_count": 238,
   "metadata": {},
   "outputs": [
    {
     "name": "stdout",
     "output_type": "stream",
     "text": [
      "\n",
      "\n",
      "Updates are available for some Cloud SDK components.  To install them,\n",
      "please run:\n",
      "  $ gcloud components update\n",
      "\n",
      "Copying file://temp.png [Content-Type=image/png]...\n",
      "/ [1 files][ 35.5 KiB/ 35.5 KiB]                                                \n",
      "Operation completed over 1 objects/35.5 KiB.                                     \n"
     ]
    },
    {
     "data": {
      "image/png": "[encoded data removed]",
      "text/plain": [
       "<matplotlib.figure.Figure at 0x7fc354822290>"
      ]
     },
     "metadata": {},
     "output_type": "display_data"
    }
   ],
   "source": [
    "heatmap(miRNA_targetcount_vs_expr_mRNA_anticorr_50iles, 'miRNA-mRNA expression anticorrelation medians', 'miRNA expression mean quantile groups',\n",
    "        'miRNA number of targets quantile groups', quantile_groups, quantile_groups, quantile_groups, quantile_groups,\n",
    "        int(quantiles_count) / 2, int(quantiles_count) / 2, plt.cm.cubehelix, title_fontsize = 18, label_fontsize = 12, ca = 'center', va = 'center').savefig('temp.png')\n",
    "save_as('temp.png', 'gs://yfl-mirna/analysis/ceRNA/plots/miRNA-targetcount-vs-expr-quantilegps_mRNA-anticorr-medians.png')"
   ]
  },
  {
   "cell_type": "code",
   "execution_count": 239,
   "metadata": {},
   "outputs": [
    {
     "name": "stdout",
     "output_type": "stream",
     "text": [
      "Copying file://temp.png [Content-Type=image/png]...\n",
      "- [1 files][ 34.5 KiB/ 34.5 KiB]                                                \n",
      "Operation completed over 1 objects/34.5 KiB.                                     \n"
     ]
    },
    {
     "data": {
      "image/png": "[encoded data removed]",
      "text/plain": [
       "<matplotlib.figure.Figure at 0x7fc35458ddd0>"
      ]
     },
     "metadata": {},
     "output_type": "display_data"
    }
   ],
   "source": [
    "heatmap(miRNA_targetcount_vs_expr_mRNA_anticorr_99iles, 'miRNA-mRNA expression anticorrelation medians', 'miRNA expression mean quantile groups',\n",
    "        'miRNA number of targets quantile groups', quantile_groups, quantile_groups, quantile_groups, quantile_groups,\n",
    "        int(quantiles_count) / 2, int(quantiles_count) / 2, plt.cm.cubehelix, title_fontsize = 18, label_fontsize = 12, ca = 'center', va = 'center').savefig('temp.png')\n",
    "save_as('temp.png', 'gs://yfl-mirna/analysis/ceRNA/plots/miRNA-targetcount-vs-expr-quantilegps_mRNA-anticorr-99iles.png')"
   ]
  },
  {
   "cell_type": "markdown",
   "metadata": {},
   "source": [
    "## Scraps"
   ]
  },
  {
   "cell_type": "code",
   "execution_count": 56,
   "metadata": {},
   "outputs": [],
   "source": [
    "samples_sortedby_tumor_type = sample_disease_miRNAs.sort_values(by=['Disease'])\n",
    "sample_tumor_types_sorted = samples_sortedby_tumor_type['Disease']\n",
    "\n",
    "miRNA_samples_by_tumor_type = samples_sortedby_tumor_type.drop(columns=['Disease']).T\n",
    "miRNA_samples_by_tumor_type['mean_expr'] = miRNA_samples_by_tumor_type.mean(axis=1)"
   ]
  },
  {
   "cell_type": "code",
   "execution_count": 57,
   "metadata": {},
   "outputs": [
    {
     "data": {
      "text/html": [
       "<div>\n",
       "<style scoped>\n",
       "    .dataframe tbody tr th:only-of-type {\n",
       "        vertical-align: middle;\n",
       "    }\n",
       "\n",
       "    .dataframe tbody tr th {\n",
       "        vertical-align: top;\n",
       "    }\n",
       "\n",
       "    .dataframe thead th {\n",
       "        text-align: right;\n",
       "    }\n",
       "</style>\n",
       "<table border=\"1\" class=\"dataframe\">\n",
       "  <thead>\n",
       "    <tr style=\"text-align: right;\">\n",
       "      <th></th>\n",
       "      <th>TCGA-OR-A5J1-01A</th>\n",
       "      <th>TCGA-OR-A5LC-01A</th>\n",
       "      <th>TCGA-OR-A5LB-01A</th>\n",
       "      <th>TCGA-OR-A5LA-01A</th>\n",
       "      <th>TCGA-OR-A5L9-01A</th>\n",
       "      <th>TCGA-OR-A5L8-01A</th>\n",
       "      <th>TCGA-OR-A5L6-01A</th>\n",
       "      <th>TCGA-OR-A5L5-01A</th>\n",
       "      <th>TCGA-OR-A5LD-01A</th>\n",
       "      <th>TCGA-OR-A5L4-01A</th>\n",
       "      <th>...</th>\n",
       "      <th>TCGA-V4-A9EX-01A</th>\n",
       "      <th>TCGA-V4-A9EW-01A</th>\n",
       "      <th>TCGA-V4-A9EV-01A</th>\n",
       "      <th>TCGA-V4-A9EU-01A</th>\n",
       "      <th>TCGA-V4-A9ET-01A</th>\n",
       "      <th>TCGA-V4-A9ES-01A</th>\n",
       "      <th>TCGA-V4-A9EQ-01A</th>\n",
       "      <th>TCGA-VD-A8K9-01A</th>\n",
       "      <th>TCGA-YZ-A985-01A</th>\n",
       "      <th>mean_expr</th>\n",
       "    </tr>\n",
       "  </thead>\n",
       "  <tbody>\n",
       "    <tr>\n",
       "      <th>hsa-let-7a-2-3p</th>\n",
       "      <td>1.516652</td>\n",
       "      <td>4.055588</td>\n",
       "      <td>1.222368</td>\n",
       "      <td>1.179666</td>\n",
       "      <td>1.361217</td>\n",
       "      <td>1.697989</td>\n",
       "      <td>3.170057</td>\n",
       "      <td>4.565757</td>\n",
       "      <td>0.869746</td>\n",
       "      <td>1.531810</td>\n",
       "      <td>...</td>\n",
       "      <td>0.403806</td>\n",
       "      <td>4.836469</td>\n",
       "      <td>0.372345</td>\n",
       "      <td>0.804193</td>\n",
       "      <td>2.075611</td>\n",
       "      <td>0.161250</td>\n",
       "      <td>0.161250</td>\n",
       "      <td>0.830944</td>\n",
       "      <td>0.161250</td>\n",
       "      <td>7.924000</td>\n",
       "    </tr>\n",
       "    <tr>\n",
       "      <th>hsa-let-7a-3p</th>\n",
       "      <td>74.323353</td>\n",
       "      <td>44.832493</td>\n",
       "      <td>23.528583</td>\n",
       "      <td>51.936385</td>\n",
       "      <td>38.674034</td>\n",
       "      <td>30.700558</td>\n",
       "      <td>24.327827</td>\n",
       "      <td>59.129552</td>\n",
       "      <td>62.502435</td>\n",
       "      <td>27.829411</td>\n",
       "      <td>...</td>\n",
       "      <td>30.394728</td>\n",
       "      <td>19.178473</td>\n",
       "      <td>10.812286</td>\n",
       "      <td>22.369586</td>\n",
       "      <td>5.463725</td>\n",
       "      <td>19.218429</td>\n",
       "      <td>14.113464</td>\n",
       "      <td>12.883255</td>\n",
       "      <td>9.761276</td>\n",
       "      <td>34.106855</td>\n",
       "    </tr>\n",
       "    <tr>\n",
       "      <th>hsa-let-7a-5p</th>\n",
       "      <td>44763.181080</td>\n",
       "      <td>22656.325020</td>\n",
       "      <td>30223.225340</td>\n",
       "      <td>38427.513240</td>\n",
       "      <td>36414.642840</td>\n",
       "      <td>55062.589630</td>\n",
       "      <td>36227.912510</td>\n",
       "      <td>46736.709130</td>\n",
       "      <td>20626.693230</td>\n",
       "      <td>34549.988200</td>\n",
       "      <td>...</td>\n",
       "      <td>66483.753540</td>\n",
       "      <td>66272.391770</td>\n",
       "      <td>83424.119630</td>\n",
       "      <td>66579.633860</td>\n",
       "      <td>80227.064680</td>\n",
       "      <td>103809.075700</td>\n",
       "      <td>146520.163400</td>\n",
       "      <td>65955.612130</td>\n",
       "      <td>72332.119210</td>\n",
       "      <td>33768.287529</td>\n",
       "    </tr>\n",
       "    <tr>\n",
       "      <th>hsa-let-7b-3p</th>\n",
       "      <td>44.861733</td>\n",
       "      <td>30.705416</td>\n",
       "      <td>31.011989</td>\n",
       "      <td>17.620770</td>\n",
       "      <td>29.526437</td>\n",
       "      <td>27.954160</td>\n",
       "      <td>12.503146</td>\n",
       "      <td>31.912779</td>\n",
       "      <td>18.456039</td>\n",
       "      <td>33.048252</td>\n",
       "      <td>...</td>\n",
       "      <td>46.013314</td>\n",
       "      <td>61.679150</td>\n",
       "      <td>66.180343</td>\n",
       "      <td>62.928663</td>\n",
       "      <td>40.281762</td>\n",
       "      <td>37.411208</td>\n",
       "      <td>38.995330</td>\n",
       "      <td>7.457725</td>\n",
       "      <td>31.368915</td>\n",
       "      <td>35.622075</td>\n",
       "    </tr>\n",
       "    <tr>\n",
       "      <th>hsa-let-7b-5p</th>\n",
       "      <td>16813.804970</td>\n",
       "      <td>11870.737970</td>\n",
       "      <td>11145.286060</td>\n",
       "      <td>13675.645030</td>\n",
       "      <td>15149.611650</td>\n",
       "      <td>14681.161980</td>\n",
       "      <td>5176.657674</td>\n",
       "      <td>11619.951270</td>\n",
       "      <td>6278.523528</td>\n",
       "      <td>6076.989394</td>\n",
       "      <td>...</td>\n",
       "      <td>40269.888310</td>\n",
       "      <td>31486.584240</td>\n",
       "      <td>32287.621540</td>\n",
       "      <td>29084.078460</td>\n",
       "      <td>40897.905380</td>\n",
       "      <td>18329.608670</td>\n",
       "      <td>55389.247750</td>\n",
       "      <td>12068.699000</td>\n",
       "      <td>50420.089490</td>\n",
       "      <td>19282.396209</td>\n",
       "    </tr>\n",
       "  </tbody>\n",
       "</table>\n",
       "<p>5 rows × 9556 columns</p>\n",
       "</div>"
      ],
      "text/plain": [
       "                 TCGA-OR-A5J1-01A  TCGA-OR-A5LC-01A  TCGA-OR-A5LB-01A  \\\n",
       "hsa-let-7a-2-3p          1.516652          4.055588          1.222368   \n",
       "hsa-let-7a-3p           74.323353         44.832493         23.528583   \n",
       "hsa-let-7a-5p        44763.181080      22656.325020      30223.225340   \n",
       "hsa-let-7b-3p           44.861733         30.705416         31.011989   \n",
       "hsa-let-7b-5p        16813.804970      11870.737970      11145.286060   \n",
       "\n",
       "                 TCGA-OR-A5LA-01A  TCGA-OR-A5L9-01A  TCGA-OR-A5L8-01A  \\\n",
       "hsa-let-7a-2-3p          1.179666          1.361217          1.697989   \n",
       "hsa-let-7a-3p           51.936385         38.674034         30.700558   \n",
       "hsa-let-7a-5p        38427.513240      36414.642840      55062.589630   \n",
       "hsa-let-7b-3p           17.620770         29.526437         27.954160   \n",
       "hsa-let-7b-5p        13675.645030      15149.611650      14681.161980   \n",
       "\n",
       "                 TCGA-OR-A5L6-01A  TCGA-OR-A5L5-01A  TCGA-OR-A5LD-01A  \\\n",
       "hsa-let-7a-2-3p          3.170057          4.565757          0.869746   \n",
       "hsa-let-7a-3p           24.327827         59.129552         62.502435   \n",
       "hsa-let-7a-5p        36227.912510      46736.709130      20626.693230   \n",
       "hsa-let-7b-3p           12.503146         31.912779         18.456039   \n",
       "hsa-let-7b-5p         5176.657674      11619.951270       6278.523528   \n",
       "\n",
       "                 TCGA-OR-A5L4-01A      ...       TCGA-V4-A9EX-01A  \\\n",
       "hsa-let-7a-2-3p          1.531810      ...               0.403806   \n",
       "hsa-let-7a-3p           27.829411      ...              30.394728   \n",
       "hsa-let-7a-5p        34549.988200      ...           66483.753540   \n",
       "hsa-let-7b-3p           33.048252      ...              46.013314   \n",
       "hsa-let-7b-5p         6076.989394      ...           40269.888310   \n",
       "\n",
       "                 TCGA-V4-A9EW-01A  TCGA-V4-A9EV-01A  TCGA-V4-A9EU-01A  \\\n",
       "hsa-let-7a-2-3p          4.836469          0.372345          0.804193   \n",
       "hsa-let-7a-3p           19.178473         10.812286         22.369586   \n",
       "hsa-let-7a-5p        66272.391770      83424.119630      66579.633860   \n",
       "hsa-let-7b-3p           61.679150         66.180343         62.928663   \n",
       "hsa-let-7b-5p        31486.584240      32287.621540      29084.078460   \n",
       "\n",
       "                 TCGA-V4-A9ET-01A  TCGA-V4-A9ES-01A  TCGA-V4-A9EQ-01A  \\\n",
       "hsa-let-7a-2-3p          2.075611          0.161250          0.161250   \n",
       "hsa-let-7a-3p            5.463725         19.218429         14.113464   \n",
       "hsa-let-7a-5p        80227.064680     103809.075700     146520.163400   \n",
       "hsa-let-7b-3p           40.281762         37.411208         38.995330   \n",
       "hsa-let-7b-5p        40897.905380      18329.608670      55389.247750   \n",
       "\n",
       "                 TCGA-VD-A8K9-01A  TCGA-YZ-A985-01A     mean_expr  \n",
       "hsa-let-7a-2-3p          0.830944          0.161250      7.924000  \n",
       "hsa-let-7a-3p           12.883255          9.761276     34.106855  \n",
       "hsa-let-7a-5p        65955.612130      72332.119210  33768.287529  \n",
       "hsa-let-7b-3p            7.457725         31.368915     35.622075  \n",
       "hsa-let-7b-5p        12068.699000      50420.089490  19282.396209  \n",
       "\n",
       "[5 rows x 9556 columns]"
      ]
     },
     "execution_count": 57,
     "metadata": {},
     "output_type": "execute_result"
    }
   ],
   "source": [
    "miRNA_samples_by_tumor_type.head()"
   ]
  }
 ],
 "metadata": {
  "kernelspec": {
   "display_name": "Python 2",
   "language": "python",
   "name": "python2"
  },
  "language_info": {
   "codemirror_mode": {
    "name": "ipython",
    "version": 2
   },
   "file_extension": ".py",
   "mimetype": "text/x-python",
   "name": "python",
   "nbconvert_exporter": "python",
   "pygments_lexer": "ipython2",
   "version": "2.7.15"
  }
 },
 "nbformat": 4,
 "nbformat_minor": 2
}
