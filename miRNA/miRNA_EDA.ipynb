{
 "cells": [
  {
   "cell_type": "markdown",
   "metadata": {},
   "source": [
    "# miRNA EDA\n",
    "## for miRNA-Target Interactions in Cancer"
   ]
  },
  {
   "cell_type": "markdown",
   "metadata": {},
   "source": [
    "## TODO: Update and test plotting code to save in GCP bucket, etc."
   ]
  },
  {
   "cell_type": "code",
   "execution_count": 1,
   "metadata": {},
   "outputs": [],
   "source": [
    "import csv\n",
    "import google.datalab.storage as storage\n",
    "import io\n",
    "import logging\n",
    "import math as m\n",
    "import matplotlib\n",
    "import matplotlib.pyplot as plt\n",
    "import numpy as np\n",
    "import pandas as pd\n",
    "import scipy.stats as stats\n",
    "import seaborn as sns"
   ]
  },
  {
   "cell_type": "markdown",
   "metadata": {},
   "source": [
    "## Utils"
   ]
  },
  {
   "cell_type": "markdown",
   "metadata": {},
   "source": [
    "### Function definitions"
   ]
  },
  {
   "cell_type": "code",
   "execution_count": 2,
   "metadata": {},
   "outputs": [],
   "source": [
    "def read_file(bucket, filepath, **kwargs):\n",
    "  uri = bucket.object(filepath).uri\n",
    "  get_ipython().run_line_magic('gcs', 'read --object ' + uri + ' --variable csv_data')\n",
    "  return pd.read_csv(io.BytesIO(csv_data), **kwargs)"
   ]
  },
  {
   "cell_type": "code",
   "execution_count": 3,
   "metadata": {},
   "outputs": [],
   "source": [
    "def save_as(temp_filename, filepath):\n",
    "  !gsutil cp $temp_filename $filepath"
   ]
  },
  {
   "cell_type": "markdown",
   "metadata": {},
   "source": [
    "### Set up logging"
   ]
  },
  {
   "cell_type": "code",
   "execution_count": 4,
   "metadata": {},
   "outputs": [],
   "source": [
    "logger = logging.getLogger()"
   ]
  },
  {
   "cell_type": "code",
   "execution_count": 5,
   "metadata": {},
   "outputs": [],
   "source": [
    "def setup_file_logger(log_file):\n",
    "    for handler in logger.handlers[:]:\n",
    "        logger.removeHandler(handler)\n",
    "    hdlr = logging.FileHandler(log_file)\n",
    "    formatter = logging.Formatter('%(asctime)s %(levelname)s %(message)s')\n",
    "    hdlr.setFormatter(formatter)\n",
    "    logger.addHandler(hdlr) \n",
    "    logger.setLevel(logging.INFO)\n",
    "    \n",
    "def log(message):\n",
    "  print(message)\n",
    "  logger.info(message)\n",
    "\n",
    "setup_file_logger('mirtar.log')"
   ]
  },
  {
   "cell_type": "markdown",
   "metadata": {},
   "source": [
    "## Preprocess data"
   ]
  },
  {
   "cell_type": "code",
   "execution_count": 6,
   "metadata": {},
   "outputs": [],
   "source": [
    "bucket = storage.Bucket('yfl-mirna')"
   ]
  },
  {
   "cell_type": "markdown",
   "metadata": {},
   "source": [
    "#### Read sample miRNA expression data"
   ]
  },
  {
   "cell_type": "code",
   "execution_count": 7,
   "metadata": {},
   "outputs": [],
   "source": [
    "miRNA_data = read_file(bucket, 'data/miRNA/pancanMiRs_EBadjOnProtocolPlatformWithoutRepsWithUnCorrectMiRs_08_04_16.csv')"
   ]
  },
  {
   "cell_type": "code",
   "execution_count": 8,
   "metadata": {},
   "outputs": [],
   "source": [
    "miRNA_data.rename(index=str, columns={'Genes': 'miRNA'}, inplace=True)\n",
    "miRNA_data.columns\n",
    "miRNA_data.set_index('miRNA', inplace=True)\n",
    "miRNA_data['Corrected'] = (miRNA_data['Correction'] == 'Corrected')\n",
    "del miRNA_data['Correction']"
   ]
  },
  {
   "cell_type": "code",
   "execution_count": 9,
   "metadata": {},
   "outputs": [],
   "source": [
    "miRNA_corrections = pd.DataFrame(miRNA_data[['Corrected']])\n",
    "del miRNA_data['Corrected']"
   ]
  },
  {
   "cell_type": "code",
   "execution_count": 10,
   "metadata": {},
   "outputs": [],
   "source": [
    "sample_miRNAs = miRNA_data.T"
   ]
  },
  {
   "cell_type": "markdown",
   "metadata": {},
   "source": [
    "#### Read sample metadata"
   ]
  },
  {
   "cell_type": "code",
   "execution_count": 11,
   "metadata": {},
   "outputs": [],
   "source": [
    "sample_metadata = read_file(bucket, 'data/sample/PanCanAtlas_miRNA_sample_information_list.txt', delimiter='\\t')"
   ]
  },
  {
   "cell_type": "code",
   "execution_count": 12,
   "metadata": {},
   "outputs": [],
   "source": [
    "sample_metadata.rename(index=str, columns={'id': 'sample'}, inplace=True)\n",
    "sample_metadata.set_index('sample', inplace=True)"
   ]
  },
  {
   "cell_type": "code",
   "execution_count": 13,
   "metadata": {},
   "outputs": [],
   "source": [
    "samples = pd.merge(sample_metadata, sample_miRNAs, left_index=True, right_index=True)"
   ]
  },
  {
   "cell_type": "code",
   "execution_count": 14,
   "metadata": {},
   "outputs": [],
   "source": [
    "samples_count = samples.shape[0]"
   ]
  },
  {
   "cell_type": "markdown",
   "metadata": {},
   "source": [
    "#### Considering samples of type 1 only"
   ]
  },
  {
   "cell_type": "code",
   "execution_count": 15,
   "metadata": {},
   "outputs": [],
   "source": [
    "type_1_samples = pd.DataFrame(samples[samples.Sample_Type == 1])\n",
    "type_1_sample_miRNAs = type_1_samples.drop(columns=sample_metadata.columns)\n",
    "type_1_miRNA_data = type_1_sample_miRNAs.T"
   ]
  },
  {
   "cell_type": "code",
   "execution_count": 16,
   "metadata": {},
   "outputs": [],
   "source": [
    "type_1_samples_count = type_1_samples.shape[0]"
   ]
  },
  {
   "cell_type": "code",
   "execution_count": 17,
   "metadata": {},
   "outputs": [
    {
     "data": {
      "text/plain": [
       "BRCA    1068\n",
       "UCEC     523\n",
       "HNSC     519\n",
       "LGG      510\n",
       "LUAD     508\n",
       "THCA     502\n",
       "KIRC     499\n",
       "PRAD     491\n",
       "OV       478\n",
       "LUSC     467\n",
       "STAD     433\n",
       "COAD     421\n",
       "BLCA     409\n",
       "LIHC     369\n",
       "CESC     306\n",
       "KIRP     286\n",
       "SARC     256\n",
       "ESCA     182\n",
       "PCPG     178\n",
       "PAAD     177\n",
       "READ     153\n",
       "TGCT     149\n",
       "THYM     124\n",
       "SKCM      97\n",
       "MESO      87\n",
       "UVM       80\n",
       "ACC       79\n",
       "KICH      65\n",
       "UCS       56\n",
       "DLBC      47\n",
       "CHOL      36\n",
       "Name: Disease, dtype: int64"
      ]
     },
     "execution_count": 17,
     "metadata": {},
     "output_type": "execute_result"
    }
   ],
   "source": [
    "type_1_samples['Disease'].value_counts()"
   ]
  },
  {
   "cell_type": "code",
   "execution_count": 18,
   "metadata": {},
   "outputs": [],
   "source": [
    "tumor_types_and_counts = type_1_samples['Disease'].value_counts().sort_index()\n",
    "tumor_types = tumor_types_and_counts.index\n",
    "tumor_type_counts = tumor_types_and_counts.values\n",
    "tumor_types_num = tumor_types.size"
   ]
  },
  {
   "cell_type": "markdown",
   "metadata": {},
   "source": [
    "## Plots"
   ]
  },
  {
   "cell_type": "markdown",
   "metadata": {},
   "source": [
    "### Function definitions"
   ]
  },
  {
   "cell_type": "code",
   "execution_count": 19,
   "metadata": {},
   "outputs": [],
   "source": [
    "def boxplot_no_xaxis(data, title, xlab, ylab, xsz, ysz):\n",
    "    fig, ax = plt.subplots()\n",
    "    ax.set_title(title)\n",
    "    ax.get_xaxis().set_visible(False)\n",
    "    ax.set_xlabel(xlab)\n",
    "    ax.set_ylabel(ylab)\n",
    "    ax.boxplot(data, whis='range', showfliers=False)\n",
    "    fig.set_size_inches(xsz, ysz)\n",
    "    return fig"
   ]
  },
  {
   "cell_type": "code",
   "execution_count": 20,
   "metadata": {},
   "outputs": [],
   "source": [
    "def histogram(data, xsz, ysz, title, xlab, ylab, **kwargs):\n",
    "    fig, ax = plt.subplots()\n",
    "    sns.distplot(data, ax=ax, **kwargs)\n",
    "    fig = ax.get_figure()\n",
    "    fig.set_size_inches(xsz, ysz)\n",
    "    ax.set_title(title)\n",
    "    ax.set_xlabel(xlab)\n",
    "    ax.set_ylabel(ylab)\n",
    "    return fig"
   ]
  },
  {
   "cell_type": "code",
   "execution_count": 21,
   "metadata": {},
   "outputs": [],
   "source": [
    "def heatmap(data, title, xlab, ylab, xticks, yticks, xticklabels, yticklabels, xsz, ysz, cmap, **kwargs):\n",
    "    fig, ax = plt.subplots()\n",
    "    if 'label_fontsize' in kwargs:\n",
    "        ax.set_title(title, fontsize=kwargs['label_fontsize'])\n",
    "        ax.set_xlabel(xlab, fontsize=kwargs['label_fontsize'])\n",
    "        ax.set_ylabel(ylab, fontsize=kwargs['label_fontsize'])\n",
    "    else:\n",
    "        ax.set_title(title)\n",
    "        ax.set_xlabel(xlab)\n",
    "        ax.set_ylabel(ylab)\n",
    "    ax.set_xticks(xticks)\n",
    "    ax.set_yticks(yticks)\n",
    "    xticklab_dict = dict()\n",
    "    if ('xticklabels_rotation' in kwargs):\n",
    "        xticklab_dict['rotation'] = kwargs['xticklabels_rotation']\n",
    "    if ('ha' in kwargs):\n",
    "        xticklab_dict['ha'] = kwargs['ha']\n",
    "    ax.set_xticklabels(xticklabels, xticklab_dict)\n",
    "    if 'va' in kwargs:\n",
    "        ax.set_yticklabels(yticklabels, va=kwargs['va'])\n",
    "    else:\n",
    "        ax.set_yticklabels(yticklabels)\n",
    "    fig.set_size_inches(xsz, ysz)\n",
    "    heatmap = ax.pcolormesh(data, cmap=cmap)\n",
    "    fig.colorbar(heatmap, ax=ax)\n",
    "    return fig"
   ]
  },
  {
   "cell_type": "markdown",
   "metadata": {},
   "source": [
    "### Number of samples for each tumor type"
   ]
  },
  {
   "cell_type": "code",
   "execution_count": 22,
   "metadata": {},
   "outputs": [],
   "source": [
    "tumor_types_and_counts = type_1_samples['Disease'].value_counts().sort_index()\n",
    "tumor_types = tumor_types_and_counts.index\n",
    "tumor_type_counts = tumor_types_and_counts.values\n",
    "tumor_types_num = tumor_types.size"
   ]
  },
  {
   "cell_type": "markdown",
   "metadata": {},
   "source": [
    "#### Bar chart\n",
    "TODO: label bar y values https://stackoverflow.com/questions/28931224/adding-value-labels-on-a-matplotlib-bar-chart"
   ]
  },
  {
   "cell_type": "code",
   "execution_count": null,
   "metadata": {},
   "outputs": [],
   "source": [
    "fig, ax = plt.subplots()\n",
    "bar_width = 5\n",
    "spacing = 10\n",
    "indices = np.arange(0, len(tumor_types) * spacing, spacing)\n",
    "ax.bar(indices, tumor_type_counts, bar_width)\n",
    "ax.set_xlabel('Tumor type', fontsize=20)\n",
    "ax.set_ylabel('Number of samples', fontsize=20)\n",
    "ax.set_title('Number of samples by tumor type', fontsize=20)\n",
    "ax.set_xticks(indices)\n",
    "ax.set_xticklabels(tumor_types, fontsize=20, rotation=90)\n",
    "fig = matplotlib.pyplot.gcf()\n",
    "fig.set_size_inches(20, 12)\n",
    "fig.savefig('number-of-samples_barchart.pdf', dpi=100)"
   ]
  },
  {
   "cell_type": "markdown",
   "metadata": {},
   "source": [
    "#### Pie chart\n",
    "TODO: annotate %s with #s"
   ]
  },
  {
   "cell_type": "code",
   "execution_count": null,
   "metadata": {
    "collapsed": true
   },
   "outputs": [],
   "source": [
    "fig, ax = plt.subplots()\n",
    "ax.set_title('Samples by tumor type')\n",
    "plt.pie(tumor_type_counts, labels = tumor_types, autopct='%1.1f%%')\n",
    "fig.set_size_inches(20, 20)\n",
    "fig.savefig('number-of-samples_piechart.pdf', dpi=100)"
   ]
  },
  {
   "cell_type": "markdown",
   "metadata": {},
   "source": [
    "### miRNA sample expression"
   ]
  },
  {
   "cell_type": "code",
   "execution_count": 24,
   "metadata": {},
   "outputs": [],
   "source": [
    "miRNA_data_log_transformed = type_1_miRNA_data.applymap(lambda x: m.log(x + 1))"
   ]
  },
  {
   "cell_type": "code",
   "execution_count": 25,
   "metadata": {},
   "outputs": [
    {
     "data": {
      "text/html": [
       "<div>\n",
       "<style scoped>\n",
       "    .dataframe tbody tr th:only-of-type {\n",
       "        vertical-align: middle;\n",
       "    }\n",
       "\n",
       "    .dataframe tbody tr th {\n",
       "        vertical-align: top;\n",
       "    }\n",
       "\n",
       "    .dataframe thead th {\n",
       "        text-align: right;\n",
       "    }\n",
       "</style>\n",
       "<table border=\"1\" class=\"dataframe\">\n",
       "  <thead>\n",
       "    <tr style=\"text-align: right;\">\n",
       "      <th></th>\n",
       "      <th>TCGA-OR-A5J1-01A-11R-A29W-13</th>\n",
       "      <th>TCGA-OR-A5J2-01A-11R-A29W-13</th>\n",
       "      <th>TCGA-OR-A5J3-01A-11R-A29W-13</th>\n",
       "      <th>TCGA-OR-A5J4-01A-11R-A29W-13</th>\n",
       "      <th>TCGA-OR-A5J5-01A-11R-A29W-13</th>\n",
       "      <th>TCGA-OR-A5J6-01A-31R-A29W-13</th>\n",
       "      <th>TCGA-OR-A5J7-01A-11R-A29W-13</th>\n",
       "      <th>TCGA-OR-A5J8-01A-11R-A29W-13</th>\n",
       "      <th>TCGA-OR-A5J9-01A-11R-A29W-13</th>\n",
       "      <th>TCGA-OR-A5JA-01A-11R-A29W-13</th>\n",
       "      <th>...</th>\n",
       "      <th>TCGA-WC-A885-01A-11R-A40B-13</th>\n",
       "      <th>TCGA-WC-A888-01A-11R-A40B-13</th>\n",
       "      <th>TCGA-WC-A88A-01A-11R-A40B-13</th>\n",
       "      <th>TCGA-WC-AA9A-01A-11R-A40B-13</th>\n",
       "      <th>TCGA-WC-AA9E-01A-11R-A40B-13</th>\n",
       "      <th>TCGA-YZ-A980-01A-11R-A40B-13</th>\n",
       "      <th>TCGA-YZ-A982-01A-11R-A40B-13</th>\n",
       "      <th>TCGA-YZ-A983-01A-11R-A40B-13</th>\n",
       "      <th>TCGA-YZ-A984-01A-11R-A40B-13</th>\n",
       "      <th>TCGA-YZ-A985-01A-11R-A40B-13</th>\n",
       "    </tr>\n",
       "  </thead>\n",
       "  <tbody>\n",
       "    <tr>\n",
       "      <th>hsa-let-7a-2-3p</th>\n",
       "      <td>0.922930</td>\n",
       "      <td>2.266212</td>\n",
       "      <td>1.156404</td>\n",
       "      <td>0.739742</td>\n",
       "      <td>0.149497</td>\n",
       "      <td>0.149497</td>\n",
       "      <td>0.149497</td>\n",
       "      <td>2.972624</td>\n",
       "      <td>0.594360</td>\n",
       "      <td>0.967705</td>\n",
       "      <td>...</td>\n",
       "      <td>1.279962</td>\n",
       "      <td>1.163045</td>\n",
       "      <td>0.380855</td>\n",
       "      <td>0.149497</td>\n",
       "      <td>0.149497</td>\n",
       "      <td>0.947249</td>\n",
       "      <td>0.355130</td>\n",
       "      <td>0.149497</td>\n",
       "      <td>1.568811</td>\n",
       "      <td>0.149497</td>\n",
       "    </tr>\n",
       "    <tr>\n",
       "      <th>hsa-let-7a-3p</th>\n",
       "      <td>4.321790</td>\n",
       "      <td>4.267876</td>\n",
       "      <td>3.073711</td>\n",
       "      <td>3.934822</td>\n",
       "      <td>3.835793</td>\n",
       "      <td>3.841957</td>\n",
       "      <td>3.402035</td>\n",
       "      <td>4.372436</td>\n",
       "      <td>3.769209</td>\n",
       "      <td>4.110468</td>\n",
       "      <td>...</td>\n",
       "      <td>2.489934</td>\n",
       "      <td>3.915575</td>\n",
       "      <td>3.537155</td>\n",
       "      <td>3.718857</td>\n",
       "      <td>2.939992</td>\n",
       "      <td>1.178907</td>\n",
       "      <td>2.574885</td>\n",
       "      <td>2.257757</td>\n",
       "      <td>2.257250</td>\n",
       "      <td>2.375954</td>\n",
       "    </tr>\n",
       "    <tr>\n",
       "      <th>hsa-let-7a-5p</th>\n",
       "      <td>10.709164</td>\n",
       "      <td>9.738841</td>\n",
       "      <td>10.139523</td>\n",
       "      <td>10.539383</td>\n",
       "      <td>10.558253</td>\n",
       "      <td>10.411171</td>\n",
       "      <td>10.278642</td>\n",
       "      <td>10.021158</td>\n",
       "      <td>10.889671</td>\n",
       "      <td>9.550029</td>\n",
       "      <td>...</td>\n",
       "      <td>11.285970</td>\n",
       "      <td>10.866602</td>\n",
       "      <td>11.645705</td>\n",
       "      <td>11.202791</td>\n",
       "      <td>11.108575</td>\n",
       "      <td>9.967945</td>\n",
       "      <td>11.488896</td>\n",
       "      <td>10.910957</td>\n",
       "      <td>11.258451</td>\n",
       "      <td>11.189037</td>\n",
       "    </tr>\n",
       "    <tr>\n",
       "      <th>hsa-let-7b-3p</th>\n",
       "      <td>3.825631</td>\n",
       "      <td>3.794749</td>\n",
       "      <td>3.717061</td>\n",
       "      <td>3.924309</td>\n",
       "      <td>3.104476</td>\n",
       "      <td>3.298577</td>\n",
       "      <td>3.685972</td>\n",
       "      <td>2.980597</td>\n",
       "      <td>3.510385</td>\n",
       "      <td>3.767911</td>\n",
       "      <td>...</td>\n",
       "      <td>2.098259</td>\n",
       "      <td>3.747628</td>\n",
       "      <td>3.577455</td>\n",
       "      <td>4.725627</td>\n",
       "      <td>3.420777</td>\n",
       "      <td>2.320755</td>\n",
       "      <td>3.178342</td>\n",
       "      <td>2.330759</td>\n",
       "      <td>3.462628</td>\n",
       "      <td>3.477199</td>\n",
       "    </tr>\n",
       "    <tr>\n",
       "      <th>hsa-let-7b-5p</th>\n",
       "      <td>9.730015</td>\n",
       "      <td>9.444858</td>\n",
       "      <td>9.397551</td>\n",
       "      <td>9.684545</td>\n",
       "      <td>9.488614</td>\n",
       "      <td>9.459002</td>\n",
       "      <td>9.180763</td>\n",
       "      <td>8.971578</td>\n",
       "      <td>9.678585</td>\n",
       "      <td>9.218716</td>\n",
       "      <td>...</td>\n",
       "      <td>9.860992</td>\n",
       "      <td>10.161296</td>\n",
       "      <td>10.622792</td>\n",
       "      <td>10.874780</td>\n",
       "      <td>9.689929</td>\n",
       "      <td>9.509009</td>\n",
       "      <td>10.983708</td>\n",
       "      <td>9.683688</td>\n",
       "      <td>10.729893</td>\n",
       "      <td>10.828165</td>\n",
       "    </tr>\n",
       "    <tr>\n",
       "      <th>hsa-let-7c-3p</th>\n",
       "      <td>2.635999</td>\n",
       "      <td>2.837810</td>\n",
       "      <td>1.920794</td>\n",
       "      <td>3.103768</td>\n",
       "      <td>1.422557</td>\n",
       "      <td>3.677727</td>\n",
       "      <td>1.124235</td>\n",
       "      <td>4.046032</td>\n",
       "      <td>2.364641</td>\n",
       "      <td>2.453387</td>\n",
       "      <td>...</td>\n",
       "      <td>3.620330</td>\n",
       "      <td>2.679146</td>\n",
       "      <td>1.967617</td>\n",
       "      <td>1.553711</td>\n",
       "      <td>3.464074</td>\n",
       "      <td>2.788378</td>\n",
       "      <td>3.571307</td>\n",
       "      <td>3.454253</td>\n",
       "      <td>3.991420</td>\n",
       "      <td>4.462171</td>\n",
       "    </tr>\n",
       "    <tr>\n",
       "      <th>hsa-let-7c-5p</th>\n",
       "      <td>7.382956</td>\n",
       "      <td>7.213051</td>\n",
       "      <td>6.441029</td>\n",
       "      <td>8.048778</td>\n",
       "      <td>5.946338</td>\n",
       "      <td>8.454158</td>\n",
       "      <td>4.930420</td>\n",
       "      <td>7.826731</td>\n",
       "      <td>7.749381</td>\n",
       "      <td>6.364879</td>\n",
       "      <td>...</td>\n",
       "      <td>8.782660</td>\n",
       "      <td>7.621037</td>\n",
       "      <td>7.766013</td>\n",
       "      <td>6.674746</td>\n",
       "      <td>9.388159</td>\n",
       "      <td>7.907051</td>\n",
       "      <td>9.445534</td>\n",
       "      <td>8.091485</td>\n",
       "      <td>9.824370</td>\n",
       "      <td>9.779804</td>\n",
       "    </tr>\n",
       "    <tr>\n",
       "      <th>hsa-let-7d-3p</th>\n",
       "      <td>7.528280</td>\n",
       "      <td>7.059999</td>\n",
       "      <td>5.607446</td>\n",
       "      <td>7.619369</td>\n",
       "      <td>7.026236</td>\n",
       "      <td>6.832785</td>\n",
       "      <td>7.589832</td>\n",
       "      <td>7.828746</td>\n",
       "      <td>7.384104</td>\n",
       "      <td>6.875027</td>\n",
       "      <td>...</td>\n",
       "      <td>8.656638</td>\n",
       "      <td>7.592856</td>\n",
       "      <td>7.792401</td>\n",
       "      <td>7.640136</td>\n",
       "      <td>7.108790</td>\n",
       "      <td>5.493314</td>\n",
       "      <td>7.108411</td>\n",
       "      <td>7.993800</td>\n",
       "      <td>7.502280</td>\n",
       "      <td>7.581252</td>\n",
       "    </tr>\n",
       "    <tr>\n",
       "      <th>hsa-let-7d-5p</th>\n",
       "      <td>6.058565</td>\n",
       "      <td>5.914404</td>\n",
       "      <td>4.754490</td>\n",
       "      <td>6.259421</td>\n",
       "      <td>5.996903</td>\n",
       "      <td>5.222672</td>\n",
       "      <td>5.859154</td>\n",
       "      <td>6.151246</td>\n",
       "      <td>6.451797</td>\n",
       "      <td>5.644672</td>\n",
       "      <td>...</td>\n",
       "      <td>7.182984</td>\n",
       "      <td>6.700096</td>\n",
       "      <td>6.791978</td>\n",
       "      <td>6.519294</td>\n",
       "      <td>6.092021</td>\n",
       "      <td>5.361398</td>\n",
       "      <td>6.175952</td>\n",
       "      <td>5.966579</td>\n",
       "      <td>6.637129</td>\n",
       "      <td>6.874495</td>\n",
       "    </tr>\n",
       "    <tr>\n",
       "      <th>hsa-let-7e-3p</th>\n",
       "      <td>2.829052</td>\n",
       "      <td>3.798492</td>\n",
       "      <td>2.600214</td>\n",
       "      <td>3.015186</td>\n",
       "      <td>2.922034</td>\n",
       "      <td>3.145088</td>\n",
       "      <td>2.692233</td>\n",
       "      <td>4.027857</td>\n",
       "      <td>4.014088</td>\n",
       "      <td>3.901732</td>\n",
       "      <td>...</td>\n",
       "      <td>2.802655</td>\n",
       "      <td>2.939735</td>\n",
       "      <td>2.248071</td>\n",
       "      <td>2.587387</td>\n",
       "      <td>2.061906</td>\n",
       "      <td>1.908390</td>\n",
       "      <td>2.456480</td>\n",
       "      <td>2.156962</td>\n",
       "      <td>3.268929</td>\n",
       "      <td>3.411234</td>\n",
       "    </tr>\n",
       "    <tr>\n",
       "      <th>hsa-let-7e-5p</th>\n",
       "      <td>7.321542</td>\n",
       "      <td>6.739648</td>\n",
       "      <td>7.464759</td>\n",
       "      <td>7.374633</td>\n",
       "      <td>7.362624</td>\n",
       "      <td>8.032181</td>\n",
       "      <td>7.366174</td>\n",
       "      <td>7.694413</td>\n",
       "      <td>8.819651</td>\n",
       "      <td>6.640436</td>\n",
       "      <td>...</td>\n",
       "      <td>7.252277</td>\n",
       "      <td>7.456598</td>\n",
       "      <td>7.614284</td>\n",
       "      <td>7.294397</td>\n",
       "      <td>6.858172</td>\n",
       "      <td>6.616433</td>\n",
       "      <td>7.452409</td>\n",
       "      <td>6.760054</td>\n",
       "      <td>7.806125</td>\n",
       "      <td>7.634825</td>\n",
       "    </tr>\n",
       "    <tr>\n",
       "      <th>hsa-let-7f-1-3p</th>\n",
       "      <td>1.133432</td>\n",
       "      <td>1.403732</td>\n",
       "      <td>1.990393</td>\n",
       "      <td>2.685708</td>\n",
       "      <td>1.802504</td>\n",
       "      <td>0.509315</td>\n",
       "      <td>2.089369</td>\n",
       "      <td>2.096986</td>\n",
       "      <td>2.234914</td>\n",
       "      <td>1.863135</td>\n",
       "      <td>...</td>\n",
       "      <td>0.560816</td>\n",
       "      <td>1.517020</td>\n",
       "      <td>0.941115</td>\n",
       "      <td>1.678999</td>\n",
       "      <td>0.800607</td>\n",
       "      <td>0.138545</td>\n",
       "      <td>0.692005</td>\n",
       "      <td>0.878557</td>\n",
       "      <td>0.740290</td>\n",
       "      <td>0.821161</td>\n",
       "    </tr>\n",
       "    <tr>\n",
       "      <th>hsa-let-7f-5p</th>\n",
       "      <td>9.407426</td>\n",
       "      <td>7.508588</td>\n",
       "      <td>9.158646</td>\n",
       "      <td>9.549787</td>\n",
       "      <td>9.847903</td>\n",
       "      <td>9.315244</td>\n",
       "      <td>9.472006</td>\n",
       "      <td>9.268678</td>\n",
       "      <td>10.332349</td>\n",
       "      <td>7.833314</td>\n",
       "      <td>...</td>\n",
       "      <td>9.897278</td>\n",
       "      <td>9.401059</td>\n",
       "      <td>10.402820</td>\n",
       "      <td>9.373322</td>\n",
       "      <td>9.476222</td>\n",
       "      <td>7.878020</td>\n",
       "      <td>10.177766</td>\n",
       "      <td>9.510831</td>\n",
       "      <td>9.565697</td>\n",
       "      <td>9.335964</td>\n",
       "    </tr>\n",
       "    <tr>\n",
       "      <th>hsa-let-7g-3p</th>\n",
       "      <td>4.205576</td>\n",
       "      <td>5.164527</td>\n",
       "      <td>3.397067</td>\n",
       "      <td>4.144937</td>\n",
       "      <td>2.686929</td>\n",
       "      <td>4.318434</td>\n",
       "      <td>4.273659</td>\n",
       "      <td>3.834867</td>\n",
       "      <td>3.378741</td>\n",
       "      <td>3.888278</td>\n",
       "      <td>...</td>\n",
       "      <td>3.350677</td>\n",
       "      <td>2.578264</td>\n",
       "      <td>1.728056</td>\n",
       "      <td>2.765707</td>\n",
       "      <td>2.470861</td>\n",
       "      <td>0.541658</td>\n",
       "      <td>2.619259</td>\n",
       "      <td>2.205130</td>\n",
       "      <td>2.446928</td>\n",
       "      <td>2.911349</td>\n",
       "    </tr>\n",
       "    <tr>\n",
       "      <th>hsa-let-7g-5p</th>\n",
       "      <td>6.882922</td>\n",
       "      <td>6.896772</td>\n",
       "      <td>6.004852</td>\n",
       "      <td>6.241965</td>\n",
       "      <td>5.904117</td>\n",
       "      <td>6.876481</td>\n",
       "      <td>6.548308</td>\n",
       "      <td>6.753778</td>\n",
       "      <td>6.957225</td>\n",
       "      <td>5.910604</td>\n",
       "      <td>...</td>\n",
       "      <td>7.744379</td>\n",
       "      <td>7.125446</td>\n",
       "      <td>7.609177</td>\n",
       "      <td>6.710099</td>\n",
       "      <td>7.497620</td>\n",
       "      <td>5.347144</td>\n",
       "      <td>7.547861</td>\n",
       "      <td>6.889194</td>\n",
       "      <td>6.942870</td>\n",
       "      <td>6.486273</td>\n",
       "    </tr>\n",
       "    <tr>\n",
       "      <th>hsa-let-7i-3p</th>\n",
       "      <td>3.268317</td>\n",
       "      <td>4.983034</td>\n",
       "      <td>4.719516</td>\n",
       "      <td>5.483362</td>\n",
       "      <td>3.157623</td>\n",
       "      <td>4.219666</td>\n",
       "      <td>5.245053</td>\n",
       "      <td>6.965107</td>\n",
       "      <td>4.541927</td>\n",
       "      <td>5.401177</td>\n",
       "      <td>...</td>\n",
       "      <td>3.673332</td>\n",
       "      <td>5.678972</td>\n",
       "      <td>3.230486</td>\n",
       "      <td>3.218111</td>\n",
       "      <td>2.959418</td>\n",
       "      <td>0.569833</td>\n",
       "      <td>2.288095</td>\n",
       "      <td>3.260412</td>\n",
       "      <td>3.291583</td>\n",
       "      <td>3.595268</td>\n",
       "    </tr>\n",
       "    <tr>\n",
       "      <th>hsa-let-7i-5p</th>\n",
       "      <td>5.375681</td>\n",
       "      <td>5.869055</td>\n",
       "      <td>6.041806</td>\n",
       "      <td>6.226169</td>\n",
       "      <td>5.869368</td>\n",
       "      <td>5.105937</td>\n",
       "      <td>5.583077</td>\n",
       "      <td>7.359211</td>\n",
       "      <td>6.490034</td>\n",
       "      <td>5.712134</td>\n",
       "      <td>...</td>\n",
       "      <td>7.005657</td>\n",
       "      <td>7.204129</td>\n",
       "      <td>7.174792</td>\n",
       "      <td>7.021846</td>\n",
       "      <td>6.641473</td>\n",
       "      <td>5.671591</td>\n",
       "      <td>6.683492</td>\n",
       "      <td>7.612197</td>\n",
       "      <td>7.666568</td>\n",
       "      <td>7.609577</td>\n",
       "    </tr>\n",
       "    <tr>\n",
       "      <th>hsa-miR-1</th>\n",
       "      <td>1.760734</td>\n",
       "      <td>1.407045</td>\n",
       "      <td>0.699628</td>\n",
       "      <td>1.046779</td>\n",
       "      <td>1.358542</td>\n",
       "      <td>1.363622</td>\n",
       "      <td>1.781617</td>\n",
       "      <td>0.877681</td>\n",
       "      <td>2.306596</td>\n",
       "      <td>1.911561</td>\n",
       "      <td>...</td>\n",
       "      <td>3.331376</td>\n",
       "      <td>1.765973</td>\n",
       "      <td>2.616115</td>\n",
       "      <td>2.998437</td>\n",
       "      <td>4.568260</td>\n",
       "      <td>2.247923</td>\n",
       "      <td>3.685312</td>\n",
       "      <td>3.676530</td>\n",
       "      <td>1.989037</td>\n",
       "      <td>1.304810</td>\n",
       "    </tr>\n",
       "    <tr>\n",
       "      <th>hsa-miR-100-5p</th>\n",
       "      <td>5.804993</td>\n",
       "      <td>8.546448</td>\n",
       "      <td>7.494470</td>\n",
       "      <td>6.565165</td>\n",
       "      <td>5.337999</td>\n",
       "      <td>5.344054</td>\n",
       "      <td>5.025339</td>\n",
       "      <td>7.934693</td>\n",
       "      <td>6.565145</td>\n",
       "      <td>6.298617</td>\n",
       "      <td>...</td>\n",
       "      <td>7.477841</td>\n",
       "      <td>7.463702</td>\n",
       "      <td>6.021401</td>\n",
       "      <td>7.027089</td>\n",
       "      <td>5.830650</td>\n",
       "      <td>7.985889</td>\n",
       "      <td>6.913693</td>\n",
       "      <td>6.609776</td>\n",
       "      <td>8.993194</td>\n",
       "      <td>6.520072</td>\n",
       "    </tr>\n",
       "    <tr>\n",
       "      <th>hsa-miR-101-3p</th>\n",
       "      <td>8.463737</td>\n",
       "      <td>8.430696</td>\n",
       "      <td>8.344207</td>\n",
       "      <td>7.861535</td>\n",
       "      <td>7.949806</td>\n",
       "      <td>9.490605</td>\n",
       "      <td>8.390178</td>\n",
       "      <td>8.006674</td>\n",
       "      <td>9.374033</td>\n",
       "      <td>8.580302</td>\n",
       "      <td>...</td>\n",
       "      <td>6.277498</td>\n",
       "      <td>8.687132</td>\n",
       "      <td>6.002018</td>\n",
       "      <td>8.512126</td>\n",
       "      <td>9.021390</td>\n",
       "      <td>4.591008</td>\n",
       "      <td>8.472142</td>\n",
       "      <td>7.802208</td>\n",
       "      <td>8.659476</td>\n",
       "      <td>8.467687</td>\n",
       "    </tr>\n",
       "    <tr>\n",
       "      <th>hsa-miR-101-5p</th>\n",
       "      <td>2.252249</td>\n",
       "      <td>2.154102</td>\n",
       "      <td>1.110916</td>\n",
       "      <td>1.005552</td>\n",
       "      <td>1.432257</td>\n",
       "      <td>2.381226</td>\n",
       "      <td>1.228997</td>\n",
       "      <td>1.813834</td>\n",
       "      <td>2.207339</td>\n",
       "      <td>1.816267</td>\n",
       "      <td>...</td>\n",
       "      <td>1.697658</td>\n",
       "      <td>1.925113</td>\n",
       "      <td>1.050942</td>\n",
       "      <td>1.800059</td>\n",
       "      <td>2.595657</td>\n",
       "      <td>0.447174</td>\n",
       "      <td>1.512117</td>\n",
       "      <td>2.007992</td>\n",
       "      <td>1.590250</td>\n",
       "      <td>2.368091</td>\n",
       "    </tr>\n",
       "    <tr>\n",
       "      <th>hsa-miR-103a-2-5p</th>\n",
       "      <td>1.711518</td>\n",
       "      <td>0.827321</td>\n",
       "      <td>0.278881</td>\n",
       "      <td>1.528887</td>\n",
       "      <td>1.138236</td>\n",
       "      <td>1.249352</td>\n",
       "      <td>1.304008</td>\n",
       "      <td>1.602455</td>\n",
       "      <td>1.487794</td>\n",
       "      <td>1.406476</td>\n",
       "      <td>...</td>\n",
       "      <td>0.149409</td>\n",
       "      <td>0.946136</td>\n",
       "      <td>0.628755</td>\n",
       "      <td>0.395976</td>\n",
       "      <td>1.137714</td>\n",
       "      <td>0.274539</td>\n",
       "      <td>0.899430</td>\n",
       "      <td>0.819465</td>\n",
       "      <td>0.736729</td>\n",
       "      <td>0.329597</td>\n",
       "    </tr>\n",
       "    <tr>\n",
       "      <th>hsa-miR-103a-3p</th>\n",
       "      <td>9.902045</td>\n",
       "      <td>8.596367</td>\n",
       "      <td>9.562533</td>\n",
       "      <td>9.988488</td>\n",
       "      <td>10.128495</td>\n",
       "      <td>8.795304</td>\n",
       "      <td>9.233455</td>\n",
       "      <td>9.376497</td>\n",
       "      <td>10.915133</td>\n",
       "      <td>9.075746</td>\n",
       "      <td>...</td>\n",
       "      <td>9.960476</td>\n",
       "      <td>10.813757</td>\n",
       "      <td>10.703742</td>\n",
       "      <td>10.236722</td>\n",
       "      <td>10.697975</td>\n",
       "      <td>9.393902</td>\n",
       "      <td>10.571081</td>\n",
       "      <td>10.432997</td>\n",
       "      <td>10.649455</td>\n",
       "      <td>10.543597</td>\n",
       "    </tr>\n",
       "    <tr>\n",
       "      <th>hsa-miR-105-3p</th>\n",
       "      <td>-0.006970</td>\n",
       "      <td>-0.006970</td>\n",
       "      <td>-0.006970</td>\n",
       "      <td>0.231451</td>\n",
       "      <td>-0.006970</td>\n",
       "      <td>-0.006970</td>\n",
       "      <td>-0.006970</td>\n",
       "      <td>-0.006970</td>\n",
       "      <td>-0.006970</td>\n",
       "      <td>-0.006970</td>\n",
       "      <td>...</td>\n",
       "      <td>-0.006970</td>\n",
       "      <td>-0.006970</td>\n",
       "      <td>-0.006970</td>\n",
       "      <td>-0.006970</td>\n",
       "      <td>-0.006970</td>\n",
       "      <td>0.078259</td>\n",
       "      <td>-0.006970</td>\n",
       "      <td>-0.006970</td>\n",
       "      <td>-0.006970</td>\n",
       "      <td>-0.006970</td>\n",
       "    </tr>\n",
       "    <tr>\n",
       "      <th>hsa-miR-105-5p</th>\n",
       "      <td>0.659858</td>\n",
       "      <td>1.869335</td>\n",
       "      <td>0.805930</td>\n",
       "      <td>6.441960</td>\n",
       "      <td>3.604942</td>\n",
       "      <td>0.480326</td>\n",
       "      <td>1.163266</td>\n",
       "      <td>2.466487</td>\n",
       "      <td>0.442373</td>\n",
       "      <td>4.024209</td>\n",
       "      <td>...</td>\n",
       "      <td>0.428098</td>\n",
       "      <td>1.161578</td>\n",
       "      <td>0.251450</td>\n",
       "      <td>0.251450</td>\n",
       "      <td>0.251450</td>\n",
       "      <td>5.294535</td>\n",
       "      <td>4.271199</td>\n",
       "      <td>0.670324</td>\n",
       "      <td>1.312341</td>\n",
       "      <td>0.251450</td>\n",
       "    </tr>\n",
       "    <tr>\n",
       "      <th>hsa-miR-106a-5p</th>\n",
       "      <td>1.689644</td>\n",
       "      <td>1.537302</td>\n",
       "      <td>1.979444</td>\n",
       "      <td>1.727830</td>\n",
       "      <td>2.888866</td>\n",
       "      <td>1.944290</td>\n",
       "      <td>2.683944</td>\n",
       "      <td>3.374237</td>\n",
       "      <td>3.348923</td>\n",
       "      <td>1.932987</td>\n",
       "      <td>...</td>\n",
       "      <td>2.150964</td>\n",
       "      <td>2.064498</td>\n",
       "      <td>2.507281</td>\n",
       "      <td>2.406189</td>\n",
       "      <td>3.179536</td>\n",
       "      <td>1.222688</td>\n",
       "      <td>3.516680</td>\n",
       "      <td>2.206322</td>\n",
       "      <td>2.599654</td>\n",
       "      <td>2.297688</td>\n",
       "    </tr>\n",
       "    <tr>\n",
       "      <th>hsa-miR-106b-3p</th>\n",
       "      <td>4.722207</td>\n",
       "      <td>4.757195</td>\n",
       "      <td>5.048325</td>\n",
       "      <td>4.986783</td>\n",
       "      <td>4.770687</td>\n",
       "      <td>5.147946</td>\n",
       "      <td>6.771132</td>\n",
       "      <td>5.857204</td>\n",
       "      <td>5.215088</td>\n",
       "      <td>6.655466</td>\n",
       "      <td>...</td>\n",
       "      <td>6.988589</td>\n",
       "      <td>6.490633</td>\n",
       "      <td>6.974029</td>\n",
       "      <td>6.337423</td>\n",
       "      <td>6.115024</td>\n",
       "      <td>4.903536</td>\n",
       "      <td>5.882400</td>\n",
       "      <td>6.315414</td>\n",
       "      <td>6.473235</td>\n",
       "      <td>7.146492</td>\n",
       "    </tr>\n",
       "    <tr>\n",
       "      <th>hsa-miR-106b-5p</th>\n",
       "      <td>4.656901</td>\n",
       "      <td>4.767856</td>\n",
       "      <td>3.822475</td>\n",
       "      <td>4.411525</td>\n",
       "      <td>4.937239</td>\n",
       "      <td>3.967963</td>\n",
       "      <td>5.569815</td>\n",
       "      <td>5.551598</td>\n",
       "      <td>5.514227</td>\n",
       "      <td>5.977883</td>\n",
       "      <td>...</td>\n",
       "      <td>4.352765</td>\n",
       "      <td>5.059664</td>\n",
       "      <td>4.903019</td>\n",
       "      <td>4.907898</td>\n",
       "      <td>5.415939</td>\n",
       "      <td>2.270558</td>\n",
       "      <td>4.785176</td>\n",
       "      <td>4.506421</td>\n",
       "      <td>4.356431</td>\n",
       "      <td>4.221463</td>\n",
       "    </tr>\n",
       "    <tr>\n",
       "      <th>hsa-miR-107</th>\n",
       "      <td>3.259627</td>\n",
       "      <td>2.892421</td>\n",
       "      <td>4.214134</td>\n",
       "      <td>3.992238</td>\n",
       "      <td>3.607152</td>\n",
       "      <td>2.747574</td>\n",
       "      <td>3.388153</td>\n",
       "      <td>3.124187</td>\n",
       "      <td>4.586061</td>\n",
       "      <td>3.097127</td>\n",
       "      <td>...</td>\n",
       "      <td>4.757944</td>\n",
       "      <td>5.131713</td>\n",
       "      <td>5.095079</td>\n",
       "      <td>4.784507</td>\n",
       "      <td>5.150867</td>\n",
       "      <td>3.547393</td>\n",
       "      <td>4.812793</td>\n",
       "      <td>5.047835</td>\n",
       "      <td>4.973614</td>\n",
       "      <td>5.070532</td>\n",
       "    </tr>\n",
       "    <tr>\n",
       "      <th>hsa-miR-10a-3p</th>\n",
       "      <td>1.090641</td>\n",
       "      <td>1.519287</td>\n",
       "      <td>0.515908</td>\n",
       "      <td>0.663529</td>\n",
       "      <td>0.435693</td>\n",
       "      <td>0.831622</td>\n",
       "      <td>1.277409</td>\n",
       "      <td>1.655395</td>\n",
       "      <td>0.714984</td>\n",
       "      <td>1.144025</td>\n",
       "      <td>...</td>\n",
       "      <td>-0.024830</td>\n",
       "      <td>-0.024830</td>\n",
       "      <td>-0.024830</td>\n",
       "      <td>-0.024830</td>\n",
       "      <td>1.354391</td>\n",
       "      <td>-0.024830</td>\n",
       "      <td>-0.024830</td>\n",
       "      <td>-0.024830</td>\n",
       "      <td>-0.024830</td>\n",
       "      <td>0.311159</td>\n",
       "    </tr>\n",
       "    <tr>\n",
       "      <th>...</th>\n",
       "      <td>...</td>\n",
       "      <td>...</td>\n",
       "      <td>...</td>\n",
       "      <td>...</td>\n",
       "      <td>...</td>\n",
       "      <td>...</td>\n",
       "      <td>...</td>\n",
       "      <td>...</td>\n",
       "      <td>...</td>\n",
       "      <td>...</td>\n",
       "      <td>...</td>\n",
       "      <td>...</td>\n",
       "      <td>...</td>\n",
       "      <td>...</td>\n",
       "      <td>...</td>\n",
       "      <td>...</td>\n",
       "      <td>...</td>\n",
       "      <td>...</td>\n",
       "      <td>...</td>\n",
       "      <td>...</td>\n",
       "      <td>...</td>\n",
       "    </tr>\n",
       "    <tr>\n",
       "      <th>hsa-miR-520a-5p</th>\n",
       "      <td>0.000000</td>\n",
       "      <td>0.681828</td>\n",
       "      <td>0.000000</td>\n",
       "      <td>0.000000</td>\n",
       "      <td>0.148898</td>\n",
       "      <td>0.238534</td>\n",
       "      <td>0.000000</td>\n",
       "      <td>0.000000</td>\n",
       "      <td>0.000000</td>\n",
       "      <td>0.618579</td>\n",
       "      <td>...</td>\n",
       "      <td>1.036471</td>\n",
       "      <td>0.000000</td>\n",
       "      <td>0.000000</td>\n",
       "      <td>0.000000</td>\n",
       "      <td>0.000000</td>\n",
       "      <td>0.000000</td>\n",
       "      <td>0.000000</td>\n",
       "      <td>0.000000</td>\n",
       "      <td>0.000000</td>\n",
       "      <td>0.000000</td>\n",
       "    </tr>\n",
       "    <tr>\n",
       "      <th>hsa-miR-520b</th>\n",
       "      <td>0.000000</td>\n",
       "      <td>0.000000</td>\n",
       "      <td>0.000000</td>\n",
       "      <td>0.000000</td>\n",
       "      <td>0.000000</td>\n",
       "      <td>0.000000</td>\n",
       "      <td>0.000000</td>\n",
       "      <td>0.000000</td>\n",
       "      <td>0.000000</td>\n",
       "      <td>0.158078</td>\n",
       "      <td>...</td>\n",
       "      <td>0.000000</td>\n",
       "      <td>0.000000</td>\n",
       "      <td>0.000000</td>\n",
       "      <td>0.000000</td>\n",
       "      <td>0.000000</td>\n",
       "      <td>0.000000</td>\n",
       "      <td>0.000000</td>\n",
       "      <td>0.000000</td>\n",
       "      <td>0.000000</td>\n",
       "      <td>0.000000</td>\n",
       "    </tr>\n",
       "    <tr>\n",
       "      <th>hsa-miR-520c-3p</th>\n",
       "      <td>0.000000</td>\n",
       "      <td>0.000000</td>\n",
       "      <td>0.000000</td>\n",
       "      <td>0.000000</td>\n",
       "      <td>0.000000</td>\n",
       "      <td>0.000000</td>\n",
       "      <td>0.000000</td>\n",
       "      <td>0.000000</td>\n",
       "      <td>0.000000</td>\n",
       "      <td>0.158078</td>\n",
       "      <td>...</td>\n",
       "      <td>0.000000</td>\n",
       "      <td>0.000000</td>\n",
       "      <td>0.000000</td>\n",
       "      <td>0.000000</td>\n",
       "      <td>0.000000</td>\n",
       "      <td>0.000000</td>\n",
       "      <td>0.000000</td>\n",
       "      <td>0.000000</td>\n",
       "      <td>0.000000</td>\n",
       "      <td>0.000000</td>\n",
       "    </tr>\n",
       "    <tr>\n",
       "      <th>hsa-miR-520d-3p</th>\n",
       "      <td>0.000000</td>\n",
       "      <td>0.093262</td>\n",
       "      <td>0.000000</td>\n",
       "      <td>0.000000</td>\n",
       "      <td>0.000000</td>\n",
       "      <td>0.000000</td>\n",
       "      <td>0.000000</td>\n",
       "      <td>0.236221</td>\n",
       "      <td>0.000000</td>\n",
       "      <td>0.158078</td>\n",
       "      <td>...</td>\n",
       "      <td>0.474006</td>\n",
       "      <td>0.000000</td>\n",
       "      <td>0.000000</td>\n",
       "      <td>0.000000</td>\n",
       "      <td>0.000000</td>\n",
       "      <td>0.000000</td>\n",
       "      <td>0.000000</td>\n",
       "      <td>0.000000</td>\n",
       "      <td>0.000000</td>\n",
       "      <td>0.000000</td>\n",
       "    </tr>\n",
       "    <tr>\n",
       "      <th>hsa-miR-520d-5p</th>\n",
       "      <td>0.000000</td>\n",
       "      <td>0.000000</td>\n",
       "      <td>0.000000</td>\n",
       "      <td>0.000000</td>\n",
       "      <td>0.000000</td>\n",
       "      <td>0.000000</td>\n",
       "      <td>0.000000</td>\n",
       "      <td>0.000000</td>\n",
       "      <td>0.000000</td>\n",
       "      <td>0.000000</td>\n",
       "      <td>...</td>\n",
       "      <td>0.184102</td>\n",
       "      <td>0.000000</td>\n",
       "      <td>0.000000</td>\n",
       "      <td>0.000000</td>\n",
       "      <td>0.000000</td>\n",
       "      <td>0.000000</td>\n",
       "      <td>0.000000</td>\n",
       "      <td>0.000000</td>\n",
       "      <td>0.000000</td>\n",
       "      <td>0.000000</td>\n",
       "    </tr>\n",
       "    <tr>\n",
       "      <th>hsa-miR-520e</th>\n",
       "      <td>0.000000</td>\n",
       "      <td>0.000000</td>\n",
       "      <td>0.000000</td>\n",
       "      <td>0.000000</td>\n",
       "      <td>0.148898</td>\n",
       "      <td>0.000000</td>\n",
       "      <td>0.000000</td>\n",
       "      <td>0.000000</td>\n",
       "      <td>0.000000</td>\n",
       "      <td>0.294545</td>\n",
       "      <td>...</td>\n",
       "      <td>0.000000</td>\n",
       "      <td>0.000000</td>\n",
       "      <td>0.000000</td>\n",
       "      <td>0.000000</td>\n",
       "      <td>0.000000</td>\n",
       "      <td>0.000000</td>\n",
       "      <td>0.000000</td>\n",
       "      <td>0.000000</td>\n",
       "      <td>0.000000</td>\n",
       "      <td>0.000000</td>\n",
       "    </tr>\n",
       "    <tr>\n",
       "      <th>hsa-miR-520f-3p</th>\n",
       "      <td>0.000000</td>\n",
       "      <td>0.093262</td>\n",
       "      <td>0.000000</td>\n",
       "      <td>0.148386</td>\n",
       "      <td>0.148898</td>\n",
       "      <td>0.000000</td>\n",
       "      <td>0.204278</td>\n",
       "      <td>0.000000</td>\n",
       "      <td>0.000000</td>\n",
       "      <td>0.000000</td>\n",
       "      <td>...</td>\n",
       "      <td>0.000000</td>\n",
       "      <td>0.000000</td>\n",
       "      <td>0.000000</td>\n",
       "      <td>0.000000</td>\n",
       "      <td>0.000000</td>\n",
       "      <td>0.000000</td>\n",
       "      <td>0.000000</td>\n",
       "      <td>0.000000</td>\n",
       "      <td>0.000000</td>\n",
       "      <td>0.000000</td>\n",
       "    </tr>\n",
       "    <tr>\n",
       "      <th>hsa-miR-520f-5p</th>\n",
       "      <td>0.000000</td>\n",
       "      <td>0.000000</td>\n",
       "      <td>0.000000</td>\n",
       "      <td>0.000000</td>\n",
       "      <td>0.000000</td>\n",
       "      <td>0.000000</td>\n",
       "      <td>0.000000</td>\n",
       "      <td>0.000000</td>\n",
       "      <td>0.000000</td>\n",
       "      <td>0.000000</td>\n",
       "      <td>...</td>\n",
       "      <td>0.000000</td>\n",
       "      <td>0.000000</td>\n",
       "      <td>0.000000</td>\n",
       "      <td>0.000000</td>\n",
       "      <td>0.000000</td>\n",
       "      <td>0.000000</td>\n",
       "      <td>0.000000</td>\n",
       "      <td>0.000000</td>\n",
       "      <td>0.000000</td>\n",
       "      <td>0.000000</td>\n",
       "    </tr>\n",
       "    <tr>\n",
       "      <th>hsa-miR-520g-3p</th>\n",
       "      <td>0.000000</td>\n",
       "      <td>0.330020</td>\n",
       "      <td>0.000000</td>\n",
       "      <td>0.000000</td>\n",
       "      <td>0.000000</td>\n",
       "      <td>0.238534</td>\n",
       "      <td>0.000000</td>\n",
       "      <td>0.000000</td>\n",
       "      <td>0.000000</td>\n",
       "      <td>0.706826</td>\n",
       "      <td>...</td>\n",
       "      <td>0.592528</td>\n",
       "      <td>0.000000</td>\n",
       "      <td>0.000000</td>\n",
       "      <td>0.000000</td>\n",
       "      <td>0.000000</td>\n",
       "      <td>0.000000</td>\n",
       "      <td>0.000000</td>\n",
       "      <td>0.000000</td>\n",
       "      <td>0.000000</td>\n",
       "      <td>0.000000</td>\n",
       "    </tr>\n",
       "    <tr>\n",
       "      <th>hsa-miR-520g-5p</th>\n",
       "      <td>0.000000</td>\n",
       "      <td>0.000000</td>\n",
       "      <td>0.000000</td>\n",
       "      <td>0.000000</td>\n",
       "      <td>0.000000</td>\n",
       "      <td>0.000000</td>\n",
       "      <td>0.000000</td>\n",
       "      <td>0.000000</td>\n",
       "      <td>0.000000</td>\n",
       "      <td>0.000000</td>\n",
       "      <td>...</td>\n",
       "      <td>0.339523</td>\n",
       "      <td>0.000000</td>\n",
       "      <td>0.263727</td>\n",
       "      <td>0.000000</td>\n",
       "      <td>0.000000</td>\n",
       "      <td>0.000000</td>\n",
       "      <td>0.000000</td>\n",
       "      <td>0.000000</td>\n",
       "      <td>0.000000</td>\n",
       "      <td>0.000000</td>\n",
       "    </tr>\n",
       "    <tr>\n",
       "      <th>hsa-miR-520h</th>\n",
       "      <td>0.000000</td>\n",
       "      <td>0.178563</td>\n",
       "      <td>0.000000</td>\n",
       "      <td>0.000000</td>\n",
       "      <td>0.000000</td>\n",
       "      <td>0.238534</td>\n",
       "      <td>0.000000</td>\n",
       "      <td>0.000000</td>\n",
       "      <td>0.000000</td>\n",
       "      <td>0.294545</td>\n",
       "      <td>...</td>\n",
       "      <td>0.339523</td>\n",
       "      <td>0.000000</td>\n",
       "      <td>0.000000</td>\n",
       "      <td>0.000000</td>\n",
       "      <td>0.000000</td>\n",
       "      <td>0.000000</td>\n",
       "      <td>0.000000</td>\n",
       "      <td>0.000000</td>\n",
       "      <td>0.000000</td>\n",
       "      <td>0.000000</td>\n",
       "    </tr>\n",
       "    <tr>\n",
       "      <th>hsa-miR-521</th>\n",
       "      <td>0.000000</td>\n",
       "      <td>0.178563</td>\n",
       "      <td>0.000000</td>\n",
       "      <td>0.000000</td>\n",
       "      <td>0.000000</td>\n",
       "      <td>0.238534</td>\n",
       "      <td>0.000000</td>\n",
       "      <td>0.000000</td>\n",
       "      <td>0.000000</td>\n",
       "      <td>0.000000</td>\n",
       "      <td>...</td>\n",
       "      <td>0.698480</td>\n",
       "      <td>0.000000</td>\n",
       "      <td>0.000000</td>\n",
       "      <td>0.000000</td>\n",
       "      <td>0.000000</td>\n",
       "      <td>0.000000</td>\n",
       "      <td>0.000000</td>\n",
       "      <td>0.000000</td>\n",
       "      <td>0.000000</td>\n",
       "      <td>0.000000</td>\n",
       "    </tr>\n",
       "    <tr>\n",
       "      <th>hsa-miR-522-3p</th>\n",
       "      <td>0.162848</td>\n",
       "      <td>0.330020</td>\n",
       "      <td>0.000000</td>\n",
       "      <td>0.000000</td>\n",
       "      <td>0.000000</td>\n",
       "      <td>0.731187</td>\n",
       "      <td>0.000000</td>\n",
       "      <td>0.000000</td>\n",
       "      <td>0.000000</td>\n",
       "      <td>0.158078</td>\n",
       "      <td>...</td>\n",
       "      <td>0.339523</td>\n",
       "      <td>0.000000</td>\n",
       "      <td>0.000000</td>\n",
       "      <td>0.000000</td>\n",
       "      <td>0.495782</td>\n",
       "      <td>0.000000</td>\n",
       "      <td>0.000000</td>\n",
       "      <td>0.000000</td>\n",
       "      <td>0.000000</td>\n",
       "      <td>0.000000</td>\n",
       "    </tr>\n",
       "    <tr>\n",
       "      <th>hsa-miR-523-3p</th>\n",
       "      <td>0.000000</td>\n",
       "      <td>0.178563</td>\n",
       "      <td>0.000000</td>\n",
       "      <td>0.000000</td>\n",
       "      <td>0.000000</td>\n",
       "      <td>0.000000</td>\n",
       "      <td>0.000000</td>\n",
       "      <td>0.000000</td>\n",
       "      <td>0.000000</td>\n",
       "      <td>0.294545</td>\n",
       "      <td>...</td>\n",
       "      <td>0.184102</td>\n",
       "      <td>0.000000</td>\n",
       "      <td>0.000000</td>\n",
       "      <td>0.000000</td>\n",
       "      <td>0.000000</td>\n",
       "      <td>0.000000</td>\n",
       "      <td>0.000000</td>\n",
       "      <td>0.000000</td>\n",
       "      <td>0.000000</td>\n",
       "      <td>0.000000</td>\n",
       "    </tr>\n",
       "    <tr>\n",
       "      <th>hsa-miR-524-3p</th>\n",
       "      <td>0.000000</td>\n",
       "      <td>0.000000</td>\n",
       "      <td>0.000000</td>\n",
       "      <td>0.000000</td>\n",
       "      <td>0.000000</td>\n",
       "      <td>0.000000</td>\n",
       "      <td>0.000000</td>\n",
       "      <td>0.000000</td>\n",
       "      <td>0.000000</td>\n",
       "      <td>0.158078</td>\n",
       "      <td>...</td>\n",
       "      <td>0.339523</td>\n",
       "      <td>0.000000</td>\n",
       "      <td>0.000000</td>\n",
       "      <td>0.000000</td>\n",
       "      <td>0.000000</td>\n",
       "      <td>0.000000</td>\n",
       "      <td>0.000000</td>\n",
       "      <td>0.000000</td>\n",
       "      <td>0.000000</td>\n",
       "      <td>0.000000</td>\n",
       "    </tr>\n",
       "    <tr>\n",
       "      <th>hsa-miR-524-5p</th>\n",
       "      <td>0.000000</td>\n",
       "      <td>0.093262</td>\n",
       "      <td>0.000000</td>\n",
       "      <td>0.000000</td>\n",
       "      <td>0.000000</td>\n",
       "      <td>0.000000</td>\n",
       "      <td>0.000000</td>\n",
       "      <td>0.000000</td>\n",
       "      <td>0.000000</td>\n",
       "      <td>0.158078</td>\n",
       "      <td>...</td>\n",
       "      <td>0.474006</td>\n",
       "      <td>0.000000</td>\n",
       "      <td>0.000000</td>\n",
       "      <td>0.000000</td>\n",
       "      <td>0.000000</td>\n",
       "      <td>0.000000</td>\n",
       "      <td>0.000000</td>\n",
       "      <td>0.000000</td>\n",
       "      <td>0.000000</td>\n",
       "      <td>0.000000</td>\n",
       "    </tr>\n",
       "    <tr>\n",
       "      <th>hsa-miR-525-3p</th>\n",
       "      <td>0.000000</td>\n",
       "      <td>0.257156</td>\n",
       "      <td>0.000000</td>\n",
       "      <td>0.148386</td>\n",
       "      <td>0.000000</td>\n",
       "      <td>0.000000</td>\n",
       "      <td>0.000000</td>\n",
       "      <td>0.000000</td>\n",
       "      <td>0.000000</td>\n",
       "      <td>0.414605</td>\n",
       "      <td>...</td>\n",
       "      <td>0.592528</td>\n",
       "      <td>0.000000</td>\n",
       "      <td>0.000000</td>\n",
       "      <td>0.000000</td>\n",
       "      <td>0.000000</td>\n",
       "      <td>0.000000</td>\n",
       "      <td>0.000000</td>\n",
       "      <td>0.000000</td>\n",
       "      <td>0.000000</td>\n",
       "      <td>0.000000</td>\n",
       "    </tr>\n",
       "    <tr>\n",
       "      <th>hsa-miR-525-5p</th>\n",
       "      <td>0.000000</td>\n",
       "      <td>0.093262</td>\n",
       "      <td>0.000000</td>\n",
       "      <td>0.000000</td>\n",
       "      <td>0.000000</td>\n",
       "      <td>0.000000</td>\n",
       "      <td>0.000000</td>\n",
       "      <td>0.000000</td>\n",
       "      <td>0.000000</td>\n",
       "      <td>0.618579</td>\n",
       "      <td>...</td>\n",
       "      <td>1.534391</td>\n",
       "      <td>0.000000</td>\n",
       "      <td>0.000000</td>\n",
       "      <td>0.000000</td>\n",
       "      <td>0.000000</td>\n",
       "      <td>0.062474</td>\n",
       "      <td>0.000000</td>\n",
       "      <td>0.000000</td>\n",
       "      <td>0.000000</td>\n",
       "      <td>0.000000</td>\n",
       "    </tr>\n",
       "    <tr>\n",
       "      <th>hsa-miR-526b-3p</th>\n",
       "      <td>0.000000</td>\n",
       "      <td>0.000000</td>\n",
       "      <td>0.000000</td>\n",
       "      <td>0.000000</td>\n",
       "      <td>0.000000</td>\n",
       "      <td>0.000000</td>\n",
       "      <td>0.000000</td>\n",
       "      <td>0.000000</td>\n",
       "      <td>0.000000</td>\n",
       "      <td>0.000000</td>\n",
       "      <td>...</td>\n",
       "      <td>0.000000</td>\n",
       "      <td>0.000000</td>\n",
       "      <td>0.000000</td>\n",
       "      <td>0.000000</td>\n",
       "      <td>0.000000</td>\n",
       "      <td>0.000000</td>\n",
       "      <td>0.000000</td>\n",
       "      <td>0.000000</td>\n",
       "      <td>0.000000</td>\n",
       "      <td>0.000000</td>\n",
       "    </tr>\n",
       "    <tr>\n",
       "      <th>hsa-miR-526b-5p</th>\n",
       "      <td>0.302853</td>\n",
       "      <td>2.198936</td>\n",
       "      <td>0.000000</td>\n",
       "      <td>0.587679</td>\n",
       "      <td>0.148898</td>\n",
       "      <td>0.238534</td>\n",
       "      <td>0.000000</td>\n",
       "      <td>0.587432</td>\n",
       "      <td>0.000000</td>\n",
       "      <td>2.407323</td>\n",
       "      <td>...</td>\n",
       "      <td>2.389203</td>\n",
       "      <td>0.000000</td>\n",
       "      <td>0.000000</td>\n",
       "      <td>0.000000</td>\n",
       "      <td>0.957224</td>\n",
       "      <td>0.000000</td>\n",
       "      <td>0.000000</td>\n",
       "      <td>0.000000</td>\n",
       "      <td>0.000000</td>\n",
       "      <td>0.000000</td>\n",
       "    </tr>\n",
       "    <tr>\n",
       "      <th>hsa-miR-527</th>\n",
       "      <td>0.000000</td>\n",
       "      <td>0.461527</td>\n",
       "      <td>0.000000</td>\n",
       "      <td>0.000000</td>\n",
       "      <td>0.000000</td>\n",
       "      <td>0.000000</td>\n",
       "      <td>0.000000</td>\n",
       "      <td>0.000000</td>\n",
       "      <td>0.000000</td>\n",
       "      <td>0.000000</td>\n",
       "      <td>...</td>\n",
       "      <td>0.698480</td>\n",
       "      <td>0.000000</td>\n",
       "      <td>0.000000</td>\n",
       "      <td>0.000000</td>\n",
       "      <td>0.000000</td>\n",
       "      <td>0.000000</td>\n",
       "      <td>0.000000</td>\n",
       "      <td>0.000000</td>\n",
       "      <td>0.000000</td>\n",
       "      <td>0.000000</td>\n",
       "    </tr>\n",
       "    <tr>\n",
       "      <th>hsa-miR-548x-3p</th>\n",
       "      <td>0.000000</td>\n",
       "      <td>0.093262</td>\n",
       "      <td>0.000000</td>\n",
       "      <td>0.000000</td>\n",
       "      <td>0.000000</td>\n",
       "      <td>0.000000</td>\n",
       "      <td>0.000000</td>\n",
       "      <td>0.000000</td>\n",
       "      <td>0.000000</td>\n",
       "      <td>0.000000</td>\n",
       "      <td>...</td>\n",
       "      <td>0.000000</td>\n",
       "      <td>0.000000</td>\n",
       "      <td>0.000000</td>\n",
       "      <td>0.000000</td>\n",
       "      <td>0.000000</td>\n",
       "      <td>0.000000</td>\n",
       "      <td>0.000000</td>\n",
       "      <td>0.000000</td>\n",
       "      <td>0.000000</td>\n",
       "      <td>0.000000</td>\n",
       "    </tr>\n",
       "    <tr>\n",
       "      <th>hsa-miR-5584-5p</th>\n",
       "      <td>0.000000</td>\n",
       "      <td>0.000000</td>\n",
       "      <td>0.000000</td>\n",
       "      <td>0.000000</td>\n",
       "      <td>0.000000</td>\n",
       "      <td>0.000000</td>\n",
       "      <td>0.204278</td>\n",
       "      <td>0.236221</td>\n",
       "      <td>0.000000</td>\n",
       "      <td>0.158078</td>\n",
       "      <td>...</td>\n",
       "      <td>0.000000</td>\n",
       "      <td>0.000000</td>\n",
       "      <td>0.000000</td>\n",
       "      <td>0.000000</td>\n",
       "      <td>0.000000</td>\n",
       "      <td>0.000000</td>\n",
       "      <td>0.000000</td>\n",
       "      <td>0.000000</td>\n",
       "      <td>0.000000</td>\n",
       "      <td>0.000000</td>\n",
       "    </tr>\n",
       "    <tr>\n",
       "      <th>hsa-miR-670-3p</th>\n",
       "      <td>0.425643</td>\n",
       "      <td>0.000000</td>\n",
       "      <td>0.862444</td>\n",
       "      <td>0.000000</td>\n",
       "      <td>0.000000</td>\n",
       "      <td>0.000000</td>\n",
       "      <td>0.000000</td>\n",
       "      <td>0.000000</td>\n",
       "      <td>0.198980</td>\n",
       "      <td>0.521783</td>\n",
       "      <td>...</td>\n",
       "      <td>0.000000</td>\n",
       "      <td>0.000000</td>\n",
       "      <td>0.263727</td>\n",
       "      <td>0.000000</td>\n",
       "      <td>0.000000</td>\n",
       "      <td>0.000000</td>\n",
       "      <td>0.424161</td>\n",
       "      <td>0.000000</td>\n",
       "      <td>0.000000</td>\n",
       "      <td>0.000000</td>\n",
       "    </tr>\n",
       "    <tr>\n",
       "      <th>hsa-miR-885-3p</th>\n",
       "      <td>0.000000</td>\n",
       "      <td>0.093262</td>\n",
       "      <td>0.000000</td>\n",
       "      <td>0.587679</td>\n",
       "      <td>0.278473</td>\n",
       "      <td>0.238534</td>\n",
       "      <td>0.373821</td>\n",
       "      <td>0.000000</td>\n",
       "      <td>0.631609</td>\n",
       "      <td>0.000000</td>\n",
       "      <td>...</td>\n",
       "      <td>0.000000</td>\n",
       "      <td>0.000000</td>\n",
       "      <td>0.000000</td>\n",
       "      <td>0.000000</td>\n",
       "      <td>0.000000</td>\n",
       "      <td>0.327001</td>\n",
       "      <td>0.000000</td>\n",
       "      <td>0.000000</td>\n",
       "      <td>0.000000</td>\n",
       "      <td>0.000000</td>\n",
       "    </tr>\n",
       "    <tr>\n",
       "      <th>hsa-miR-888-5p</th>\n",
       "      <td>0.000000</td>\n",
       "      <td>0.000000</td>\n",
       "      <td>0.000000</td>\n",
       "      <td>0.148386</td>\n",
       "      <td>0.000000</td>\n",
       "      <td>0.000000</td>\n",
       "      <td>0.000000</td>\n",
       "      <td>0.725525</td>\n",
       "      <td>0.000000</td>\n",
       "      <td>0.414605</td>\n",
       "      <td>...</td>\n",
       "      <td>0.000000</td>\n",
       "      <td>0.000000</td>\n",
       "      <td>0.263727</td>\n",
       "      <td>0.326418</td>\n",
       "      <td>0.000000</td>\n",
       "      <td>0.279400</td>\n",
       "      <td>0.000000</td>\n",
       "      <td>0.000000</td>\n",
       "      <td>0.000000</td>\n",
       "      <td>0.000000</td>\n",
       "    </tr>\n",
       "    <tr>\n",
       "      <th>hsa-miR-890</th>\n",
       "      <td>0.000000</td>\n",
       "      <td>0.000000</td>\n",
       "      <td>0.000000</td>\n",
       "      <td>0.000000</td>\n",
       "      <td>0.000000</td>\n",
       "      <td>0.000000</td>\n",
       "      <td>0.000000</td>\n",
       "      <td>0.000000</td>\n",
       "      <td>0.000000</td>\n",
       "      <td>0.000000</td>\n",
       "      <td>...</td>\n",
       "      <td>0.000000</td>\n",
       "      <td>0.000000</td>\n",
       "      <td>0.000000</td>\n",
       "      <td>0.000000</td>\n",
       "      <td>0.000000</td>\n",
       "      <td>0.000000</td>\n",
       "      <td>0.000000</td>\n",
       "      <td>0.000000</td>\n",
       "      <td>0.000000</td>\n",
       "      <td>0.000000</td>\n",
       "    </tr>\n",
       "    <tr>\n",
       "      <th>hsa-miR-891b</th>\n",
       "      <td>0.000000</td>\n",
       "      <td>0.000000</td>\n",
       "      <td>0.000000</td>\n",
       "      <td>0.148386</td>\n",
       "      <td>0.000000</td>\n",
       "      <td>0.000000</td>\n",
       "      <td>0.000000</td>\n",
       "      <td>0.236221</td>\n",
       "      <td>0.000000</td>\n",
       "      <td>0.706826</td>\n",
       "      <td>...</td>\n",
       "      <td>0.000000</td>\n",
       "      <td>0.000000</td>\n",
       "      <td>0.000000</td>\n",
       "      <td>0.000000</td>\n",
       "      <td>0.278307</td>\n",
       "      <td>0.229419</td>\n",
       "      <td>0.000000</td>\n",
       "      <td>0.000000</td>\n",
       "      <td>0.455836</td>\n",
       "      <td>0.509489</td>\n",
       "    </tr>\n",
       "    <tr>\n",
       "      <th>hsa-miR-892b</th>\n",
       "      <td>0.000000</td>\n",
       "      <td>0.000000</td>\n",
       "      <td>0.000000</td>\n",
       "      <td>0.277573</td>\n",
       "      <td>0.000000</td>\n",
       "      <td>0.000000</td>\n",
       "      <td>0.000000</td>\n",
       "      <td>0.427166</td>\n",
       "      <td>0.000000</td>\n",
       "      <td>0.158078</td>\n",
       "      <td>...</td>\n",
       "      <td>0.000000</td>\n",
       "      <td>0.333239</td>\n",
       "      <td>0.000000</td>\n",
       "      <td>0.000000</td>\n",
       "      <td>0.000000</td>\n",
       "      <td>0.372439</td>\n",
       "      <td>0.000000</td>\n",
       "      <td>0.000000</td>\n",
       "      <td>0.000000</td>\n",
       "      <td>0.000000</td>\n",
       "    </tr>\n",
       "    <tr>\n",
       "      <th>hsa-miR-892c-3p</th>\n",
       "      <td>0.000000</td>\n",
       "      <td>0.000000</td>\n",
       "      <td>0.000000</td>\n",
       "      <td>0.000000</td>\n",
       "      <td>0.000000</td>\n",
       "      <td>0.000000</td>\n",
       "      <td>0.000000</td>\n",
       "      <td>0.000000</td>\n",
       "      <td>0.000000</td>\n",
       "      <td>0.294545</td>\n",
       "      <td>...</td>\n",
       "      <td>0.000000</td>\n",
       "      <td>0.000000</td>\n",
       "      <td>0.000000</td>\n",
       "      <td>0.769174</td>\n",
       "      <td>0.000000</td>\n",
       "      <td>0.000000</td>\n",
       "      <td>0.000000</td>\n",
       "      <td>0.000000</td>\n",
       "      <td>0.000000</td>\n",
       "      <td>0.000000</td>\n",
       "    </tr>\n",
       "  </tbody>\n",
       "</table>\n",
       "<p>743 rows × 9555 columns</p>\n",
       "</div>"
      ],
      "text/plain": [
       "                   TCGA-OR-A5J1-01A-11R-A29W-13  TCGA-OR-A5J2-01A-11R-A29W-13  \\\n",
       "hsa-let-7a-2-3p                        0.922930                      2.266212   \n",
       "hsa-let-7a-3p                          4.321790                      4.267876   \n",
       "hsa-let-7a-5p                         10.709164                      9.738841   \n",
       "hsa-let-7b-3p                          3.825631                      3.794749   \n",
       "hsa-let-7b-5p                          9.730015                      9.444858   \n",
       "hsa-let-7c-3p                          2.635999                      2.837810   \n",
       "hsa-let-7c-5p                          7.382956                      7.213051   \n",
       "hsa-let-7d-3p                          7.528280                      7.059999   \n",
       "hsa-let-7d-5p                          6.058565                      5.914404   \n",
       "hsa-let-7e-3p                          2.829052                      3.798492   \n",
       "hsa-let-7e-5p                          7.321542                      6.739648   \n",
       "hsa-let-7f-1-3p                        1.133432                      1.403732   \n",
       "hsa-let-7f-5p                          9.407426                      7.508588   \n",
       "hsa-let-7g-3p                          4.205576                      5.164527   \n",
       "hsa-let-7g-5p                          6.882922                      6.896772   \n",
       "hsa-let-7i-3p                          3.268317                      4.983034   \n",
       "hsa-let-7i-5p                          5.375681                      5.869055   \n",
       "hsa-miR-1                              1.760734                      1.407045   \n",
       "hsa-miR-100-5p                         5.804993                      8.546448   \n",
       "hsa-miR-101-3p                         8.463737                      8.430696   \n",
       "hsa-miR-101-5p                         2.252249                      2.154102   \n",
       "hsa-miR-103a-2-5p                      1.711518                      0.827321   \n",
       "hsa-miR-103a-3p                        9.902045                      8.596367   \n",
       "hsa-miR-105-3p                        -0.006970                     -0.006970   \n",
       "hsa-miR-105-5p                         0.659858                      1.869335   \n",
       "hsa-miR-106a-5p                        1.689644                      1.537302   \n",
       "hsa-miR-106b-3p                        4.722207                      4.757195   \n",
       "hsa-miR-106b-5p                        4.656901                      4.767856   \n",
       "hsa-miR-107                            3.259627                      2.892421   \n",
       "hsa-miR-10a-3p                         1.090641                      1.519287   \n",
       "...                                         ...                           ...   \n",
       "hsa-miR-520a-5p                        0.000000                      0.681828   \n",
       "hsa-miR-520b                           0.000000                      0.000000   \n",
       "hsa-miR-520c-3p                        0.000000                      0.000000   \n",
       "hsa-miR-520d-3p                        0.000000                      0.093262   \n",
       "hsa-miR-520d-5p                        0.000000                      0.000000   \n",
       "hsa-miR-520e                           0.000000                      0.000000   \n",
       "hsa-miR-520f-3p                        0.000000                      0.093262   \n",
       "hsa-miR-520f-5p                        0.000000                      0.000000   \n",
       "hsa-miR-520g-3p                        0.000000                      0.330020   \n",
       "hsa-miR-520g-5p                        0.000000                      0.000000   \n",
       "hsa-miR-520h                           0.000000                      0.178563   \n",
       "hsa-miR-521                            0.000000                      0.178563   \n",
       "hsa-miR-522-3p                         0.162848                      0.330020   \n",
       "hsa-miR-523-3p                         0.000000                      0.178563   \n",
       "hsa-miR-524-3p                         0.000000                      0.000000   \n",
       "hsa-miR-524-5p                         0.000000                      0.093262   \n",
       "hsa-miR-525-3p                         0.000000                      0.257156   \n",
       "hsa-miR-525-5p                         0.000000                      0.093262   \n",
       "hsa-miR-526b-3p                        0.000000                      0.000000   \n",
       "hsa-miR-526b-5p                        0.302853                      2.198936   \n",
       "hsa-miR-527                            0.000000                      0.461527   \n",
       "hsa-miR-548x-3p                        0.000000                      0.093262   \n",
       "hsa-miR-5584-5p                        0.000000                      0.000000   \n",
       "hsa-miR-670-3p                         0.425643                      0.000000   \n",
       "hsa-miR-885-3p                         0.000000                      0.093262   \n",
       "hsa-miR-888-5p                         0.000000                      0.000000   \n",
       "hsa-miR-890                            0.000000                      0.000000   \n",
       "hsa-miR-891b                           0.000000                      0.000000   \n",
       "hsa-miR-892b                           0.000000                      0.000000   \n",
       "hsa-miR-892c-3p                        0.000000                      0.000000   \n",
       "\n",
       "                   TCGA-OR-A5J3-01A-11R-A29W-13  TCGA-OR-A5J4-01A-11R-A29W-13  \\\n",
       "hsa-let-7a-2-3p                        1.156404                      0.739742   \n",
       "hsa-let-7a-3p                          3.073711                      3.934822   \n",
       "hsa-let-7a-5p                         10.139523                     10.539383   \n",
       "hsa-let-7b-3p                          3.717061                      3.924309   \n",
       "hsa-let-7b-5p                          9.397551                      9.684545   \n",
       "hsa-let-7c-3p                          1.920794                      3.103768   \n",
       "hsa-let-7c-5p                          6.441029                      8.048778   \n",
       "hsa-let-7d-3p                          5.607446                      7.619369   \n",
       "hsa-let-7d-5p                          4.754490                      6.259421   \n",
       "hsa-let-7e-3p                          2.600214                      3.015186   \n",
       "hsa-let-7e-5p                          7.464759                      7.374633   \n",
       "hsa-let-7f-1-3p                        1.990393                      2.685708   \n",
       "hsa-let-7f-5p                          9.158646                      9.549787   \n",
       "hsa-let-7g-3p                          3.397067                      4.144937   \n",
       "hsa-let-7g-5p                          6.004852                      6.241965   \n",
       "hsa-let-7i-3p                          4.719516                      5.483362   \n",
       "hsa-let-7i-5p                          6.041806                      6.226169   \n",
       "hsa-miR-1                              0.699628                      1.046779   \n",
       "hsa-miR-100-5p                         7.494470                      6.565165   \n",
       "hsa-miR-101-3p                         8.344207                      7.861535   \n",
       "hsa-miR-101-5p                         1.110916                      1.005552   \n",
       "hsa-miR-103a-2-5p                      0.278881                      1.528887   \n",
       "hsa-miR-103a-3p                        9.562533                      9.988488   \n",
       "hsa-miR-105-3p                        -0.006970                      0.231451   \n",
       "hsa-miR-105-5p                         0.805930                      6.441960   \n",
       "hsa-miR-106a-5p                        1.979444                      1.727830   \n",
       "hsa-miR-106b-3p                        5.048325                      4.986783   \n",
       "hsa-miR-106b-5p                        3.822475                      4.411525   \n",
       "hsa-miR-107                            4.214134                      3.992238   \n",
       "hsa-miR-10a-3p                         0.515908                      0.663529   \n",
       "...                                         ...                           ...   \n",
       "hsa-miR-520a-5p                        0.000000                      0.000000   \n",
       "hsa-miR-520b                           0.000000                      0.000000   \n",
       "hsa-miR-520c-3p                        0.000000                      0.000000   \n",
       "hsa-miR-520d-3p                        0.000000                      0.000000   \n",
       "hsa-miR-520d-5p                        0.000000                      0.000000   \n",
       "hsa-miR-520e                           0.000000                      0.000000   \n",
       "hsa-miR-520f-3p                        0.000000                      0.148386   \n",
       "hsa-miR-520f-5p                        0.000000                      0.000000   \n",
       "hsa-miR-520g-3p                        0.000000                      0.000000   \n",
       "hsa-miR-520g-5p                        0.000000                      0.000000   \n",
       "hsa-miR-520h                           0.000000                      0.000000   \n",
       "hsa-miR-521                            0.000000                      0.000000   \n",
       "hsa-miR-522-3p                         0.000000                      0.000000   \n",
       "hsa-miR-523-3p                         0.000000                      0.000000   \n",
       "hsa-miR-524-3p                         0.000000                      0.000000   \n",
       "hsa-miR-524-5p                         0.000000                      0.000000   \n",
       "hsa-miR-525-3p                         0.000000                      0.148386   \n",
       "hsa-miR-525-5p                         0.000000                      0.000000   \n",
       "hsa-miR-526b-3p                        0.000000                      0.000000   \n",
       "hsa-miR-526b-5p                        0.000000                      0.587679   \n",
       "hsa-miR-527                            0.000000                      0.000000   \n",
       "hsa-miR-548x-3p                        0.000000                      0.000000   \n",
       "hsa-miR-5584-5p                        0.000000                      0.000000   \n",
       "hsa-miR-670-3p                         0.862444                      0.000000   \n",
       "hsa-miR-885-3p                         0.000000                      0.587679   \n",
       "hsa-miR-888-5p                         0.000000                      0.148386   \n",
       "hsa-miR-890                            0.000000                      0.000000   \n",
       "hsa-miR-891b                           0.000000                      0.148386   \n",
       "hsa-miR-892b                           0.000000                      0.277573   \n",
       "hsa-miR-892c-3p                        0.000000                      0.000000   \n",
       "\n",
       "                   TCGA-OR-A5J5-01A-11R-A29W-13  TCGA-OR-A5J6-01A-31R-A29W-13  \\\n",
       "hsa-let-7a-2-3p                        0.149497                      0.149497   \n",
       "hsa-let-7a-3p                          3.835793                      3.841957   \n",
       "hsa-let-7a-5p                         10.558253                     10.411171   \n",
       "hsa-let-7b-3p                          3.104476                      3.298577   \n",
       "hsa-let-7b-5p                          9.488614                      9.459002   \n",
       "hsa-let-7c-3p                          1.422557                      3.677727   \n",
       "hsa-let-7c-5p                          5.946338                      8.454158   \n",
       "hsa-let-7d-3p                          7.026236                      6.832785   \n",
       "hsa-let-7d-5p                          5.996903                      5.222672   \n",
       "hsa-let-7e-3p                          2.922034                      3.145088   \n",
       "hsa-let-7e-5p                          7.362624                      8.032181   \n",
       "hsa-let-7f-1-3p                        1.802504                      0.509315   \n",
       "hsa-let-7f-5p                          9.847903                      9.315244   \n",
       "hsa-let-7g-3p                          2.686929                      4.318434   \n",
       "hsa-let-7g-5p                          5.904117                      6.876481   \n",
       "hsa-let-7i-3p                          3.157623                      4.219666   \n",
       "hsa-let-7i-5p                          5.869368                      5.105937   \n",
       "hsa-miR-1                              1.358542                      1.363622   \n",
       "hsa-miR-100-5p                         5.337999                      5.344054   \n",
       "hsa-miR-101-3p                         7.949806                      9.490605   \n",
       "hsa-miR-101-5p                         1.432257                      2.381226   \n",
       "hsa-miR-103a-2-5p                      1.138236                      1.249352   \n",
       "hsa-miR-103a-3p                       10.128495                      8.795304   \n",
       "hsa-miR-105-3p                        -0.006970                     -0.006970   \n",
       "hsa-miR-105-5p                         3.604942                      0.480326   \n",
       "hsa-miR-106a-5p                        2.888866                      1.944290   \n",
       "hsa-miR-106b-3p                        4.770687                      5.147946   \n",
       "hsa-miR-106b-5p                        4.937239                      3.967963   \n",
       "hsa-miR-107                            3.607152                      2.747574   \n",
       "hsa-miR-10a-3p                         0.435693                      0.831622   \n",
       "...                                         ...                           ...   \n",
       "hsa-miR-520a-5p                        0.148898                      0.238534   \n",
       "hsa-miR-520b                           0.000000                      0.000000   \n",
       "hsa-miR-520c-3p                        0.000000                      0.000000   \n",
       "hsa-miR-520d-3p                        0.000000                      0.000000   \n",
       "hsa-miR-520d-5p                        0.000000                      0.000000   \n",
       "hsa-miR-520e                           0.148898                      0.000000   \n",
       "hsa-miR-520f-3p                        0.148898                      0.000000   \n",
       "hsa-miR-520f-5p                        0.000000                      0.000000   \n",
       "hsa-miR-520g-3p                        0.000000                      0.238534   \n",
       "hsa-miR-520g-5p                        0.000000                      0.000000   \n",
       "hsa-miR-520h                           0.000000                      0.238534   \n",
       "hsa-miR-521                            0.000000                      0.238534   \n",
       "hsa-miR-522-3p                         0.000000                      0.731187   \n",
       "hsa-miR-523-3p                         0.000000                      0.000000   \n",
       "hsa-miR-524-3p                         0.000000                      0.000000   \n",
       "hsa-miR-524-5p                         0.000000                      0.000000   \n",
       "hsa-miR-525-3p                         0.000000                      0.000000   \n",
       "hsa-miR-525-5p                         0.000000                      0.000000   \n",
       "hsa-miR-526b-3p                        0.000000                      0.000000   \n",
       "hsa-miR-526b-5p                        0.148898                      0.238534   \n",
       "hsa-miR-527                            0.000000                      0.000000   \n",
       "hsa-miR-548x-3p                        0.000000                      0.000000   \n",
       "hsa-miR-5584-5p                        0.000000                      0.000000   \n",
       "hsa-miR-670-3p                         0.000000                      0.000000   \n",
       "hsa-miR-885-3p                         0.278473                      0.238534   \n",
       "hsa-miR-888-5p                         0.000000                      0.000000   \n",
       "hsa-miR-890                            0.000000                      0.000000   \n",
       "hsa-miR-891b                           0.000000                      0.000000   \n",
       "hsa-miR-892b                           0.000000                      0.000000   \n",
       "hsa-miR-892c-3p                        0.000000                      0.000000   \n",
       "\n",
       "                   TCGA-OR-A5J7-01A-11R-A29W-13  TCGA-OR-A5J8-01A-11R-A29W-13  \\\n",
       "hsa-let-7a-2-3p                        0.149497                      2.972624   \n",
       "hsa-let-7a-3p                          3.402035                      4.372436   \n",
       "hsa-let-7a-5p                         10.278642                     10.021158   \n",
       "hsa-let-7b-3p                          3.685972                      2.980597   \n",
       "hsa-let-7b-5p                          9.180763                      8.971578   \n",
       "hsa-let-7c-3p                          1.124235                      4.046032   \n",
       "hsa-let-7c-5p                          4.930420                      7.826731   \n",
       "hsa-let-7d-3p                          7.589832                      7.828746   \n",
       "hsa-let-7d-5p                          5.859154                      6.151246   \n",
       "hsa-let-7e-3p                          2.692233                      4.027857   \n",
       "hsa-let-7e-5p                          7.366174                      7.694413   \n",
       "hsa-let-7f-1-3p                        2.089369                      2.096986   \n",
       "hsa-let-7f-5p                          9.472006                      9.268678   \n",
       "hsa-let-7g-3p                          4.273659                      3.834867   \n",
       "hsa-let-7g-5p                          6.548308                      6.753778   \n",
       "hsa-let-7i-3p                          5.245053                      6.965107   \n",
       "hsa-let-7i-5p                          5.583077                      7.359211   \n",
       "hsa-miR-1                              1.781617                      0.877681   \n",
       "hsa-miR-100-5p                         5.025339                      7.934693   \n",
       "hsa-miR-101-3p                         8.390178                      8.006674   \n",
       "hsa-miR-101-5p                         1.228997                      1.813834   \n",
       "hsa-miR-103a-2-5p                      1.304008                      1.602455   \n",
       "hsa-miR-103a-3p                        9.233455                      9.376497   \n",
       "hsa-miR-105-3p                        -0.006970                     -0.006970   \n",
       "hsa-miR-105-5p                         1.163266                      2.466487   \n",
       "hsa-miR-106a-5p                        2.683944                      3.374237   \n",
       "hsa-miR-106b-3p                        6.771132                      5.857204   \n",
       "hsa-miR-106b-5p                        5.569815                      5.551598   \n",
       "hsa-miR-107                            3.388153                      3.124187   \n",
       "hsa-miR-10a-3p                         1.277409                      1.655395   \n",
       "...                                         ...                           ...   \n",
       "hsa-miR-520a-5p                        0.000000                      0.000000   \n",
       "hsa-miR-520b                           0.000000                      0.000000   \n",
       "hsa-miR-520c-3p                        0.000000                      0.000000   \n",
       "hsa-miR-520d-3p                        0.000000                      0.236221   \n",
       "hsa-miR-520d-5p                        0.000000                      0.000000   \n",
       "hsa-miR-520e                           0.000000                      0.000000   \n",
       "hsa-miR-520f-3p                        0.204278                      0.000000   \n",
       "hsa-miR-520f-5p                        0.000000                      0.000000   \n",
       "hsa-miR-520g-3p                        0.000000                      0.000000   \n",
       "hsa-miR-520g-5p                        0.000000                      0.000000   \n",
       "hsa-miR-520h                           0.000000                      0.000000   \n",
       "hsa-miR-521                            0.000000                      0.000000   \n",
       "hsa-miR-522-3p                         0.000000                      0.000000   \n",
       "hsa-miR-523-3p                         0.000000                      0.000000   \n",
       "hsa-miR-524-3p                         0.000000                      0.000000   \n",
       "hsa-miR-524-5p                         0.000000                      0.000000   \n",
       "hsa-miR-525-3p                         0.000000                      0.000000   \n",
       "hsa-miR-525-5p                         0.000000                      0.000000   \n",
       "hsa-miR-526b-3p                        0.000000                      0.000000   \n",
       "hsa-miR-526b-5p                        0.000000                      0.587432   \n",
       "hsa-miR-527                            0.000000                      0.000000   \n",
       "hsa-miR-548x-3p                        0.000000                      0.000000   \n",
       "hsa-miR-5584-5p                        0.204278                      0.236221   \n",
       "hsa-miR-670-3p                         0.000000                      0.000000   \n",
       "hsa-miR-885-3p                         0.373821                      0.000000   \n",
       "hsa-miR-888-5p                         0.000000                      0.725525   \n",
       "hsa-miR-890                            0.000000                      0.000000   \n",
       "hsa-miR-891b                           0.000000                      0.236221   \n",
       "hsa-miR-892b                           0.000000                      0.427166   \n",
       "hsa-miR-892c-3p                        0.000000                      0.000000   \n",
       "\n",
       "                   TCGA-OR-A5J9-01A-11R-A29W-13  TCGA-OR-A5JA-01A-11R-A29W-13  \\\n",
       "hsa-let-7a-2-3p                        0.594360                      0.967705   \n",
       "hsa-let-7a-3p                          3.769209                      4.110468   \n",
       "hsa-let-7a-5p                         10.889671                      9.550029   \n",
       "hsa-let-7b-3p                          3.510385                      3.767911   \n",
       "hsa-let-7b-5p                          9.678585                      9.218716   \n",
       "hsa-let-7c-3p                          2.364641                      2.453387   \n",
       "hsa-let-7c-5p                          7.749381                      6.364879   \n",
       "hsa-let-7d-3p                          7.384104                      6.875027   \n",
       "hsa-let-7d-5p                          6.451797                      5.644672   \n",
       "hsa-let-7e-3p                          4.014088                      3.901732   \n",
       "hsa-let-7e-5p                          8.819651                      6.640436   \n",
       "hsa-let-7f-1-3p                        2.234914                      1.863135   \n",
       "hsa-let-7f-5p                         10.332349                      7.833314   \n",
       "hsa-let-7g-3p                          3.378741                      3.888278   \n",
       "hsa-let-7g-5p                          6.957225                      5.910604   \n",
       "hsa-let-7i-3p                          4.541927                      5.401177   \n",
       "hsa-let-7i-5p                          6.490034                      5.712134   \n",
       "hsa-miR-1                              2.306596                      1.911561   \n",
       "hsa-miR-100-5p                         6.565145                      6.298617   \n",
       "hsa-miR-101-3p                         9.374033                      8.580302   \n",
       "hsa-miR-101-5p                         2.207339                      1.816267   \n",
       "hsa-miR-103a-2-5p                      1.487794                      1.406476   \n",
       "hsa-miR-103a-3p                       10.915133                      9.075746   \n",
       "hsa-miR-105-3p                        -0.006970                     -0.006970   \n",
       "hsa-miR-105-5p                         0.442373                      4.024209   \n",
       "hsa-miR-106a-5p                        3.348923                      1.932987   \n",
       "hsa-miR-106b-3p                        5.215088                      6.655466   \n",
       "hsa-miR-106b-5p                        5.514227                      5.977883   \n",
       "hsa-miR-107                            4.586061                      3.097127   \n",
       "hsa-miR-10a-3p                         0.714984                      1.144025   \n",
       "...                                         ...                           ...   \n",
       "hsa-miR-520a-5p                        0.000000                      0.618579   \n",
       "hsa-miR-520b                           0.000000                      0.158078   \n",
       "hsa-miR-520c-3p                        0.000000                      0.158078   \n",
       "hsa-miR-520d-3p                        0.000000                      0.158078   \n",
       "hsa-miR-520d-5p                        0.000000                      0.000000   \n",
       "hsa-miR-520e                           0.000000                      0.294545   \n",
       "hsa-miR-520f-3p                        0.000000                      0.000000   \n",
       "hsa-miR-520f-5p                        0.000000                      0.000000   \n",
       "hsa-miR-520g-3p                        0.000000                      0.706826   \n",
       "hsa-miR-520g-5p                        0.000000                      0.000000   \n",
       "hsa-miR-520h                           0.000000                      0.294545   \n",
       "hsa-miR-521                            0.000000                      0.000000   \n",
       "hsa-miR-522-3p                         0.000000                      0.158078   \n",
       "hsa-miR-523-3p                         0.000000                      0.294545   \n",
       "hsa-miR-524-3p                         0.000000                      0.158078   \n",
       "hsa-miR-524-5p                         0.000000                      0.158078   \n",
       "hsa-miR-525-3p                         0.000000                      0.414605   \n",
       "hsa-miR-525-5p                         0.000000                      0.618579   \n",
       "hsa-miR-526b-3p                        0.000000                      0.000000   \n",
       "hsa-miR-526b-5p                        0.000000                      2.407323   \n",
       "hsa-miR-527                            0.000000                      0.000000   \n",
       "hsa-miR-548x-3p                        0.000000                      0.000000   \n",
       "hsa-miR-5584-5p                        0.000000                      0.158078   \n",
       "hsa-miR-670-3p                         0.198980                      0.521783   \n",
       "hsa-miR-885-3p                         0.631609                      0.000000   \n",
       "hsa-miR-888-5p                         0.000000                      0.414605   \n",
       "hsa-miR-890                            0.000000                      0.000000   \n",
       "hsa-miR-891b                           0.000000                      0.706826   \n",
       "hsa-miR-892b                           0.000000                      0.158078   \n",
       "hsa-miR-892c-3p                        0.000000                      0.294545   \n",
       "\n",
       "                               ...               TCGA-WC-A885-01A-11R-A40B-13  \\\n",
       "hsa-let-7a-2-3p                ...                                   1.279962   \n",
       "hsa-let-7a-3p                  ...                                   2.489934   \n",
       "hsa-let-7a-5p                  ...                                  11.285970   \n",
       "hsa-let-7b-3p                  ...                                   2.098259   \n",
       "hsa-let-7b-5p                  ...                                   9.860992   \n",
       "hsa-let-7c-3p                  ...                                   3.620330   \n",
       "hsa-let-7c-5p                  ...                                   8.782660   \n",
       "hsa-let-7d-3p                  ...                                   8.656638   \n",
       "hsa-let-7d-5p                  ...                                   7.182984   \n",
       "hsa-let-7e-3p                  ...                                   2.802655   \n",
       "hsa-let-7e-5p                  ...                                   7.252277   \n",
       "hsa-let-7f-1-3p                ...                                   0.560816   \n",
       "hsa-let-7f-5p                  ...                                   9.897278   \n",
       "hsa-let-7g-3p                  ...                                   3.350677   \n",
       "hsa-let-7g-5p                  ...                                   7.744379   \n",
       "hsa-let-7i-3p                  ...                                   3.673332   \n",
       "hsa-let-7i-5p                  ...                                   7.005657   \n",
       "hsa-miR-1                      ...                                   3.331376   \n",
       "hsa-miR-100-5p                 ...                                   7.477841   \n",
       "hsa-miR-101-3p                 ...                                   6.277498   \n",
       "hsa-miR-101-5p                 ...                                   1.697658   \n",
       "hsa-miR-103a-2-5p              ...                                   0.149409   \n",
       "hsa-miR-103a-3p                ...                                   9.960476   \n",
       "hsa-miR-105-3p                 ...                                  -0.006970   \n",
       "hsa-miR-105-5p                 ...                                   0.428098   \n",
       "hsa-miR-106a-5p                ...                                   2.150964   \n",
       "hsa-miR-106b-3p                ...                                   6.988589   \n",
       "hsa-miR-106b-5p                ...                                   4.352765   \n",
       "hsa-miR-107                    ...                                   4.757944   \n",
       "hsa-miR-10a-3p                 ...                                  -0.024830   \n",
       "...                            ...                                        ...   \n",
       "hsa-miR-520a-5p                ...                                   1.036471   \n",
       "hsa-miR-520b                   ...                                   0.000000   \n",
       "hsa-miR-520c-3p                ...                                   0.000000   \n",
       "hsa-miR-520d-3p                ...                                   0.474006   \n",
       "hsa-miR-520d-5p                ...                                   0.184102   \n",
       "hsa-miR-520e                   ...                                   0.000000   \n",
       "hsa-miR-520f-3p                ...                                   0.000000   \n",
       "hsa-miR-520f-5p                ...                                   0.000000   \n",
       "hsa-miR-520g-3p                ...                                   0.592528   \n",
       "hsa-miR-520g-5p                ...                                   0.339523   \n",
       "hsa-miR-520h                   ...                                   0.339523   \n",
       "hsa-miR-521                    ...                                   0.698480   \n",
       "hsa-miR-522-3p                 ...                                   0.339523   \n",
       "hsa-miR-523-3p                 ...                                   0.184102   \n",
       "hsa-miR-524-3p                 ...                                   0.339523   \n",
       "hsa-miR-524-5p                 ...                                   0.474006   \n",
       "hsa-miR-525-3p                 ...                                   0.592528   \n",
       "hsa-miR-525-5p                 ...                                   1.534391   \n",
       "hsa-miR-526b-3p                ...                                   0.000000   \n",
       "hsa-miR-526b-5p                ...                                   2.389203   \n",
       "hsa-miR-527                    ...                                   0.698480   \n",
       "hsa-miR-548x-3p                ...                                   0.000000   \n",
       "hsa-miR-5584-5p                ...                                   0.000000   \n",
       "hsa-miR-670-3p                 ...                                   0.000000   \n",
       "hsa-miR-885-3p                 ...                                   0.000000   \n",
       "hsa-miR-888-5p                 ...                                   0.000000   \n",
       "hsa-miR-890                    ...                                   0.000000   \n",
       "hsa-miR-891b                   ...                                   0.000000   \n",
       "hsa-miR-892b                   ...                                   0.000000   \n",
       "hsa-miR-892c-3p                ...                                   0.000000   \n",
       "\n",
       "                   TCGA-WC-A888-01A-11R-A40B-13  TCGA-WC-A88A-01A-11R-A40B-13  \\\n",
       "hsa-let-7a-2-3p                        1.163045                      0.380855   \n",
       "hsa-let-7a-3p                          3.915575                      3.537155   \n",
       "hsa-let-7a-5p                         10.866602                     11.645705   \n",
       "hsa-let-7b-3p                          3.747628                      3.577455   \n",
       "hsa-let-7b-5p                         10.161296                     10.622792   \n",
       "hsa-let-7c-3p                          2.679146                      1.967617   \n",
       "hsa-let-7c-5p                          7.621037                      7.766013   \n",
       "hsa-let-7d-3p                          7.592856                      7.792401   \n",
       "hsa-let-7d-5p                          6.700096                      6.791978   \n",
       "hsa-let-7e-3p                          2.939735                      2.248071   \n",
       "hsa-let-7e-5p                          7.456598                      7.614284   \n",
       "hsa-let-7f-1-3p                        1.517020                      0.941115   \n",
       "hsa-let-7f-5p                          9.401059                     10.402820   \n",
       "hsa-let-7g-3p                          2.578264                      1.728056   \n",
       "hsa-let-7g-5p                          7.125446                      7.609177   \n",
       "hsa-let-7i-3p                          5.678972                      3.230486   \n",
       "hsa-let-7i-5p                          7.204129                      7.174792   \n",
       "hsa-miR-1                              1.765973                      2.616115   \n",
       "hsa-miR-100-5p                         7.463702                      6.021401   \n",
       "hsa-miR-101-3p                         8.687132                      6.002018   \n",
       "hsa-miR-101-5p                         1.925113                      1.050942   \n",
       "hsa-miR-103a-2-5p                      0.946136                      0.628755   \n",
       "hsa-miR-103a-3p                       10.813757                     10.703742   \n",
       "hsa-miR-105-3p                        -0.006970                     -0.006970   \n",
       "hsa-miR-105-5p                         1.161578                      0.251450   \n",
       "hsa-miR-106a-5p                        2.064498                      2.507281   \n",
       "hsa-miR-106b-3p                        6.490633                      6.974029   \n",
       "hsa-miR-106b-5p                        5.059664                      4.903019   \n",
       "hsa-miR-107                            5.131713                      5.095079   \n",
       "hsa-miR-10a-3p                        -0.024830                     -0.024830   \n",
       "...                                         ...                           ...   \n",
       "hsa-miR-520a-5p                        0.000000                      0.000000   \n",
       "hsa-miR-520b                           0.000000                      0.000000   \n",
       "hsa-miR-520c-3p                        0.000000                      0.000000   \n",
       "hsa-miR-520d-3p                        0.000000                      0.000000   \n",
       "hsa-miR-520d-5p                        0.000000                      0.000000   \n",
       "hsa-miR-520e                           0.000000                      0.000000   \n",
       "hsa-miR-520f-3p                        0.000000                      0.000000   \n",
       "hsa-miR-520f-5p                        0.000000                      0.000000   \n",
       "hsa-miR-520g-3p                        0.000000                      0.000000   \n",
       "hsa-miR-520g-5p                        0.000000                      0.263727   \n",
       "hsa-miR-520h                           0.000000                      0.000000   \n",
       "hsa-miR-521                            0.000000                      0.000000   \n",
       "hsa-miR-522-3p                         0.000000                      0.000000   \n",
       "hsa-miR-523-3p                         0.000000                      0.000000   \n",
       "hsa-miR-524-3p                         0.000000                      0.000000   \n",
       "hsa-miR-524-5p                         0.000000                      0.000000   \n",
       "hsa-miR-525-3p                         0.000000                      0.000000   \n",
       "hsa-miR-525-5p                         0.000000                      0.000000   \n",
       "hsa-miR-526b-3p                        0.000000                      0.000000   \n",
       "hsa-miR-526b-5p                        0.000000                      0.000000   \n",
       "hsa-miR-527                            0.000000                      0.000000   \n",
       "hsa-miR-548x-3p                        0.000000                      0.000000   \n",
       "hsa-miR-5584-5p                        0.000000                      0.000000   \n",
       "hsa-miR-670-3p                         0.000000                      0.263727   \n",
       "hsa-miR-885-3p                         0.000000                      0.000000   \n",
       "hsa-miR-888-5p                         0.000000                      0.263727   \n",
       "hsa-miR-890                            0.000000                      0.000000   \n",
       "hsa-miR-891b                           0.000000                      0.000000   \n",
       "hsa-miR-892b                           0.333239                      0.000000   \n",
       "hsa-miR-892c-3p                        0.000000                      0.000000   \n",
       "\n",
       "                   TCGA-WC-AA9A-01A-11R-A40B-13  TCGA-WC-AA9E-01A-11R-A40B-13  \\\n",
       "hsa-let-7a-2-3p                        0.149497                      0.149497   \n",
       "hsa-let-7a-3p                          3.718857                      2.939992   \n",
       "hsa-let-7a-5p                         11.202791                     11.108575   \n",
       "hsa-let-7b-3p                          4.725627                      3.420777   \n",
       "hsa-let-7b-5p                         10.874780                      9.689929   \n",
       "hsa-let-7c-3p                          1.553711                      3.464074   \n",
       "hsa-let-7c-5p                          6.674746                      9.388159   \n",
       "hsa-let-7d-3p                          7.640136                      7.108790   \n",
       "hsa-let-7d-5p                          6.519294                      6.092021   \n",
       "hsa-let-7e-3p                          2.587387                      2.061906   \n",
       "hsa-let-7e-5p                          7.294397                      6.858172   \n",
       "hsa-let-7f-1-3p                        1.678999                      0.800607   \n",
       "hsa-let-7f-5p                          9.373322                      9.476222   \n",
       "hsa-let-7g-3p                          2.765707                      2.470861   \n",
       "hsa-let-7g-5p                          6.710099                      7.497620   \n",
       "hsa-let-7i-3p                          3.218111                      2.959418   \n",
       "hsa-let-7i-5p                          7.021846                      6.641473   \n",
       "hsa-miR-1                              2.998437                      4.568260   \n",
       "hsa-miR-100-5p                         7.027089                      5.830650   \n",
       "hsa-miR-101-3p                         8.512126                      9.021390   \n",
       "hsa-miR-101-5p                         1.800059                      2.595657   \n",
       "hsa-miR-103a-2-5p                      0.395976                      1.137714   \n",
       "hsa-miR-103a-3p                       10.236722                     10.697975   \n",
       "hsa-miR-105-3p                        -0.006970                     -0.006970   \n",
       "hsa-miR-105-5p                         0.251450                      0.251450   \n",
       "hsa-miR-106a-5p                        2.406189                      3.179536   \n",
       "hsa-miR-106b-3p                        6.337423                      6.115024   \n",
       "hsa-miR-106b-5p                        4.907898                      5.415939   \n",
       "hsa-miR-107                            4.784507                      5.150867   \n",
       "hsa-miR-10a-3p                        -0.024830                      1.354391   \n",
       "...                                         ...                           ...   \n",
       "hsa-miR-520a-5p                        0.000000                      0.000000   \n",
       "hsa-miR-520b                           0.000000                      0.000000   \n",
       "hsa-miR-520c-3p                        0.000000                      0.000000   \n",
       "hsa-miR-520d-3p                        0.000000                      0.000000   \n",
       "hsa-miR-520d-5p                        0.000000                      0.000000   \n",
       "hsa-miR-520e                           0.000000                      0.000000   \n",
       "hsa-miR-520f-3p                        0.000000                      0.000000   \n",
       "hsa-miR-520f-5p                        0.000000                      0.000000   \n",
       "hsa-miR-520g-3p                        0.000000                      0.000000   \n",
       "hsa-miR-520g-5p                        0.000000                      0.000000   \n",
       "hsa-miR-520h                           0.000000                      0.000000   \n",
       "hsa-miR-521                            0.000000                      0.000000   \n",
       "hsa-miR-522-3p                         0.000000                      0.495782   \n",
       "hsa-miR-523-3p                         0.000000                      0.000000   \n",
       "hsa-miR-524-3p                         0.000000                      0.000000   \n",
       "hsa-miR-524-5p                         0.000000                      0.000000   \n",
       "hsa-miR-525-3p                         0.000000                      0.000000   \n",
       "hsa-miR-525-5p                         0.000000                      0.000000   \n",
       "hsa-miR-526b-3p                        0.000000                      0.000000   \n",
       "hsa-miR-526b-5p                        0.000000                      0.957224   \n",
       "hsa-miR-527                            0.000000                      0.000000   \n",
       "hsa-miR-548x-3p                        0.000000                      0.000000   \n",
       "hsa-miR-5584-5p                        0.000000                      0.000000   \n",
       "hsa-miR-670-3p                         0.000000                      0.000000   \n",
       "hsa-miR-885-3p                         0.000000                      0.000000   \n",
       "hsa-miR-888-5p                         0.326418                      0.000000   \n",
       "hsa-miR-890                            0.000000                      0.000000   \n",
       "hsa-miR-891b                           0.000000                      0.278307   \n",
       "hsa-miR-892b                           0.000000                      0.000000   \n",
       "hsa-miR-892c-3p                        0.769174                      0.000000   \n",
       "\n",
       "                   TCGA-YZ-A980-01A-11R-A40B-13  TCGA-YZ-A982-01A-11R-A40B-13  \\\n",
       "hsa-let-7a-2-3p                        0.947249                      0.355130   \n",
       "hsa-let-7a-3p                          1.178907                      2.574885   \n",
       "hsa-let-7a-5p                          9.967945                     11.488896   \n",
       "hsa-let-7b-3p                          2.320755                      3.178342   \n",
       "hsa-let-7b-5p                          9.509009                     10.983708   \n",
       "hsa-let-7c-3p                          2.788378                      3.571307   \n",
       "hsa-let-7c-5p                          7.907051                      9.445534   \n",
       "hsa-let-7d-3p                          5.493314                      7.108411   \n",
       "hsa-let-7d-5p                          5.361398                      6.175952   \n",
       "hsa-let-7e-3p                          1.908390                      2.456480   \n",
       "hsa-let-7e-5p                          6.616433                      7.452409   \n",
       "hsa-let-7f-1-3p                        0.138545                      0.692005   \n",
       "hsa-let-7f-5p                          7.878020                     10.177766   \n",
       "hsa-let-7g-3p                          0.541658                      2.619259   \n",
       "hsa-let-7g-5p                          5.347144                      7.547861   \n",
       "hsa-let-7i-3p                          0.569833                      2.288095   \n",
       "hsa-let-7i-5p                          5.671591                      6.683492   \n",
       "hsa-miR-1                              2.247923                      3.685312   \n",
       "hsa-miR-100-5p                         7.985889                      6.913693   \n",
       "hsa-miR-101-3p                         4.591008                      8.472142   \n",
       "hsa-miR-101-5p                         0.447174                      1.512117   \n",
       "hsa-miR-103a-2-5p                      0.274539                      0.899430   \n",
       "hsa-miR-103a-3p                        9.393902                     10.571081   \n",
       "hsa-miR-105-3p                         0.078259                     -0.006970   \n",
       "hsa-miR-105-5p                         5.294535                      4.271199   \n",
       "hsa-miR-106a-5p                        1.222688                      3.516680   \n",
       "hsa-miR-106b-3p                        4.903536                      5.882400   \n",
       "hsa-miR-106b-5p                        2.270558                      4.785176   \n",
       "hsa-miR-107                            3.547393                      4.812793   \n",
       "hsa-miR-10a-3p                        -0.024830                     -0.024830   \n",
       "...                                         ...                           ...   \n",
       "hsa-miR-520a-5p                        0.000000                      0.000000   \n",
       "hsa-miR-520b                           0.000000                      0.000000   \n",
       "hsa-miR-520c-3p                        0.000000                      0.000000   \n",
       "hsa-miR-520d-3p                        0.000000                      0.000000   \n",
       "hsa-miR-520d-5p                        0.000000                      0.000000   \n",
       "hsa-miR-520e                           0.000000                      0.000000   \n",
       "hsa-miR-520f-3p                        0.000000                      0.000000   \n",
       "hsa-miR-520f-5p                        0.000000                      0.000000   \n",
       "hsa-miR-520g-3p                        0.000000                      0.000000   \n",
       "hsa-miR-520g-5p                        0.000000                      0.000000   \n",
       "hsa-miR-520h                           0.000000                      0.000000   \n",
       "hsa-miR-521                            0.000000                      0.000000   \n",
       "hsa-miR-522-3p                         0.000000                      0.000000   \n",
       "hsa-miR-523-3p                         0.000000                      0.000000   \n",
       "hsa-miR-524-3p                         0.000000                      0.000000   \n",
       "hsa-miR-524-5p                         0.000000                      0.000000   \n",
       "hsa-miR-525-3p                         0.000000                      0.000000   \n",
       "hsa-miR-525-5p                         0.062474                      0.000000   \n",
       "hsa-miR-526b-3p                        0.000000                      0.000000   \n",
       "hsa-miR-526b-5p                        0.000000                      0.000000   \n",
       "hsa-miR-527                            0.000000                      0.000000   \n",
       "hsa-miR-548x-3p                        0.000000                      0.000000   \n",
       "hsa-miR-5584-5p                        0.000000                      0.000000   \n",
       "hsa-miR-670-3p                         0.000000                      0.424161   \n",
       "hsa-miR-885-3p                         0.327001                      0.000000   \n",
       "hsa-miR-888-5p                         0.279400                      0.000000   \n",
       "hsa-miR-890                            0.000000                      0.000000   \n",
       "hsa-miR-891b                           0.229419                      0.000000   \n",
       "hsa-miR-892b                           0.372439                      0.000000   \n",
       "hsa-miR-892c-3p                        0.000000                      0.000000   \n",
       "\n",
       "                   TCGA-YZ-A983-01A-11R-A40B-13  TCGA-YZ-A984-01A-11R-A40B-13  \\\n",
       "hsa-let-7a-2-3p                        0.149497                      1.568811   \n",
       "hsa-let-7a-3p                          2.257757                      2.257250   \n",
       "hsa-let-7a-5p                         10.910957                     11.258451   \n",
       "hsa-let-7b-3p                          2.330759                      3.462628   \n",
       "hsa-let-7b-5p                          9.683688                     10.729893   \n",
       "hsa-let-7c-3p                          3.454253                      3.991420   \n",
       "hsa-let-7c-5p                          8.091485                      9.824370   \n",
       "hsa-let-7d-3p                          7.993800                      7.502280   \n",
       "hsa-let-7d-5p                          5.966579                      6.637129   \n",
       "hsa-let-7e-3p                          2.156962                      3.268929   \n",
       "hsa-let-7e-5p                          6.760054                      7.806125   \n",
       "hsa-let-7f-1-3p                        0.878557                      0.740290   \n",
       "hsa-let-7f-5p                          9.510831                      9.565697   \n",
       "hsa-let-7g-3p                          2.205130                      2.446928   \n",
       "hsa-let-7g-5p                          6.889194                      6.942870   \n",
       "hsa-let-7i-3p                          3.260412                      3.291583   \n",
       "hsa-let-7i-5p                          7.612197                      7.666568   \n",
       "hsa-miR-1                              3.676530                      1.989037   \n",
       "hsa-miR-100-5p                         6.609776                      8.993194   \n",
       "hsa-miR-101-3p                         7.802208                      8.659476   \n",
       "hsa-miR-101-5p                         2.007992                      1.590250   \n",
       "hsa-miR-103a-2-5p                      0.819465                      0.736729   \n",
       "hsa-miR-103a-3p                       10.432997                     10.649455   \n",
       "hsa-miR-105-3p                        -0.006970                     -0.006970   \n",
       "hsa-miR-105-5p                         0.670324                      1.312341   \n",
       "hsa-miR-106a-5p                        2.206322                      2.599654   \n",
       "hsa-miR-106b-3p                        6.315414                      6.473235   \n",
       "hsa-miR-106b-5p                        4.506421                      4.356431   \n",
       "hsa-miR-107                            5.047835                      4.973614   \n",
       "hsa-miR-10a-3p                        -0.024830                     -0.024830   \n",
       "...                                         ...                           ...   \n",
       "hsa-miR-520a-5p                        0.000000                      0.000000   \n",
       "hsa-miR-520b                           0.000000                      0.000000   \n",
       "hsa-miR-520c-3p                        0.000000                      0.000000   \n",
       "hsa-miR-520d-3p                        0.000000                      0.000000   \n",
       "hsa-miR-520d-5p                        0.000000                      0.000000   \n",
       "hsa-miR-520e                           0.000000                      0.000000   \n",
       "hsa-miR-520f-3p                        0.000000                      0.000000   \n",
       "hsa-miR-520f-5p                        0.000000                      0.000000   \n",
       "hsa-miR-520g-3p                        0.000000                      0.000000   \n",
       "hsa-miR-520g-5p                        0.000000                      0.000000   \n",
       "hsa-miR-520h                           0.000000                      0.000000   \n",
       "hsa-miR-521                            0.000000                      0.000000   \n",
       "hsa-miR-522-3p                         0.000000                      0.000000   \n",
       "hsa-miR-523-3p                         0.000000                      0.000000   \n",
       "hsa-miR-524-3p                         0.000000                      0.000000   \n",
       "hsa-miR-524-5p                         0.000000                      0.000000   \n",
       "hsa-miR-525-3p                         0.000000                      0.000000   \n",
       "hsa-miR-525-5p                         0.000000                      0.000000   \n",
       "hsa-miR-526b-3p                        0.000000                      0.000000   \n",
       "hsa-miR-526b-5p                        0.000000                      0.000000   \n",
       "hsa-miR-527                            0.000000                      0.000000   \n",
       "hsa-miR-548x-3p                        0.000000                      0.000000   \n",
       "hsa-miR-5584-5p                        0.000000                      0.000000   \n",
       "hsa-miR-670-3p                         0.000000                      0.000000   \n",
       "hsa-miR-885-3p                         0.000000                      0.000000   \n",
       "hsa-miR-888-5p                         0.000000                      0.000000   \n",
       "hsa-miR-890                            0.000000                      0.000000   \n",
       "hsa-miR-891b                           0.000000                      0.455836   \n",
       "hsa-miR-892b                           0.000000                      0.000000   \n",
       "hsa-miR-892c-3p                        0.000000                      0.000000   \n",
       "\n",
       "                   TCGA-YZ-A985-01A-11R-A40B-13  \n",
       "hsa-let-7a-2-3p                        0.149497  \n",
       "hsa-let-7a-3p                          2.375954  \n",
       "hsa-let-7a-5p                         11.189037  \n",
       "hsa-let-7b-3p                          3.477199  \n",
       "hsa-let-7b-5p                         10.828165  \n",
       "hsa-let-7c-3p                          4.462171  \n",
       "hsa-let-7c-5p                          9.779804  \n",
       "hsa-let-7d-3p                          7.581252  \n",
       "hsa-let-7d-5p                          6.874495  \n",
       "hsa-let-7e-3p                          3.411234  \n",
       "hsa-let-7e-5p                          7.634825  \n",
       "hsa-let-7f-1-3p                        0.821161  \n",
       "hsa-let-7f-5p                          9.335964  \n",
       "hsa-let-7g-3p                          2.911349  \n",
       "hsa-let-7g-5p                          6.486273  \n",
       "hsa-let-7i-3p                          3.595268  \n",
       "hsa-let-7i-5p                          7.609577  \n",
       "hsa-miR-1                              1.304810  \n",
       "hsa-miR-100-5p                         6.520072  \n",
       "hsa-miR-101-3p                         8.467687  \n",
       "hsa-miR-101-5p                         2.368091  \n",
       "hsa-miR-103a-2-5p                      0.329597  \n",
       "hsa-miR-103a-3p                       10.543597  \n",
       "hsa-miR-105-3p                        -0.006970  \n",
       "hsa-miR-105-5p                         0.251450  \n",
       "hsa-miR-106a-5p                        2.297688  \n",
       "hsa-miR-106b-3p                        7.146492  \n",
       "hsa-miR-106b-5p                        4.221463  \n",
       "hsa-miR-107                            5.070532  \n",
       "hsa-miR-10a-3p                         0.311159  \n",
       "...                                         ...  \n",
       "hsa-miR-520a-5p                        0.000000  \n",
       "hsa-miR-520b                           0.000000  \n",
       "hsa-miR-520c-3p                        0.000000  \n",
       "hsa-miR-520d-3p                        0.000000  \n",
       "hsa-miR-520d-5p                        0.000000  \n",
       "hsa-miR-520e                           0.000000  \n",
       "hsa-miR-520f-3p                        0.000000  \n",
       "hsa-miR-520f-5p                        0.000000  \n",
       "hsa-miR-520g-3p                        0.000000  \n",
       "hsa-miR-520g-5p                        0.000000  \n",
       "hsa-miR-520h                           0.000000  \n",
       "hsa-miR-521                            0.000000  \n",
       "hsa-miR-522-3p                         0.000000  \n",
       "hsa-miR-523-3p                         0.000000  \n",
       "hsa-miR-524-3p                         0.000000  \n",
       "hsa-miR-524-5p                         0.000000  \n",
       "hsa-miR-525-3p                         0.000000  \n",
       "hsa-miR-525-5p                         0.000000  \n",
       "hsa-miR-526b-3p                        0.000000  \n",
       "hsa-miR-526b-5p                        0.000000  \n",
       "hsa-miR-527                            0.000000  \n",
       "hsa-miR-548x-3p                        0.000000  \n",
       "hsa-miR-5584-5p                        0.000000  \n",
       "hsa-miR-670-3p                         0.000000  \n",
       "hsa-miR-885-3p                         0.000000  \n",
       "hsa-miR-888-5p                         0.000000  \n",
       "hsa-miR-890                            0.000000  \n",
       "hsa-miR-891b                           0.509489  \n",
       "hsa-miR-892b                           0.000000  \n",
       "hsa-miR-892c-3p                        0.000000  \n",
       "\n",
       "[743 rows x 9555 columns]"
      ]
     },
     "execution_count": 25,
     "metadata": {},
     "output_type": "execute_result"
    }
   ],
   "source": [
    "miRNA_data_log_transformed"
   ]
  },
  {
   "cell_type": "markdown",
   "metadata": {},
   "source": [
    "#### Boxplot"
   ]
  },
  {
   "cell_type": "code",
   "execution_count": null,
   "metadata": {},
   "outputs": [],
   "source": [
    "boxplot_no_xaxis(miRNA_data_log_transformed, 'miRNA log((sample expression) + 1)', \n",
    "                 'miRNA', 'log((sample expression) + 1)', 140, 60).savefig('miRNA-sample-expr-boxplot.pdf', dpi=100)"
   ]
  },
  {
   "cell_type": "markdown",
   "metadata": {},
   "source": [
    "#### Heatmap: Raw"
   ]
  },
  {
   "cell_type": "code",
   "execution_count": 23,
   "metadata": {},
   "outputs": [
    {
     "ename": "NameError",
     "evalue": "name 'miRNA_data_log_transformed' is not defined",
     "output_type": "error",
     "traceback": [
      "\u001b[0;31m---------------------------------------------------------------------------\u001b[0m",
      "\u001b[0;31mNameError\u001b[0m                                 Traceback (most recent call last)",
      "\u001b[0;32m<ipython-input-23-8a0035c151fb>\u001b[0m in \u001b[0;36m<module>\u001b[0;34m()\u001b[0m\n\u001b[0;32m----> 1\u001b[0;31m heatmap(miRNA_data_log_transformed, 'Heatmap: miRNA log((sample expression) + 1) across samples', \n\u001b[0m\u001b[1;32m      2\u001b[0m         'sample', 'miRNA', [], [], [], [], 20, 14, 'cubehelix_r').savefig('miRNA-sample-expr-heatmap.png')\n",
      "\u001b[0;31mNameError\u001b[0m: name 'miRNA_data_log_transformed' is not defined"
     ]
    }
   ],
   "source": [
    "heatmap(miRNA_data_log_transformed, 'Heatmap: miRNA log((sample expression) + 1) across samples', \n",
    "        'sample', 'miRNA', [], [], [], [], 20, 14, 'cubehelix_r').savefig('miRNA-sample-expr-heatmap.png')"
   ]
  },
  {
   "cell_type": "markdown",
   "metadata": {},
   "source": [
    "#### Heatmap: Normalised per miRNA"
   ]
  },
  {
   "cell_type": "code",
   "execution_count": null,
   "metadata": {
    "collapsed": true
   },
   "outputs": [],
   "source": [
    "heatmap(type_1_miRNA_data.sub(type_1_miRNA_data.mean(axis=1), axis=0).div(type_1_miRNA_data.std(axis=1), axis=0),\n",
    "        'Heatmap: miRNA expression across samples, normalised per miRNA', 'sample', 'miRNA', \n",
    "        [], [], [], [], 20, 14, cmap='nipy_spectral_r').savefig('miRNA-normed-sample-expr-heatmap.png')"
   ]
  },
  {
   "cell_type": "markdown",
   "metadata": {},
   "source": [
    "#### Half heatmap: miRNA expression sample correlations"
   ]
  },
  {
   "cell_type": "code",
   "execution_count": null,
   "metadata": {
    "collapsed": true
   },
   "outputs": [],
   "source": [
    "fig, ax = plt.subplots()\n",
    "miRNA_corrs = type_1_sample_miRNAs.corr()\n",
    "mask = np.zeros_like(miRNA_corrs, dtype=np.bool)\n",
    "mask[np.triu_indices_from(mask)] = True\n",
    "ax = sns.heatmap(miRNA_corrs, ax=ax, cmap='nipy_spectral_r', mask=mask)\n",
    "fig = ax.get_figure()\n",
    "fig.set_size_inches(14, 14)\n",
    "ax.set_title('Heatmap: miRNA expression sample correlations')\n",
    "ax.set_xlabel('miRNA')\n",
    "ax.set_ylabel('miRNA')\n",
    "ax.set_yticks([])\n",
    "ax.set_yticklabels([])\n",
    "ax.set_xticks([])\n",
    "ax.set_xticklabels([])\n",
    "fig.savefig('miRNA-expr-sample_corrs.png')"
   ]
  },
  {
   "cell_type": "markdown",
   "metadata": {},
   "source": [
    "### miRNA sample expression by tumor type"
   ]
  },
  {
   "cell_type": "code",
   "execution_count": 24,
   "metadata": {},
   "outputs": [],
   "source": [
    "sample_disease_miRNAs = type_1_samples.drop(columns=['Sample_Type', 'Protocol', 'Platform'])\n",
    "samples_by_tumor_type = sample_disease_miRNAs.groupby('Disease')\n",
    "tumor_type_sample_counts_cumulative = np.cumsum(samples_by_tumor_type.size().values)"
   ]
  },
  {
   "cell_type": "code",
   "execution_count": 27,
   "metadata": {},
   "outputs": [
    {
     "ename": "AttributeError",
     "evalue": "Cannot access attribute 'shape' of 'DataFrameGroupBy' objects, try using the 'apply' method",
     "output_type": "error",
     "traceback": [
      "\u001b[0;31m---------------------------------------------------------------------------\u001b[0m",
      "\u001b[0;31mAttributeError\u001b[0m                            Traceback (most recent call last)",
      "\u001b[0;32m<ipython-input-27-c8838f68fe9f>\u001b[0m in \u001b[0;36m<module>\u001b[0;34m()\u001b[0m\n\u001b[0;32m----> 1\u001b[0;31m \u001b[0msamples_by_tumor_type\u001b[0m\u001b[0;34m.\u001b[0m\u001b[0mshape\u001b[0m\u001b[0;34m\u001b[0m\u001b[0m\n\u001b[0m",
      "\u001b[0;32m/usr/local/envs/py3env/lib/python3.5/site-packages/pandas/core/groupby.py\u001b[0m in \u001b[0;36m__getattr__\u001b[0;34m(self, attr)\u001b[0m\n\u001b[1;32m    671\u001b[0m             \u001b[0;32mreturn\u001b[0m \u001b[0mself\u001b[0m\u001b[0;34m[\u001b[0m\u001b[0mattr\u001b[0m\u001b[0;34m]\u001b[0m\u001b[0;34m\u001b[0m\u001b[0m\n\u001b[1;32m    672\u001b[0m         \u001b[0;32mif\u001b[0m \u001b[0mhasattr\u001b[0m\u001b[0;34m(\u001b[0m\u001b[0mself\u001b[0m\u001b[0;34m.\u001b[0m\u001b[0mobj\u001b[0m\u001b[0;34m,\u001b[0m \u001b[0mattr\u001b[0m\u001b[0;34m)\u001b[0m\u001b[0;34m:\u001b[0m\u001b[0;34m\u001b[0m\u001b[0m\n\u001b[0;32m--> 673\u001b[0;31m             \u001b[0;32mreturn\u001b[0m \u001b[0mself\u001b[0m\u001b[0;34m.\u001b[0m\u001b[0m_make_wrapper\u001b[0m\u001b[0;34m(\u001b[0m\u001b[0mattr\u001b[0m\u001b[0;34m)\u001b[0m\u001b[0;34m\u001b[0m\u001b[0m\n\u001b[0m\u001b[1;32m    674\u001b[0m \u001b[0;34m\u001b[0m\u001b[0m\n\u001b[1;32m    675\u001b[0m         raise AttributeError(\"%r object has no attribute %r\" %\n",
      "\u001b[0;32m/usr/local/envs/py3env/lib/python3.5/site-packages/pandas/core/groupby.py\u001b[0m in \u001b[0;36m_make_wrapper\u001b[0;34m(self, name)\u001b[0m\n\u001b[1;32m    685\u001b[0m                    \"using the 'apply' method\".format(kind, name,\n\u001b[1;32m    686\u001b[0m                                                      type(self).__name__))\n\u001b[0;32m--> 687\u001b[0;31m             \u001b[0;32mraise\u001b[0m \u001b[0mAttributeError\u001b[0m\u001b[0;34m(\u001b[0m\u001b[0mmsg\u001b[0m\u001b[0;34m)\u001b[0m\u001b[0;34m\u001b[0m\u001b[0m\n\u001b[0m\u001b[1;32m    688\u001b[0m \u001b[0;34m\u001b[0m\u001b[0m\n\u001b[1;32m    689\u001b[0m         \u001b[0;31m# need to setup the selection\u001b[0m\u001b[0;34m\u001b[0m\u001b[0;34m\u001b[0m\u001b[0m\n",
      "\u001b[0;31mAttributeError\u001b[0m: Cannot access attribute 'shape' of 'DataFrameGroupBy' objects, try using the 'apply' method"
     ]
    }
   ],
   "source": [
    "samples_by_tumor_type.shape"
   ]
  },
  {
   "cell_type": "markdown",
   "metadata": {},
   "source": [
    "#### Boxplot: mean sample expression by tumor type"
   ]
  },
  {
   "cell_type": "code",
   "execution_count": null,
   "metadata": {
    "collapsed": true
   },
   "outputs": [],
   "source": [
    "fig = boxplot_no_xaxis(samples_by_tumor_type.mean().T.applymap(lambda x: m.log(x + 1)), 'miRNA log((tumor type mean sample expression) + 1)',\n",
    "                       'miRNA', 'log((tumor type mean sample expression) + 1)', 140, 60)\n",
    "fig.savefig('miRNA-tumortype-mean-exprs-boxplot.pdf')"
   ]
  },
  {
   "cell_type": "markdown",
   "metadata": {},
   "source": [
    "#### Boxplot: median sample expression by tumor type"
   ]
  },
  {
   "cell_type": "code",
   "execution_count": null,
   "metadata": {
    "collapsed": true
   },
   "outputs": [],
   "source": [
    "fig = boxplot_no_xaxis(samples_by_tumor_type.median().T.applymap(lambda x: m.log(x + 1)), 'miRNA log(tumor type median sample expression)',\n",
    "                       'miRNA', 'log((tumor type median sample expression) + 1)', 140, 60)\n",
    "fig.savefig('miRNA-tumortype-median-exprs-boxplot.pdf')"
   ]
  },
  {
   "cell_type": "markdown",
   "metadata": {},
   "source": [
    "#### Boxplot: 95th percentile sample expression by tumor type"
   ]
  },
  {
   "cell_type": "code",
   "execution_count": null,
   "metadata": {
    "collapsed": true
   },
   "outputs": [],
   "source": [
    "fig = boxplot_no_xaxis(samples_by_tumor_type.quantile(q=0.95).T.applymap(lambda x: m.log(x + 1)), 'miRNA log(tumor type 95th percentile sample expression)',\n",
    "                 'miRNA', 'log((tumor type 95th percentile sample expression) + 1)', 140, 60)\n",
    "fig.savefig('miRNA-tumortype-95th-pctl-exprs-boxplot.pdf')"
   ]
  },
  {
   "cell_type": "markdown",
   "metadata": {},
   "source": [
    "### miRNA expression sorted by tumor type and mean expression value"
   ]
  },
  {
   "cell_type": "code",
   "execution_count": 21,
   "metadata": {
    "collapsed": true
   },
   "outputs": [],
   "source": [
    "samples_sortedby_tumor_type = sample_disease_miRNAs.sort_values(by=['Disease'])\n",
    "sample_tumor_types_sorted = samples_sortedby_tumor_type['Disease']\n",
    "\n",
    "miRNA_samples_by_tumor_type = samples_sortedby_tumor_type.drop(columns=['Disease']).T\n",
    "miRNA_samples_by_tumor_type['mean_expr'] = miRNA_samples_by_tumor_type.mean(axis=1)\n",
    "miRNA_samples_by_tumor_type.sort_values(by=['mean_expr'], inplace=True)\n",
    "miRNA_samples_by_tumor_type.drop(columns=['mean_expr'], inplace=True)\n",
    "\n",
    "sample_miRNAs_by_meanexpr_and_tumortype = miRNA_samples_by_tumor_type.T\n",
    "sample_miRNAs_by_meanexpr_and_tumortype['Disease'] = sample_tumor_types_sorted\n",
    "sample_miRNAs_sortedby_meanexpr_groupedby_tumortype = sample_miRNAs_by_meanexpr_and_tumortype.groupby('Disease')\n",
    "miRNA_tumortype_means = sample_miRNAs_sortedby_meanexpr_groupedby_tumortype.mean()"
   ]
  },
  {
   "cell_type": "markdown",
   "metadata": {},
   "source": [
    "#### Mean sample expression by tumor type"
   ]
  },
  {
   "cell_type": "code",
   "execution_count": null,
   "metadata": {
    "collapsed": true
   },
   "outputs": [],
   "source": [
    "fig = heatmap(miRNA_tumortype_means.applymap(lambda x: m.log(x + 1)),\n",
    "              'Heatmap: miRNA log((tumor type mean sample expression) + 1), sorted by miRNA mean expression level',\n",
    "              'miRNA', 'tumor type', np.arange(len(sample_miRNAs_by_meanexpr_and_tumortype.columns[:-1])),\n",
    "              np.arange(tumor_types_num), sample_miRNAs_by_meanexpr_and_tumortype.columns[:-1], tumor_types,\n",
    "              140, 15, 'cubehelix_r', label_fontsize=15, xticklabels_rotation='vertical', va='bottom')\n",
    "fig.savefig('miRNA-tumortype-mean-exprs-heatmap.png')"
   ]
  },
  {
   "cell_type": "markdown",
   "metadata": {},
   "source": [
    "#### Individual sample expression values"
   ]
  },
  {
   "cell_type": "code",
   "execution_count": null,
   "metadata": {
    "collapsed": true
   },
   "outputs": [],
   "source": [
    "heatmap(sample_miRNAs_by_meanexpr_and_tumortype.drop(columns=['Disease']).T.applymap(lambda x: m.log(x + 1)),\n",
    "        'Heatmap: miRNA log((sample expression) + 1), clustered by tumor type & sorted by miRNA mean expression level',\n",
    "        'Sample', 'miRNA', tumor_type_sample_counts_cumulative, [], tumor_types, [], 100, 70, 'cubehelix_r',\n",
    "        xticklabels_rotation=45).savefig('miRNA-sample-expr-heatmap_mean-sorted_clustered.png')"
   ]
  },
  {
   "cell_type": "markdown",
   "metadata": {},
   "source": [
    "### miRNA expression sorted by tumor type and variance in per-cancer-type mean expression"
   ]
  },
  {
   "cell_type": "code",
   "execution_count": 22,
   "metadata": {
    "collapsed": true
   },
   "outputs": [],
   "source": [
    "miRNA_samples_by_tumor_type = samples_sortedby_tumor_type.drop(columns=['Disease']).T\n",
    "miRNA_samples_by_tumor_type['stdev_of_tumor_type_mean'] = samples_by_tumor_type.mean().std().T\n",
    "miRNA_samples_by_tumor_type.sort_values(by=['stdev_of_tumor_type_mean'], inplace=True)\n",
    "miRNA_samples_by_tumor_type.drop(columns=['stdev_of_tumor_type_mean'], inplace=True)"
   ]
  },
  {
   "cell_type": "markdown",
   "metadata": {},
   "source": [
    "#### Raw"
   ]
  },
  {
   "cell_type": "code",
   "execution_count": null,
   "metadata": {
    "collapsed": true
   },
   "outputs": [],
   "source": [
    "heatmap(miRNA_samples_by_tumor_type.applymap(lambda x: m.log(x + 1)),\n",
    "        'Heatmap: miRNA log((sample expression) + 1) across samples, clustered by tumor type & sorted by variance in miRNA mean expression across tumor types',\n",
    "        'sample', 'miRNA', tumor_type_sample_counts_cumulative, [], tumor_types, [], 100, 70, 'cubehelix_r',\n",
    "       xticklabels_rotation=45, ha='right').savefig('miRNA-sample-expr-heatmap_tumor-type-variance-sorted_clustered.pdf')"
   ]
  },
  {
   "cell_type": "markdown",
   "metadata": {},
   "source": [
    "#### Normalised per miRNA"
   ]
  },
  {
   "cell_type": "markdown",
   "metadata": {},
   "source": [
    "#### Plot truncated range of values using linear(?) colormap "
   ]
  },
  {
   "cell_type": "code",
   "execution_count": 23,
   "metadata": {
    "collapsed": true
   },
   "outputs": [],
   "source": [
    "miRNA_sample_means = miRNA_samples_by_tumor_type.mean(axis=1)\n",
    "miRNA_sample_stdevs = miRNA_samples_by_tumor_type.std(axis=1)\n",
    "exprs_normed_by_miRNA = miRNA_samples_by_tumor_type.sub(miRNA_sample_means, axis=0).div(miRNA_sample_stdevs, axis=0)"
   ]
  },
  {
   "cell_type": "code",
   "execution_count": null,
   "metadata": {
    "collapsed": true
   },
   "outputs": [],
   "source": [
    "fig = heatmap(exprs_normed_by_miRNA.applymap(lambda x: 5 if x > 5 else x),\n",
    "              'Heatmap: miRNA log((sample expression) + 1) across samples, normalised per miRNA, sorted by tumor type & variance in miRNA mean expression across tumor types',\n",
    "              'sample', 'miRNA', tumor_type_sample_counts_cumulative, [], tumor_types, [], 40, 28, 'nipy_spectral_r',\n",
    "              label_fontsize=20, xticklabels_rotation=45, ha='right')\n",
    "fig.savefig('miRNA-normed-sample-expr-heatmap_tumor-type-variance-sorted_clustered.png')"
   ]
  },
  {
   "cell_type": "markdown",
   "metadata": {},
   "source": [
    "#### TODO: Some other way of handling heatmap saturation???"
   ]
  },
  {
   "cell_type": "markdown",
   "metadata": {},
   "source": [
    "#### Grouped boxplot of sample expression for miRNAs with highest and lowest variation in mean expression across tumor types"
   ]
  },
  {
   "cell_type": "code",
   "execution_count": null,
   "metadata": {
    "collapsed": true
   },
   "outputs": [],
   "source": [
    "most_least_varied_miRNAs = pd.concat([samples_sortedby_tumor_type[miRNA_samples_by_tumor_type.iloc[-1].name].map(lambda x: m.log(x + 1)),\n",
    "                                      samples_sortedby_tumor_type[miRNA_samples_by_tumor_type.iloc[0].name].map(lambda x: m.log(x + 1)),\n",
    "                                      samples_sortedby_tumor_type['Disease']], axis=1)\n",
    "ax1, ax2 = most_least_varied_miRNAs.boxplot(by='Disease', whis='range', showfliers=False, figsize=(10, 7))\n",
    "plt.suptitle('log((tumor type sample expression) + 1) for miRNAs with highest and lowest variation across tumor types')\n",
    "ax1.set_xlabel('Tumor Type')\n",
    "ax2.set_xlabel('Tumor Type')\n",
    "ax1.set_ylabel('log((tumor type sample expression) + 1)')\n",
    "xticks = range(1, tumor_types_num + 2) # +2 because pandas is weird\n",
    "ax1.set_xticks(xticks)\n",
    "ax2.set_xticks(xticks)\n",
    "xticklabels = [''] + tumor_types\n",
    "ax1.set_xticklabels(xticklabels, rotation=90, ha='right')\n",
    "ax2.set_xticklabels(xticklabels, rotation=90, ha='right')\n",
    "plt.savefig('most-least-varied-miRNAs-expr-by-tumortype_boxplot.png')"
   ]
  },
  {
   "cell_type": "markdown",
   "metadata": {},
   "source": [
    "### Observations on plots\n",
    "\n",
    "#### Boxplots\n",
    "- Sample expression boxplot looks densest of all (reasons addressed in following bullet points), followed by the tumor type mean expression boxplot, and lastly tumor type median expression. However, the apparent difference between the last two may simply be a plot scaling artifact.\n",
    "- Range of values decreases from the first plot to the last.\n",
    "- The last two look very similar, though the last seems to have a tighter distribution per miRNA (i.e. shorter boxes and whiskers).\n",
    "- Comparing the sample expression and tumor type mean boxplots suggests that a fraction (~10%) of the miRNAs have mostly 0 expression except in certain tumor types with smaller sample sizes. In turn, comparing the tumor type mean and median boxplots suggests that in those tumor types, the means are highly influenced by outliers (in line with the earlier suggestion of small sample sizes).\n",
    "- Tumor type (miRNA expression) 95th percentiles seem significantly more dispersed than medians and means.\n",
    "\n",
    "#### Heatmaps\n",
    "- Some tumor types (e.g. ACC, DLBC, KICH, KIRC, LGG, DV, PCPG, SKCM, TGCT, THCA, THYM, UVM) show highly visible differences in expression level from the visual norm of the dataset. Those tumor types, in turn, vary among themselves in their expression signatures.\n",
    "  - Or, conversely (i.e. the other side of the coin), some miRNAs show high variance in expression in this dataset."
   ]
  },
  {
   "cell_type": "markdown",
   "metadata": {},
   "source": [
    "## Analysis"
   ]
  },
  {
   "cell_type": "code",
   "execution_count": 24,
   "metadata": {
    "collapsed": true
   },
   "outputs": [],
   "source": [
    "nranks = 25"
   ]
  },
  {
   "cell_type": "markdown",
   "metadata": {},
   "source": [
    "### Ranking of miRNAs by expression levels"
   ]
  },
  {
   "cell_type": "markdown",
   "metadata": {},
   "source": [
    "#### By mean over all samples"
   ]
  },
  {
   "cell_type": "code",
   "execution_count": 25,
   "metadata": {
    "collapsed": true
   },
   "outputs": [],
   "source": [
    "top25_miRNAs_by_overall_mean = sample_miRNAs_by_meanexpr_and_tumortype.columns[-2:(-2-nranks):-1]\n",
    "top25_miRNAs_by_overall_mean_idx = {}\n",
    "for i in range(nranks):\n",
    "    top25_miRNAs_by_overall_mean_idx[top25_miRNAs_by_overall_mean[i]] = i"
   ]
  },
  {
   "cell_type": "code",
   "execution_count": 26,
   "metadata": {},
   "outputs": [
    {
     "data": {
      "text/plain": [
       "(9555, 744)"
      ]
     },
     "execution_count": 26,
     "metadata": {},
     "output_type": "execute_result"
    }
   ],
   "source": [
    "sample_miRNAs_by_meanexpr_and_tumortype.shape"
   ]
  },
  {
   "cell_type": "markdown",
   "metadata": {},
   "source": [
    "#### By mean of per-tumor-type means"
   ]
  },
  {
   "cell_type": "code",
   "execution_count": 27,
   "metadata": {
    "collapsed": true
   },
   "outputs": [],
   "source": [
    "miRNA_tumortype_means_sortedby_mean_of_means = miRNA_tumortype_means.mean().sort_values()"
   ]
  },
  {
   "cell_type": "code",
   "execution_count": 28,
   "metadata": {
    "collapsed": true
   },
   "outputs": [],
   "source": [
    "top25_miRNAs_by_mean_of_means = miRNA_tumortype_means_sortedby_mean_of_means.index[-1:(-1-nranks):-1]\n",
    "top25_miRNAs_by_mean_of_means_idx = {}\n",
    "for i in range(nranks):\n",
    "    top25_miRNAs_by_mean_of_means_idx[top25_miRNAs_by_mean_of_means[i]] = i"
   ]
  },
  {
   "cell_type": "markdown",
   "metadata": {},
   "source": [
    "#### Size of intersection"
   ]
  },
  {
   "cell_type": "code",
   "execution_count": 29,
   "metadata": {},
   "outputs": [
    {
     "data": {
      "text/plain": [
       "25"
      ]
     },
     "execution_count": 29,
     "metadata": {},
     "output_type": "execute_result"
    }
   ],
   "source": [
    "len(top25_miRNAs_by_overall_mean.intersection(top25_miRNAs_by_mean_of_means))"
   ]
  },
  {
   "cell_type": "code",
   "execution_count": 30,
   "metadata": {},
   "outputs": [
    {
     "data": {
      "text/plain": [
       "Index(['hsa-miR-21-5p', 'hsa-miR-143-3p', 'hsa-miR-22-3p'], dtype='object')"
      ]
     },
     "execution_count": 30,
     "metadata": {},
     "output_type": "execute_result"
    }
   ],
   "source": [
    "top25_miRNAs_by_overall_mean[0:3]"
   ]
  },
  {
   "cell_type": "code",
   "execution_count": 31,
   "metadata": {},
   "outputs": [
    {
     "data": {
      "text/plain": [
       "Index(['hsa-miR-21-5p', 'hsa-miR-143-3p', 'hsa-miR-22-3p'], dtype='object')"
      ]
     },
     "execution_count": 31,
     "metadata": {},
     "output_type": "execute_result"
    }
   ],
   "source": [
    "top25_miRNAs_by_mean_of_means[0:3]"
   ]
  },
  {
   "cell_type": "markdown",
   "metadata": {},
   "source": [
    "#### Mean difference between miRNA ranks\n",
    "- Counting only miRNAs in intersection (i.e. in both)\n",
    "- Subtracting rank by mean of means from rank by overall means"
   ]
  },
  {
   "cell_type": "code",
   "execution_count": 32,
   "metadata": {},
   "outputs": [
    {
     "data": {
      "text/plain": [
       "0.0"
      ]
     },
     "execution_count": 32,
     "metadata": {},
     "output_type": "execute_result"
    }
   ],
   "source": [
    "sum_of_diffs = 0\n",
    "count_of_diffs = 0\n",
    "for i in range(nranks):\n",
    "    if top25_miRNAs_by_overall_mean[i] in top25_miRNAs_by_mean_of_means_idx:\n",
    "        sum_of_diffs += i - top25_miRNAs_by_mean_of_means_idx[top25_miRNAs_by_overall_mean[i]]\n",
    "        count_of_diffs += 1\n",
    "sum_of_diffs / count_of_diffs"
   ]
  },
  {
   "cell_type": "markdown",
   "metadata": {},
   "source": [
    "#### Mean absolute difference between miRNA ranks"
   ]
  },
  {
   "cell_type": "code",
   "execution_count": 33,
   "metadata": {},
   "outputs": [
    {
     "data": {
      "text/plain": [
       "1.44"
      ]
     },
     "execution_count": 33,
     "metadata": {},
     "output_type": "execute_result"
    }
   ],
   "source": [
    "sum_of_abs_diffs = 0\n",
    "count_of_diffs = 0\n",
    "for i in range(nranks):\n",
    "    if top25_miRNAs_by_overall_mean[i] in top25_miRNAs_by_mean_of_means_idx:\n",
    "        sum_of_abs_diffs += abs(i - top25_miRNAs_by_mean_of_means_idx[top25_miRNAs_by_overall_mean[i]])\n",
    "        count_of_diffs += 1\n",
    "sum_of_abs_diffs / count_of_diffs"
   ]
  },
  {
   "cell_type": "markdown",
   "metadata": {},
   "source": [
    "#### Unique miRNA families in each ranking"
   ]
  },
  {
   "cell_type": "code",
   "execution_count": 34,
   "metadata": {},
   "outputs": [
    {
     "data": {
      "text/plain": [
       "24"
      ]
     },
     "execution_count": 34,
     "metadata": {},
     "output_type": "execute_result"
    }
   ],
   "source": [
    "top25_miRNAs_by_overall_mean_uniq = np.unique(top25_miRNAs_by_overall_mean.map(lambda x: x.split('-')[0:3]).values)\n",
    "top25_miRNAs_by_overall_mean_uniq.size"
   ]
  },
  {
   "cell_type": "code",
   "execution_count": 35,
   "metadata": {},
   "outputs": [
    {
     "data": {
      "text/plain": [
       "24"
      ]
     },
     "execution_count": 35,
     "metadata": {},
     "output_type": "execute_result"
    }
   ],
   "source": [
    "top25_miRNAs_by_mean_of_means_uniq = np.unique(top25_miRNAs_by_mean_of_means.map(lambda x: x.split('-')[0:3]).values)\n",
    "top25_miRNAs_by_mean_of_means_uniq.size"
   ]
  },
  {
   "cell_type": "markdown",
   "metadata": {},
   "source": [
    "#### Unique miRNA families in both rankings"
   ]
  },
  {
   "cell_type": "code",
   "execution_count": 36,
   "metadata": {},
   "outputs": [
    {
     "data": {
      "text/plain": [
       "24"
      ]
     },
     "execution_count": 36,
     "metadata": {},
     "output_type": "execute_result"
    }
   ],
   "source": [
    "np.intersect1d(top25_miRNAs_by_overall_mean_uniq, top25_miRNAs_by_mean_of_means_uniq).size"
   ]
  },
  {
   "cell_type": "markdown",
   "metadata": {},
   "source": [
    "#### Boxplot of sample expression for miRNAs with highest and lowest mean expressions across all samples"
   ]
  },
  {
   "cell_type": "code",
   "execution_count": null,
   "metadata": {
    "collapsed": true
   },
   "outputs": [],
   "source": [
    "most_least_varied_miRNAs = pd.concat([samples_sortedby_tumor_type[sample_miRNAs_by_meanexpr_and_tumortype.columns[-2]].map(lambda x: m.log(x + 1)),\n",
    "                                      samples_sortedby_tumor_type[sample_miRNAs_by_meanexpr_and_tumortype.columns[-3]].map(lambda x: m.log(x + 1)),\n",
    "                                      samples_sortedby_tumor_type[sample_miRNAs_by_meanexpr_and_tumortype.columns[-4]].map(lambda x: m.log(x + 1)),\n",
    "                                      samples_sortedby_tumor_type[sample_miRNAs_by_meanexpr_and_tumortype.columns[0]].map(lambda x: m.log(x + 1)),\n",
    "                                      samples_sortedby_tumor_type[sample_miRNAs_by_meanexpr_and_tumortype.columns[1]].map(lambda x: m.log(x + 1)),\n",
    "                                      samples_sortedby_tumor_type[sample_miRNAs_by_meanexpr_and_tumortype.columns[2]].map(lambda x: m.log(x + 1)),\n",
    "                                      samples_sortedby_tumor_type['Disease']], axis=1)\n",
    "ax = most_least_varied_miRNAs.boxplot(whis='range', showfliers=False, figsize=(15, 10.5))\n",
    "plt.title('log((sample expression) + 1) for miRNAs with highest and lowest expression levels, ranked by mean over dataset')\n",
    "ax.set_xlabel('miRNA')\n",
    "ax.set_ylabel('log((tumor type sample expression) + 1)')\n",
    "plt.savefig('miRNAs-highest-lowest-mean-expr_boxplot.png')"
   ]
  },
  {
   "cell_type": "markdown",
   "metadata": {},
   "source": [
    "#### Boxplot of sample expression for miRNAs with highest and lowest means of per-tumor-type mean expressions"
   ]
  },
  {
   "cell_type": "code",
   "execution_count": 86,
   "metadata": {
    "collapsed": true
   },
   "outputs": [],
   "source": [
    "most_least_varied_miRNAs = pd.concat([samples_sortedby_tumor_type[miRNA_tumortype_means_sortedby_mean_of_means.index[-1]].map(lambda x: m.log(x + 1)),\n",
    "                                      samples_sortedby_tumor_type[miRNA_tumortype_means_sortedby_mean_of_means.index[-2]].map(lambda x: m.log(x + 1)),\n",
    "                                      samples_sortedby_tumor_type[miRNA_tumortype_means_sortedby_mean_of_means.index[-3]].map(lambda x: m.log(x + 1)),\n",
    "                                      samples_sortedby_tumor_type[miRNA_tumortype_means_sortedby_mean_of_means.index[0]].map(lambda x: m.log(x + 1)),\n",
    "                                      samples_sortedby_tumor_type[miRNA_tumortype_means_sortedby_mean_of_means.index[1]].map(lambda x: m.log(x + 1)),\n",
    "                                      samples_sortedby_tumor_type[miRNA_tumortype_means_sortedby_mean_of_means.index[2]].map(lambda x: m.log(x + 1)),\n",
    "                                      samples_sortedby_tumor_type['Disease']], axis=1)\n",
    "ax = most_least_varied_miRNAs.boxplot(whis='range', showfliers=False, figsize=(12, 8.4))\n",
    "plt.title('log((sample expression) + 1) for miRNAs with highest and lowest expression levels, ranked by mean of per-tumor-type means')\n",
    "ax.set_xlabel('miRNA')\n",
    "ax.set_ylabel('log((tumor type sample expression) + 1)')\n",
    "plt.show()\n",
    "plt.savefig('miRNAs-highest-lowest-mean-of-means-expr_boxplot_test.png')"
   ]
  },
  {
   "cell_type": "markdown",
   "metadata": {},
   "source": [
    "#### Observations:\n",
    "- Generally, difference between the two rankings reflects a difference between degree of variation across tumor types and degree of variation across samples (the entire dataset)\n",
    "- The two rankings are similar but not identical:\n",
    "  - They intersect completely, though some ranks differ\n",
    "  - The top 3 in both are identical: hsa-miR-21-5p, hsa-miR-143-3p, hsa-miR-22-3p\n",
    "  - 24 unique families in each, all of which are shared\n",
    "  - The mean difference in position between miRNAs in both is 0!\n",
    "  - The mean absolute difference is just slightly higher, at 1.44\n",
    "  - This suggests a a fairly symmetric distribution of cancer types with high values more concentrated in cancer types with smaller sample sizes vs. types with larger sample sizes"
   ]
  },
  {
   "cell_type": "markdown",
   "metadata": {},
   "source": [
    "#### Questions\n",
    "- How will these results change when restricting the analysis to different sets of cancer types?\n",
    "- How are the two rankings correlated?\n",
    "- What's the formal/mathematical relationship between the mean over all samples, and the mean of means over subsets of the dataset?"
   ]
  },
  {
   "cell_type": "markdown",
   "metadata": {},
   "source": [
    "### Ranking of miRNAs by variation across tumor types"
   ]
  },
  {
   "cell_type": "markdown",
   "metadata": {},
   "source": [
    "#### Using the mean expression of each miRNA per cancer type, and then computing the variance"
   ]
  },
  {
   "cell_type": "code",
   "execution_count": 37,
   "metadata": {
    "collapsed": true
   },
   "outputs": [],
   "source": [
    "# At time of writing, miRNA_samples_by_tumor_type should be appropriately sorted at this point in the notebook,\n",
    "# but just in case...\n",
    "miRNA_samples_by_tumor_type['stdev_of_tumor_type_mean'] = samples_by_tumor_type.mean().std().T\n",
    "miRNA_samples_by_tumor_type.sort_values(by=['stdev_of_tumor_type_mean'], inplace=True)\n",
    "miRNA_samples_by_tumor_type.drop(columns=['stdev_of_tumor_type_mean'], inplace=True)\n",
    "miRNA_samples_sortedby_stdev_of_tumortype_means = miRNA_samples_by_tumor_type\n",
    "top25_miRNAs_by_stdev_of_means = miRNA_samples_by_tumor_type.index[-1:(-1-nranks):-1]"
   ]
  },
  {
   "cell_type": "code",
   "execution_count": 38,
   "metadata": {},
   "outputs": [
    {
     "data": {
      "text/plain": [
       "'hsa-miR-21-5p'"
      ]
     },
     "execution_count": 38,
     "metadata": {},
     "output_type": "execute_result"
    }
   ],
   "source": [
    "top25_miRNAs_by_stdev_of_means[0]"
   ]
  },
  {
   "cell_type": "markdown",
   "metadata": {},
   "source": [
    "#### Using a one-way ANOVA test and ranking the miRNAs based on their P-values\n",
    "- Most miRNAs have 0 p-values, so I also sorted by F-statistic value: there are still many 0-p-value miRNAs not included"
   ]
  },
  {
   "cell_type": "code",
   "execution_count": 39,
   "metadata": {
    "collapsed": true
   },
   "outputs": [],
   "source": [
    "miRNA_samples_by_tumor_type = samples_by_tumor_type.obj.T\n",
    "miRNA_samples_by_tumor_type.drop(['Disease'], inplace=True)\n",
    "miRNA_1was = miRNA_samples_by_tumor_type.apply(lambda x: stats.f_oneway(*samples_by_tumor_type[x.name].apply(list)), axis=1)\n",
    "miRNA_samples_by_tumor_type['1way_anova_fstat'] = miRNA_1was.map(lambda x: x.statistic)\n",
    "miRNA_samples_by_tumor_type['1way_anova_pval'] = miRNA_1was.map(lambda x: x.pvalue)"
   ]
  },
  {
   "cell_type": "code",
   "execution_count": 40,
   "metadata": {},
   "outputs": [],
   "source": [
    "miRNA_samples_by_tumor_type_groupedby_1wa_pval = miRNA_samples_by_tumor_type.groupby(['1way_anova_pval'])\n",
    "miRNA_samples_groupedby_1wa_pvals = miRNA_samples_by_tumor_type_groupedby_1wa_pval.apply(lambda x: x.sort_values(by=['1way_anova_fstat'], ascending=False))\n",
    "top25_miRNAs_by_1wa_pvals = miRNA_samples_groupedby_1wa_pvals.loc[0].iloc[0:nranks].index"
   ]
  },
  {
   "cell_type": "code",
   "execution_count": 41,
   "metadata": {},
   "outputs": [
    {
     "data": {
      "text/plain": [
       "'hsa-miR-9-5p'"
      ]
     },
     "execution_count": 41,
     "metadata": {},
     "output_type": "execute_result"
    }
   ],
   "source": [
    "top25_miRNAs_by_1wa_pvals[0]"
   ]
  },
  {
   "cell_type": "markdown",
   "metadata": {},
   "source": [
    "#### Using a Kruskal-Wallis test and ranking the miRNAs based on their P-values\n",
    "- Most miRNAs have 0 p-values, so I also sorted by F-statistic value: there are still many 0 p-values not included"
   ]
  },
  {
   "cell_type": "code",
   "execution_count": 42,
   "metadata": {
    "collapsed": true
   },
   "outputs": [],
   "source": [
    "miRNA_samples_by_tumor_type = samples_by_tumor_type.obj.T\n",
    "miRNA_samples_by_tumor_type.drop(['Disease'], inplace=True)\n",
    "miRNA_kws = miRNA_samples_by_tumor_type.apply(lambda x: stats.kruskal(*samples_by_tumor_type[x.name].apply(list)), axis=1)\n",
    "miRNA_samples_by_tumor_type['kruskal_wallis_hstat'] = miRNA_kws.map(lambda x: x.statistic)\n",
    "miRNA_samples_by_tumor_type['kruskal_wallis_pval'] = miRNA_kws.map(lambda x: x.pvalue)"
   ]
  },
  {
   "cell_type": "code",
   "execution_count": 43,
   "metadata": {
    "collapsed": true
   },
   "outputs": [],
   "source": [
    "miRNA_samples_by_tumor_type_groupedby_kw_pval = miRNA_samples_by_tumor_type.groupby(['kruskal_wallis_pval'])\n",
    "miRNA_samples_groupedby_kw_pvals = miRNA_samples_by_tumor_type_groupedby_kw_pval.apply(lambda x: x.sort_values(by=['kruskal_wallis_hstat'], ascending=False))\n",
    "top25_miRNAs_by_kw_pvals = miRNA_samples_groupedby_kw_pvals.loc[0].iloc[0:nranks].index"
   ]
  },
  {
   "cell_type": "code",
   "execution_count": 44,
   "metadata": {},
   "outputs": [
    {
     "data": {
      "text/plain": [
       "'hsa-miR-302d-5p'"
      ]
     },
     "execution_count": 44,
     "metadata": {},
     "output_type": "execute_result"
    }
   ],
   "source": [
    "top25_miRNAs_by_kw_pvals[0]"
   ]
  },
  {
   "cell_type": "markdown",
   "metadata": {},
   "source": [
    "#### Intersections and their sizes"
   ]
  },
  {
   "cell_type": "code",
   "execution_count": 45,
   "metadata": {
    "collapsed": true
   },
   "outputs": [],
   "source": [
    "top25_miRNAs_mean_stdevs_1wa_intersection = top25_miRNAs_by_stdev_of_means.intersection(top25_miRNAs_by_1wa_pvals)\n",
    "top25_miRNAs_mean_stdevs_kw_intersection = top25_miRNAs_by_stdev_of_means.intersection(top25_miRNAs_by_kw_pvals)\n",
    "top25_miRNAs_1wa_kw_intersection = pd.Index(list(set(top25_miRNAs_by_1wa_pvals).intersection(set(top25_miRNAs_by_kw_pvals))))\n",
    "top25_miRNAs_3way_intersection = top25_miRNAs_by_stdev_of_means.intersection(top25_miRNAs_1wa_kw_intersection)"
   ]
  },
  {
   "cell_type": "code",
   "execution_count": 46,
   "metadata": {},
   "outputs": [
    {
     "name": "stdout",
     "output_type": "stream",
     "text": [
      "Index(['hsa-miR-21-5p', 'hsa-miR-9-5p', 'hsa-miR-30a-5p', 'hsa-miR-99b-5p',\n",
      "       'hsa-miR-200c-3p', 'hsa-miR-205-5p', 'hsa-miR-92a-3p',\n",
      "       'hsa-miR-30a-3p'],\n",
      "      dtype='object')\n",
      "Index(['hsa-miR-375', 'hsa-miR-200c-3p', 'hsa-miR-203a', 'hsa-miR-205-5p',\n",
      "       'hsa-miR-192-5p', 'hsa-miR-194-5p'],\n",
      "      dtype='object')\n",
      "Index(['hsa-miR-200c-3p', 'hsa-miR-205-5p'], dtype='object')\n",
      "Index(['hsa-miR-200c-3p', 'hsa-miR-205-5p'], dtype='object')\n"
     ]
    }
   ],
   "source": [
    "print(top25_miRNAs_mean_stdevs_1wa_intersection)\n",
    "print(top25_miRNAs_mean_stdevs_kw_intersection)\n",
    "print(top25_miRNAs_1wa_kw_intersection)\n",
    "print(top25_miRNAs_3way_intersection)"
   ]
  },
  {
   "cell_type": "code",
   "execution_count": 47,
   "metadata": {},
   "outputs": [
    {
     "name": "stdout",
     "output_type": "stream",
     "text": [
      "8\n",
      "6\n",
      "2\n",
      "2\n"
     ]
    }
   ],
   "source": [
    "print(len(top25_miRNAs_mean_stdevs_1wa_intersection))\n",
    "print(len(top25_miRNAs_mean_stdevs_kw_intersection))\n",
    "print(len(top25_miRNAs_1wa_kw_intersection))\n",
    "print(len(top25_miRNAs_3way_intersection))"
   ]
  },
  {
   "cell_type": "markdown",
   "metadata": {},
   "source": [
    "#### Count related miRNAs in intersection"
   ]
  },
  {
   "cell_type": "code",
   "execution_count": 48,
   "metadata": {},
   "outputs": [
    {
     "data": {
      "text/plain": [
       "24"
      ]
     },
     "execution_count": 48,
     "metadata": {},
     "output_type": "execute_result"
    }
   ],
   "source": [
    "top25_miRNAs_by_stdev_of_means_uniq_families = np.unique(top25_miRNAs_by_stdev_of_means.map(lambda x: x.split('-')[0:3]).values)\n",
    "top25_miRNAs_by_stdev_of_means_uniq_families.size"
   ]
  },
  {
   "cell_type": "code",
   "execution_count": 49,
   "metadata": {},
   "outputs": [
    {
     "data": {
      "text/plain": [
       "21"
      ]
     },
     "execution_count": 49,
     "metadata": {},
     "output_type": "execute_result"
    }
   ],
   "source": [
    "top25_miRNAs_by_1wa_pvals_uniq_families = np.unique(top25_miRNAs_by_1wa_pvals.map(lambda x: x.split('-')[0:3]).values)\n",
    "top25_miRNAs_by_1wa_pvals_uniq_families.size"
   ]
  },
  {
   "cell_type": "code",
   "execution_count": 50,
   "metadata": {},
   "outputs": [
    {
     "data": {
      "text/plain": [
       "20"
      ]
     },
     "execution_count": 50,
     "metadata": {},
     "output_type": "execute_result"
    }
   ],
   "source": [
    "top25_miRNAs_by_kw_pvals_uniq_families = np.unique(top25_miRNAs_by_kw_pvals.map(lambda x: x.split('-')[0:3]).values)\n",
    "top25_miRNAs_by_kw_pvals_uniq_families.size"
   ]
  },
  {
   "cell_type": "code",
   "execution_count": 51,
   "metadata": {},
   "outputs": [
    {
     "data": {
      "text/plain": [
       "8"
      ]
     },
     "execution_count": 51,
     "metadata": {},
     "output_type": "execute_result"
    }
   ],
   "source": [
    "np.intersect1d(top25_miRNAs_by_stdev_of_means_uniq_families, top25_miRNAs_by_1wa_pvals_uniq_families).size"
   ]
  },
  {
   "cell_type": "code",
   "execution_count": 52,
   "metadata": {},
   "outputs": [
    {
     "data": {
      "text/plain": [
       "6"
      ]
     },
     "execution_count": 52,
     "metadata": {},
     "output_type": "execute_result"
    }
   ],
   "source": [
    "np.intersect1d(top25_miRNAs_by_stdev_of_means_uniq_families, top25_miRNAs_by_kw_pvals_uniq_families).size"
   ]
  },
  {
   "cell_type": "code",
   "execution_count": 53,
   "metadata": {},
   "outputs": [
    {
     "data": {
      "text/plain": [
       "3"
      ]
     },
     "execution_count": 53,
     "metadata": {},
     "output_type": "execute_result"
    }
   ],
   "source": [
    "top25_miRNAs_by_1wa_kw_pvals_uniq_families = np.intersect1d(top25_miRNAs_by_1wa_pvals_uniq_families, top25_miRNAs_by_kw_pvals_uniq_families)\n",
    "top25_miRNAs_by_1wa_kw_pvals_uniq_families.size"
   ]
  },
  {
   "cell_type": "code",
   "execution_count": 54,
   "metadata": {},
   "outputs": [
    {
     "data": {
      "text/plain": [
       "2"
      ]
     },
     "execution_count": 54,
     "metadata": {},
     "output_type": "execute_result"
    }
   ],
   "source": [
    "np.intersect1d(top25_miRNAs_by_1wa_kw_pvals_uniq_families, top25_miRNAs_by_stdev_of_means_uniq_families).size"
   ]
  },
  {
   "cell_type": "markdown",
   "metadata": {},
   "source": [
    "#### Grouped boxplot of per-cancer-type expression for miRNAs with highest and lowest variation in mean expression across tumor types, ranked by stdev of per-cancer-type means"
   ]
  },
  {
   "cell_type": "code",
   "execution_count": 55,
   "metadata": {
    "collapsed": true
   },
   "outputs": [],
   "source": [
    "miRNAs_of_interest = [miRNA_samples_sortedby_stdev_of_tumortype_means.iloc[i].name for i in [-1, -2, -3, 2, 1, 0]]"
   ]
  },
  {
   "cell_type": "code",
   "execution_count": 56,
   "metadata": {
    "collapsed": true
   },
   "outputs": [],
   "source": [
    "exprs_for_boxplot_len = len(samples_sortedby_tumor_type.index) * 6\n",
    "exprs_for_boxplot_idx = pd.Index(range(exprs_for_boxplot_len))"
   ]
  },
  {
   "cell_type": "code",
   "execution_count": 57,
   "metadata": {
    "collapsed": true
   },
   "outputs": [],
   "source": [
    "tumortype_col = pd.concat([samples_sortedby_tumor_type['Disease']] * 6)\n",
    "tumortype_col.index = exprs_for_boxplot_idx"
   ]
  },
  {
   "cell_type": "code",
   "execution_count": 58,
   "metadata": {
    "collapsed": true
   },
   "outputs": [],
   "source": [
    "miRNA_col = pd.Series(miRNAs_of_interest).repeat([len(samples_sortedby_tumor_type.index)] * 6)\n",
    "miRNA_col.index = exprs_for_boxplot_idx"
   ]
  },
  {
   "cell_type": "code",
   "execution_count": 59,
   "metadata": {
    "collapsed": true
   },
   "outputs": [],
   "source": [
    "expr_col = pd.concat([samples_sortedby_tumor_type[miRNA].map(lambda x: m.log(x + 1)) for miRNA in miRNAs_of_interest])\n",
    "expr_col.index = exprs_for_boxplot_idx"
   ]
  },
  {
   "cell_type": "code",
   "execution_count": 60,
   "metadata": {
    "collapsed": true
   },
   "outputs": [],
   "source": [
    "miRNA_exprs_long_for_boxplot = pd.concat([tumortype_col, miRNA_col, expr_col], axis=1)\n",
    "miRNA_exprs_long_for_boxplot.rename(columns={ 0: 'miRNA', 1: 'expr' }, inplace=True)"
   ]
  },
  {
   "cell_type": "code",
   "execution_count": null,
   "metadata": {
    "collapsed": true
   },
   "outputs": [],
   "source": [
    "ax = sns.boxplot(x='Disease', y='expr', hue='miRNA', data=miRNA_exprs_long_for_boxplot)\n",
    "fig = ax.get_figure()\n",
    "fig.set_size_inches(40, 40)\n",
    "ax.set_title('log((sample expression) + 1) for miRNAs with highest and lowest expression variation across cancer types, ranked by stdev of per-tumor-type means')\n",
    "ax.set_xlabel('Cancer Type')\n",
    "ax.set_ylabel('log((sample expression) + 1)')\n",
    "fig.savefig('highest-lowest-tumortype-expr-variation_miRNA-expr_by-stdev-of-means_boxplot.png')"
   ]
  },
  {
   "cell_type": "markdown",
   "metadata": {},
   "source": [
    "#### Grouped boxplot of per-cancer-type expression for miRNAs with highest and lowest variation in mean expression across tumor types, ranked by one-way Anova p-values"
   ]
  },
  {
   "cell_type": "code",
   "execution_count": 61,
   "metadata": {},
   "outputs": [],
   "source": [
    "miRNAs_of_interest = [miRNA_samples_groupedby_1wa_pvals.iloc[i].name[1] for i in [0, 1, 2, -3, -2, -1]]"
   ]
  },
  {
   "cell_type": "code",
   "execution_count": 62,
   "metadata": {
    "collapsed": true
   },
   "outputs": [],
   "source": [
    "exprs_for_boxplot_len = len(samples_sortedby_tumor_type.index) * 6\n",
    "exprs_for_boxplot_idx = pd.Index(range(exprs_for_boxplot_len))"
   ]
  },
  {
   "cell_type": "code",
   "execution_count": 63,
   "metadata": {
    "collapsed": true
   },
   "outputs": [],
   "source": [
    "tumortype_col = pd.concat([samples_sortedby_tumor_type['Disease']] * 6)\n",
    "tumortype_col.index = exprs_for_boxplot_idx"
   ]
  },
  {
   "cell_type": "code",
   "execution_count": 64,
   "metadata": {
    "collapsed": true
   },
   "outputs": [],
   "source": [
    "miRNA_col = pd.Series(miRNAs_of_interest).repeat([len(samples_sortedby_tumor_type.index)] * 6)\n",
    "miRNA_col.index = exprs_for_boxplot_idx"
   ]
  },
  {
   "cell_type": "code",
   "execution_count": 65,
   "metadata": {
    "collapsed": true
   },
   "outputs": [],
   "source": [
    "expr_col = pd.concat([samples_sortedby_tumor_type[miRNA].map(lambda x: m.log(x + 1)) for miRNA in miRNAs_of_interest])\n",
    "expr_col.index = exprs_for_boxplot_idx"
   ]
  },
  {
   "cell_type": "code",
   "execution_count": 66,
   "metadata": {
    "collapsed": true
   },
   "outputs": [],
   "source": [
    "miRNA_exprs_long_for_boxplot = pd.concat([tumortype_col, miRNA_col, expr_col], axis=1)\n",
    "miRNA_exprs_long_for_boxplot.rename(columns={ 0: 'miRNA', 1: 'expr' }, inplace=True)"
   ]
  },
  {
   "cell_type": "code",
   "execution_count": null,
   "metadata": {
    "collapsed": true
   },
   "outputs": [],
   "source": [
    "ax = sns.boxplot(x='Disease', y='expr', hue='miRNA', data=miRNA_exprs_long_for_boxplot)\n",
    "fig = ax.get_figure()\n",
    "fig.set_size_inches(40, 40)\n",
    "ax.set_title('log((sample expression) + 1) for miRNAs with highest and lowest expression variation across cancer types, ranked by one-way ANOVA p-values')\n",
    "ax.set_xlabel('Cancer Type')\n",
    "ax.set_ylabel('log((sample expression) + 1)')\n",
    "fig.savefig('highest-lowest-tumortype-expr-variation_miRNA-expr_by-1wa-pvals_boxplot.png')"
   ]
  },
  {
   "cell_type": "markdown",
   "metadata": {},
   "source": [
    "#### Grouped boxplot of per-cancer-type expression for miRNAs with highest and lowest variation in mean expression across tumor types, ranked by Kruskal-Wallis p-values"
   ]
  },
  {
   "cell_type": "code",
   "execution_count": 67,
   "metadata": {},
   "outputs": [],
   "source": [
    "miRNAs_of_interest = [miRNA_samples_groupedby_kw_pvals.iloc[i].name[1] for i in [0, 1, 2, -3, -2, -1]]"
   ]
  },
  {
   "cell_type": "code",
   "execution_count": 68,
   "metadata": {
    "collapsed": true
   },
   "outputs": [],
   "source": [
    "exprs_for_boxplot_len = len(samples_sortedby_tumor_type.index) * 6\n",
    "exprs_for_boxplot_idx = pd.Index(range(exprs_for_boxplot_len))"
   ]
  },
  {
   "cell_type": "code",
   "execution_count": 69,
   "metadata": {
    "collapsed": true
   },
   "outputs": [],
   "source": [
    "tumortype_col = pd.concat([samples_sortedby_tumor_type['Disease']] * 6)\n",
    "tumortype_col.index = exprs_for_boxplot_idx"
   ]
  },
  {
   "cell_type": "code",
   "execution_count": 70,
   "metadata": {
    "collapsed": true
   },
   "outputs": [],
   "source": [
    "miRNA_col = pd.Series(miRNAs_of_interest).repeat([len(samples_sortedby_tumor_type.index)] * 6)\n",
    "miRNA_col.index = exprs_for_boxplot_idx"
   ]
  },
  {
   "cell_type": "code",
   "execution_count": 71,
   "metadata": {
    "collapsed": true
   },
   "outputs": [],
   "source": [
    "expr_col = pd.concat([samples_sortedby_tumor_type[miRNA].map(lambda x: m.log(x + 1)) for miRNA in miRNAs_of_interest])\n",
    "expr_col.index = exprs_for_boxplot_idx"
   ]
  },
  {
   "cell_type": "code",
   "execution_count": 72,
   "metadata": {
    "collapsed": true
   },
   "outputs": [],
   "source": [
    "miRNA_exprs_long_for_boxplot = pd.concat([tumortype_col, miRNA_col, expr_col], axis=1)\n",
    "miRNA_exprs_long_for_boxplot.rename(columns={ 0: 'miRNA', 1: 'expr' }, inplace=True)"
   ]
  },
  {
   "cell_type": "code",
   "execution_count": null,
   "metadata": {
    "collapsed": true
   },
   "outputs": [],
   "source": [
    "ax = sns.boxplot(x='Disease', y='expr', hue='miRNA', data=miRNA_exprs_long_for_boxplot)\n",
    "fig = ax.get_figure()\n",
    "fig.set_size_inches(40, 40)\n",
    "ax.set_title('log((sample expression) + 1) for miRNAs with highest and lowest expression variation across cancer types, ranked by Kruskal-Wallis test p-values')\n",
    "ax.set_xlabel('Cancer Type')\n",
    "ax.set_ylabel('log((sample expression) + 1)')\n",
    "fig.savefig('highest-lowest-tumortype-expr-variation_miRNA-expr_by-kw-pvals_boxplot.png')"
   ]
  },
  {
   "cell_type": "markdown",
   "metadata": {},
   "source": [
    "#### Observations\n",
    "- Each of the 3 rankings has a different top-ranked miRNA\n",
    "- Only hsa-miR-205-5p, hsa-miR-200c-3p are in all rankings\n",
    "- #s of unique miRNA families(?) in each ranking: \n",
    "  - Stdev of means: 24\n",
    "  - 1-way Anova p-values: 21\n",
    "  - Kruskal-Wallis p-values: 20\n",
    "- Sizes of intersections:\n",
    "  - Stdev of means & 1-way anova p-values: 8 (8 unique families)\n",
    "  - Stdev of means & Kruskal-Wallis p-values: 6 (6 unique families)\n",
    "  - 1-way anova & Kruskal-Wallis p-values: 2 (3 unique families)\n",
    "  - All 3 rankings: 2 (2 unique families)\n",
    "- However, many miRNAs that are in only 1 ranking have related miRNAs in at least another ranking:\n",
    "  - If we counted isoforms(?), the overlaps would be larger"
   ]
  },
  {
   "cell_type": "markdown",
   "metadata": {},
   "source": [
    "### Identify miRNAs with expression and variation exceeding a certain level\n",
    "- using one or more metrics:\n",
    "    - coefficient of variation\n",
    "    - min. # samples with expression value >= 6 (or other number)\n",
    "- Histogram/heatmap of number of miRNAs as parameter levels are varied / held constant\n",
    "    - Histogram of # of samples (per miRNA) with expression value >= m, with m being e.g. 4 or above\n",
    "        - Set m and min. # samples or percentile (requiring >= m) accordingly\n",
    "    - miRNA-expression quantile heatmap?\n",
    "    - miRNA-nth quantile heatmap? Or\n",
    "    - miRNA-# samples (for chosen m) heatmap?"
   ]
  },
  {
   "cell_type": "code",
   "execution_count": 190,
   "metadata": {
    "collapsed": true
   },
   "outputs": [],
   "source": [
    "miRNA_meta = pd.DataFrame(None, miRNA_data.index, ['coeff_of_variation'])\n",
    "binwidth = 500"
   ]
  },
  {
   "cell_type": "markdown",
   "metadata": {},
   "source": [
    "#### Histogram: # of samples (per miRNA) with expression value >= m, m in [4, 6]"
   ]
  },
  {
   "cell_type": "code",
   "execution_count": null,
   "metadata": {},
   "outputs": [],
   "source": [
    "count_max = binwidth * m.ceil(type_1_samples_count / binwidth)\n",
    "for i in range(4, 7):\n",
    "  colname = 'samples_gte' + str(i) + '_count'\n",
    "  miRNA_meta[colname] = miRNA_data[miRNA_data >= i].count(axis=1)\n",
    "  histogram(miRNA_meta[colname], 10, 10, '# samples per miRNA with expression value >= ' + str(i), '# samples', '# miRNAs',\n",
    "            kde=False, bins=range(0, count_max, binwidth)).savefig('temp.png')\n",
    "  save_as('temp.png', 'gs://yfl-mirna/explore/miRNA/plots/miRNA-samples-gte' + str(i) + '_histogram.png')"
   ]
  },
  {
   "cell_type": "markdown",
   "metadata": {},
   "source": [
    "### CONTINUE HERE"
   ]
  },
  {
   "cell_type": "markdown",
   "metadata": {},
   "source": [
    "### TODO: REDO WITH TYPE-1 SAMPLES ONLY"
   ]
  },
  {
   "cell_type": "markdown",
   "metadata": {},
   "source": [
    "#### Histogram: coefficient of variation in miRNA expression"
   ]
  },
  {
   "cell_type": "code",
   "execution_count": 192,
   "metadata": {},
   "outputs": [],
   "source": [
    "miRNA_meta['coeff_of_variation'] = stats.variation(miRNA_data.values, axis=1)"
   ]
  },
  {
   "cell_type": "code",
   "execution_count": 196,
   "metadata": {},
   "outputs": [
    {
     "name": "stderr",
     "output_type": "stream",
     "text": [
      "/usr/local/envs/py3env/lib/python3.5/site-packages/matplotlib/font_manager.py:1320: UserWarning: findfont: Font family ['sans-serif'] not found. Falling back to DejaVu Sans\n",
      "  (prop.get_family(), self.defaultFamily[fontext]))\n"
     ]
    },
    {
     "data": {
      "image/png": "[encoded data removed]",
      "text/plain": [
       "<matplotlib.figure.Figure at 0x7f8457818470>"
      ]
     },
     "metadata": {},
     "output_type": "display_data"
    }
   ],
   "source": [
    "histogram(miRNA_meta['coeff_of_variation'], 10, 10, 'Histogram: miRNA coefficient of variation',\n",
    "          'coefficient of variation', '# miRNAs', kde=False).savefig('temp.png')\n",
    "#save_as('temp.png', 'gs://yfl-mirna/explore/miRNA/plots/miRNA-coeff-of-var_histogram.png')"
   ]
  },
  {
   "cell_type": "markdown",
   "metadata": {},
   "source": [
    "#### Heatmap: coefficient of variation vs. # samples with expression value >= 4"
   ]
  },
  {
   "cell_type": "code",
   "execution_count": 135,
   "metadata": {
    "collapsed": true
   },
   "outputs": [],
   "source": [
    "miRNA_meta['samples_gte4_count_sup'] =  miRNA_meta.samples_gte4_count.apply(lambda x: binwidth * m.ceil(x / binwidth))\n",
    "miRNA_meta['coeff_of_variation_sup'] = miRNA_meta.coeff_of_variation.apply(lambda x: m.ceil(x))\n",
    "miRNA_meta_crosstab = pd.crosstab(miRNA_meta.samples_gte4_count_sup, miRNA_meta.coeff_of_variation_sup)"
   ]
  },
  {
   "cell_type": "code",
   "execution_count": 162,
   "metadata": {
    "collapsed": true
   },
   "outputs": [],
   "source": [
    "miRNA_meta_crosstab_for_heatmap = pd.DataFrame(miRNA_meta_crosstab, miRNA_meta_crosstab.index, range(1, miRNA_meta_crosstab.columns.max() + 1))\n",
    "for i in range(1, miRNA_meta_crosstab.columns.max() + 1):\n",
    "  if i not in miRNA_meta_crosstab.columns:\n",
    "    miRNA_meta_crosstab_for_heatmap[i] = 0\n",
    "miRNA_meta_crosstab_for_heatmap.reindex_axis(sorted(miRNA_meta_crosstab_for_heatmap.columns), axis=1)"
   ]
  },
  {
   "cell_type": "code",
   "execution_count": 195,
   "metadata": {},
   "outputs": [
    {
     "name": "stderr",
     "output_type": "stream",
     "text": [
      "/usr/local/envs/py3env/lib/python3.5/site-packages/matplotlib/font_manager.py:1320: UserWarning: findfont: Font family ['sans-serif'] not found. Falling back to DejaVu Sans\n",
      "  (prop.get_family(), self.defaultFamily[fontext]))\n"
     ]
    },
    {
     "data": {
      "image/png": "[encoded data removed]",
      "text/plain": [
       "<matplotlib.figure.Figure at 0x7f848a761358>"
      ]
     },
     "metadata": {},
     "output_type": "display_data"
    }
   ],
   "source": [
    "fig = heatmap(miRNA_meta_crosstab_for_heatmap.applymap(lambda x: 20 if x > 20 else x), '# miRNAs (capped at 20) with: # samples with value >= 4 vs. coefficient of variation', \n",
    "              'coefficient of variation', '# samples with value >= 4', miRNA_meta_crosstab_for_heatmap.columns, range(1, miRNA_meta_crosstab.index.size + 1),\n",
    "              miRNA_meta_crosstab_for_heatmap.columns, miRNA_meta_crosstab.index, 18, 8, 'cubehelix_r')\n",
    "fig.savefig('temp.png')\n",
    "save_as('temp.png', 'gs://yfl-mirna/explore/miRNA/plots/miRNA-samples-gte4_vs_coeff-of-var_heatmap.png')"
   ]
  },
  {
   "cell_type": "markdown",
   "metadata": {},
   "source": [
    "#### Conclusion\n",
    "- A decent filter for miRNAs seems to be: >= 500 samples with expression value >= 4, and coefficient of variation >= 1"
   ]
  },
  {
   "cell_type": "markdown",
   "metadata": {},
   "source": [
    "### Pie-in-the-sky to-dos:\n",
    "- Pairwise t-tests and Tukey's tests"
   ]
  }
 ],
 "metadata": {
  "kernelspec": {
   "display_name": "Python 3",
   "language": "python",
   "name": "python3"
  },
  "language_info": {
   "codemirror_mode": {
    "name": "ipython",
    "version": 3
   },
   "file_extension": ".py",
   "mimetype": "text/x-python",
   "name": "python",
   "nbconvert_exporter": "python",
   "pygments_lexer": "ipython3",
   "version": "3.5.5"
  }
 },
 "nbformat": 4,
 "nbformat_minor": 2
}
